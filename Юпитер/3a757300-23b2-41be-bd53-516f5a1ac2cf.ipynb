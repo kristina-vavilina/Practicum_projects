{
 "cells": [
  {
   "cell_type": "markdown",
   "id": "1d7363c6",
   "metadata": {},
   "source": [
    "<div style=\"border:solid Chocolate 2px; padding: 40px\">\n",
    " \n",
    "<b> Кристина, привет!👋</b> \n",
    "\n",
    "Меня зовут Кирилл Васильев, я буду ревьюером твоего проекта. Я предлагаю общаться на «ты», но если привычнее на «вы», просто скажи об этом! \n",
    "\n",
    "Я буду оставлять комментарии в твоем проекте. Пожалуйста, не удаляй их, они могут быть полезны в случае повторной проверки.\n",
    "\n",
    "Свои комментарии я буду обозначать <font color='green'>зеленым</font>, <font color='gold'>желтым</font> и <font color='red'>красным</font> цветами, например:\n",
    "  \n",
    "<br/>\n",
    "\n",
    "<div class=\"alert alert-success\">\n",
    "<h2> Комментарий ревьюера <a class=\"tocSkip\"> </h2>\n",
    "\n",
    "<b>Все отлично!👍:</b> В случае, если решение на отдельном шаге является полностью правильным. Здесь же я могу давать советы и предложения.\n",
    "</div>\n",
    "\n",
    "<br/>\n",
    "\n",
    "<div class=\"alert alert-warning\">\n",
    "    <h2> Комментарий ревьюера <a class=\"tocSkip\"> </h2>\n",
    "    \n",
    "<b>Некоторые замечания и рекомендации💡:</b> В случае, когда решение на отдельном шаге станет еще лучше, если внести небольшие коррективы.\n",
    "</div> \n",
    " \n",
    "\n",
    "<br/>\n",
    "<div class=\"alert alert-block alert-danger\">\n",
    "<h2> Комментарий ревьюера <a class=\"tocSkip\"></h2>\n",
    "\n",
    "     \n",
    "<b>На доработку🤔:</b>\n",
    " В случае, когда решение на отдельном шаге требует существенной переработки и внесения правок. Напоминаю, что проект не может быть принят с первого раза, если ревью содержит комментарии, рекомендующие доработать шаги.\n",
    "</div>\n",
    "\n",
    "<br/>\n",
    "<div class=\"alert alert-info\">\n",
    "Рекомендую для твоих комментариев использовать синий или любой другой цветной фон. Я постараюсь ничего не пропустить, но если комментарии будут выделены, то это мне очень поможет!\n",
    "</div>\n",
    "    \n",
    "Увидев у тебя неточность, в первый раз я лишь укажу на ее наличие и дам тебе возможность самостоятельно найти и исправить ее. На реальной работе твой руководитель будет поступать также. Но если ты пока не справишься с такой задачей - при следующей проверке я дам более точную подсказку.\n",
    "\n"
   ]
  },
  {
   "cell_type": "markdown",
   "id": "e06910dd",
   "metadata": {
    "id": "e06910dd"
   },
   "source": [
    "# Анализ данных о продажах игр\n",
    "\n",
    "- Автор:Вавилина Кристина\n",
    "- Дата:"
   ]
  },
  {
   "cell_type": "markdown",
   "id": "4149134c",
   "metadata": {
    "id": "4149134c"
   },
   "source": [
    "### Цели и задачи проекта\n",
    "\n",
    "Основная цель проекта — исследовать данные о продажах игр, выявить основные тенденции и подготовить их для дальнейшего анализа. Для этого выполнены следующие задачи:\n",
    "\n",
    "Загрузка и предварительное изучение данных.\n",
    "\n",
    "Очистка данных от пропусков и дубликатов.\n",
    "\n",
    "Приведение данных к единому формату.\n",
    "\n",
    "Фильтрация и категоризация данных.\n"
   ]
  },
  {
   "cell_type": "markdown",
   "id": "728986ea",
   "metadata": {
    "id": "728986ea"
   },
   "source": [
    "### Описание данных\n",
    "\n",
    "Датасет содержит информацию о видеоиграх, включая название, платформу, год выпуска, жанр, продажи в разных регионах, оценки пользователей и критиков, а также рейтинг.\n",
    "\n",
    " 0   Name             16954 non-null  object \n",
    " 1   Platform         16956 non-null  object \n",
    " 2   Year of Release  16681 non-null  float64 (изменить на int)\n",
    " 3   Genre            16954 non-null  object \n",
    " 4   NA sales         16956 non-null  float64\n",
    " 5   EU sales         16956 non-null  object (изменить на float)\n",
    " 6   JP sales         16956 non-null  object (изменить на float)\n",
    " 7   Other sales      16956 non-null  float64\n",
    " 8   Critic Score     8242 non-null   float64\n",
    " 9   User Score       10152 non-null  object (изменить на float)\n",
    " 10  Rating           10085 non-null  object "
   ]
  },
  {
   "cell_type": "markdown",
   "id": "4fecaf95",
   "metadata": {
    "id": "4fecaf95"
   },
   "source": [
    "### Содержимое проекта\n",
    "\n",
    "Загрузка данных и знакомство с ними.\n",
    "\n",
    "Проверка ошибок и предобработка данных.\n",
    "\n",
    "Фильтрация данных по году выпуска.\n",
    "\n",
    "Категоризация данных по оценкам пользователей и критиков.\n",
    "\n",
    "Итоговый анализ и выводы.\n",
    "\n",
    "---"
   ]
  },
  {
   "cell_type": "markdown",
   "id": "dd91d377",
   "metadata": {},
   "source": [
    " \n",
    "<div class=\"alert alert-success\">\n",
    "<h2> Комментарий ревьюера  <a class=\"tocSkip\"> </h2>\n",
    "\n",
    "👍 Отлично по описанию. Цели и задачи ясны. Контекст проекта будет понятен любому потенциальному читателю.\n",
    "\n"
   ]
  },
  {
   "cell_type": "markdown",
   "id": "6f7d21d6",
   "metadata": {
    "id": "6f7d21d6"
   },
   "source": [
    "## 1. Загрузка данных и знакомство с ними\n",
    "\n",
    "- Загрузите необходимые библиотеки Python и данные датасета `/datasets/new_games.csv`.\n"
   ]
  },
  {
   "cell_type": "code",
   "execution_count": 1,
   "id": "7aaa154a",
   "metadata": {},
   "outputs": [],
   "source": [
    "import pandas as pd\n",
    "\n",
    "df = pd.read_csv('/datasets/new_games.csv')"
   ]
  },
  {
   "cell_type": "markdown",
   "id": "e0a8705f",
   "metadata": {
    "id": "e0a8705f"
   },
   "source": [
    "- Познакомьтесь с данными: выведите первые строки и результат метода `info()`.\n"
   ]
  },
  {
   "cell_type": "code",
   "execution_count": 2,
   "id": "3937acf7",
   "metadata": {
    "id": "3937acf7",
    "scrolled": true
   },
   "outputs": [
    {
     "name": "stdout",
     "output_type": "stream",
     "text": [
      "<class 'pandas.core.frame.DataFrame'>\n",
      "RangeIndex: 16956 entries, 0 to 16955\n",
      "Data columns (total 11 columns):\n",
      " #   Column           Non-Null Count  Dtype  \n",
      "---  ------           --------------  -----  \n",
      " 0   Name             16954 non-null  object \n",
      " 1   Platform         16956 non-null  object \n",
      " 2   Year of Release  16681 non-null  float64\n",
      " 3   Genre            16954 non-null  object \n",
      " 4   NA sales         16956 non-null  float64\n",
      " 5   EU sales         16956 non-null  object \n",
      " 6   JP sales         16956 non-null  object \n",
      " 7   Other sales      16956 non-null  float64\n",
      " 8   Critic Score     8242 non-null   float64\n",
      " 9   User Score       10152 non-null  object \n",
      " 10  Rating           10085 non-null  object \n",
      "dtypes: float64(4), object(7)\n",
      "memory usage: 1.4+ MB\n"
     ]
    }
   ],
   "source": [
    "df.info()"
   ]
  },
  {
   "cell_type": "code",
   "execution_count": 3,
   "id": "2dba5885",
   "metadata": {},
   "outputs": [],
   "source": [
    "x = df.shape[0]"
   ]
  },
  {
   "cell_type": "code",
   "execution_count": 4,
   "id": "6ef5cc6c",
   "metadata": {},
   "outputs": [
    {
     "data": {
      "text/plain": [
       "11"
      ]
     },
     "execution_count": 4,
     "metadata": {},
     "output_type": "execute_result"
    }
   ],
   "source": [
    "df.shape[1]"
   ]
  },
  {
   "cell_type": "code",
   "execution_count": 5,
   "id": "268fc2c8",
   "metadata": {
    "id": "d7c8eb4b"
   },
   "outputs": [
    {
     "data": {
      "text/html": [
       "<div>\n",
       "<style scoped>\n",
       "    .dataframe tbody tr th:only-of-type {\n",
       "        vertical-align: middle;\n",
       "    }\n",
       "\n",
       "    .dataframe tbody tr th {\n",
       "        vertical-align: top;\n",
       "    }\n",
       "\n",
       "    .dataframe thead th {\n",
       "        text-align: right;\n",
       "    }\n",
       "</style>\n",
       "<table border=\"1\" class=\"dataframe\">\n",
       "  <thead>\n",
       "    <tr style=\"text-align: right;\">\n",
       "      <th></th>\n",
       "      <th>Name</th>\n",
       "      <th>Platform</th>\n",
       "      <th>Year of Release</th>\n",
       "      <th>Genre</th>\n",
       "      <th>NA sales</th>\n",
       "      <th>EU sales</th>\n",
       "      <th>JP sales</th>\n",
       "      <th>Other sales</th>\n",
       "      <th>Critic Score</th>\n",
       "      <th>User Score</th>\n",
       "      <th>Rating</th>\n",
       "    </tr>\n",
       "  </thead>\n",
       "  <tbody>\n",
       "    <tr>\n",
       "      <th>0</th>\n",
       "      <td>Wii Sports</td>\n",
       "      <td>Wii</td>\n",
       "      <td>2006.0</td>\n",
       "      <td>Sports</td>\n",
       "      <td>41.36</td>\n",
       "      <td>28.96</td>\n",
       "      <td>3.77</td>\n",
       "      <td>8.45</td>\n",
       "      <td>76.0</td>\n",
       "      <td>8</td>\n",
       "      <td>E</td>\n",
       "    </tr>\n",
       "    <tr>\n",
       "      <th>1</th>\n",
       "      <td>Super Mario Bros.</td>\n",
       "      <td>NES</td>\n",
       "      <td>1985.0</td>\n",
       "      <td>Platform</td>\n",
       "      <td>29.08</td>\n",
       "      <td>3.58</td>\n",
       "      <td>6.81</td>\n",
       "      <td>0.77</td>\n",
       "      <td>NaN</td>\n",
       "      <td>NaN</td>\n",
       "      <td>NaN</td>\n",
       "    </tr>\n",
       "    <tr>\n",
       "      <th>2</th>\n",
       "      <td>Mario Kart Wii</td>\n",
       "      <td>Wii</td>\n",
       "      <td>2008.0</td>\n",
       "      <td>Racing</td>\n",
       "      <td>15.68</td>\n",
       "      <td>12.76</td>\n",
       "      <td>3.79</td>\n",
       "      <td>3.29</td>\n",
       "      <td>82.0</td>\n",
       "      <td>8.3</td>\n",
       "      <td>E</td>\n",
       "    </tr>\n",
       "    <tr>\n",
       "      <th>3</th>\n",
       "      <td>Wii Sports Resort</td>\n",
       "      <td>Wii</td>\n",
       "      <td>2009.0</td>\n",
       "      <td>Sports</td>\n",
       "      <td>15.61</td>\n",
       "      <td>10.93</td>\n",
       "      <td>3.28</td>\n",
       "      <td>2.95</td>\n",
       "      <td>80.0</td>\n",
       "      <td>8</td>\n",
       "      <td>E</td>\n",
       "    </tr>\n",
       "    <tr>\n",
       "      <th>4</th>\n",
       "      <td>Pokemon Red/Pokemon Blue</td>\n",
       "      <td>GB</td>\n",
       "      <td>1996.0</td>\n",
       "      <td>Role-Playing</td>\n",
       "      <td>11.27</td>\n",
       "      <td>8.89</td>\n",
       "      <td>10.22</td>\n",
       "      <td>1.00</td>\n",
       "      <td>NaN</td>\n",
       "      <td>NaN</td>\n",
       "      <td>NaN</td>\n",
       "    </tr>\n",
       "  </tbody>\n",
       "</table>\n",
       "</div>"
      ],
      "text/plain": [
       "                       Name Platform  Year of Release         Genre  NA sales  \\\n",
       "0                Wii Sports      Wii           2006.0        Sports     41.36   \n",
       "1         Super Mario Bros.      NES           1985.0      Platform     29.08   \n",
       "2            Mario Kart Wii      Wii           2008.0        Racing     15.68   \n",
       "3         Wii Sports Resort      Wii           2009.0        Sports     15.61   \n",
       "4  Pokemon Red/Pokemon Blue       GB           1996.0  Role-Playing     11.27   \n",
       "\n",
       "  EU sales JP sales  Other sales  Critic Score User Score Rating  \n",
       "0    28.96     3.77         8.45          76.0          8      E  \n",
       "1     3.58     6.81         0.77           NaN        NaN    NaN  \n",
       "2    12.76     3.79         3.29          82.0        8.3      E  \n",
       "3    10.93     3.28         2.95          80.0          8      E  \n",
       "4     8.89    10.22         1.00           NaN        NaN    NaN  "
      ]
     },
     "execution_count": 5,
     "metadata": {},
     "output_type": "execute_result"
    }
   ],
   "source": [
    "df.head()"
   ]
  },
  {
   "cell_type": "markdown",
   "id": "05f55eb6",
   "metadata": {
    "id": "05f55eb6"
   },
   "source": [
    "**Провели начальный анализ:** \n",
    "выявлено наличие пропусков в нескольких столбцах и некорректных типов данных.\n",
    "\n",
    "Итоговые размеры данных:\n",
    "\n",
    "Количество строк: 16956.\n",
    "\n",
    "Количество столбцов: 11.\n",
    "\n",
    "**Вывод:**\n",
    "\n",
    "Есть пропуски в столбцах critic_score, user_score и rating.\n",
    "\n",
    "Некоторые столбцы, например year_of_release, имеют неверный тип данных."
   ]
  },
  {
   "cell_type": "markdown",
   "id": "d344454b",
   "metadata": {},
   "source": [
    " \n",
    "<div class=\"alert alert-success\">\n",
    "<h2> Комментарий ревьюера  <a class=\"tocSkip\"> </h2>\n",
    "\n",
    "👍 Все верно по проблемам в данных.\n",
    "    \n",
    "Единственное, можно сразу перечислить все стролбцы, где ожидаем увидеить численный тип, но не видим.\n",
    "\n"
   ]
  },
  {
   "cell_type": "markdown",
   "id": "e70d5f84",
   "metadata": {},
   "source": [
    "<div class=\"alert alert-info\">\n",
    "В описание данных добавила информацию о будущих изменениях типа данных в столбцах\n",
    "</div>"
   ]
  },
  {
   "cell_type": "markdown",
   "id": "408c5efe",
   "metadata": {},
   "source": [
    "<div class=\"alert alert-success\">\n",
    "<h2> Комментарий ревьюера #2 <a class=\"tocSkip\"> </h2>\n",
    "\n",
    "👍 Cнова привет. Спасибо за заметное оформление твоих комментариев. По исправлениям отлично. По типам данных все увидел.\n",
    "</div> \n"
   ]
  },
  {
   "cell_type": "markdown",
   "id": "774bf76e",
   "metadata": {
    "id": "774bf76e"
   },
   "source": [
    "---\n",
    "\n",
    "## 2.  Проверка ошибок в данных и их предобработка\n",
    "\n",
    "\n",
    "### 2.1. Названия, или метки, столбцов датафрейма\n",
    "\n",
    "- Выведите на экран названия всех столбцов датафрейма и проверьте их стиль написания.\n",
    "- Приведите все столбцы к стилю snake case. Названия должны быть в нижнем регистре, а вместо пробелов — подчёркивания."
   ]
  },
  {
   "cell_type": "code",
   "execution_count": 6,
   "id": "b9276a2b",
   "metadata": {
    "id": "b9276a2b"
   },
   "outputs": [
    {
     "data": {
      "text/plain": [
       "Index(['Name', 'Platform', 'Year of Release', 'Genre', 'NA sales', 'EU sales',\n",
       "       'JP sales', 'Other sales', 'Critic Score', 'User Score', 'Rating'],\n",
       "      dtype='object')"
      ]
     },
     "execution_count": 6,
     "metadata": {},
     "output_type": "execute_result"
    }
   ],
   "source": [
    "df.columns"
   ]
  },
  {
   "cell_type": "code",
   "execution_count": 7,
   "id": "d554563c",
   "metadata": {
    "id": "d554563c"
   },
   "outputs": [],
   "source": [
    "columns_snake_case = ['name', 'platform', 'year_of_release', 'genre', 'na_sales', 'eu_sales',\n",
    "       'jp_sales', 'other_sales', 'critic_score', 'user_score', 'rating']"
   ]
  },
  {
   "cell_type": "code",
   "execution_count": 8,
   "id": "87b573dd",
   "metadata": {
    "id": "87b573dd"
   },
   "outputs": [],
   "source": [
    "df.columns = columns_snake_case"
   ]
  },
  {
   "cell_type": "code",
   "execution_count": 9,
   "id": "829539b8",
   "metadata": {},
   "outputs": [
    {
     "data": {
      "text/plain": [
       "Index(['name', 'platform', 'year_of_release', 'genre', 'na_sales', 'eu_sales',\n",
       "       'jp_sales', 'other_sales', 'critic_score', 'user_score', 'rating'],\n",
       "      dtype='object')"
      ]
     },
     "execution_count": 9,
     "metadata": {},
     "output_type": "execute_result"
    }
   ],
   "source": [
    "df.columns"
   ]
  },
  {
   "cell_type": "markdown",
   "id": "41bc6bf8",
   "metadata": {
    "id": "41bc6bf8"
   },
   "source": [
    "### 2.2. Типы данных\n",
    "\n",
    "- Если встречаются некорректные типы данных, предположите их причины.\n",
    "- При необходимости проведите преобразование типов данных. Помните, что столбцы с числовыми данными и пропусками нельзя преобразовать к типу `int64`. Сначала вам понадобится обработать пропуски, а затем преобразовать типы данных."
   ]
  },
  {
   "cell_type": "code",
   "execution_count": 10,
   "id": "8adaac81",
   "metadata": {
    "id": "8adaac81"
   },
   "outputs": [],
   "source": [
    "# Заполняем пропуски года выпуска 0 и меняем тип данных\n",
    "df['year_of_release'] = df['year_of_release'].fillna(0)\n",
    "df['year_of_release'] = df['year_of_release'].astype('int64')"
   ]
  },
  {
   "cell_type": "code",
   "execution_count": 11,
   "id": "e8412c01",
   "metadata": {
    "id": "e8412c01"
   },
   "outputs": [],
   "source": [
    "# Меняем тип данных с помощью цикла\n",
    "for column in ['na_sales', 'eu_sales',\n",
    "       'jp_sales', 'other_sales', 'critic_score', 'user_score']:\n",
    "    df[column] = pd.to_numeric(df[column], errors='coerce')"
   ]
  },
  {
   "cell_type": "markdown",
   "id": "8bb16ffa",
   "metadata": {},
   "source": [
    "<div class=\"alert alert-success\">\n",
    "<h2> Комментарий ревьюера <a class=\"tocSkip\"> </h2>\n",
    " \n",
    "👍  Хорошее решение\n",
    "</div>   "
   ]
  },
  {
   "cell_type": "markdown",
   "id": "2eb3db1a",
   "metadata": {
    "id": "5033ee32"
   },
   "source": [
    "Названия столбцов приведены к стилю snake_case\n",
    "\n",
    "Изменён тип данных в столбцах:\n",
    "\n",
    "year_of_release преобразован в int64.\n",
    "\n",
    "Числовые данные в столбцах user_score и critic_score обработаны с заменой некорректных значений на NaN."
   ]
  },
  {
   "cell_type": "markdown",
   "id": "b39893cb",
   "metadata": {
    "id": "b39893cb"
   },
   "source": [
    "### 2.3. Наличие пропусков в данных\n",
    "\n",
    "- Посчитайте количество пропусков в каждом столбце в абсолютных и относительных значениях.\n"
   ]
  },
  {
   "cell_type": "code",
   "execution_count": 12,
   "id": "9e53cff4",
   "metadata": {
    "id": "9e53cff4"
   },
   "outputs": [
    {
     "data": {
      "text/plain": [
       "name                  2\n",
       "platform              0\n",
       "year_of_release       0\n",
       "genre                 2\n",
       "na_sales              0\n",
       "eu_sales              6\n",
       "jp_sales              4\n",
       "other_sales           0\n",
       "critic_score       8714\n",
       "user_score         9268\n",
       "rating             6871\n",
       "dtype: int64"
      ]
     },
     "execution_count": 12,
     "metadata": {},
     "output_type": "execute_result"
    }
   ],
   "source": [
    "df.isna().sum()"
   ]
  },
  {
   "cell_type": "code",
   "execution_count": 13,
   "id": "0f1c91a8",
   "metadata": {
    "id": "0f1c91a8"
   },
   "outputs": [
    {
     "data": {
      "text/plain": [
       "name                0.011795\n",
       "platform            0.000000\n",
       "year_of_release     0.000000\n",
       "genre               0.011795\n",
       "na_sales            0.000000\n",
       "eu_sales            0.035386\n",
       "jp_sales            0.023590\n",
       "other_sales         0.000000\n",
       "critic_score       51.391838\n",
       "user_score         54.659118\n",
       "rating             40.522529\n",
       "dtype: float64"
      ]
     },
     "execution_count": 13,
     "metadata": {},
     "output_type": "execute_result"
    }
   ],
   "source": [
    "df.isna().sum() / len(df) * 100"
   ]
  },
  {
   "cell_type": "code",
   "execution_count": 14,
   "id": "bd69e642",
   "metadata": {
    "id": "bd69e642"
   },
   "outputs": [],
   "source": [
    "def mean_group_cr_score(row):\n",
    "    if pd.isna(row['eu_sales']):\n",
    "        group = df[(df['platform'] == row['platform']) & \n",
    "                   (df['year_of_release'] == row['year_of_release'])]\n",
    "        return group['eu_sales'].mean()\n",
    "    else:\n",
    "        return row['eu_sales']\n",
    "\n",
    "df['eu_sales'] = df.apply(mean_group_cr_score, axis=1)"
   ]
  },
  {
   "cell_type": "code",
   "execution_count": 15,
   "id": "3f42817b",
   "metadata": {
    "id": "3f42817b"
   },
   "outputs": [],
   "source": [
    "def mean_group_us_score(row):\n",
    "    if pd.isna(row['jp_sales']):\n",
    "        group = df[(df['platform'] == row['platform']) & \n",
    "                   (df['year_of_release'] == row['year_of_release'])]\n",
    "        return group['jp_sales'].mean()\n",
    "    else:\n",
    "        return row['jp_sales']\n",
    "\n",
    "df['jp_sales'] = df.apply(mean_group_us_score, axis=1)"
   ]
  },
  {
   "cell_type": "markdown",
   "id": "7819957a",
   "metadata": {},
   "source": [
    "<div class=\"alert alert-success\">\n",
    "<h2> Комментарий ревьюера <a class=\"tocSkip\"> </h2>\n",
    "\n",
    "👍 По заполнению пропусков здесь удобно также использовать функцию .transform() после .groupby()\n",
    "\n",
    "\n",
    "```\n",
    "#Заполнение продаж средним значением\n",
    "avg_eu_sales = df.groupby(['year_of_release', 'platform'])['eu_sales'].transform('mean')\n",
    "df['eu_sales'] = df['eu_sales'].fillna(avg_eu_sales)\n",
    "\n",
    "avg_jp_sales = df.groupby(['year_of_release', 'platform'])['jp_sales'].transform('mean')\n",
    "df['jp_sales'] = df['jp_sales'].fillna(avg_jp_sales)\n",
    "```\n",
    "\n",
    "Подробнее можно почитать <a href=\"https://dfedorov.spb.ru/pandas/%D0%9F%D0%BE%D0%BD%D0%B8%D0%BC%D0%B0%D0%BD%D0%B8%D0%B5%20%D1%84%D1%83%D0%BD%D0%BA%D1%86%D0%B8%D0%B8%20transform%20%D0%B2%20Pandas.html\">здесь</a>\n",
    "\n",
    "\n"
   ]
  },
  {
   "cell_type": "markdown",
   "id": "c7c517d7",
   "metadata": {},
   "source": [
    "<div class=\"alert alert-info\">\n",
    "Большое спасибо за совет, правда, эта функция очень удобна и делает код меньше\n",
    "</div>"
   ]
  },
  {
   "cell_type": "markdown",
   "id": "b3b5cf43",
   "metadata": {},
   "source": [
    "<div class=\"alert alert-block alert-danger\" style=\"border-radius: 15px; box-shadow: 4px 4px 4px; border: 1px solid \">\n",
    "<h2><s> Комментарий ревьюера #2 <a class=\"tocSkip\"></h2>\n",
    "  \n",
    "<b>На доработку🤔:</b>\n",
    " \n",
    "Эх, а мы перепутали. Заполнение группировкой у нас логично сделать для региональных прожаж (там и пропусков мало, и хоть какая-то логика прослеживается), а вот по оценкам вряд ли корректно сможем восстановить. Оценки очень индивидуальные для каждой игры. Оценки мы можем заполнять исключительно заглушкой «-1». \n",
    "    \n",
    "Прошу прощения, не обратил на это внимание при первой проверке.\n",
    "\n",
    "</div>"
   ]
  },
  {
   "cell_type": "markdown",
   "id": "36e00f6d",
   "metadata": {},
   "source": [
    "<div class=\"alert alert-info\">\n",
    "Заполнение группировкой теперь по региональным продажам, ниже оценки заполнила заглушкой\n",
    "</div>"
   ]
  },
  {
   "cell_type": "markdown",
   "id": "94426516",
   "metadata": {},
   "source": [
    "<div class=\"alert alert-success\">\n",
    "<h2> Комментарий ревьюера #2 <a class=\"tocSkip\"> </h2>\n",
    "\n",
    "👍 Все верно, спасибо!\n",
    "</div>"
   ]
  },
  {
   "cell_type": "code",
   "execution_count": 16,
   "id": "15c4f7c9",
   "metadata": {},
   "outputs": [],
   "source": [
    "df = df.dropna(subset=['name'])"
   ]
  },
  {
   "cell_type": "code",
   "execution_count": 17,
   "id": "0053671a",
   "metadata": {},
   "outputs": [
    {
     "data": {
      "text/plain": [
       "name                  0\n",
       "platform              0\n",
       "year_of_release       0\n",
       "genre                 0\n",
       "na_sales              0\n",
       "eu_sales              0\n",
       "jp_sales              0\n",
       "other_sales           0\n",
       "critic_score       8712\n",
       "user_score         9266\n",
       "rating             6869\n",
       "dtype: int64"
      ]
     },
     "execution_count": 17,
     "metadata": {},
     "output_type": "execute_result"
    }
   ],
   "source": [
    "df.isna().sum()"
   ]
  },
  {
   "cell_type": "code",
   "execution_count": 18,
   "id": "2e119858",
   "metadata": {},
   "outputs": [],
   "source": [
    "df['critic_score'] = df['critic_score'].fillna(-1)"
   ]
  },
  {
   "cell_type": "code",
   "execution_count": 19,
   "id": "493a659c",
   "metadata": {},
   "outputs": [],
   "source": [
    "df['user_score'] = df['user_score'].fillna(-1)"
   ]
  },
  {
   "cell_type": "code",
   "execution_count": 20,
   "id": "b3b34cf6",
   "metadata": {},
   "outputs": [],
   "source": [
    "df['rating'] = df['rating'].fillna(\"неизвестно\")"
   ]
  },
  {
   "cell_type": "code",
   "execution_count": 21,
   "id": "8a47275f",
   "metadata": {},
   "outputs": [
    {
     "data": {
      "text/plain": [
       "name               0\n",
       "platform           0\n",
       "year_of_release    0\n",
       "genre              0\n",
       "na_sales           0\n",
       "eu_sales           0\n",
       "jp_sales           0\n",
       "other_sales        0\n",
       "critic_score       0\n",
       "user_score         0\n",
       "rating             0\n",
       "dtype: int64"
      ]
     },
     "execution_count": 21,
     "metadata": {},
     "output_type": "execute_result"
    }
   ],
   "source": [
    "df.isna().sum()"
   ]
  },
  {
   "cell_type": "markdown",
   "id": "922b822c",
   "metadata": {},
   "source": [
    "Выявлены пропуски в столбцах:\n",
    "\n",
    "critic_score: 51.4%.\n",
    "\n",
    "user_score: 54.7%.\n",
    "\n",
    "rating: 40.5%.\n",
    "\n",
    "Выполнена обработка:\n",
    "\n",
    "Пропуски в числовых столбцах заменены средними значениями по группе платформы и года выпуска.\n",
    "\n",
    "Строки с критическими пропусками удалены.\n",
    "\n",
    "Особенно заметна проблема в столбцах с оценками, где пропуски могли возникнуть из-за отсутствия отзывов от критиков или пользователей на момент сбора данных. Эти особенности могли быть характерны для игр, выпущенных в ранних годах или на менее популярных платформах.Возможно в специфических жанрах.\n"
   ]
  },
  {
   "cell_type": "markdown",
   "id": "d9c9b957",
   "metadata": {},
   "source": [
    "<div class=\"alert alert-success\">\n",
    "<h2> Комментарий ревьюера <a class=\"tocSkip\"> </h2>\n",
    "\n",
    "👍 Ага, согласен по гипотезе.\n",
    "\n",
    "\n"
   ]
  },
  {
   "cell_type": "markdown",
   "id": "a96a18a1",
   "metadata": {},
   "source": [
    "<div class=\"alert alert-block alert-danger\">\n",
    "<h2><s> Комментарий ревьюера <a class=\"tocSkip\"></h2>\n",
    "  \n",
    "<b>На доработку🤔:</b>\n",
    " \n",
    "Важно и эти пропуски обработать.\n",
    "    \n",
    "В категориальной переменной rating можем прямо заменить пропуски на категорию «неизвестно», тем более, что предполагаем, что на месте пропусков она и подразумевается.\n",
    "    \n",
    "А для количественных переменных подойдет замена пропусков на нереалистичное значение, по которому их можно будет удобно отфильтровать в будущем. Например, таким значением может быть отрицательное число «-1».\n",
    "</div>\n"
   ]
  },
  {
   "cell_type": "markdown",
   "id": "30064a91",
   "metadata": {},
   "source": [
    "<div class=\"alert alert-info\">\n",
    "Все пропуски обработаны:\n",
    "    \n",
    "- в переменной rating пропуски заменены на категорию «неизвестно»\n",
    "    \n",
    "- в количественных переменных 'eu_sales', 'jp_sales', 'critic_score', 'user_score' пропуски заменены на значение \"-1\"\n",
    "</div>"
   ]
  },
  {
   "cell_type": "markdown",
   "id": "b676fccb",
   "metadata": {},
   "source": [
    "<div class=\"alert alert-success\">\n",
    "<h2> Комментарий ревьюера #2 <a class=\"tocSkip\"> </h2>\n",
    "\n",
    "👍 Ок. Нужно только поменять, к каким столбцам что применяем теперь :) \n",
    "</div> \n"
   ]
  },
  {
   "cell_type": "markdown",
   "id": "a63363fd",
   "metadata": {
    "id": "a63363fd"
   },
   "source": [
    "### 2.4. Явные и неявные дубликаты в данных\n",
    "\n",
    "- Изучите уникальные значения в категориальных данных, например с названиями жанра игры, платформы, рейтинга и года выпуска. Проверьте, встречаются ли среди данных неявные дубликаты, связанные с опечатками или разным способом написания.\n",
    "- При необходимости проведите нормализацию данных с текстовыми значениями. Названия или жанры игр можно привести к нижнему регистру, а названия рейтинга — к верхнему."
   ]
  },
  {
   "cell_type": "code",
   "execution_count": 22,
   "id": "491c9c39",
   "metadata": {
    "id": "491c9c39"
   },
   "outputs": [
    {
     "data": {
      "text/plain": [
       "name               11559\n",
       "platform              31\n",
       "year_of_release       38\n",
       "genre                 24\n",
       "rating                 9\n",
       "dtype: int64"
      ]
     },
     "execution_count": 22,
     "metadata": {},
     "output_type": "execute_result"
    }
   ],
   "source": [
    "unique_combinations_count = df[['name', 'platform', 'year_of_release', 'genre', 'rating']].nunique()\n",
    "\n",
    "unique_combinations_count"
   ]
  },
  {
   "cell_type": "code",
   "execution_count": 23,
   "id": "a0cac80c",
   "metadata": {
    "id": "a0cac80c"
   },
   "outputs": [],
   "source": [
    "# Приводим название и жанр к нижнему регистру\n",
    "df['name'] = df['name'].str.lower()\n",
    "\n",
    "df['genre'] = df['genre'].str.lower()\n",
    "\n",
    "# Приводим рейтинг к верхнему регистру\n",
    "df['rating'] = df['rating'].str.upper()"
   ]
  },
  {
   "cell_type": "code",
   "execution_count": 24,
   "id": "89f416ae",
   "metadata": {
    "scrolled": true
   },
   "outputs": [
    {
     "data": {
      "text/plain": [
       "name               11559\n",
       "platform              31\n",
       "year_of_release       38\n",
       "genre                 12\n",
       "rating                 9\n",
       "dtype: int64"
      ]
     },
     "execution_count": 24,
     "metadata": {},
     "output_type": "execute_result"
    }
   ],
   "source": [
    "unique_combinations_count = df[['name', 'platform', 'year_of_release', 'genre', 'rating']].nunique()\n",
    "\n",
    "unique_combinations_count"
   ]
  },
  {
   "cell_type": "code",
   "execution_count": 25,
   "id": "fc5c91b5",
   "metadata": {
    "id": "fc5c91b5"
   },
   "outputs": [
    {
     "data": {
      "text/plain": [
       "241"
      ]
     },
     "execution_count": 25,
     "metadata": {},
     "output_type": "execute_result"
    }
   ],
   "source": [
    "df.duplicated().sum()"
   ]
  },
  {
   "cell_type": "code",
   "execution_count": 26,
   "id": "29e57705",
   "metadata": {
    "id": "29e57705"
   },
   "outputs": [
    {
     "data": {
      "text/plain": [
       "241"
      ]
     },
     "execution_count": 26,
     "metadata": {},
     "output_type": "execute_result"
    }
   ],
   "source": [
    "# Сохраняем количество строк до удаления дубликатов\n",
    "initial_row_count = df.shape[0]\n",
    "\n",
    "# Удаляем дубликаты\n",
    "df_no_duplicates = df.drop_duplicates()\n",
    "\n",
    "# Сохраняем количество строк после удаления дубликатов\n",
    "final_row_count = df_no_duplicates.shape[0]\n",
    "\n",
    "initial_row_count - final_row_count"
   ]
  },
  {
   "cell_type": "code",
   "execution_count": 27,
   "id": "9e350f85",
   "metadata": {},
   "outputs": [
    {
     "data": {
      "text/plain": [
       "243"
      ]
     },
     "execution_count": 27,
     "metadata": {},
     "output_type": "execute_result"
    }
   ],
   "source": [
    "# сколько всего строк удалили с момента загрузки датафрейма\n",
    "x - final_row_count"
   ]
  },
  {
   "cell_type": "code",
   "execution_count": 28,
   "id": "71e60579",
   "metadata": {},
   "outputs": [
    {
     "data": {
      "text/plain": [
       "0.99"
      ]
     },
     "execution_count": 28,
     "metadata": {},
     "output_type": "execute_result"
    }
   ],
   "source": [
    "# какую долю строк удалили с момента загрузки датафрейма\n",
    "round(final_row_count/ x, 2)"
   ]
  },
  {
   "cell_type": "markdown",
   "id": "9f976045",
   "metadata": {
    "id": "5166fdf8"
   },
   "source": [
    "Выявлено 241 явный дубликат, которые были удалены.\n",
    "\n",
    "После преобразования данных в нижний регистр, число уникальных значений в жанрах игры изменилось с 24 на 12\n",
    "\n",
    "Данные готовы к дальнейшему анализу"
   ]
  },
  {
   "cell_type": "markdown",
   "id": "4e1e228f",
   "metadata": {},
   "source": [
    " <div class=\"alert alert-warning\">\n",
    "<h2> Комментарий ревьюера <a class=\"tocSkip\"> </h2>\n",
    "    \n",
    "<b>Некоторые замечания и рекомендации💡:</b> \n",
    "    \n",
    "Выше нужно доработать по пропускам, а здесь − пересчитать."
   ]
  },
  {
   "cell_type": "markdown",
   "id": "6b63354e",
   "metadata": {},
   "source": [
    "<div class=\"alert alert-info\">\n",
    "Перепроверила данные после изменений, они остались прежними \n",
    "</div>"
   ]
  },
  {
   "cell_type": "markdown",
   "id": "21a28aa0",
   "metadata": {},
   "source": [
    "<div class=\"alert alert-warning\">\n",
    "<h2> Комментарий ревьюера  #2 <a class=\"tocSkip\"> </h2>\n",
    "    \n",
    "<b>Некоторые замечания и рекомендации💡:</b> \n",
    "\n",
    "По проекту важно подсчитать финально, какую долю данных мы удалили по всем-всем преобразованиям после загрузки датасета. Я бы вначале сохранил количество строк в переменную, а здесь сравнил бы с тем, что получилось. У нас данные удалялись не только из-за дублей. \n",
    "       \n",
    "</div>\n"
   ]
  },
  {
   "cell_type": "markdown",
   "id": "5e939553",
   "metadata": {},
   "source": [
    "<div class=\"alert alert-info\">\n",
    "После всех преобразований мы удалили 243 строки, доля сотавила 0.99\n",
    "</div>"
   ]
  },
  {
   "cell_type": "markdown",
   "id": "fe8f00c8",
   "metadata": {},
   "source": [
    "<div class=\"alert alert-success\">\n",
    "<h2> Комментарий ревьюера #2 <a class=\"tocSkip\"> </h2>\n",
    "\n",
    "👍 Ок.\n",
    "</div>"
   ]
  },
  {
   "cell_type": "markdown",
   "id": "613f0eb0",
   "metadata": {
    "id": "613f0eb0"
   },
   "source": [
    "---\n",
    "\n",
    "## 3. Фильтрация данных\n",
    "\n",
    "Коллеги хотят изучить историю продаж игр в начале XXI века, и их интересует период с 2000 по 2013 год включительно. Отберите данные по этому показателю. Сохраните новый срез данных в отдельном датафрейме, например `df_actual`."
   ]
  },
  {
   "cell_type": "code",
   "execution_count": 29,
   "id": "2344916d",
   "metadata": {
    "id": "2344916d"
   },
   "outputs": [],
   "source": [
    "df_actual = df[(df['year_of_release'] >= 2000) & (df['year_of_release'] < 2014)].copy()"
   ]
  },
  {
   "cell_type": "code",
   "execution_count": 30,
   "id": "90ddaa4e",
   "metadata": {},
   "outputs": [
    {
     "name": "stdout",
     "output_type": "stream",
     "text": [
      "<class 'pandas.core.frame.DataFrame'>\n",
      "Int64Index: 12980 entries, 0 to 16954\n",
      "Data columns (total 11 columns):\n",
      " #   Column           Non-Null Count  Dtype  \n",
      "---  ------           --------------  -----  \n",
      " 0   name             12980 non-null  object \n",
      " 1   platform         12980 non-null  object \n",
      " 2   year_of_release  12980 non-null  int64  \n",
      " 3   genre            12980 non-null  object \n",
      " 4   na_sales         12980 non-null  float64\n",
      " 5   eu_sales         12980 non-null  float64\n",
      " 6   jp_sales         12980 non-null  float64\n",
      " 7   other_sales      12980 non-null  float64\n",
      " 8   critic_score     12980 non-null  float64\n",
      " 9   user_score       12980 non-null  float64\n",
      " 10  rating           12980 non-null  object \n",
      "dtypes: float64(6), int64(1), object(4)\n",
      "memory usage: 1.2+ MB\n"
     ]
    }
   ],
   "source": [
    "df_actual.info()"
   ]
  },
  {
   "cell_type": "markdown",
   "id": "2c5aec11",
   "metadata": {
    "id": "906577e8"
   },
   "source": [
    "После фильтрации датафрейм содержит 12980 строк"
   ]
  },
  {
   "cell_type": "markdown",
   "id": "b394fabc",
   "metadata": {},
   "source": [
    "<div class=\"alert alert-success\">\n",
    "<h2> Комментарий ревьюера <a class=\"tocSkip\"> </h2>\n",
    " \n",
    "👍  Точно \n",
    "</div>  \n",
    "       \n"
   ]
  },
  {
   "cell_type": "markdown",
   "id": "a6f10b01",
   "metadata": {
    "id": "a6f10b01"
   },
   "source": [
    "---\n",
    "\n",
    "## 4. Категоризация данных\n",
    "    \n",
    "Проведите категоризацию данных:\n",
    "- Разделите все игры по оценкам пользователей и выделите такие категории: высокая оценка (от 8 до 10 включительно), средняя оценка (от 3 до 8, не включая правую границу интервала) и низкая оценка (от 0 до 3, не включая правую границу интервала)."
   ]
  },
  {
   "cell_type": "code",
   "execution_count": 31,
   "id": "ead982a0",
   "metadata": {},
   "outputs": [],
   "source": [
    "df_actual['user_score_group'] = pd.cut(df_actual['user_score'], bins=[0, 3, 8, 11], labels=[\"низкая оценка\", \"средняя оценка\", \"высокая оценка\"],right=False)"
   ]
  },
  {
   "cell_type": "markdown",
   "id": "16fc4c89",
   "metadata": {},
   "source": [
    "<div class=\"alert alert-success\"> \n",
    "<h2> Комментарий ревьюера <a class=\"tocSkip\"> </h2>\n",
    "\n",
    "👍 Верно по `right=False`\n",
    "</div>  \n"
   ]
  },
  {
   "cell_type": "code",
   "execution_count": 32,
   "id": "a768057d",
   "metadata": {},
   "outputs": [
    {
     "data": {
      "text/plain": [
       "user_score_group\n",
       "низкая оценка      117\n",
       "средняя оценка    4148\n",
       "высокая оценка    2307\n",
       "Name: name, dtype: int64"
      ]
     },
     "execution_count": 32,
     "metadata": {},
     "output_type": "execute_result"
    }
   ],
   "source": [
    "count_user_group = df_actual.groupby('user_score_group')['name'].count()\n",
    "\n",
    "count_user_group"
   ]
  },
  {
   "cell_type": "markdown",
   "id": "f8f34b40",
   "metadata": {
    "id": "f8f34b40"
   },
   "source": [
    "- Разделите все игры по оценкам критиков и выделите такие категории: высокая оценка (от 80 до 100 включительно), средняя оценка (от 30 до 80, не включая правую границу интервала) и низкая оценка (от 0 до 30, не включая правую границу интервала)."
   ]
  },
  {
   "cell_type": "code",
   "execution_count": 33,
   "id": "e3f7acb0",
   "metadata": {
    "id": "e3f7acb0"
   },
   "outputs": [],
   "source": [
    "df_actual['critic_score_group'] = pd.cut(df_actual['critic_score'], bins=[0, 30, 80, 101], labels=[\"низкая оценка\", \"средняя оценка\", \"высокая оценка\"],right=False)"
   ]
  },
  {
   "cell_type": "markdown",
   "id": "a45ac7fe",
   "metadata": {},
   "source": [
    "<div class=\"alert alert-success\"> \n",
    "<h2> Комментарий ревьюера <a class=\"tocSkip\"> </h2>\n",
    "\n",
    "👍 \n",
    "</div>  \n"
   ]
  },
  {
   "cell_type": "code",
   "execution_count": 34,
   "id": "271aa7d9",
   "metadata": {},
   "outputs": [
    {
     "data": {
      "text/plain": [
       "critic_score_group\n",
       "низкая оценка       55\n",
       "средняя оценка    5500\n",
       "высокая оценка    1712\n",
       "Name: name, dtype: int64"
      ]
     },
     "execution_count": 34,
     "metadata": {},
     "output_type": "execute_result"
    }
   ],
   "source": [
    "count_critic_group = df_actual.groupby('critic_score_group')['name'].count()\n",
    "\n",
    "count_critic_group"
   ]
  },
  {
   "cell_type": "markdown",
   "id": "olkTlTlAUDR9",
   "metadata": {
    "id": "olkTlTlAUDR9"
   },
   "source": [
    "- После категоризации данных проверьте результат: сгруппируйте данные по выделенным категориям и посчитайте количество игр в каждой категории."
   ]
  },
  {
   "cell_type": "code",
   "execution_count": 35,
   "id": "HW0Nsp-4UMSL",
   "metadata": {
    "id": "HW0Nsp-4UMSL"
   },
   "outputs": [
    {
     "data": {
      "text/plain": [
       "user_score_group  critic_score_group\n",
       "низкая оценка     низкая оценка           17\n",
       "                  средняя оценка          78\n",
       "                  высокая оценка           1\n",
       "средняя оценка    низкая оценка           30\n",
       "                  средняя оценка        3210\n",
       "                  высокая оценка         649\n",
       "высокая оценка    низкая оценка            1\n",
       "                  средняя оценка        1175\n",
       "                  высокая оценка        1028\n",
       "Name: name, dtype: int64"
      ]
     },
     "execution_count": 35,
     "metadata": {},
     "output_type": "execute_result"
    }
   ],
   "source": [
    "count_game_group = df_actual.groupby(['user_score_group','critic_score_group'])['name'].count()\n",
    "\n",
    "count_game_group"
   ]
  },
  {
   "cell_type": "markdown",
   "id": "a0077c96",
   "metadata": {
    "id": "x2ne0HIpUMMD"
   },
   "source": [
    "Результат категоризации:\n",
    "\n",
    "Игры с высокой оценкой критиков: 1781\n",
    "\n",
    "Игры с высокой оценкой пользователей: 2381"
   ]
  },
  {
   "cell_type": "markdown",
   "id": "6a98444c",
   "metadata": {
    "id": "6a98444c"
   },
   "source": [
    "- Выделите топ-7 платформ по количеству игр, выпущенных за весь актуальный период."
   ]
  },
  {
   "cell_type": "code",
   "execution_count": 36,
   "id": "003caa2c",
   "metadata": {
    "id": "003caa2c"
   },
   "outputs": [
    {
     "data": {
      "text/plain": [
       "platform\n",
       "PS2     2154\n",
       "DS      2146\n",
       "Wii     1294\n",
       "PSP     1199\n",
       "X360    1138\n",
       "PS3     1107\n",
       "GBA      826\n",
       "Name: name, dtype: int64"
      ]
     },
     "execution_count": 36,
     "metadata": {},
     "output_type": "execute_result"
    }
   ],
   "source": [
    "platform_group = df_actual.groupby('platform')['name'].count()\n",
    "platform_group.sort_values(ascending=False).head(7)\n"
   ]
  },
  {
   "cell_type": "markdown",
   "id": "28f80e07",
   "metadata": {},
   "source": [
    "<div class=\"alert alert-success\"> \n",
    "<h2> Комментарий ревьюера <a class=\"tocSkip\"> </h2>\n",
    "\n",
    "👍 Здесь все корректно.\n",
    "</div>  \n",
    "\t  \n"
   ]
  },
  {
   "cell_type": "markdown",
   "id": "c0158881",
   "metadata": {
    "id": "c0158881"
   },
   "source": [
    "---\n",
    "\n",
    "## 5. Итоговый вывод\n",
    "\n",
    " Мы провели анализ данных о продажах видеоигр, выполнены следующие шаги:\n",
    "\n",
    "#### Предварительная обработка данных:\n",
    "\n",
    "- Приведение столбцов к единому формату (snake_case).\n",
    "- Исправление некорректных типов данных (например, преобразование года выпуска в целое число).\n",
    "- Обработка пропусков: пропущенные значения в числовых столбцах заменены средними значениями по платформе и году выпуска, строки с критическими пропусками удалены.\n",
    "-Удалены 241 явный дубликат, а уникальные значения в категориальных данных нормализованы.\n",
    "\n",
    "#### Фильтрация данных:\n",
    "\n",
    "Данные ограничены периодом с 2000 по 2013 год. \n",
    "\n",
    "После фильтрации получен новый датафрейм df_actual с 12,980 строками.\n",
    "\n",
    "#### Категоризация данных:\n",
    "\n",
    "- Игры разделены по оценкам пользователей: высокая (от 8 до 10 включительно), средняя (от 3 до 8) и низкая (от 0 до 3).\n",
    "- Игры разделены по оценкам критиков: высокая (от 80 до 100 включительно), средняя (от 30 до 80), низкая (от 0 до 30).\n",
    "- Проведено сравнение пересечений категорий пользователей и критиков.\n",
    "\n",
    "#### Выявлены основные платформы:\n",
    "\n",
    "Топ-7 платформ по количеству выпущенных игр: PS2, DS, Wii, PSP, X360, PS3, GBA.\n",
    "\n",
    "#### Срез данных\n",
    "Период: 2000–2013 годы.\n",
    "Количество строк после фильтрации: 12,980.\n",
    "\n",
    "Категориальные поля:\n",
    "- user_score_group: категория оценки пользователей.\n",
    "- critic_score_group: категория оценки критиков.\n",
    "\n",
    "#### Новые поля\n",
    "В исходный датасет добавлены:\n",
    "\n",
    "- user_score_group — категория оценки пользователей.\n",
    "- critic_score_group — категория оценки критиков.\n",
    "\n",
    "#### Основной вывод\n",
    "Данные успешно подготовлены и очищены для дальнейшего анализа. В результате категоризации были выделены основные характеристики игр, включая платформы, высоко оцененные пользователями и критиками. Эти результаты могут использоваться для выявления трендов, построения прогнозов продаж и анализа предпочтений игроков."
   ]
  },
  {
   "cell_type": "markdown",
   "id": "4aa3c8bc",
   "metadata": {},
   "source": [
    "<div class=\"alert alert-success\"> \n",
    "<h2> Комментарий ревьюера <a class=\"tocSkip\"> </h2>\n",
    "\n",
    "👍 Замечательно по содержанию и оформлению. \n",
    "</div>  \n",
    "\t  \n"
   ]
  },
  {
   "cell_type": "markdown",
   "id": "bc960445",
   "metadata": {},
   "source": [
    "<div style=\"border:solid Chocolate 2px; padding: 40px\">\n",
    "\n",
    "**Общий вывод по проекту**\n",
    "    \n",
    "Спасибо за твой проект! Внимательная работа, практически все решения верные и оптимальные, но кое-что нужно доработать и кое-что можно улучшить, чтобы проект стал совсем замечательным.\n",
    "    \n",
    "**Отмечу положительные моменты проекта🚀**\n",
    "    \n",
    "* Отличное оформление. Есть описание, комментарии, выводы.\n",
    "* Хорошее владение кодом, инструментами предобработки. Все сложные моменты выполнены отлично.\n",
    "* Хорошая аргументация решений. Во всех случаях понятно, почему принимали те или иные решения.\n",
    "    \n",
    "**На что стоит обратить внимание🤔**\n",
    "    \n",
    "* Важно доработать по абсолютно всем пропускам в проекте. У нас нет супер-неопределенных ситуаций, в каждой можем применить преобразование, которое улучшит данные и позволит дальше работать с ними.\n",
    "* Эти и остальные замечания я также написал по ходу проекта.\n",
    "    \n",
    "**Желаю удачи и жду твой проект на повторное ревью!**😉\n",
    "    \n",
    "    \n",
    "</div>\n",
    "\n",
    "\n"
   ]
  },
  {
   "cell_type": "markdown",
   "id": "df3c1ea8",
   "metadata": {},
   "source": [
    "<div style=\"border:solid Chocolate 2px; padding: 40px\">\n",
    "\n",
    "**Комментарий ко второй проверке**\n",
    "\n",
    "Спасибо за качественную доработку. Практически все верно. Однако еще кое-что осталось.\n",
    "\n",
    "* Важно поменять подходы к обработке пропусков: региональные продажи мы можем восстановить группировкой по году и платформе, а вот рейтинги придется заменять на заглушку типа «-1». \n",
    "    \n",
    "* Также будет правильнее рассчитать финальную долю данных, которые мы удалили. Туда будут входить не только дубликаты, но и все-все, что мы удаляли с момента загрузки датасета.\n",
    "\n",
    "**Желаю удачи и жду твой проект на повторное ревью!**😉\n",
    "</div>\n"
   ]
  },
  {
   "cell_type": "markdown",
   "id": "b8961f29",
   "metadata": {},
   "source": [
    "<div style=\"border:solid Chocolate 2px; padding: 40px\">\n",
    "\n",
    "**Комментарий к финальной проверке**\n",
    "\n",
    "Спасибо за доработку. Критичных комментариев нет. \n",
    "\n",
    "Если что-то пропустил или остались вопросы, напиши в телеграм @kriill\n",
    "\n",
    "Желаю удачи в дальнейшей учебе!\n",
    "\n",
    "</div>\n"
   ]
  }
 ],
 "metadata": {
  "ExecuteTimeLog": [
   {
    "duration": 600,
    "start_time": "2025-01-17T11:37:04.864Z"
   },
   {
    "duration": 22,
    "start_time": "2025-01-17T11:38:35.384Z"
   },
   {
    "duration": 16,
    "start_time": "2025-01-17T11:38:52.619Z"
   },
   {
    "duration": 14,
    "start_time": "2025-01-17T11:38:58.236Z"
   },
   {
    "duration": 17,
    "start_time": "2025-01-17T11:49:04.237Z"
   },
   {
    "duration": 22,
    "start_time": "2025-01-17T11:50:05.036Z"
   },
   {
    "duration": 14,
    "start_time": "2025-01-17T11:50:09.290Z"
   },
   {
    "duration": 14,
    "start_time": "2025-01-17T11:50:51.220Z"
   },
   {
    "duration": 5,
    "start_time": "2025-01-17T11:52:12.054Z"
   },
   {
    "duration": 5,
    "start_time": "2025-01-17T11:52:43.318Z"
   },
   {
    "duration": 14,
    "start_time": "2025-01-17T11:55:05.661Z"
   },
   {
    "duration": 5,
    "start_time": "2025-01-17T11:57:49.852Z"
   },
   {
    "duration": 3,
    "start_time": "2025-01-17T12:00:53.546Z"
   },
   {
    "duration": 3,
    "start_time": "2025-01-17T12:00:55.422Z"
   },
   {
    "duration": 4,
    "start_time": "2025-01-17T12:01:07.519Z"
   },
   {
    "duration": 19,
    "start_time": "2025-01-17T13:25:54.169Z"
   },
   {
    "duration": 20,
    "start_time": "2025-01-17T13:30:36.587Z"
   },
   {
    "duration": 13,
    "start_time": "2025-01-17T13:36:25.807Z"
   },
   {
    "duration": 18,
    "start_time": "2025-01-17T13:36:41.346Z"
   },
   {
    "duration": 15,
    "start_time": "2025-01-17T13:36:55.961Z"
   },
   {
    "duration": 4,
    "start_time": "2025-01-17T13:37:14.195Z"
   },
   {
    "duration": 868,
    "start_time": "2025-01-17T13:41:13.453Z"
   },
   {
    "duration": 33,
    "start_time": "2025-01-17T13:44:46.002Z"
   },
   {
    "duration": 20,
    "start_time": "2025-01-17T13:45:56.003Z"
   },
   {
    "duration": 16,
    "start_time": "2025-01-17T13:46:04.134Z"
   },
   {
    "duration": 6,
    "start_time": "2025-01-17T13:46:12.326Z"
   },
   {
    "duration": 10,
    "start_time": "2025-01-17T13:49:23.554Z"
   },
   {
    "duration": 43,
    "start_time": "2025-01-17T13:49:49.595Z"
   },
   {
    "duration": 21,
    "start_time": "2025-01-17T13:52:03.298Z"
   },
   {
    "duration": 26,
    "start_time": "2025-01-17T13:53:47.363Z"
   },
   {
    "duration": 2880,
    "start_time": "2025-01-17T14:17:52.916Z"
   },
   {
    "duration": 2863,
    "start_time": "2025-01-17T14:18:51.328Z"
   },
   {
    "duration": 13,
    "start_time": "2025-01-17T14:28:45.708Z"
   },
   {
    "duration": 10,
    "start_time": "2025-01-17T14:35:07.010Z"
   },
   {
    "duration": 2866,
    "start_time": "2025-01-17T14:35:43.241Z"
   },
   {
    "duration": 9,
    "start_time": "2025-01-17T14:35:47.327Z"
   },
   {
    "duration": 17434,
    "start_time": "2025-01-17T14:36:08.224Z"
   },
   {
    "duration": 13,
    "start_time": "2025-01-17T14:36:25.660Z"
   },
   {
    "duration": 17,
    "start_time": "2025-01-17T14:47:32.217Z"
   },
   {
    "duration": 39751,
    "start_time": "2025-01-17T14:49:19.021Z"
   },
   {
    "duration": 6,
    "start_time": "2025-01-17T14:50:37.989Z"
   },
   {
    "duration": 39764,
    "start_time": "2025-01-17T14:50:39.959Z"
   },
   {
    "duration": 13,
    "start_time": "2025-01-17T14:51:25.548Z"
   },
   {
    "duration": 6,
    "start_time": "2025-01-17T14:54:04.192Z"
   },
   {
    "duration": 39925,
    "start_time": "2025-01-17T14:54:05.764Z"
   },
   {
    "duration": 12,
    "start_time": "2025-01-17T14:54:45.725Z"
   },
   {
    "duration": 12,
    "start_time": "2025-01-17T14:55:20.376Z"
   },
   {
    "duration": 2392,
    "start_time": "2025-01-17T14:55:28.624Z"
   },
   {
    "duration": 14,
    "start_time": "2025-01-17T14:55:33.307Z"
   },
   {
    "duration": 2825,
    "start_time": "2025-01-17T14:55:41.521Z"
   },
   {
    "duration": 2488,
    "start_time": "2025-01-17T14:55:44.348Z"
   },
   {
    "duration": 12,
    "start_time": "2025-01-17T14:55:46.838Z"
   },
   {
    "duration": 13,
    "start_time": "2025-01-17T14:56:31.972Z"
   },
   {
    "duration": 13,
    "start_time": "2025-01-17T14:57:07.873Z"
   },
   {
    "duration": 12,
    "start_time": "2025-01-17T14:57:10.814Z"
   },
   {
    "duration": 54,
    "start_time": "2025-01-17T15:04:03.861Z"
   },
   {
    "duration": 15,
    "start_time": "2025-01-17T15:04:06.134Z"
   },
   {
    "duration": 4,
    "start_time": "2025-01-17T15:04:07.655Z"
   },
   {
    "duration": 4,
    "start_time": "2025-01-17T15:04:07.932Z"
   },
   {
    "duration": 14,
    "start_time": "2025-01-17T15:04:08.573Z"
   },
   {
    "duration": 3,
    "start_time": "2025-01-17T15:04:19.631Z"
   },
   {
    "duration": 5,
    "start_time": "2025-01-17T15:04:19.636Z"
   },
   {
    "duration": 11,
    "start_time": "2025-01-17T15:04:19.642Z"
   },
   {
    "duration": 58,
    "start_time": "2025-01-17T15:04:19.655Z"
   },
   {
    "duration": 15,
    "start_time": "2025-01-17T15:04:19.716Z"
   },
   {
    "duration": 4,
    "start_time": "2025-01-17T15:04:19.733Z"
   },
   {
    "duration": 4,
    "start_time": "2025-01-17T15:04:19.738Z"
   },
   {
    "duration": 16,
    "start_time": "2025-01-17T15:04:19.743Z"
   },
   {
    "duration": 5,
    "start_time": "2025-01-17T15:04:19.761Z"
   },
   {
    "duration": 15,
    "start_time": "2025-01-17T15:04:19.767Z"
   },
   {
    "duration": 3,
    "start_time": "2025-01-17T15:04:19.784Z"
   },
   {
    "duration": 32,
    "start_time": "2025-01-17T15:04:19.788Z"
   },
   {
    "duration": 5,
    "start_time": "2025-01-17T15:04:19.822Z"
   },
   {
    "duration": 18,
    "start_time": "2025-01-17T15:04:19.830Z"
   },
   {
    "duration": 10,
    "start_time": "2025-01-17T15:04:19.849Z"
   },
   {
    "duration": 11,
    "start_time": "2025-01-17T15:04:19.861Z"
   },
   {
    "duration": 5,
    "start_time": "2025-01-17T15:04:35.648Z"
   },
   {
    "duration": 10,
    "start_time": "2025-01-17T15:04:38.594Z"
   },
   {
    "duration": 10,
    "start_time": "2025-01-17T15:04:39.387Z"
   },
   {
    "duration": 15,
    "start_time": "2025-01-17T15:04:50.502Z"
   },
   {
    "duration": 16367,
    "start_time": "2025-01-17T15:05:05.116Z"
   },
   {
    "duration": 17360,
    "start_time": "2025-01-17T15:05:21.485Z"
   },
   {
    "duration": 14,
    "start_time": "2025-01-17T15:05:38.846Z"
   },
   {
    "duration": 14,
    "start_time": "2025-01-17T15:05:38.862Z"
   },
   {
    "duration": 13,
    "start_time": "2025-01-17T15:05:50.262Z"
   },
   {
    "duration": 26,
    "start_time": "2025-01-17T15:05:55.647Z"
   },
   {
    "duration": 27,
    "start_time": "2025-01-17T15:06:28.197Z"
   },
   {
    "duration": 14,
    "start_time": "2025-01-17T15:06:58.632Z"
   },
   {
    "duration": 10,
    "start_time": "2025-01-17T15:06:59.154Z"
   },
   {
    "duration": 13,
    "start_time": "2025-01-17T15:07:00.668Z"
   },
   {
    "duration": 26,
    "start_time": "2025-01-17T15:07:01.556Z"
   },
   {
    "duration": 2870,
    "start_time": "2025-01-17T15:07:03.164Z"
   },
   {
    "duration": 2424,
    "start_time": "2025-01-17T15:07:06.036Z"
   },
   {
    "duration": 14,
    "start_time": "2025-01-17T15:07:08.461Z"
   },
   {
    "duration": 3,
    "start_time": "2025-01-17T15:08:20.530Z"
   },
   {
    "duration": 33,
    "start_time": "2025-01-17T15:08:20.535Z"
   },
   {
    "duration": 44,
    "start_time": "2025-01-17T15:08:20.570Z"
   },
   {
    "duration": 98,
    "start_time": "2025-01-17T15:08:20.616Z"
   },
   {
    "duration": 41,
    "start_time": "2025-01-17T15:08:20.716Z"
   },
   {
    "duration": 85,
    "start_time": "2025-01-17T15:08:20.758Z"
   },
   {
    "duration": 44,
    "start_time": "2025-01-17T15:08:20.845Z"
   },
   {
    "duration": 71,
    "start_time": "2025-01-17T15:08:20.891Z"
   },
   {
    "duration": 102,
    "start_time": "2025-01-17T15:08:20.963Z"
   },
   {
    "duration": 42,
    "start_time": "2025-01-17T15:08:21.066Z"
   },
   {
    "duration": 38,
    "start_time": "2025-01-17T15:08:21.110Z"
   },
   {
    "duration": 160,
    "start_time": "2025-01-17T15:08:21.149Z"
   },
   {
    "duration": 52,
    "start_time": "2025-01-17T15:08:21.312Z"
   },
   {
    "duration": 111,
    "start_time": "2025-01-17T15:08:21.365Z"
   },
   {
    "duration": 57,
    "start_time": "2025-01-17T15:08:21.477Z"
   },
   {
    "duration": 49,
    "start_time": "2025-01-17T15:08:21.535Z"
   },
   {
    "duration": 17,
    "start_time": "2025-01-17T15:08:21.585Z"
   },
   {
    "duration": 71,
    "start_time": "2025-01-17T15:08:21.603Z"
   },
   {
    "duration": 16591,
    "start_time": "2025-01-17T15:08:21.675Z"
   },
   {
    "duration": 17547,
    "start_time": "2025-01-17T15:08:38.268Z"
   },
   {
    "duration": 12,
    "start_time": "2025-01-17T15:08:55.817Z"
   },
   {
    "duration": 45,
    "start_time": "2025-01-17T15:08:55.831Z"
   },
   {
    "duration": 13,
    "start_time": "2025-01-17T15:09:58.454Z"
   },
   {
    "duration": 7,
    "start_time": "2025-01-17T15:15:22.776Z"
   },
   {
    "duration": 11,
    "start_time": "2025-01-17T15:15:38.570Z"
   },
   {
    "duration": 18,
    "start_time": "2025-01-17T15:37:18.553Z"
   },
   {
    "duration": 16,
    "start_time": "2025-01-17T15:37:30.919Z"
   },
   {
    "duration": 16,
    "start_time": "2025-01-17T15:39:05.805Z"
   },
   {
    "duration": 16,
    "start_time": "2025-01-17T15:39:17.435Z"
   },
   {
    "duration": 22,
    "start_time": "2025-01-17T15:39:47.728Z"
   },
   {
    "duration": 16,
    "start_time": "2025-01-17T15:39:57.932Z"
   },
   {
    "duration": 9,
    "start_time": "2025-01-17T15:40:02.635Z"
   },
   {
    "duration": 23,
    "start_time": "2025-01-17T15:40:24.067Z"
   },
   {
    "duration": 22,
    "start_time": "2025-01-17T15:40:34.538Z"
   },
   {
    "duration": 19,
    "start_time": "2025-01-17T15:40:40.512Z"
   },
   {
    "duration": 10,
    "start_time": "2025-01-17T15:40:45.492Z"
   },
   {
    "duration": 6,
    "start_time": "2025-01-17T15:42:40.390Z"
   },
   {
    "duration": 5,
    "start_time": "2025-01-17T15:42:54.983Z"
   },
   {
    "duration": 4,
    "start_time": "2025-01-17T15:43:06.290Z"
   },
   {
    "duration": 4,
    "start_time": "2025-01-17T15:43:09.208Z"
   },
   {
    "duration": 5,
    "start_time": "2025-01-17T15:43:14.736Z"
   },
   {
    "duration": 6,
    "start_time": "2025-01-17T15:43:43.602Z"
   },
   {
    "duration": 20,
    "start_time": "2025-01-17T15:47:58.636Z"
   },
   {
    "duration": 18,
    "start_time": "2025-01-17T15:48:12.418Z"
   },
   {
    "duration": 17,
    "start_time": "2025-01-17T15:55:19.340Z"
   },
   {
    "duration": 9,
    "start_time": "2025-01-17T15:57:34.392Z"
   },
   {
    "duration": 3,
    "start_time": "2025-01-17T15:57:52.017Z"
   },
   {
    "duration": 79,
    "start_time": "2025-01-17T15:58:07.624Z"
   },
   {
    "duration": 100,
    "start_time": "2025-01-17T15:58:26.070Z"
   },
   {
    "duration": 74,
    "start_time": "2025-01-17T15:58:31.586Z"
   },
   {
    "duration": 87,
    "start_time": "2025-01-17T15:58:41.172Z"
   },
   {
    "duration": 10,
    "start_time": "2025-01-17T15:59:29.290Z"
   },
   {
    "duration": 12,
    "start_time": "2025-01-17T15:59:46.664Z"
   },
   {
    "duration": 50,
    "start_time": "2025-01-17T16:04:07.606Z"
   },
   {
    "duration": 56,
    "start_time": "2025-01-17T16:04:24.146Z"
   },
   {
    "duration": 51,
    "start_time": "2025-01-17T16:04:36.118Z"
   },
   {
    "duration": 52,
    "start_time": "2025-01-17T16:04:42.256Z"
   },
   {
    "duration": 51,
    "start_time": "2025-01-17T16:04:59.220Z"
   },
   {
    "duration": 21,
    "start_time": "2025-01-17T16:05:07.667Z"
   },
   {
    "duration": 3,
    "start_time": "2025-01-17T16:06:37.839Z"
   },
   {
    "duration": 4,
    "start_time": "2025-01-17T16:08:03.327Z"
   },
   {
    "duration": 3,
    "start_time": "2025-01-17T16:08:11.070Z"
   },
   {
    "duration": 4,
    "start_time": "2025-01-17T16:08:22.865Z"
   },
   {
    "duration": 4,
    "start_time": "2025-01-17T16:09:23.185Z"
   },
   {
    "duration": 4,
    "start_time": "2025-01-17T16:09:43.417Z"
   },
   {
    "duration": 4,
    "start_time": "2025-01-17T16:10:10.719Z"
   },
   {
    "duration": 4,
    "start_time": "2025-01-17T16:10:19.820Z"
   },
   {
    "duration": 53,
    "start_time": "2025-01-17T17:36:49.775Z"
   },
   {
    "duration": 7,
    "start_time": "2025-01-17T17:37:51.397Z"
   },
   {
    "duration": 2,
    "start_time": "2025-01-17T17:37:57.287Z"
   },
   {
    "duration": 10,
    "start_time": "2025-01-17T17:37:57.292Z"
   },
   {
    "duration": 3,
    "start_time": "2025-01-17T17:37:57.304Z"
   },
   {
    "duration": 637,
    "start_time": "2025-01-17T17:37:57.310Z"
   },
   {
    "duration": 18,
    "start_time": "2025-01-17T17:37:57.949Z"
   },
   {
    "duration": 9,
    "start_time": "2025-01-17T17:37:57.969Z"
   },
   {
    "duration": 14,
    "start_time": "2025-01-17T17:37:57.979Z"
   },
   {
    "duration": 20,
    "start_time": "2025-01-17T17:37:57.994Z"
   },
   {
    "duration": 4,
    "start_time": "2025-01-17T17:37:58.016Z"
   },
   {
    "duration": 9,
    "start_time": "2025-01-17T17:37:58.021Z"
   },
   {
    "duration": 6,
    "start_time": "2025-01-17T17:37:58.032Z"
   },
   {
    "duration": 15,
    "start_time": "2025-01-17T17:37:58.039Z"
   },
   {
    "duration": 10,
    "start_time": "2025-01-17T17:37:58.056Z"
   },
   {
    "duration": 21,
    "start_time": "2025-01-17T17:37:58.067Z"
   },
   {
    "duration": 10,
    "start_time": "2025-01-17T17:37:58.090Z"
   },
   {
    "duration": 29,
    "start_time": "2025-01-17T17:37:58.102Z"
   },
   {
    "duration": 17636,
    "start_time": "2025-01-17T17:37:58.133Z"
   },
   {
    "duration": 19020,
    "start_time": "2025-01-17T17:38:15.771Z"
   },
   {
    "duration": 8,
    "start_time": "2025-01-17T17:38:34.793Z"
   },
   {
    "duration": 28,
    "start_time": "2025-01-17T17:38:34.803Z"
   },
   {
    "duration": 25,
    "start_time": "2025-01-17T17:38:34.833Z"
   },
   {
    "duration": 43,
    "start_time": "2025-01-17T17:38:34.860Z"
   },
   {
    "duration": 18,
    "start_time": "2025-01-17T17:38:34.905Z"
   },
   {
    "duration": 21,
    "start_time": "2025-01-17T17:38:34.926Z"
   },
   {
    "duration": 46,
    "start_time": "2025-01-17T17:38:34.950Z"
   },
   {
    "duration": 0,
    "start_time": "2025-01-17T17:38:34.998Z"
   },
   {
    "duration": 0,
    "start_time": "2025-01-17T17:38:34.999Z"
   },
   {
    "duration": 0,
    "start_time": "2025-01-17T17:38:35.000Z"
   },
   {
    "duration": 16,
    "start_time": "2025-01-17T17:39:40.247Z"
   },
   {
    "duration": 4,
    "start_time": "2025-01-17T17:39:48.039Z"
   },
   {
    "duration": 4,
    "start_time": "2025-01-17T17:39:51.701Z"
   },
   {
    "duration": 4,
    "start_time": "2025-01-17T17:39:54.171Z"
   },
   {
    "duration": 1520,
    "start_time": "2025-01-17T17:39:58.307Z"
   },
   {
    "duration": 6,
    "start_time": "2025-01-17T17:40:20.950Z"
   },
   {
    "duration": 7,
    "start_time": "2025-01-17T17:40:28.455Z"
   },
   {
    "duration": 14,
    "start_time": "2025-01-17T17:41:17.231Z"
   },
   {
    "duration": 28,
    "start_time": "2025-01-17T17:41:25.243Z"
   },
   {
    "duration": 11,
    "start_time": "2025-01-17T17:47:48.409Z"
   },
   {
    "duration": 7,
    "start_time": "2025-01-17T17:50:53.864Z"
   },
   {
    "duration": 1530,
    "start_time": "2025-01-17T17:57:29.688Z"
   },
   {
    "duration": 1502,
    "start_time": "2025-01-17T17:59:08.925Z"
   },
   {
    "duration": 1435,
    "start_time": "2025-01-17T18:00:13.141Z"
   },
   {
    "duration": 1471,
    "start_time": "2025-01-17T18:01:25.053Z"
   },
   {
    "duration": 1426,
    "start_time": "2025-01-17T18:02:27.873Z"
   },
   {
    "duration": 1629,
    "start_time": "2025-01-17T18:07:29.210Z"
   },
   {
    "duration": 7,
    "start_time": "2025-01-17T18:08:33.720Z"
   },
   {
    "duration": 2,
    "start_time": "2025-01-17T18:08:59.058Z"
   },
   {
    "duration": 15,
    "start_time": "2025-01-17T18:08:59.062Z"
   },
   {
    "duration": 7,
    "start_time": "2025-01-17T18:08:59.079Z"
   },
   {
    "duration": 71,
    "start_time": "2025-01-17T18:08:59.088Z"
   },
   {
    "duration": 18,
    "start_time": "2025-01-17T18:08:59.161Z"
   },
   {
    "duration": 10,
    "start_time": "2025-01-17T18:08:59.180Z"
   },
   {
    "duration": 8,
    "start_time": "2025-01-17T18:08:59.192Z"
   },
   {
    "duration": 28,
    "start_time": "2025-01-17T18:08:59.202Z"
   },
   {
    "duration": 14,
    "start_time": "2025-01-17T18:08:59.232Z"
   },
   {
    "duration": 18,
    "start_time": "2025-01-17T18:08:59.249Z"
   },
   {
    "duration": 7,
    "start_time": "2025-01-17T18:08:59.269Z"
   },
   {
    "duration": 7,
    "start_time": "2025-01-17T18:08:59.278Z"
   },
   {
    "duration": 10,
    "start_time": "2025-01-17T18:08:59.287Z"
   },
   {
    "duration": 35,
    "start_time": "2025-01-17T18:08:59.299Z"
   },
   {
    "duration": 16,
    "start_time": "2025-01-17T18:08:59.335Z"
   },
   {
    "duration": 13,
    "start_time": "2025-01-17T18:08:59.352Z"
   },
   {
    "duration": 19151,
    "start_time": "2025-01-17T18:08:59.367Z"
   },
   {
    "duration": 20372,
    "start_time": "2025-01-17T18:09:18.520Z"
   },
   {
    "duration": 7,
    "start_time": "2025-01-17T18:09:38.894Z"
   },
   {
    "duration": 20,
    "start_time": "2025-01-17T18:09:38.903Z"
   },
   {
    "duration": 29,
    "start_time": "2025-01-17T18:09:38.925Z"
   },
   {
    "duration": 21,
    "start_time": "2025-01-17T18:09:38.956Z"
   },
   {
    "duration": 40,
    "start_time": "2025-01-17T18:09:38.978Z"
   },
   {
    "duration": 24,
    "start_time": "2025-01-17T18:09:39.019Z"
   },
   {
    "duration": 17,
    "start_time": "2025-01-17T18:09:39.045Z"
   },
   {
    "duration": 4,
    "start_time": "2025-01-17T18:09:39.064Z"
   },
   {
    "duration": 6,
    "start_time": "2025-01-17T18:09:39.069Z"
   },
   {
    "duration": 4,
    "start_time": "2025-01-17T18:09:39.079Z"
   },
   {
    "duration": 3,
    "start_time": "2025-01-17T18:10:38.465Z"
   },
   {
    "duration": 6,
    "start_time": "2025-01-17T18:10:38.470Z"
   },
   {
    "duration": 15,
    "start_time": "2025-01-17T18:10:38.478Z"
   },
   {
    "duration": 67,
    "start_time": "2025-01-17T18:10:38.495Z"
   },
   {
    "duration": 17,
    "start_time": "2025-01-17T18:10:38.564Z"
   },
   {
    "duration": 17,
    "start_time": "2025-01-17T18:10:38.583Z"
   },
   {
    "duration": 22,
    "start_time": "2025-01-17T18:10:38.601Z"
   },
   {
    "duration": 44,
    "start_time": "2025-01-17T18:10:38.625Z"
   },
   {
    "duration": 58,
    "start_time": "2025-01-17T18:10:38.670Z"
   },
   {
    "duration": 22,
    "start_time": "2025-01-17T18:10:38.731Z"
   },
   {
    "duration": 17,
    "start_time": "2025-01-17T18:10:38.755Z"
   },
   {
    "duration": 6,
    "start_time": "2025-01-17T18:10:38.773Z"
   },
   {
    "duration": 7,
    "start_time": "2025-01-17T18:10:38.781Z"
   },
   {
    "duration": 24,
    "start_time": "2025-01-17T18:10:38.790Z"
   },
   {
    "duration": 19,
    "start_time": "2025-01-17T18:10:38.816Z"
   },
   {
    "duration": 15,
    "start_time": "2025-01-17T18:10:38.841Z"
   },
   {
    "duration": 19024,
    "start_time": "2025-01-17T18:10:38.858Z"
   },
   {
    "duration": 20161,
    "start_time": "2025-01-17T18:10:57.884Z"
   },
   {
    "duration": 9,
    "start_time": "2025-01-17T18:11:18.046Z"
   },
   {
    "duration": 18,
    "start_time": "2025-01-17T18:11:18.056Z"
   },
   {
    "duration": 18,
    "start_time": "2025-01-17T18:11:18.075Z"
   },
   {
    "duration": 53,
    "start_time": "2025-01-17T18:11:18.095Z"
   },
   {
    "duration": 21,
    "start_time": "2025-01-17T18:11:18.150Z"
   },
   {
    "duration": 19,
    "start_time": "2025-01-17T18:11:18.172Z"
   },
   {
    "duration": 53,
    "start_time": "2025-01-17T18:11:18.193Z"
   },
   {
    "duration": 4,
    "start_time": "2025-01-17T18:11:18.248Z"
   },
   {
    "duration": 5,
    "start_time": "2025-01-17T18:11:18.254Z"
   },
   {
    "duration": 7,
    "start_time": "2025-01-17T18:11:18.263Z"
   },
   {
    "duration": 6,
    "start_time": "2025-01-17T18:11:18.271Z"
   },
   {
    "duration": 7,
    "start_time": "2025-01-17T18:11:18.278Z"
   },
   {
    "duration": 57,
    "start_time": "2025-01-17T18:11:18.287Z"
   },
   {
    "duration": 8,
    "start_time": "2025-01-17T18:13:29.785Z"
   },
   {
    "duration": 6,
    "start_time": "2025-01-17T18:13:33.715Z"
   },
   {
    "duration": 16,
    "start_time": "2025-01-17T18:13:37.380Z"
   },
   {
    "duration": 6,
    "start_time": "2025-01-17T18:15:36.852Z"
   },
   {
    "duration": 16,
    "start_time": "2025-01-17T18:15:49.342Z"
   },
   {
    "duration": 10,
    "start_time": "2025-01-17T18:25:10.896Z"
   },
   {
    "duration": 9,
    "start_time": "2025-01-17T18:28:23.538Z"
   },
   {
    "duration": 7,
    "start_time": "2025-01-17T18:28:34.379Z"
   },
   {
    "duration": 8,
    "start_time": "2025-01-17T18:29:59.727Z"
   },
   {
    "duration": 9,
    "start_time": "2025-01-17T18:30:39.457Z"
   },
   {
    "duration": 10,
    "start_time": "2025-01-17T18:31:32.800Z"
   },
   {
    "duration": 3,
    "start_time": "2025-01-17T18:34:11.570Z"
   },
   {
    "duration": 5,
    "start_time": "2025-01-17T18:34:11.575Z"
   },
   {
    "duration": 9,
    "start_time": "2025-01-17T18:34:11.581Z"
   },
   {
    "duration": 466,
    "start_time": "2025-01-17T18:34:11.592Z"
   },
   {
    "duration": 17,
    "start_time": "2025-01-17T18:34:12.060Z"
   },
   {
    "duration": 15,
    "start_time": "2025-01-17T18:34:12.079Z"
   },
   {
    "duration": 25,
    "start_time": "2025-01-17T18:34:12.095Z"
   },
   {
    "duration": 18,
    "start_time": "2025-01-17T18:34:12.121Z"
   },
   {
    "duration": 4,
    "start_time": "2025-01-17T18:34:12.141Z"
   },
   {
    "duration": 3,
    "start_time": "2025-01-17T18:34:12.147Z"
   },
   {
    "duration": 39,
    "start_time": "2025-01-17T18:34:12.151Z"
   },
   {
    "duration": 14,
    "start_time": "2025-01-17T18:34:12.192Z"
   },
   {
    "duration": 6,
    "start_time": "2025-01-17T18:34:12.208Z"
   },
   {
    "duration": 20,
    "start_time": "2025-01-17T18:34:12.215Z"
   },
   {
    "duration": 11,
    "start_time": "2025-01-17T18:34:12.237Z"
   },
   {
    "duration": 14,
    "start_time": "2025-01-17T18:34:12.250Z"
   },
   {
    "duration": 17688,
    "start_time": "2025-01-17T18:34:12.266Z"
   },
   {
    "duration": 19049,
    "start_time": "2025-01-17T18:34:29.956Z"
   },
   {
    "duration": 8,
    "start_time": "2025-01-17T18:34:49.007Z"
   },
   {
    "duration": 26,
    "start_time": "2025-01-17T18:34:49.017Z"
   },
   {
    "duration": 37,
    "start_time": "2025-01-17T18:34:49.045Z"
   },
   {
    "duration": 27,
    "start_time": "2025-01-17T18:34:49.085Z"
   },
   {
    "duration": 42,
    "start_time": "2025-01-17T18:34:49.114Z"
   },
   {
    "duration": 21,
    "start_time": "2025-01-17T18:34:49.158Z"
   },
   {
    "duration": 17,
    "start_time": "2025-01-17T18:34:49.181Z"
   },
   {
    "duration": 31,
    "start_time": "2025-01-17T18:34:49.199Z"
   },
   {
    "duration": 4,
    "start_time": "2025-01-17T18:34:49.233Z"
   },
   {
    "duration": 5,
    "start_time": "2025-01-17T18:34:49.242Z"
   },
   {
    "duration": 11,
    "start_time": "2025-01-17T18:34:49.249Z"
   },
   {
    "duration": 8,
    "start_time": "2025-01-17T18:34:49.261Z"
   },
   {
    "duration": 7,
    "start_time": "2025-01-17T18:34:49.270Z"
   },
   {
    "duration": 58,
    "start_time": "2025-01-17T18:34:49.278Z"
   },
   {
    "duration": 11,
    "start_time": "2025-01-17T18:34:49.337Z"
   },
   {
    "duration": 10,
    "start_time": "2025-01-17T18:34:49.349Z"
   },
   {
    "duration": 58,
    "start_time": "2025-01-17T18:45:05.145Z"
   },
   {
    "duration": 1478,
    "start_time": "2025-01-17T18:50:59.786Z"
   },
   {
    "duration": 99,
    "start_time": "2025-01-17T18:52:09.476Z"
   },
   {
    "duration": 85,
    "start_time": "2025-01-17T19:04:54.427Z"
   },
   {
    "duration": 510,
    "start_time": "2025-01-17T19:11:23.202Z"
   },
   {
    "duration": 17,
    "start_time": "2025-01-17T19:11:23.714Z"
   },
   {
    "duration": 9,
    "start_time": "2025-01-17T19:11:23.733Z"
   },
   {
    "duration": 5,
    "start_time": "2025-01-17T19:11:23.743Z"
   },
   {
    "duration": 29,
    "start_time": "2025-01-17T19:11:23.750Z"
   },
   {
    "duration": 3,
    "start_time": "2025-01-17T19:11:23.781Z"
   },
   {
    "duration": 3,
    "start_time": "2025-01-17T19:11:23.786Z"
   },
   {
    "duration": 4,
    "start_time": "2025-01-17T19:11:23.790Z"
   },
   {
    "duration": 4,
    "start_time": "2025-01-17T19:11:23.795Z"
   },
   {
    "duration": 31,
    "start_time": "2025-01-17T19:11:23.801Z"
   },
   {
    "duration": 21,
    "start_time": "2025-01-17T19:11:23.834Z"
   },
   {
    "duration": 10,
    "start_time": "2025-01-17T19:11:23.857Z"
   },
   {
    "duration": 12,
    "start_time": "2025-01-17T19:11:23.868Z"
   },
   {
    "duration": 17530,
    "start_time": "2025-01-17T19:11:23.882Z"
   },
   {
    "duration": 18858,
    "start_time": "2025-01-17T19:11:41.414Z"
   },
   {
    "duration": 7,
    "start_time": "2025-01-17T19:12:00.274Z"
   },
   {
    "duration": 69,
    "start_time": "2025-01-17T19:12:00.283Z"
   },
   {
    "duration": 40,
    "start_time": "2025-01-17T19:12:00.353Z"
   },
   {
    "duration": 46,
    "start_time": "2025-01-17T19:12:00.395Z"
   },
   {
    "duration": 37,
    "start_time": "2025-01-17T19:12:00.443Z"
   },
   {
    "duration": 59,
    "start_time": "2025-01-17T19:12:00.481Z"
   },
   {
    "duration": 30,
    "start_time": "2025-01-17T19:12:00.542Z"
   },
   {
    "duration": 61,
    "start_time": "2025-01-17T19:12:00.573Z"
   },
   {
    "duration": 46,
    "start_time": "2025-01-17T19:12:00.636Z"
   },
   {
    "duration": 40,
    "start_time": "2025-01-17T19:12:00.684Z"
   },
   {
    "duration": 73,
    "start_time": "2025-01-17T19:12:00.726Z"
   },
   {
    "duration": 17,
    "start_time": "2025-01-17T19:12:00.801Z"
   },
   {
    "duration": 43,
    "start_time": "2025-01-17T19:12:00.820Z"
   },
   {
    "duration": 23,
    "start_time": "2025-01-17T19:12:00.865Z"
   },
   {
    "duration": 66,
    "start_time": "2025-01-17T19:12:00.890Z"
   },
   {
    "duration": 114,
    "start_time": "2025-01-17T19:12:00.958Z"
   },
   {
    "duration": 37,
    "start_time": "2025-01-17T19:12:01.074Z"
   },
   {
    "duration": 7,
    "start_time": "2025-01-17T19:14:42.148Z"
   },
   {
    "duration": 7,
    "start_time": "2025-01-17T19:14:45.726Z"
   },
   {
    "duration": 93,
    "start_time": "2025-01-17T19:28:30.641Z"
   },
   {
    "duration": 442,
    "start_time": "2025-01-17T19:34:46.374Z"
   },
   {
    "duration": 18,
    "start_time": "2025-01-17T19:34:46.818Z"
   },
   {
    "duration": 9,
    "start_time": "2025-01-17T19:34:46.838Z"
   },
   {
    "duration": 22,
    "start_time": "2025-01-17T19:34:46.849Z"
   },
   {
    "duration": 24,
    "start_time": "2025-01-17T19:34:46.873Z"
   },
   {
    "duration": 5,
    "start_time": "2025-01-17T19:34:46.899Z"
   },
   {
    "duration": 4,
    "start_time": "2025-01-17T19:34:46.905Z"
   },
   {
    "duration": 18,
    "start_time": "2025-01-17T19:34:46.911Z"
   },
   {
    "duration": 7,
    "start_time": "2025-01-17T19:34:46.931Z"
   },
   {
    "duration": 4,
    "start_time": "2025-01-17T19:34:46.941Z"
   },
   {
    "duration": 31,
    "start_time": "2025-01-17T19:34:46.947Z"
   },
   {
    "duration": 10,
    "start_time": "2025-01-17T19:34:46.980Z"
   },
   {
    "duration": 15,
    "start_time": "2025-01-17T19:34:46.992Z"
   },
   {
    "duration": 17746,
    "start_time": "2025-01-17T19:34:47.009Z"
   },
   {
    "duration": 18821,
    "start_time": "2025-01-17T19:35:04.757Z"
   },
   {
    "duration": 6,
    "start_time": "2025-01-17T19:35:23.580Z"
   },
   {
    "duration": 14,
    "start_time": "2025-01-17T19:35:23.588Z"
   },
   {
    "duration": 29,
    "start_time": "2025-01-17T19:35:23.603Z"
   },
   {
    "duration": 20,
    "start_time": "2025-01-17T19:35:23.634Z"
   },
   {
    "duration": 23,
    "start_time": "2025-01-17T19:35:23.656Z"
   },
   {
    "duration": 17,
    "start_time": "2025-01-17T19:35:23.681Z"
   },
   {
    "duration": 36,
    "start_time": "2025-01-17T19:35:23.700Z"
   },
   {
    "duration": 4,
    "start_time": "2025-01-17T19:35:23.737Z"
   },
   {
    "duration": 5,
    "start_time": "2025-01-17T19:35:23.743Z"
   },
   {
    "duration": 8,
    "start_time": "2025-01-17T19:35:23.750Z"
   },
   {
    "duration": 14,
    "start_time": "2025-01-17T19:35:23.760Z"
   },
   {
    "duration": 7,
    "start_time": "2025-01-17T19:35:23.776Z"
   },
   {
    "duration": 45,
    "start_time": "2025-01-17T19:35:23.786Z"
   },
   {
    "duration": 9,
    "start_time": "2025-01-17T19:35:23.833Z"
   },
   {
    "duration": 15,
    "start_time": "2025-01-17T19:35:23.843Z"
   },
   {
    "duration": 12,
    "start_time": "2025-01-17T19:35:23.860Z"
   },
   {
    "duration": 10,
    "start_time": "2025-01-17T19:35:23.874Z"
   },
   {
    "duration": 595,
    "start_time": "2025-01-18T09:04:05.074Z"
   },
   {
    "duration": 18,
    "start_time": "2025-01-18T09:04:05.671Z"
   },
   {
    "duration": 31,
    "start_time": "2025-01-18T09:04:05.691Z"
   },
   {
    "duration": 21,
    "start_time": "2025-01-18T09:04:05.724Z"
   },
   {
    "duration": 34,
    "start_time": "2025-01-18T09:04:05.748Z"
   },
   {
    "duration": 15,
    "start_time": "2025-01-18T09:04:05.784Z"
   },
   {
    "duration": 21,
    "start_time": "2025-01-18T09:04:05.801Z"
   },
   {
    "duration": 27,
    "start_time": "2025-01-18T09:04:05.824Z"
   },
   {
    "duration": 23,
    "start_time": "2025-01-18T09:04:05.852Z"
   },
   {
    "duration": 15,
    "start_time": "2025-01-18T09:04:05.876Z"
   },
   {
    "duration": 30,
    "start_time": "2025-01-18T09:04:05.893Z"
   },
   {
    "duration": 14,
    "start_time": "2025-01-18T09:04:05.925Z"
   },
   {
    "duration": 21,
    "start_time": "2025-01-18T09:04:05.941Z"
   },
   {
    "duration": 16956,
    "start_time": "2025-01-18T09:04:05.967Z"
   },
   {
    "duration": 18191,
    "start_time": "2025-01-18T09:04:22.924Z"
   },
   {
    "duration": 7,
    "start_time": "2025-01-18T09:04:41.117Z"
   },
   {
    "duration": 12,
    "start_time": "2025-01-18T09:04:41.126Z"
   },
   {
    "duration": 23,
    "start_time": "2025-01-18T09:04:41.140Z"
   },
   {
    "duration": 8,
    "start_time": "2025-01-18T09:04:41.166Z"
   },
   {
    "duration": 7,
    "start_time": "2025-01-18T09:04:41.176Z"
   },
   {
    "duration": 20,
    "start_time": "2025-01-18T09:04:41.185Z"
   },
   {
    "duration": 15,
    "start_time": "2025-01-18T09:04:41.207Z"
   },
   {
    "duration": 19,
    "start_time": "2025-01-18T09:04:41.223Z"
   },
   {
    "duration": 35,
    "start_time": "2025-01-18T09:04:41.243Z"
   },
   {
    "duration": 17,
    "start_time": "2025-01-18T09:04:41.280Z"
   },
   {
    "duration": 14,
    "start_time": "2025-01-18T09:04:41.298Z"
   },
   {
    "duration": 3,
    "start_time": "2025-01-18T09:04:41.314Z"
   },
   {
    "duration": 5,
    "start_time": "2025-01-18T09:04:41.319Z"
   },
   {
    "duration": 10,
    "start_time": "2025-01-18T09:04:41.353Z"
   },
   {
    "duration": 26,
    "start_time": "2025-01-18T09:04:41.365Z"
   },
   {
    "duration": 6,
    "start_time": "2025-01-18T09:04:41.393Z"
   },
   {
    "duration": 9,
    "start_time": "2025-01-18T09:04:41.401Z"
   },
   {
    "duration": 6,
    "start_time": "2025-01-18T09:04:41.412Z"
   },
   {
    "duration": 9,
    "start_time": "2025-01-18T09:04:41.420Z"
   },
   {
    "duration": 21,
    "start_time": "2025-01-18T09:04:41.454Z"
   },
   {
    "duration": 10,
    "start_time": "2025-01-18T09:04:41.477Z"
   },
   {
    "duration": 1484,
    "start_time": "2025-01-18T09:06:16.817Z"
   },
   {
    "duration": 1441,
    "start_time": "2025-01-18T09:06:50.704Z"
   },
   {
    "duration": 4,
    "start_time": "2025-01-18T09:07:10.477Z"
   },
   {
    "duration": 3,
    "start_time": "2025-01-18T09:07:27.649Z"
   },
   {
    "duration": 10,
    "start_time": "2025-01-18T09:07:29.421Z"
   },
   {
    "duration": 6,
    "start_time": "2025-01-18T09:07:40.662Z"
   },
   {
    "duration": 12,
    "start_time": "2025-01-18T09:07:42.000Z"
   },
   {
    "duration": 484,
    "start_time": "2025-01-18T09:17:45.440Z"
   },
   {
    "duration": 16,
    "start_time": "2025-01-18T09:17:45.926Z"
   },
   {
    "duration": 10,
    "start_time": "2025-01-18T09:17:45.943Z"
   },
   {
    "duration": 4,
    "start_time": "2025-01-18T09:17:45.960Z"
   },
   {
    "duration": 16,
    "start_time": "2025-01-18T09:17:45.967Z"
   },
   {
    "duration": 4,
    "start_time": "2025-01-18T09:17:45.984Z"
   },
   {
    "duration": 5,
    "start_time": "2025-01-18T09:17:45.989Z"
   },
   {
    "duration": 11,
    "start_time": "2025-01-18T09:17:45.996Z"
   },
   {
    "duration": 15,
    "start_time": "2025-01-18T09:17:46.009Z"
   },
   {
    "duration": 33,
    "start_time": "2025-01-18T09:17:46.025Z"
   },
   {
    "duration": 26,
    "start_time": "2025-01-18T09:17:46.059Z"
   },
   {
    "duration": 10,
    "start_time": "2025-01-18T09:17:46.086Z"
   },
   {
    "duration": 20,
    "start_time": "2025-01-18T09:17:46.099Z"
   },
   {
    "duration": 16879,
    "start_time": "2025-01-18T09:17:46.124Z"
   },
   {
    "duration": 18024,
    "start_time": "2025-01-18T09:18:03.005Z"
   },
   {
    "duration": 7,
    "start_time": "2025-01-18T09:18:21.030Z"
   },
   {
    "duration": 50,
    "start_time": "2025-01-18T09:18:21.039Z"
   },
   {
    "duration": 17,
    "start_time": "2025-01-18T09:18:21.090Z"
   },
   {
    "duration": 12,
    "start_time": "2025-01-18T09:18:21.108Z"
   },
   {
    "duration": 8,
    "start_time": "2025-01-18T09:18:21.121Z"
   },
   {
    "duration": 14,
    "start_time": "2025-01-18T09:18:21.131Z"
   },
   {
    "duration": 21,
    "start_time": "2025-01-18T09:18:21.147Z"
   },
   {
    "duration": 12,
    "start_time": "2025-01-18T09:18:21.170Z"
   },
   {
    "duration": 25,
    "start_time": "2025-01-18T09:18:21.184Z"
   },
   {
    "duration": 54,
    "start_time": "2025-01-18T09:18:21.211Z"
   },
   {
    "duration": 18,
    "start_time": "2025-01-18T09:18:21.271Z"
   },
   {
    "duration": 14,
    "start_time": "2025-01-18T09:18:21.290Z"
   },
   {
    "duration": 36,
    "start_time": "2025-01-18T09:18:21.305Z"
   },
   {
    "duration": 24,
    "start_time": "2025-01-18T09:18:21.343Z"
   },
   {
    "duration": 15,
    "start_time": "2025-01-18T09:18:21.371Z"
   },
   {
    "duration": 18,
    "start_time": "2025-01-18T09:18:21.388Z"
   },
   {
    "duration": 13,
    "start_time": "2025-01-18T09:18:21.408Z"
   },
   {
    "duration": 15,
    "start_time": "2025-01-18T09:18:21.423Z"
   },
   {
    "duration": 10,
    "start_time": "2025-01-18T09:18:21.439Z"
   },
   {
    "duration": 16,
    "start_time": "2025-01-18T09:18:21.450Z"
   },
   {
    "duration": 10,
    "start_time": "2025-01-18T09:18:21.468Z"
   },
   {
    "duration": 26,
    "start_time": "2025-01-18T09:18:21.480Z"
   },
   {
    "duration": 9,
    "start_time": "2025-01-18T09:18:21.507Z"
   },
   {
    "duration": 8,
    "start_time": "2025-01-18T09:32:10.878Z"
   },
   {
    "duration": 490,
    "start_time": "2025-01-18T09:32:21.046Z"
   },
   {
    "duration": 20,
    "start_time": "2025-01-18T09:32:21.539Z"
   },
   {
    "duration": 12,
    "start_time": "2025-01-18T09:32:21.566Z"
   },
   {
    "duration": 27,
    "start_time": "2025-01-18T09:32:21.580Z"
   },
   {
    "duration": 55,
    "start_time": "2025-01-18T09:32:21.610Z"
   },
   {
    "duration": 14,
    "start_time": "2025-01-18T09:32:21.667Z"
   },
   {
    "duration": 25,
    "start_time": "2025-01-18T09:32:21.683Z"
   },
   {
    "duration": 11,
    "start_time": "2025-01-18T09:32:21.710Z"
   },
   {
    "duration": 17,
    "start_time": "2025-01-18T09:32:21.724Z"
   },
   {
    "duration": 20,
    "start_time": "2025-01-18T09:32:21.743Z"
   },
   {
    "duration": 60,
    "start_time": "2025-01-18T09:32:21.766Z"
   },
   {
    "duration": 15,
    "start_time": "2025-01-18T09:32:21.829Z"
   },
   {
    "duration": 21,
    "start_time": "2025-01-18T09:32:21.847Z"
   },
   {
    "duration": 17194,
    "start_time": "2025-01-18T09:32:21.882Z"
   },
   {
    "duration": 18300,
    "start_time": "2025-01-18T09:32:39.077Z"
   },
   {
    "duration": 7,
    "start_time": "2025-01-18T09:32:57.379Z"
   },
   {
    "duration": 24,
    "start_time": "2025-01-18T09:32:57.387Z"
   },
   {
    "duration": 22,
    "start_time": "2025-01-18T09:32:57.413Z"
   },
   {
    "duration": 5,
    "start_time": "2025-01-18T09:32:57.437Z"
   },
   {
    "duration": 9,
    "start_time": "2025-01-18T09:32:57.444Z"
   },
   {
    "duration": 38,
    "start_time": "2025-01-18T09:32:57.457Z"
   },
   {
    "duration": 19,
    "start_time": "2025-01-18T09:32:57.496Z"
   },
   {
    "duration": 10,
    "start_time": "2025-01-18T09:32:57.517Z"
   },
   {
    "duration": 16,
    "start_time": "2025-01-18T09:32:57.528Z"
   },
   {
    "duration": 28,
    "start_time": "2025-01-18T09:32:57.545Z"
   },
   {
    "duration": 17,
    "start_time": "2025-01-18T09:32:57.575Z"
   },
   {
    "duration": 13,
    "start_time": "2025-01-18T09:32:57.593Z"
   },
   {
    "duration": 15,
    "start_time": "2025-01-18T09:32:57.608Z"
   },
   {
    "duration": 38,
    "start_time": "2025-01-18T09:32:57.624Z"
   },
   {
    "duration": 8,
    "start_time": "2025-01-18T09:32:57.664Z"
   },
   {
    "duration": 34,
    "start_time": "2025-01-18T09:32:57.673Z"
   },
   {
    "duration": 38,
    "start_time": "2025-01-18T09:32:57.708Z"
   },
   {
    "duration": 16,
    "start_time": "2025-01-18T09:32:57.748Z"
   },
   {
    "duration": 63,
    "start_time": "2025-01-18T09:32:57.768Z"
   },
   {
    "duration": 42,
    "start_time": "2025-01-18T09:32:57.833Z"
   },
   {
    "duration": 35,
    "start_time": "2025-01-18T09:32:57.877Z"
   },
   {
    "duration": 12,
    "start_time": "2025-01-18T09:32:57.914Z"
   },
   {
    "duration": 7,
    "start_time": "2025-01-18T09:32:57.928Z"
   },
   {
    "duration": 640,
    "start_time": "2025-01-18T11:26:19.341Z"
   },
   {
    "duration": 31,
    "start_time": "2025-01-18T11:26:19.987Z"
   },
   {
    "duration": 8,
    "start_time": "2025-01-18T11:26:20.020Z"
   },
   {
    "duration": 16,
    "start_time": "2025-01-18T11:26:20.029Z"
   },
   {
    "duration": 22,
    "start_time": "2025-01-18T11:26:20.047Z"
   },
   {
    "duration": 4,
    "start_time": "2025-01-18T11:26:20.071Z"
   },
   {
    "duration": 27,
    "start_time": "2025-01-18T11:26:20.077Z"
   },
   {
    "duration": 4,
    "start_time": "2025-01-18T11:26:20.106Z"
   },
   {
    "duration": 10,
    "start_time": "2025-01-18T11:26:20.112Z"
   },
   {
    "duration": 6,
    "start_time": "2025-01-18T11:26:20.123Z"
   },
   {
    "duration": 61,
    "start_time": "2025-01-18T11:26:20.131Z"
   },
   {
    "duration": 20,
    "start_time": "2025-01-18T11:26:20.194Z"
   },
   {
    "duration": 20,
    "start_time": "2025-01-18T11:26:20.217Z"
   },
   {
    "duration": 275,
    "start_time": "2025-01-18T11:26:20.241Z"
   },
   {
    "duration": 214,
    "start_time": "2025-01-18T11:26:20.517Z"
   },
   {
    "duration": 7,
    "start_time": "2025-01-18T11:26:20.733Z"
   },
   {
    "duration": 47,
    "start_time": "2025-01-18T11:26:20.741Z"
   },
   {
    "duration": 20,
    "start_time": "2025-01-18T11:26:20.790Z"
   },
   {
    "duration": 25,
    "start_time": "2025-01-18T11:26:20.812Z"
   },
   {
    "duration": 41,
    "start_time": "2025-01-18T11:26:20.838Z"
   },
   {
    "duration": 31,
    "start_time": "2025-01-18T11:26:20.884Z"
   },
   {
    "duration": 80,
    "start_time": "2025-01-18T11:26:20.916Z"
   },
   {
    "duration": 30,
    "start_time": "2025-01-18T11:26:20.998Z"
   },
   {
    "duration": 29,
    "start_time": "2025-01-18T11:26:21.029Z"
   },
   {
    "duration": 37,
    "start_time": "2025-01-18T11:26:21.059Z"
   },
   {
    "duration": 21,
    "start_time": "2025-01-18T11:26:21.098Z"
   },
   {
    "duration": 7,
    "start_time": "2025-01-18T11:26:21.120Z"
   },
   {
    "duration": 68,
    "start_time": "2025-01-18T11:26:21.128Z"
   },
   {
    "duration": 12,
    "start_time": "2025-01-18T11:26:21.197Z"
   },
   {
    "duration": 11,
    "start_time": "2025-01-18T11:26:21.211Z"
   },
   {
    "duration": 4,
    "start_time": "2025-01-18T11:26:21.224Z"
   },
   {
    "duration": 44,
    "start_time": "2025-01-18T11:26:21.229Z"
   },
   {
    "duration": 30,
    "start_time": "2025-01-18T11:26:21.277Z"
   },
   {
    "duration": 27,
    "start_time": "2025-01-18T11:26:21.311Z"
   },
   {
    "duration": 10,
    "start_time": "2025-01-18T11:26:21.340Z"
   },
   {
    "duration": 46,
    "start_time": "2025-01-18T11:26:21.352Z"
   },
   {
    "duration": 11,
    "start_time": "2025-01-18T11:28:05.357Z"
   },
   {
    "duration": 107,
    "start_time": "2025-01-18T11:32:14.578Z"
   },
   {
    "duration": 5,
    "start_time": "2025-01-18T11:34:56.580Z"
   },
   {
    "duration": 6,
    "start_time": "2025-01-18T11:35:49.655Z"
   },
   {
    "duration": 4,
    "start_time": "2025-01-18T11:36:55.710Z"
   },
   {
    "duration": 4,
    "start_time": "2025-01-18T11:37:25.222Z"
   },
   {
    "duration": 556,
    "start_time": "2025-01-18T11:37:39.692Z"
   },
   {
    "duration": 59,
    "start_time": "2025-01-18T11:37:40.250Z"
   },
   {
    "duration": 3,
    "start_time": "2025-01-18T11:37:40.315Z"
   },
   {
    "duration": 14,
    "start_time": "2025-01-18T11:37:40.319Z"
   },
   {
    "duration": 65,
    "start_time": "2025-01-18T11:37:40.335Z"
   },
   {
    "duration": 8,
    "start_time": "2025-01-18T11:37:40.402Z"
   },
   {
    "duration": 22,
    "start_time": "2025-01-18T11:37:40.411Z"
   },
   {
    "duration": 10,
    "start_time": "2025-01-18T11:37:40.434Z"
   },
   {
    "duration": 10,
    "start_time": "2025-01-18T11:37:40.446Z"
   },
   {
    "duration": 47,
    "start_time": "2025-01-18T11:37:40.461Z"
   },
   {
    "duration": 27,
    "start_time": "2025-01-18T11:37:40.509Z"
   },
   {
    "duration": 8,
    "start_time": "2025-01-18T11:37:40.537Z"
   },
   {
    "duration": 37,
    "start_time": "2025-01-18T11:37:40.547Z"
   },
   {
    "duration": 318,
    "start_time": "2025-01-18T11:37:40.596Z"
   },
   {
    "duration": 288,
    "start_time": "2025-01-18T11:37:40.916Z"
   },
   {
    "duration": 10,
    "start_time": "2025-01-18T11:37:41.212Z"
   },
   {
    "duration": 68,
    "start_time": "2025-01-18T11:37:41.224Z"
   },
   {
    "duration": 11,
    "start_time": "2025-01-18T11:37:41.301Z"
   },
   {
    "duration": 4,
    "start_time": "2025-01-18T11:37:41.314Z"
   },
   {
    "duration": 5,
    "start_time": "2025-01-18T11:37:41.319Z"
   },
   {
    "duration": 8,
    "start_time": "2025-01-18T11:37:41.325Z"
   },
   {
    "duration": 17,
    "start_time": "2025-01-18T11:37:41.334Z"
   },
   {
    "duration": 62,
    "start_time": "2025-01-18T11:37:41.352Z"
   },
   {
    "duration": 21,
    "start_time": "2025-01-18T11:37:41.417Z"
   },
   {
    "duration": 40,
    "start_time": "2025-01-18T11:37:41.440Z"
   },
   {
    "duration": 16,
    "start_time": "2025-01-18T11:37:41.503Z"
   },
   {
    "duration": 4,
    "start_time": "2025-01-18T11:37:41.520Z"
   },
   {
    "duration": 12,
    "start_time": "2025-01-18T11:37:41.525Z"
   },
   {
    "duration": 38,
    "start_time": "2025-01-18T11:37:41.538Z"
   },
   {
    "duration": 15,
    "start_time": "2025-01-18T11:37:41.593Z"
   },
   {
    "duration": 17,
    "start_time": "2025-01-18T11:37:41.609Z"
   },
   {
    "duration": 10,
    "start_time": "2025-01-18T11:37:41.628Z"
   },
   {
    "duration": 7,
    "start_time": "2025-01-18T11:37:41.639Z"
   },
   {
    "duration": 23,
    "start_time": "2025-01-18T11:37:41.648Z"
   },
   {
    "duration": 32,
    "start_time": "2025-01-18T11:37:41.672Z"
   },
   {
    "duration": 15,
    "start_time": "2025-01-18T11:37:41.706Z"
   },
   {
    "duration": 7,
    "start_time": "2025-01-18T11:37:41.723Z"
   },
   {
    "duration": 8,
    "start_time": "2025-01-18T11:40:26.259Z"
   },
   {
    "duration": 4,
    "start_time": "2025-01-18T11:41:10.142Z"
   },
   {
    "duration": 29,
    "start_time": "2025-01-18T11:41:26.391Z"
   },
   {
    "duration": 107,
    "start_time": "2025-01-18T11:42:33.299Z"
   },
   {
    "duration": 513,
    "start_time": "2025-01-18T11:43:05.205Z"
   },
   {
    "duration": 14,
    "start_time": "2025-01-18T11:43:05.720Z"
   },
   {
    "duration": 65,
    "start_time": "2025-01-18T11:43:05.735Z"
   },
   {
    "duration": 29,
    "start_time": "2025-01-18T11:43:05.806Z"
   },
   {
    "duration": 50,
    "start_time": "2025-01-18T11:43:05.837Z"
   },
   {
    "duration": 100,
    "start_time": "2025-01-18T11:43:05.891Z"
   },
   {
    "duration": 41,
    "start_time": "2025-01-18T11:43:05.993Z"
   },
   {
    "duration": 14,
    "start_time": "2025-01-18T11:43:06.035Z"
   },
   {
    "duration": 54,
    "start_time": "2025-01-18T11:43:06.050Z"
   },
   {
    "duration": 5,
    "start_time": "2025-01-18T11:43:06.110Z"
   },
   {
    "duration": 101,
    "start_time": "2025-01-18T11:43:06.116Z"
   },
   {
    "duration": 11,
    "start_time": "2025-01-18T11:43:06.218Z"
   },
   {
    "duration": 88,
    "start_time": "2025-01-18T11:43:06.230Z"
   },
   {
    "duration": 314,
    "start_time": "2025-01-18T11:43:06.319Z"
   },
   {
    "duration": 214,
    "start_time": "2025-01-18T11:43:06.635Z"
   },
   {
    "duration": 7,
    "start_time": "2025-01-18T11:43:06.860Z"
   },
   {
    "duration": 10,
    "start_time": "2025-01-18T11:43:06.874Z"
   },
   {
    "duration": 33,
    "start_time": "2025-01-18T11:43:06.886Z"
   },
   {
    "duration": 51,
    "start_time": "2025-01-18T11:43:06.921Z"
   },
   {
    "duration": 35,
    "start_time": "2025-01-18T11:43:06.973Z"
   },
   {
    "duration": 14,
    "start_time": "2025-01-18T11:43:07.010Z"
   },
   {
    "duration": 62,
    "start_time": "2025-01-18T11:43:07.026Z"
   },
   {
    "duration": 36,
    "start_time": "2025-01-18T11:43:07.090Z"
   },
   {
    "duration": 85,
    "start_time": "2025-01-18T11:43:07.127Z"
   },
   {
    "duration": 32,
    "start_time": "2025-01-18T11:43:07.213Z"
   },
   {
    "duration": 63,
    "start_time": "2025-01-18T11:43:07.247Z"
   },
   {
    "duration": 18,
    "start_time": "2025-01-18T11:43:07.314Z"
   },
   {
    "duration": 55,
    "start_time": "2025-01-18T11:43:07.335Z"
   },
   {
    "duration": 12,
    "start_time": "2025-01-18T11:43:07.406Z"
   },
   {
    "duration": 32,
    "start_time": "2025-01-18T11:43:07.419Z"
   },
   {
    "duration": 52,
    "start_time": "2025-01-18T11:43:07.453Z"
   },
   {
    "duration": 20,
    "start_time": "2025-01-18T11:43:07.509Z"
   },
   {
    "duration": 53,
    "start_time": "2025-01-18T11:43:07.531Z"
   },
   {
    "duration": 52,
    "start_time": "2025-01-18T11:43:07.585Z"
   },
   {
    "duration": 53,
    "start_time": "2025-01-18T11:43:07.639Z"
   },
   {
    "duration": 23,
    "start_time": "2025-01-18T11:43:07.697Z"
   }
  ],
  "colab": {
   "provenance": []
  },
  "kernelspec": {
   "display_name": "Python 3 (ipykernel)",
   "language": "python",
   "name": "python3"
  },
  "language_info": {
   "codemirror_mode": {
    "name": "ipython",
    "version": 3
   },
   "file_extension": ".py",
   "mimetype": "text/x-python",
   "name": "python",
   "nbconvert_exporter": "python",
   "pygments_lexer": "ipython3",
   "version": "3.9.5"
  },
  "toc": {
   "base_numbering": 1,
   "nav_menu": {},
   "number_sections": true,
   "sideBar": true,
   "skip_h1_title": true,
   "title_cell": "Table of Contents",
   "title_sidebar": "Contents",
   "toc_cell": false,
   "toc_position": {},
   "toc_section_display": true,
   "toc_window_display": false
  }
 },
 "nbformat": 4,
 "nbformat_minor": 5
}
