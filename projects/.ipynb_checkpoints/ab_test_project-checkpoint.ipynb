{
 "cells": [
  {
   "cell_type": "markdown",
   "id": "6b33eb4a-65b9-4a49-b4a4-28b31fc53751",
   "metadata": {},
   "source": [
    "# Часть 1. Проверка гипотезы в Python и составление аналитической записки"
   ]
  },
  {
   "cell_type": "markdown",
   "id": "Z5_6nf-FrY7o",
   "metadata": {
    "id": "Z5_6nf-FrY7o",
    "jp-MarkdownHeadingCollapsed": true
   },
   "source": [
    "## Проект: Анализ различий в пользовательской активности между Москвой и Санкт-Петербургом\n",
    "\n",
    "### Цель проекта\n",
    "\n",
    "Проверить, существует ли статистически значимая разница в среднем времени активности пользователей приложения «Яндекс.Книги» между жителями Москвы и Санкт-Петербурга.\n",
    "\n",
    "### Задачи проекта\n",
    "\n",
    "- Загрузить и предобработать данные: проверить наличие дубликатов и пропусков, привести данные к корректным типам.\n",
    "- Разделить пользователей по городам: Москва и Санкт-Петербург.\n",
    "- Сравнить размеры групп и рассчитать описательные статистики: среднее, медиана, стандартное отклонение.\n",
    "- Построить визуализации распределения времени активности.\n",
    "- Провести односторонний t-тест для двух независимых выборок.\n",
    "- Оценить результат теста и сделать статистически обоснованные выводы.\n",
    "- Предложить возможные объяснения наблюдаемого результата.\n",
    "\n",
    "### Описание данных\n",
    "\n",
    "**Таблица пользователей `yandex_knigi_data.csv`**  \n",
    "Содержит агрегированную информацию о пользователях из двух городов и их активности в приложении. Структура данных:\n",
    "\n",
    "- `user_id` — идентификатор пользователя;\n",
    "- `city` — город проживания (`Москва` или `Санкт-Петербург`);\n",
    "- `total_time` — суммарное время активности пользователя в приложении (в часах).\n",
    "\n",
    "**Дополнительные источники данных**\n",
    "- `group` — группа пользователя;\n",
    "- `ab_test` — название A/B-теста;\n",
    "- `device` — устройство, с которого происходила регистрация;\n",
    "- `event_dt` — дата и время события;\n",
    "- `event_name` — тип события;\n",
    "- `details` — дополнительные данные о событии.\n",
    "\n",
    "### Формулировка гипотезы\n",
    "\n",
    "- **Нулевая гипотеза ($H_0$):** среднее время активности пользователей из Санкт-Петербурга **не больше**, чем у пользователей из Москвы:  \n",
    "  $H_0: \\mu_{\\text{СПб}} \\leq \\mu_{\\text{Москва}}$\n",
    "  \n",
    "- **Альтернативная гипотеза ($H_1$):** среднее время активности пользователей из Санкт-Петербурга **больше**, чем у пользователей из Москвы:  \n",
    "  $H_1: \\mu_{\\text{СПб}} > \\mu_{\\text{Москва}}$\n",
    "\n",
    "Для проверки гипотезы будет использоваться односторонний t-тест для двух независимых выборок с уровнем статистической значимости $\\alpha = 0.05$.\n",
    "\n",
    "### Этапы исследования\n",
    "\n",
    "1. **Загрузка и первичный анализ данных**\n",
    "2. **Проверка на дубликаты и пропущенные значения**\n",
    "3. **Разделение данных на группы по городу**\n",
    "4. **Анализ распределений и описательных статистик**\n",
    "5. **Проверка статистических гипотез**\n",
    "6. **Интерпретация результатов и формулировка выводов**\n",
    "7. **Рекомендации и возможные объяснения**\n"
   ]
  },
  {
   "cell_type": "markdown",
   "id": "6f7d21d6",
   "metadata": {
    "id": "6f7d21d6"
   },
   "source": [
    "## 1. Загрузка данных и знакомство с ними\n",
    "\n",
    "Данные пользователей из Москвы и Санкт-Петербурга c их активностью (суммой часов чтения и прослушивания) из файла `/datasets/yandex_knigi_data.csv`."
   ]
  },
  {
   "cell_type": "code",
   "execution_count": 1,
   "id": "f68a7419",
   "metadata": {
    "id": "f68a7419"
   },
   "outputs": [],
   "source": [
    "import pandas as pd\n",
    "import scipy.stats as stats\n",
    "import matplotlib.pyplot as plt\n",
    "import seaborn as sns"
   ]
  },
  {
   "cell_type": "code",
   "execution_count": 2,
   "id": "39620022",
   "metadata": {},
   "outputs": [],
   "source": [
    "df = pd.read_csv('/datasets/yandex_knigi_data.csv')"
   ]
  },
  {
   "cell_type": "code",
   "execution_count": 3,
   "id": "3e4d0814",
   "metadata": {
    "scrolled": true
   },
   "outputs": [
    {
     "data": {
      "text/html": [
       "<div>\n",
       "<style scoped>\n",
       "    .dataframe tbody tr th:only-of-type {\n",
       "        vertical-align: middle;\n",
       "    }\n",
       "\n",
       "    .dataframe tbody tr th {\n",
       "        vertical-align: top;\n",
       "    }\n",
       "\n",
       "    .dataframe thead th {\n",
       "        text-align: right;\n",
       "    }\n",
       "</style>\n",
       "<table border=\"1\" class=\"dataframe\">\n",
       "  <thead>\n",
       "    <tr style=\"text-align: right;\">\n",
       "      <th></th>\n",
       "      <th>Unnamed: 0</th>\n",
       "      <th>city</th>\n",
       "      <th>puid</th>\n",
       "      <th>hours</th>\n",
       "    </tr>\n",
       "  </thead>\n",
       "  <tbody>\n",
       "    <tr>\n",
       "      <th>0</th>\n",
       "      <td>0</td>\n",
       "      <td>Москва</td>\n",
       "      <td>9668</td>\n",
       "      <td>26.167776</td>\n",
       "    </tr>\n",
       "    <tr>\n",
       "      <th>1</th>\n",
       "      <td>1</td>\n",
       "      <td>Москва</td>\n",
       "      <td>16598</td>\n",
       "      <td>82.111217</td>\n",
       "    </tr>\n",
       "    <tr>\n",
       "      <th>2</th>\n",
       "      <td>2</td>\n",
       "      <td>Москва</td>\n",
       "      <td>80401</td>\n",
       "      <td>4.656906</td>\n",
       "    </tr>\n",
       "    <tr>\n",
       "      <th>3</th>\n",
       "      <td>3</td>\n",
       "      <td>Москва</td>\n",
       "      <td>140205</td>\n",
       "      <td>1.840556</td>\n",
       "    </tr>\n",
       "    <tr>\n",
       "      <th>4</th>\n",
       "      <td>4</td>\n",
       "      <td>Москва</td>\n",
       "      <td>248755</td>\n",
       "      <td>151.326434</td>\n",
       "    </tr>\n",
       "  </tbody>\n",
       "</table>\n",
       "</div>"
      ],
      "text/plain": [
       "   Unnamed: 0    city    puid       hours\n",
       "0           0  Москва    9668   26.167776\n",
       "1           1  Москва   16598   82.111217\n",
       "2           2  Москва   80401    4.656906\n",
       "3           3  Москва  140205    1.840556\n",
       "4           4  Москва  248755  151.326434"
      ]
     },
     "execution_count": 3,
     "metadata": {},
     "output_type": "execute_result"
    }
   ],
   "source": [
    "df.head()"
   ]
  },
  {
   "cell_type": "code",
   "execution_count": 4,
   "id": "df8451b9",
   "metadata": {
    "scrolled": true
   },
   "outputs": [
    {
     "name": "stdout",
     "output_type": "stream",
     "text": [
      "<class 'pandas.core.frame.DataFrame'>\n",
      "RangeIndex: 8784 entries, 0 to 8783\n",
      "Data columns (total 4 columns):\n",
      " #   Column      Non-Null Count  Dtype  \n",
      "---  ------      --------------  -----  \n",
      " 0   Unnamed: 0  8784 non-null   int64  \n",
      " 1   city        8784 non-null   object \n",
      " 2   puid        8784 non-null   int64  \n",
      " 3   hours       8784 non-null   float64\n",
      "dtypes: float64(1), int64(2), object(1)\n",
      "memory usage: 274.6+ KB\n"
     ]
    }
   ],
   "source": [
    "df.info()"
   ]
  },
  {
   "cell_type": "code",
   "execution_count": 5,
   "id": "6c05a191",
   "metadata": {},
   "outputs": [
    {
     "data": {
      "text/plain": [
       "0"
      ]
     },
     "execution_count": 5,
     "metadata": {},
     "output_type": "execute_result"
    }
   ],
   "source": [
    "df.duplicated().sum()"
   ]
  },
  {
   "cell_type": "code",
   "execution_count": 6,
   "id": "ef63c38b",
   "metadata": {},
   "outputs": [],
   "source": [
    "duplicate_users = df['puid'].duplicated()"
   ]
  },
  {
   "cell_type": "code",
   "execution_count": 7,
   "id": "cf583c35",
   "metadata": {},
   "outputs": [
    {
     "data": {
      "text/plain": [
       "244"
      ]
     },
     "execution_count": 7,
     "metadata": {},
     "output_type": "execute_result"
    }
   ],
   "source": [
    "df['puid'].duplicated().sum()"
   ]
  },
  {
   "cell_type": "code",
   "execution_count": 8,
   "id": "3e02f15a",
   "metadata": {
    "scrolled": true
   },
   "outputs": [
    {
     "data": {
      "text/html": [
       "<div>\n",
       "<style scoped>\n",
       "    .dataframe tbody tr th:only-of-type {\n",
       "        vertical-align: middle;\n",
       "    }\n",
       "\n",
       "    .dataframe tbody tr th {\n",
       "        vertical-align: top;\n",
       "    }\n",
       "\n",
       "    .dataframe thead th {\n",
       "        text-align: right;\n",
       "    }\n",
       "</style>\n",
       "<table border=\"1\" class=\"dataframe\">\n",
       "  <thead>\n",
       "    <tr style=\"text-align: right;\">\n",
       "      <th></th>\n",
       "      <th>Unnamed: 0</th>\n",
       "      <th>city</th>\n",
       "      <th>puid</th>\n",
       "      <th>hours</th>\n",
       "    </tr>\n",
       "  </thead>\n",
       "  <tbody>\n",
       "    <tr>\n",
       "      <th>35</th>\n",
       "      <td>35</td>\n",
       "      <td>Москва</td>\n",
       "      <td>2637041</td>\n",
       "      <td>10.317371</td>\n",
       "    </tr>\n",
       "    <tr>\n",
       "      <th>6247</th>\n",
       "      <td>6247</td>\n",
       "      <td>Санкт-Петербург</td>\n",
       "      <td>2637041</td>\n",
       "      <td>3.883926</td>\n",
       "    </tr>\n",
       "    <tr>\n",
       "      <th>134</th>\n",
       "      <td>134</td>\n",
       "      <td>Москва</td>\n",
       "      <td>9979490</td>\n",
       "      <td>32.415573</td>\n",
       "    </tr>\n",
       "    <tr>\n",
       "      <th>6274</th>\n",
       "      <td>6274</td>\n",
       "      <td>Санкт-Петербург</td>\n",
       "      <td>9979490</td>\n",
       "      <td>1.302997</td>\n",
       "    </tr>\n",
       "    <tr>\n",
       "      <th>145</th>\n",
       "      <td>145</td>\n",
       "      <td>Москва</td>\n",
       "      <td>10597984</td>\n",
       "      <td>42.931506</td>\n",
       "    </tr>\n",
       "    <tr>\n",
       "      <th>...</th>\n",
       "      <td>...</td>\n",
       "      <td>...</td>\n",
       "      <td>...</td>\n",
       "      <td>...</td>\n",
       "    </tr>\n",
       "    <tr>\n",
       "      <th>6195</th>\n",
       "      <td>6195</td>\n",
       "      <td>Москва</td>\n",
       "      <td>1130000020425037</td>\n",
       "      <td>0.310556</td>\n",
       "    </tr>\n",
       "    <tr>\n",
       "      <th>8775</th>\n",
       "      <td>8775</td>\n",
       "      <td>Санкт-Петербург</td>\n",
       "      <td>1130000023864516</td>\n",
       "      <td>14.384722</td>\n",
       "    </tr>\n",
       "    <tr>\n",
       "      <th>6202</th>\n",
       "      <td>6202</td>\n",
       "      <td>Москва</td>\n",
       "      <td>1130000023864516</td>\n",
       "      <td>142.830085</td>\n",
       "    </tr>\n",
       "    <tr>\n",
       "      <th>6210</th>\n",
       "      <td>6210</td>\n",
       "      <td>Москва</td>\n",
       "      <td>1130000028554332</td>\n",
       "      <td>11.277554</td>\n",
       "    </tr>\n",
       "    <tr>\n",
       "      <th>8779</th>\n",
       "      <td>8779</td>\n",
       "      <td>Санкт-Петербург</td>\n",
       "      <td>1130000028554332</td>\n",
       "      <td>4.107774</td>\n",
       "    </tr>\n",
       "  </tbody>\n",
       "</table>\n",
       "<p>488 rows × 4 columns</p>\n",
       "</div>"
      ],
      "text/plain": [
       "      Unnamed: 0             city              puid       hours\n",
       "35            35           Москва           2637041   10.317371\n",
       "6247        6247  Санкт-Петербург           2637041    3.883926\n",
       "134          134           Москва           9979490   32.415573\n",
       "6274        6274  Санкт-Петербург           9979490    1.302997\n",
       "145          145           Москва          10597984   42.931506\n",
       "...          ...              ...               ...         ...\n",
       "6195        6195           Москва  1130000020425037    0.310556\n",
       "8775        8775  Санкт-Петербург  1130000023864516   14.384722\n",
       "6202        6202           Москва  1130000023864516  142.830085\n",
       "6210        6210           Москва  1130000028554332   11.277554\n",
       "8779        8779  Санкт-Петербург  1130000028554332    4.107774\n",
       "\n",
       "[488 rows x 4 columns]"
      ]
     },
     "execution_count": 8,
     "metadata": {},
     "output_type": "execute_result"
    }
   ],
   "source": [
    "df[df['puid'].duplicated(keep=False)].sort_values(by='puid')"
   ]
  },
  {
   "cell_type": "code",
   "execution_count": 9,
   "id": "def52358",
   "metadata": {
    "scrolled": true
   },
   "outputs": [],
   "source": [
    "# Сохраняем id пользователей с дублирующимися сессиями\n",
    "user_ids = df[df.duplicated(subset=['puid',])]['puid'].to_list()"
   ]
  },
  {
   "cell_type": "code",
   "execution_count": 10,
   "id": "96990349",
   "metadata": {},
   "outputs": [
    {
     "data": {
      "text/plain": [
       "2.857142857142857"
      ]
     },
     "execution_count": 10,
     "metadata": {},
     "output_type": "execute_result"
    }
   ],
   "source": [
    "# Проверим долю дублирующихся пользователей\n",
    "100 * len(user_ids) / df['puid'].nunique()"
   ]
  },
  {
   "cell_type": "code",
   "execution_count": 11,
   "id": "893265df",
   "metadata": {},
   "outputs": [],
   "source": [
    "# Сохраням изначальное количество строк df\n",
    "x = df.shape[0]"
   ]
  },
  {
   "cell_type": "code",
   "execution_count": 12,
   "id": "bec3fdbc",
   "metadata": {},
   "outputs": [
    {
     "data": {
      "text/plain": [
       "8296"
      ]
     },
     "execution_count": 12,
     "metadata": {},
     "output_type": "execute_result"
    }
   ],
   "source": [
    "# Удаляем дубл пользователей df\n",
    "df = df[~df['puid'].isin(user_ids)].reset_index(drop=True)\n",
    "df.shape[0]"
   ]
  },
  {
   "cell_type": "code",
   "execution_count": 13,
   "id": "08a04e1e",
   "metadata": {},
   "outputs": [
    {
     "data": {
      "text/plain": [
       "488"
      ]
     },
     "execution_count": 13,
     "metadata": {},
     "output_type": "execute_result"
    }
   ],
   "source": [
    "x - len(df)"
   ]
  },
  {
   "cell_type": "markdown",
   "id": "d3f24eb2",
   "metadata": {},
   "source": [
    "В исходном датафрейме содержалось 8784 записи. В ходе анализа были выявлены 244 пользователя с повторяющимися puid, что составляет примерно 2.86% от общего числа уникальных пользователей. \n",
    "\n",
    "Это пользлователи которые попали в обе группы, а именно один уникальный юзер пользовался приложением и в Москве и в Санкт-Петербурге.\n",
    "\n",
    "Для обеспечения корректности анализа все записи, относящиеся к дублирующимся puid, были полностью удалены. В результате очистки удалено 488 строк, и финальный размер датафрейма составил 8296 записей.\n",
    "\n",
    "Это позволяет исключить искажение статистических показателей, вызванное многократным учетом активности одних и тех же пользователей."
   ]
  },
  {
   "cell_type": "markdown",
   "id": "956e82e2",
   "metadata": {
    "id": "956e82e2"
   },
   "source": [
    "## Проверка гипотезы в Python\n",
    "\n",
    "Гипотеза звучит так: пользователи из Санкт-Петербурга проводят в среднем больше времени за чтением и прослушиванием книг в приложении, чем пользователи из Москвы.\n",
    "\n",
    "- Нулевая гипотеза H₀: Средняя активность пользователей в часах в двух группах (Москва и Санкт-Петербург) не различается.\n",
    "\n",
    "- Альтернативная гипотеза H₁: Средняя активность пользователей в Санкт-Петербурге больше, и это различие статистически значимо."
   ]
  },
  {
   "cell_type": "markdown",
   "id": "0e9ee825",
   "metadata": {},
   "source": [
    "Выбор теста\n",
    "Для проверки гипотезы о разнице средних значений между двумя независимыми группами — пользователями из Москвы и Санкт-Петербурга — был выбран t-тест.\n",
    "\n",
    "Почему t-тест:\n",
    "\n",
    "- Цель — сравнение средних значений между двумя группами (а не медиан или рангов).\n",
    "- Пользователи из Москвы и Санкт-Петербурга не пересекаются. Это означает, что данные независимы — одно из условий применения t-теста.\n",
    "- Размер выборки достаточно большой (в обеих группах более 30 наблюдений), что делает t-тест устойчивым даже при умеренном нарушении нормальности.\n",
    "- t-тест чувствительнее, чем непараметрические альтернативы.\n",
    "- При этом данные количественные и непрерывные, что соответствует условиям t-теста."
   ]
  },
  {
   "cell_type": "code",
   "execution_count": 14,
   "id": "67956690",
   "metadata": {
    "id": "67956690"
   },
   "outputs": [],
   "source": [
    "# Выделим группы\n",
    "spb = df[df['city'] == 'Санкт-Петербург']['hours']\n",
    "msk = df[df['city'] == 'Москва']['hours']"
   ]
  },
  {
   "cell_type": "code",
   "execution_count": 15,
   "id": "b50f17aa",
   "metadata": {},
   "outputs": [
    {
     "name": "stdout",
     "output_type": "stream",
     "text": [
      "t-статистика: 0.4499\n",
      "p-value: 0.3264\n"
     ]
    }
   ],
   "source": [
    "# t-тест\n",
    "t_stat, p_value = stats.ttest_ind(spb, msk, alternative='greater')\n",
    "\n",
    "print(f\"t-статистика: {t_stat:.4f}\")\n",
    "print(f\"p-value: {p_value:.4f}\")"
   ]
  },
  {
   "cell_type": "markdown",
   "id": "04d537e5",
   "metadata": {},
   "source": [
    "Вывод\n",
    "Результаты t-теста для сравнения средней активности (в часах) между пользователями из Санкт-Петербурга и Москвы:\n",
    "\n",
    "t-статистика: 0.4499\n",
    "\n",
    "p-value: 0.3264\n",
    "\n",
    "При уровне значимости α = 0.05 мы не отвергаем нулевую гипотезу. Это означает, что статистически значимых различий в средней активности между пользователями из Санкт-Петербурга и Москвы не выявлено. Мы не можем утверждать, что пользователи из Санкт-Петербурга проводят в приложении больше времени, чем пользователи из Москвы."
   ]
  },
  {
   "cell_type": "markdown",
   "id": "6953e84c",
   "metadata": {
    "id": "6953e84c"
   },
   "source": [
    "## Аналитическая записка"
   ]
  },
  {
   "cell_type": "markdown",
   "id": "ea890a54",
   "metadata": {},
   "source": [
    "Метод:\n",
    "Применим t-тест Стьюдента для независимых выборок с односторонней альтернативной гипотезой.\n",
    "Уровень статистической значимости — 0.05."
   ]
  },
  {
   "cell_type": "markdown",
   "id": "a8760acf",
   "metadata": {},
   "source": [
    "Результаты теста:\n",
    "\n",
    "t-статистика: 0.4499\n",
    "\n",
    "p-value: 0.3264"
   ]
  },
  {
   "cell_type": "markdown",
   "id": "0e4138fb",
   "metadata": {},
   "source": [
    "Вывод:\n",
    "\n",
    "Так как p-value = 0.3264 > 0.05, мы не отвергаем нулевую гипотезу.\n",
    "\n",
    "Это означает, что нет статистически значимых доказательств того, что пользователи из Санкт-Петербурга проводят в среднем больше времени в приложении по сравнению с пользователями из Москвы.\n"
   ]
  },
  {
   "cell_type": "markdown",
   "id": "bfe2b2b5",
   "metadata": {},
   "source": [
    "Возможные объяснения:\n",
    "Поведение пользователей схоже в двух городах, несмотря на различия в LTV. Пользователи могут платить одинаково, но использовать сервис по-разному (например, подписка — ради нескольких любимых книг).\n",
    "\n",
    "Разница в LTV между городами может быть связана не со временем активности, а, например, с длительностью подписки."
   ]
  },
  {
   "cell_type": "markdown",
   "id": "hc1d6jVISegz",
   "metadata": {
    "id": "hc1d6jVISegz"
   },
   "source": [
    "----"
   ]
  },
  {
   "cell_type": "markdown",
   "id": "NqOUIYhbrIfC",
   "metadata": {
    "id": "NqOUIYhbrIfC"
   },
   "source": [
    "# Часть 2. Анализ результатов A/B-тестирования"
   ]
  },
  {
   "cell_type": "markdown",
   "id": "tDwMKFNGsClr",
   "metadata": {
    "id": "tDwMKFNGsClr"
   },
   "source": [
    "Контекст задачи: \n",
    "Интернет магазин BitMotion Kit, в котором продаются геймифицированные товары для тех, кто ведёт здоровый образ жизни. Есть своя целевая аудитория, даже появились хиты продаж: эспандер со счётчиком и напоминанием, так и подстольный велотренажёр с Bluetooth.\n",
    "\n",
    "В будущем компания хочет расширить ассортимент товаров. Но перед этим нужно решить одну проблему. Интерфейс онлайн-магазина слишком сложен для пользователей — об этом говорят отзывы.\n",
    "\n",
    "Чтобы привлечь новых клиентов и увеличить число продаж, владельцы магазина разработали новую версию сайта и протестировали его на части пользователей. По задумке, это решение доказуемо повысит количество пользователей, которые совершат покупку.\n",
    "\n",
    "Задача — провести оценку результатов A/B-теста."
   ]
  },
  {
   "cell_type": "markdown",
   "id": "UNXAAyF5r9Rk",
   "metadata": {
    "id": "UNXAAyF5r9Rk"
   },
   "source": [
    "## Цели исследования.\n",
    "\n"
   ]
  },
  {
   "cell_type": "markdown",
   "id": "kHx-51yES8bd",
   "metadata": {
    "id": "kHx-51yES8bd"
   },
   "source": [
    "**Цели исследования**\n",
    "\n",
    "Оценить влияние новой версии сайта интернет-магазина BitMotion Kit на поведение пользователей.\n",
    "\n",
    "Проверить, увеличивает ли новая версия сайта количество пользователей, совершивших покупку.\n",
    "\n",
    "Оценить корректность проведения A/B-теста (распределение пользователей, пересечения и прочее).\n"
   ]
  },
  {
   "cell_type": "markdown",
   "id": "_CZryx2OsH-s",
   "metadata": {
    "id": "_CZryx2OsH-s"
   },
   "source": [
    "## 2. Загрузка данных и оценка целостности.\n"
   ]
  },
  {
   "cell_type": "code",
   "execution_count": 16,
   "id": "DjFcJbeGsTIg",
   "metadata": {
    "id": "DjFcJbeGsTIg"
   },
   "outputs": [],
   "source": [
    "participants = pd.read_csv('https://code.s3.yandex.net/datasets/ab_test_participants.csv')\n",
    "events = pd.read_csv('https://code.s3.yandex.net/datasets/ab_test_events.zip',\n",
    "                     parse_dates=['event_dt'], low_memory=False)"
   ]
  },
  {
   "cell_type": "code",
   "execution_count": 17,
   "id": "3ec636d9",
   "metadata": {},
   "outputs": [
    {
     "name": "stdout",
     "output_type": "stream",
     "text": [
      "<class 'pandas.core.frame.DataFrame'>\n",
      "RangeIndex: 14525 entries, 0 to 14524\n",
      "Data columns (total 4 columns):\n",
      " #   Column   Non-Null Count  Dtype \n",
      "---  ------   --------------  ----- \n",
      " 0   user_id  14525 non-null  object\n",
      " 1   group    14525 non-null  object\n",
      " 2   ab_test  14525 non-null  object\n",
      " 3   device   14525 non-null  object\n",
      "dtypes: object(4)\n",
      "memory usage: 454.0+ KB\n"
     ]
    }
   ],
   "source": [
    "participants.info()"
   ]
  },
  {
   "cell_type": "code",
   "execution_count": 18,
   "id": "90e1ec26",
   "metadata": {},
   "outputs": [
    {
     "name": "stdout",
     "output_type": "stream",
     "text": [
      "<class 'pandas.core.frame.DataFrame'>\n",
      "RangeIndex: 787286 entries, 0 to 787285\n",
      "Data columns (total 4 columns):\n",
      " #   Column      Non-Null Count   Dtype         \n",
      "---  ------      --------------   -----         \n",
      " 0   user_id     787286 non-null  object        \n",
      " 1   event_dt    787286 non-null  datetime64[ns]\n",
      " 2   event_name  787286 non-null  object        \n",
      " 3   details     249022 non-null  object        \n",
      "dtypes: datetime64[ns](1), object(3)\n",
      "memory usage: 24.0+ MB\n"
     ]
    }
   ],
   "source": [
    "events.info()"
   ]
  },
  {
   "cell_type": "code",
   "execution_count": 19,
   "id": "6f42913b",
   "metadata": {},
   "outputs": [
    {
     "data": {
      "text/plain": [
       "array(['interface_eu_test', 'recommender_system_test'], dtype=object)"
      ]
     },
     "execution_count": 19,
     "metadata": {},
     "output_type": "execute_result"
    }
   ],
   "source": [
    "participants['ab_test'].unique()"
   ]
  },
  {
   "cell_type": "code",
   "execution_count": 20,
   "id": "137ad1e1",
   "metadata": {},
   "outputs": [
    {
     "data": {
      "text/plain": [
       "887"
      ]
     },
     "execution_count": 20,
     "metadata": {},
     "output_type": "execute_result"
    }
   ],
   "source": [
    "participants['user_id'].duplicated().sum()"
   ]
  },
  {
   "cell_type": "markdown",
   "id": "CnzA-efasUrk",
   "metadata": {
    "id": "CnzA-efasUrk"
   },
   "source": [
    "## 3. По таблице `ab_test_participants` оцениваем корректность проведения теста:\n",
    "\n",
    "   3\\.1 Выделить пользователей, участвующих в тесте, и проверить:\n",
    "\n",
    "   - соответствие требованиям технического задания,\n",
    "\n",
    "   - равномерность распределения пользователей по группам теста,\n",
    "\n",
    "   - отсутствие пересечений с конкурирующим тестом (нет пользователей, участвующих одновременно в двух тестовых группах)."
   ]
  },
  {
   "cell_type": "code",
   "execution_count": 21,
   "id": "faaf81e3",
   "metadata": {},
   "outputs": [
    {
     "data": {
      "text/plain": [
       "array(['B', 'A'], dtype=object)"
      ]
     },
     "execution_count": 21,
     "metadata": {},
     "output_type": "execute_result"
    }
   ],
   "source": [
    "participants['group'].unique()"
   ]
  },
  {
   "cell_type": "code",
   "execution_count": 22,
   "id": "aNa3zHrKslEN",
   "metadata": {
    "id": "aNa3zHrKslEN",
    "scrolled": true
   },
   "outputs": [
    {
     "data": {
      "text/plain": [
       "B    5467\n",
       "A    5383\n",
       "Name: group, dtype: int64"
      ]
     },
     "execution_count": 22,
     "metadata": {},
     "output_type": "execute_result"
    }
   ],
   "source": [
    "# Количество пользователей\n",
    "interface_test = participants[participants['ab_test'] == 'interface_eu_test']\n",
    "interface_test['group'].value_counts()"
   ]
  },
  {
   "cell_type": "code",
   "execution_count": 23,
   "id": "286bef45",
   "metadata": {},
   "outputs": [
    {
     "data": {
      "text/plain": [
       "B    0.503871\n",
       "A    0.496129\n",
       "Name: group, dtype: float64"
      ]
     },
     "execution_count": 23,
     "metadata": {},
     "output_type": "execute_result"
    }
   ],
   "source": [
    "# Равномерность распределения пользователей по группам\n",
    "interface_test['group'].value_counts(normalize=True)"
   ]
  },
  {
   "cell_type": "code",
   "execution_count": 24,
   "id": "26a239e3",
   "metadata": {},
   "outputs": [
    {
     "name": "stdout",
     "output_type": "stream",
     "text": [
      "Число пользователей, участвующих одновременно в нескольких тестах: 887\n"
     ]
    }
   ],
   "source": [
    "# Есть ли пересечения с другими тестами\n",
    "# Все пользователи из interface_eu_test\n",
    "interface_test_users = set(interface_test['user_id'])\n",
    "\n",
    "# Пользователи из других тестов\n",
    "other_tests = participants[participants['ab_test'] != 'interface_eu_test']\n",
    "other_test_users = set(other_tests['user_id'])\n",
    "\n",
    "# Пересечения\n",
    "intersecting_users = interface_test_users.intersection(other_test_users)\n",
    "print(f\"Число пользователей, участвующих одновременно в нескольких тестах: {len(intersecting_users)}\")"
   ]
  },
  {
   "cell_type": "markdown",
   "id": "dce0233f",
   "metadata": {},
   "source": [
    "Этих пользователей мы оставляем, потому что \n",
    "- нет информации, что другие тесты затрагивали пользовательский интерфейс, и что этот может искажать результаты.\n",
    "- Удаляя пользователей, мы сокращаем размер выборки — в нашем случае, на 887 пользователей.Это может снизить чувствительность теста и привести к ситуации, когда реальный эффект не будет замечен.\n",
    "- Учитывая их в тесте, мы приближаем эксперимент к реальным условиям, что делает выводы более прикладными и устойчивыми к \"шуму\"."
   ]
  },
  {
   "cell_type": "markdown",
   "id": "GjulgSrlsqUU",
   "metadata": {
    "id": "GjulgSrlsqUU"
   },
   "source": [
    "3\\.2 Проанализируем данные о пользовательской активности по таблице `ab_test_events`:\n",
    "\n",
    "- оставляем только события, связанные с участвующими в изучаемом тесте пользователями;"
   ]
  },
  {
   "cell_type": "code",
   "execution_count": 25,
   "id": "QMt0Ybo_swDK",
   "metadata": {
    "id": "QMt0Ybo_swDK"
   },
   "outputs": [],
   "source": [
    "interface_test_events = events[events['user_id'].isin(interface_test_users)]"
   ]
  },
  {
   "cell_type": "code",
   "execution_count": 26,
   "id": "a7d211f6",
   "metadata": {},
   "outputs": [
    {
     "name": "stdout",
     "output_type": "stream",
     "text": [
      "<class 'pandas.core.frame.DataFrame'>\n",
      "Int64Index: 79715 entries, 64672 to 780371\n",
      "Data columns (total 4 columns):\n",
      " #   Column      Non-Null Count  Dtype         \n",
      "---  ------      --------------  -----         \n",
      " 0   user_id     79715 non-null  object        \n",
      " 1   event_dt    79715 non-null  datetime64[ns]\n",
      " 2   event_name  79715 non-null  object        \n",
      " 3   details     21075 non-null  object        \n",
      "dtypes: datetime64[ns](1), object(3)\n",
      "memory usage: 3.0+ MB\n"
     ]
    }
   ],
   "source": [
    "interface_test_events.info()"
   ]
  },
  {
   "cell_type": "markdown",
   "id": "fBZ4DC2xswZJ",
   "metadata": {
    "id": "fBZ4DC2xswZJ"
   },
   "source": [
    "- определяем горизонт анализа: рассчитываем время (лайфтайм) совершения события пользователем после регистрации и оставьте только те события, которые были выполнены в течение первых семи дней с момента регистрации;"
   ]
  },
  {
   "cell_type": "code",
   "execution_count": 27,
   "id": "sES4-dKts0Yb",
   "metadata": {
    "id": "sES4-dKts0Yb"
   },
   "outputs": [],
   "source": [
    "# Получаем даты регистрации пользователей\n",
    "registrations = interface_test_events[interface_test_events['event_name'] == 'registration']\n",
    "registrations = registrations[['user_id', 'event_dt']].rename(columns={'event_dt': 'registration_dt'})"
   ]
  },
  {
   "cell_type": "code",
   "execution_count": 28,
   "id": "045d5a1e",
   "metadata": {},
   "outputs": [],
   "source": [
    "# Объединим события с датой регистрации\n",
    "interface_test_events = interface_test_events.merge(registrations, on='user_id', how='left')\n",
    "\n",
    "# Добавим колонку с лайфтаймом — разницей между событием и регистрацией в днях\n",
    "interface_test_events['lifetime_days'] = (interface_test_events['event_dt'] - interface_test_events['registration_dt']).dt.days"
   ]
  },
  {
   "cell_type": "code",
   "execution_count": 29,
   "id": "076cda58",
   "metadata": {},
   "outputs": [],
   "source": [
    "# Сохраняем только события с лайфтаймом до 7 дней (включительно)\n",
    "interface_test_events_7d = interface_test_events[interface_test_events['lifetime_days'] <= 7]"
   ]
  },
  {
   "cell_type": "markdown",
   "id": "7cf1df48",
   "metadata": {},
   "source": [
    "Оцениваем достаточность выборки для получения статистически значимых результатов A/B-теста. Заданные параметры:\n",
    "\n",
    "- базовый показатель конверсии — 30%,\n",
    "\n",
    "- мощность теста — 80%,\n",
    "\n",
    "- достоверность теста — 95%."
   ]
  },
  {
   "cell_type": "code",
   "execution_count": 30,
   "id": "7d97b466",
   "metadata": {},
   "outputs": [
    {
     "name": "stdout",
     "output_type": "stream",
     "text": [
      "Необходимое количество пользователей в каждой группе: 1376\n"
     ]
    }
   ],
   "source": [
    "from statsmodels.stats.power import NormalIndPower\n",
    "from statsmodels.stats.proportion import proportion_effectsize\n",
    "\n",
    "# параметры\n",
    "baseline = 0.3          # базовая конверсия\n",
    "target = 0.35           # ожидаемая конверсия после изменений\n",
    "alpha = 0.05            # уровень значимости\n",
    "power = 0.8             # мощность теста\n",
    "\n",
    "# размер эффекта\n",
    "effect_size = proportion_effectsize(baseline, target)\n",
    "\n",
    "# расчет объема выборки\n",
    "analysis = NormalIndPower()\n",
    "sample_size = analysis.solve_power(effect_size=effect_size, power=power, alpha=alpha, ratio=1, alternative='two-sided')\n",
    "\n",
    "print(f\"Необходимое количество пользователей в каждой группе: {round(float(sample_size))}\")\n"
   ]
  },
  {
   "cell_type": "markdown",
   "id": "SadyUDgZs0t3",
   "metadata": {
    "id": "SadyUDgZs0t3"
   },
   "source": [
    "- рассчитываем для каждой группы количество посетителей, сделавших покупку, и общее количество посетителей."
   ]
  },
  {
   "cell_type": "code",
   "execution_count": 31,
   "id": "7ph853Xks4sy",
   "metadata": {
    "id": "7ph853Xks4sy",
    "scrolled": true
   },
   "outputs": [
    {
     "data": {
      "text/plain": [
       "group\n",
       "A    5383\n",
       "B    5467\n",
       "Name: user_id, dtype: int64"
      ]
     },
     "execution_count": 31,
     "metadata": {},
     "output_type": "execute_result"
    }
   ],
   "source": [
    "# Общее количество пользователей в каждой группе\n",
    "total_users_by_group = interface_test[['user_id', 'group']].drop_duplicates().groupby('group')['user_id'].count()\n",
    "total_users_by_group"
   ]
  },
  {
   "cell_type": "code",
   "execution_count": 32,
   "id": "7f373489",
   "metadata": {},
   "outputs": [],
   "source": [
    "interface_test_events = interface_test_events.merge(interface_test, on='user_id', how='left')"
   ]
  },
  {
   "cell_type": "code",
   "execution_count": 33,
   "id": "ce310080",
   "metadata": {},
   "outputs": [
    {
     "data": {
      "text/plain": [
       "group\n",
       "A    1766\n",
       "B    1931\n",
       "Name: user_id, dtype: int64"
      ]
     },
     "execution_count": 33,
     "metadata": {},
     "output_type": "execute_result"
    }
   ],
   "source": [
    "# Количество пользователей, совершивших покупку в каждой группе\n",
    "purchases_by_group = (\n",
    "    interface_test_events[interface_test_events['event_name'] == 'purchase']\n",
    "    .groupby('group')['user_id']\n",
    "    .nunique()\n",
    ")\n",
    "purchases_by_group"
   ]
  },
  {
   "cell_type": "markdown",
   "id": "sh1JpGvAs5E3",
   "metadata": {
    "id": "sh1JpGvAs5E3"
   },
   "source": [
    "- Делаем предварительный общий вывод об изменении пользовательской активности в тестовой группе по сравнению с контрольной."
   ]
  },
  {
   "cell_type": "code",
   "execution_count": 34,
   "id": "hHTHPkJYs8mE",
   "metadata": {
    "id": "hHTHPkJYs8mE"
   },
   "outputs": [
    {
     "data": {
      "text/plain": [
       "group\n",
       "A    32.81\n",
       "B    35.32\n",
       "Name: user_id, dtype: float64"
      ]
     },
     "execution_count": 34,
     "metadata": {},
     "output_type": "execute_result"
    }
   ],
   "source": [
    "# Расчёт конверсии для каждой группы\n",
    "conversion_by_group = (purchases_by_group / total_users_by_group * 100).round(2)\n",
    "conversion_by_group"
   ]
  },
  {
   "cell_type": "code",
   "execution_count": 35,
   "id": "1d6df64a",
   "metadata": {},
   "outputs": [
    {
     "data": {
      "text/plain": [
       "2.51"
      ]
     },
     "execution_count": 35,
     "metadata": {},
     "output_type": "execute_result"
    }
   ],
   "source": [
    "uplift_pp = (conversion_by_group['B'] - conversion_by_group['A']).round(2)\n",
    "uplift_pp"
   ]
  },
  {
   "cell_type": "markdown",
   "id": "IKZ1Oo3Ws919",
   "metadata": {
    "id": "IKZ1Oo3Ws919"
   },
   "source": [
    "## 4. Оценка результатов A/B-тестирования:"
   ]
  },
  {
   "cell_type": "markdown",
   "id": "dcUdBSmvtC-E",
   "metadata": {
    "id": "dcUdBSmvtC-E"
   },
   "source": [
    "- Проверяем изменение конверсии подходящим статистическим тестом, учитывая все этапы проверки гипотез."
   ]
  },
  {
   "cell_type": "markdown",
   "id": "66c83dfa",
   "metadata": {},
   "source": [
    "H₀ (нулевая гипотеза): Конверсии в группах A и B равны. То есть, разница в конверсии между группами отсутствует.\n",
    "\n",
    "H₁ (альтернативная гипотеза): Конверсии в группах A и B различаются. То есть, разница в конверсии между группами существует."
   ]
  },
  {
   "cell_type": "code",
   "execution_count": 36,
   "id": "l_KOziBQtL3t",
   "metadata": {
    "id": "l_KOziBQtL3t"
   },
   "outputs": [
    {
     "name": "stdout",
     "output_type": "stream",
     "text": [
      "z-статистика: -2.7625\n",
      "p-value: 0.0057\n"
     ]
    }
   ],
   "source": [
    "from statsmodels.stats.proportion import proportions_ztest\n",
    "\n",
    "# Количество успехов (покупок)\n",
    "successes = [purchases_by_group['A'], purchases_by_group['B']]\n",
    "\n",
    "# Общее количество пользователей в каждой группе\n",
    "totals = [total_users_by_group['A'], total_users_by_group['B']]\n",
    "\n",
    "# Проведение z-теста\n",
    "z_stat, p_value = proportions_ztest(count=successes, nobs=totals, alternative='two-sided')\n",
    "\n",
    "print(f'z-статистика: {z_stat:.4f}')\n",
    "print(f'p-value: {p_value:.4f}')\n"
   ]
  },
  {
   "cell_type": "markdown",
   "id": "npoPPSKytKvR",
   "metadata": {
    "id": "npoPPSKytKvR"
   },
   "source": [
    "## Выводы по результатам A/B-тестирования\n",
    "\n",
    "Результаты статистического теста:\n",
    "- z-статистика: -2.7625\n",
    "- p-value: 0.0057\n",
    "\n",
    "\n",
    "Так как p-value < 0.05, мы отвергаем нулевую гипотезу.\n",
    "Это означает, что разница в конверсии между группами A и B статистически значима.\n",
    "Конверсия в группе B (тестовая) выше, чем в группе A (контрольной):\n",
    "- Группа A: 32.81%\n",
    "- Группа B: 35.32%\n",
    "\n",
    "Аплифт: +2.51 п.п. (процентных пункта)\n",
    "\n",
    "### Ожидаемый эффект по ТЗ:\n",
    "- В техническом задании указано, что ожидаемый прирост должен составлять не менее 3 п.п.\n",
    "- Фактический прирост составил только 2.51 п.п.\n",
    "\n",
    "**Интерпретация:**\n",
    "\n",
    "- Несмотря на статистически значимый рост, фактический прирост не достиг порогового значения, указанного в гипотезе (3 п.п.). То есть бизнес-гипотеза не подтвердилась полностью: тест показал положительный эффект, но не в ожидаемом объёме.\n",
    "\n",
    "### Вывод:\n",
    "- Новый интерфейс действительно улучшает конверсию, но не настолько, как было запланировано.\n",
    "- Необходимо оценить, оправдан ли такой прирост с точки зрения экономики, затрат на внедрение и влияния на LTV.\n",
    "\n",
    "Решение о внедрении следует принимать, учитывая не только статистику, но и бизнес-приоритеты.\n",
    "Если даже +2.51 п.п. даёт ощутимую прибыль — можно рекомендовать к запуску. Если критично именно достижение 3 п.п. — стоит доработать интерфейс и повторить тест."
   ]
  }
 ],
 "metadata": {
  "ExecuteTimeLog": [
   {
    "duration": 1363,
    "start_time": "2025-04-19T17:12:39.745Z"
   },
   {
    "duration": 38,
    "start_time": "2025-04-19T17:12:58.435Z"
   },
   {
    "duration": 26,
    "start_time": "2025-04-19T17:13:38.989Z"
   },
   {
    "duration": 13,
    "start_time": "2025-04-19T17:13:54.566Z"
   },
   {
    "duration": 7,
    "start_time": "2025-04-19T17:15:02.996Z"
   },
   {
    "duration": 6,
    "start_time": "2025-04-19T17:15:29.345Z"
   },
   {
    "duration": 82,
    "start_time": "2025-04-19T17:19:20.633Z"
   },
   {
    "duration": 1533,
    "start_time": "2025-04-19T17:20:24.322Z"
   },
   {
    "duration": 14,
    "start_time": "2025-04-19T17:25:29.488Z"
   },
   {
    "duration": 144,
    "start_time": "2025-04-19T17:25:48.947Z"
   },
   {
    "duration": 9,
    "start_time": "2025-04-19T18:05:08.488Z"
   },
   {
    "duration": 116,
    "start_time": "2025-04-19T18:05:37.488Z"
   },
   {
    "duration": 5,
    "start_time": "2025-04-19T18:06:01.793Z"
   },
   {
    "duration": 64,
    "start_time": "2025-04-19T18:06:13.072Z"
   },
   {
    "duration": 1191,
    "start_time": "2025-04-19T18:06:17.513Z"
   },
   {
    "duration": 966,
    "start_time": "2025-04-19T18:06:37.856Z"
   },
   {
    "duration": 119,
    "start_time": "2025-04-19T18:07:04.831Z"
   },
   {
    "duration": 5,
    "start_time": "2025-04-19T18:07:05.353Z"
   },
   {
    "duration": 1146,
    "start_time": "2025-04-19T18:07:05.984Z"
   },
   {
    "duration": 54,
    "start_time": "2025-04-19T18:07:21.146Z"
   },
   {
    "duration": 8,
    "start_time": "2025-04-19T18:08:45.231Z"
   },
   {
    "duration": 108,
    "start_time": "2025-04-19T18:09:20.478Z"
   },
   {
    "duration": 115,
    "start_time": "2025-04-19T18:09:29.782Z"
   },
   {
    "duration": 125,
    "start_time": "2025-04-19T18:09:35.073Z"
   },
   {
    "duration": 7,
    "start_time": "2025-04-19T18:13:02.793Z"
   },
   {
    "duration": 5,
    "start_time": "2025-04-19T18:13:36.028Z"
   },
   {
    "duration": 9,
    "start_time": "2025-04-19T18:13:56.302Z"
   },
   {
    "duration": 12,
    "start_time": "2025-04-19T18:14:33.438Z"
   },
   {
    "duration": 8,
    "start_time": "2025-04-19T18:15:01.380Z"
   },
   {
    "duration": 3,
    "start_time": "2025-04-19T18:17:53.566Z"
   },
   {
    "duration": 11,
    "start_time": "2025-04-19T18:18:33.050Z"
   },
   {
    "duration": 79,
    "start_time": "2025-04-19T18:22:59.109Z"
   },
   {
    "duration": 13,
    "start_time": "2025-04-19T18:23:11.174Z"
   },
   {
    "duration": 12,
    "start_time": "2025-04-19T18:23:31.655Z"
   },
   {
    "duration": 23,
    "start_time": "2025-04-19T18:23:35.850Z"
   },
   {
    "duration": 14,
    "start_time": "2025-04-19T18:25:47.093Z"
   },
   {
    "duration": 33,
    "start_time": "2025-04-19T18:26:18.441Z"
   },
   {
    "duration": 23,
    "start_time": "2025-04-19T18:26:34.884Z"
   },
   {
    "duration": 14,
    "start_time": "2025-04-19T18:27:14.584Z"
   },
   {
    "duration": 39,
    "start_time": "2025-04-19T18:31:58.098Z"
   },
   {
    "duration": 9,
    "start_time": "2025-04-19T18:32:24.109Z"
   },
   {
    "duration": 17,
    "start_time": "2025-04-19T18:33:09.765Z"
   },
   {
    "duration": 1338,
    "start_time": "2025-04-20T04:06:08.065Z"
   },
   {
    "duration": 36,
    "start_time": "2025-04-20T04:06:09.405Z"
   },
   {
    "duration": 38,
    "start_time": "2025-04-20T04:06:09.442Z"
   },
   {
    "duration": 6,
    "start_time": "2025-04-20T04:06:09.482Z"
   },
   {
    "duration": 5,
    "start_time": "2025-04-20T04:06:09.490Z"
   },
   {
    "duration": 1959,
    "start_time": "2025-04-20T04:06:09.497Z"
   },
   {
    "duration": 12,
    "start_time": "2025-04-20T04:06:11.458Z"
   },
   {
    "duration": 127,
    "start_time": "2025-04-20T04:06:11.472Z"
   },
   {
    "duration": 5,
    "start_time": "2025-04-20T04:06:11.600Z"
   },
   {
    "duration": 74,
    "start_time": "2025-04-20T04:06:11.607Z"
   },
   {
    "duration": 5,
    "start_time": "2025-04-20T04:06:11.683Z"
   },
   {
    "duration": 11,
    "start_time": "2025-04-20T04:06:11.690Z"
   },
   {
    "duration": 20,
    "start_time": "2025-04-20T04:06:11.702Z"
   },
   {
    "duration": 12,
    "start_time": "2025-04-20T04:06:11.724Z"
   },
   {
    "duration": 81,
    "start_time": "2025-04-20T04:06:11.738Z"
   },
   {
    "duration": 26,
    "start_time": "2025-04-20T04:06:11.820Z"
   },
   {
    "duration": 12,
    "start_time": "2025-04-20T04:06:11.848Z"
   },
   {
    "duration": 33,
    "start_time": "2025-04-20T04:06:11.861Z"
   },
   {
    "duration": 12,
    "start_time": "2025-04-20T04:06:11.895Z"
   },
   {
    "duration": 24,
    "start_time": "2025-04-20T04:06:11.936Z"
   },
   {
    "duration": 108,
    "start_time": "2025-04-20T04:07:01.505Z"
   },
   {
    "duration": 16,
    "start_time": "2025-04-20T04:07:32.221Z"
   },
   {
    "duration": 8,
    "start_time": "2025-04-20T04:09:48.215Z"
   },
   {
    "duration": 10,
    "start_time": "2025-04-20T04:10:35.633Z"
   },
   {
    "duration": 12,
    "start_time": "2025-04-20T04:12:34.617Z"
   },
   {
    "duration": 33,
    "start_time": "2025-04-20T04:13:23.956Z"
   },
   {
    "duration": 8,
    "start_time": "2025-04-20T04:13:26.117Z"
   },
   {
    "duration": 30,
    "start_time": "2025-04-20T04:13:37.176Z"
   },
   {
    "duration": 16,
    "start_time": "2025-04-20T04:13:48.625Z"
   },
   {
    "duration": 5,
    "start_time": "2025-04-20T04:18:11.720Z"
   },
   {
    "duration": 6,
    "start_time": "2025-04-20T04:20:19.099Z"
   },
   {
    "duration": 1165,
    "start_time": "2025-04-20T04:37:08.645Z"
   },
   {
    "duration": 24,
    "start_time": "2025-04-20T04:37:09.812Z"
   },
   {
    "duration": 12,
    "start_time": "2025-04-20T04:37:09.838Z"
   },
   {
    "duration": 7,
    "start_time": "2025-04-20T04:37:09.852Z"
   },
   {
    "duration": 5,
    "start_time": "2025-04-20T04:37:09.860Z"
   },
   {
    "duration": 1453,
    "start_time": "2025-04-20T04:37:09.867Z"
   },
   {
    "duration": 20,
    "start_time": "2025-04-20T04:37:11.322Z"
   },
   {
    "duration": 125,
    "start_time": "2025-04-20T04:37:11.344Z"
   },
   {
    "duration": 5,
    "start_time": "2025-04-20T04:37:11.470Z"
   },
   {
    "duration": 11,
    "start_time": "2025-04-20T04:37:11.478Z"
   },
   {
    "duration": 14,
    "start_time": "2025-04-20T04:37:11.490Z"
   },
   {
    "duration": 11,
    "start_time": "2025-04-20T04:37:11.505Z"
   },
   {
    "duration": 25,
    "start_time": "2025-04-20T04:37:11.517Z"
   },
   {
    "duration": 9,
    "start_time": "2025-04-20T04:37:11.543Z"
   },
   {
    "duration": 140,
    "start_time": "2025-04-20T04:37:11.553Z"
   },
   {
    "duration": 23,
    "start_time": "2025-04-20T04:37:11.695Z"
   },
   {
    "duration": 72,
    "start_time": "2025-04-20T04:37:11.720Z"
   },
   {
    "duration": 32,
    "start_time": "2025-04-20T04:37:11.794Z"
   },
   {
    "duration": 8,
    "start_time": "2025-04-20T04:37:11.827Z"
   },
   {
    "duration": 28,
    "start_time": "2025-04-20T04:37:11.837Z"
   },
   {
    "duration": 12,
    "start_time": "2025-04-20T04:37:11.867Z"
   },
   {
    "duration": 33,
    "start_time": "2025-04-20T04:37:11.880Z"
   },
   {
    "duration": 46,
    "start_time": "2025-04-20T04:37:11.914Z"
   },
   {
    "duration": 6,
    "start_time": "2025-04-20T04:37:11.961Z"
   },
   {
    "duration": 12,
    "start_time": "2025-04-20T04:37:11.968Z"
   },
   {
    "duration": 1179,
    "start_time": "2025-04-20T10:30:39.829Z"
   },
   {
    "duration": 24,
    "start_time": "2025-04-20T10:30:41.010Z"
   },
   {
    "duration": 11,
    "start_time": "2025-04-20T10:30:41.036Z"
   },
   {
    "duration": 7,
    "start_time": "2025-04-20T10:30:41.049Z"
   },
   {
    "duration": 5,
    "start_time": "2025-04-20T10:30:41.058Z"
   },
   {
    "duration": 1476,
    "start_time": "2025-04-20T10:30:41.064Z"
   },
   {
    "duration": 12,
    "start_time": "2025-04-20T10:30:42.542Z"
   },
   {
    "duration": 158,
    "start_time": "2025-04-20T10:30:42.557Z"
   },
   {
    "duration": 4,
    "start_time": "2025-04-20T10:30:42.717Z"
   },
   {
    "duration": 47,
    "start_time": "2025-04-20T10:30:42.723Z"
   },
   {
    "duration": 128,
    "start_time": "2025-04-20T10:30:42.771Z"
   },
   {
    "duration": 123,
    "start_time": "2025-04-20T10:30:42.901Z"
   },
   {
    "duration": 36,
    "start_time": "2025-04-20T10:30:43.026Z"
   },
   {
    "duration": 45,
    "start_time": "2025-04-20T10:30:43.065Z"
   },
   {
    "duration": 100,
    "start_time": "2025-04-20T10:30:43.112Z"
   },
   {
    "duration": 40,
    "start_time": "2025-04-20T10:30:43.214Z"
   },
   {
    "duration": 57,
    "start_time": "2025-04-20T10:30:43.256Z"
   },
   {
    "duration": 57,
    "start_time": "2025-04-20T10:30:43.315Z"
   },
   {
    "duration": 11,
    "start_time": "2025-04-20T10:30:43.374Z"
   },
   {
    "duration": 44,
    "start_time": "2025-04-20T10:30:43.386Z"
   },
   {
    "duration": 30,
    "start_time": "2025-04-20T10:30:43.432Z"
   },
   {
    "duration": 85,
    "start_time": "2025-04-20T10:30:43.464Z"
   },
   {
    "duration": 86,
    "start_time": "2025-04-20T10:30:43.551Z"
   },
   {
    "duration": 38,
    "start_time": "2025-04-20T10:30:43.639Z"
   },
   {
    "duration": 42,
    "start_time": "2025-04-20T10:30:43.679Z"
   },
   {
    "duration": 51,
    "start_time": "2025-04-20T13:00:57.563Z"
   },
   {
    "duration": 1409,
    "start_time": "2025-04-20T13:01:00.938Z"
   },
   {
    "duration": 26,
    "start_time": "2025-04-20T13:01:02.349Z"
   },
   {
    "duration": 13,
    "start_time": "2025-04-20T13:01:04.833Z"
   },
   {
    "duration": 13,
    "start_time": "2025-04-20T13:01:06.410Z"
   },
   {
    "duration": 9,
    "start_time": "2025-04-20T13:02:23.104Z"
   },
   {
    "duration": 7,
    "start_time": "2025-04-20T13:02:36.533Z"
   },
   {
    "duration": 10,
    "start_time": "2025-04-20T13:02:45.214Z"
   },
   {
    "duration": 5,
    "start_time": "2025-04-20T13:03:51.762Z"
   },
   {
    "duration": 13,
    "start_time": "2025-04-20T13:04:49.993Z"
   },
   {
    "duration": 69,
    "start_time": "2025-04-20T13:06:49.879Z"
   },
   {
    "duration": 3,
    "start_time": "2025-04-20T13:07:13.636Z"
   },
   {
    "duration": 28,
    "start_time": "2025-04-20T13:07:13.681Z"
   },
   {
    "duration": 8,
    "start_time": "2025-04-20T13:07:18.761Z"
   },
   {
    "duration": 7,
    "start_time": "2025-04-20T13:09:12.177Z"
   },
   {
    "duration": 5,
    "start_time": "2025-04-20T13:09:33.454Z"
   },
   {
    "duration": 14,
    "start_time": "2025-04-20T13:13:29.254Z"
   },
   {
    "duration": 9,
    "start_time": "2025-04-20T13:13:40.518Z"
   },
   {
    "duration": 5,
    "start_time": "2025-04-20T13:14:31.373Z"
   },
   {
    "duration": 5,
    "start_time": "2025-04-20T13:14:39.534Z"
   },
   {
    "duration": 4,
    "start_time": "2025-04-20T13:18:17.672Z"
   },
   {
    "duration": 5,
    "start_time": "2025-04-20T13:18:32.120Z"
   },
   {
    "duration": 4,
    "start_time": "2025-04-20T13:18:36.027Z"
   },
   {
    "duration": 7,
    "start_time": "2025-04-20T13:18:51.388Z"
   },
   {
    "duration": 10,
    "start_time": "2025-04-20T13:19:06.081Z"
   },
   {
    "duration": 4,
    "start_time": "2025-04-20T13:19:23.245Z"
   },
   {
    "duration": 4,
    "start_time": "2025-04-20T13:19:43.909Z"
   },
   {
    "duration": 5,
    "start_time": "2025-04-20T13:19:59.131Z"
   },
   {
    "duration": 5,
    "start_time": "2025-04-20T13:25:05.829Z"
   },
   {
    "duration": 3,
    "start_time": "2025-04-20T13:25:06.303Z"
   },
   {
    "duration": 6,
    "start_time": "2025-04-20T13:25:07.747Z"
   },
   {
    "duration": 5,
    "start_time": "2025-04-20T13:25:08.368Z"
   },
   {
    "duration": 3,
    "start_time": "2025-04-20T13:26:35.829Z"
   },
   {
    "duration": 9,
    "start_time": "2025-04-20T13:29:11.315Z"
   },
   {
    "duration": 5,
    "start_time": "2025-04-20T13:29:22.605Z"
   },
   {
    "duration": 5,
    "start_time": "2025-04-20T13:29:35.668Z"
   },
   {
    "duration": 7,
    "start_time": "2025-04-20T13:40:56.831Z"
   },
   {
    "duration": 4,
    "start_time": "2025-04-20T13:40:58.634Z"
   },
   {
    "duration": 7,
    "start_time": "2025-04-20T13:41:04.890Z"
   },
   {
    "duration": 5,
    "start_time": "2025-04-20T13:44:02.452Z"
   },
   {
    "duration": 1571,
    "start_time": "2025-04-20T13:44:13.192Z"
   },
   {
    "duration": 13,
    "start_time": "2025-04-20T13:44:15.112Z"
   },
   {
    "duration": 118,
    "start_time": "2025-04-20T13:44:15.637Z"
   },
   {
    "duration": 5,
    "start_time": "2025-04-20T13:44:16.149Z"
   },
   {
    "duration": 7,
    "start_time": "2025-04-20T13:44:17.578Z"
   },
   {
    "duration": 6,
    "start_time": "2025-04-20T13:44:21.943Z"
   },
   {
    "duration": 11,
    "start_time": "2025-04-20T13:44:22.503Z"
   },
   {
    "duration": 29,
    "start_time": "2025-04-20T13:44:25.358Z"
   },
   {
    "duration": 9,
    "start_time": "2025-04-20T13:44:26.144Z"
   },
   {
    "duration": 83,
    "start_time": "2025-04-20T13:52:45.817Z"
   },
   {
    "duration": 23,
    "start_time": "2025-04-20T13:52:46.091Z"
   },
   {
    "duration": 12,
    "start_time": "2025-04-20T13:52:47.013Z"
   },
   {
    "duration": 37,
    "start_time": "2025-04-20T13:52:49.960Z"
   },
   {
    "duration": 10,
    "start_time": "2025-04-20T13:52:50.037Z"
   },
   {
    "duration": 23,
    "start_time": "2025-04-20T13:52:52.959Z"
   },
   {
    "duration": 13,
    "start_time": "2025-04-20T13:53:01.943Z"
   },
   {
    "duration": 36,
    "start_time": "2025-04-20T13:53:02.490Z"
   },
   {
    "duration": 35,
    "start_time": "2025-04-20T13:53:02.923Z"
   },
   {
    "duration": 6,
    "start_time": "2025-04-20T13:53:03.993Z"
   },
   {
    "duration": 5,
    "start_time": "2025-04-20T13:54:06.923Z"
   },
   {
    "duration": 3,
    "start_time": "2025-04-20T13:55:01.241Z"
   },
   {
    "duration": 4,
    "start_time": "2025-04-20T13:55:07.417Z"
   },
   {
    "duration": 5,
    "start_time": "2025-04-20T13:55:31.001Z"
   },
   {
    "duration": 5,
    "start_time": "2025-04-20T13:57:28.248Z"
   },
   {
    "duration": 5,
    "start_time": "2025-04-20T13:57:31.021Z"
   },
   {
    "duration": 5,
    "start_time": "2025-04-20T13:59:05.457Z"
   },
   {
    "duration": 1184,
    "start_time": "2025-04-20T14:09:12.721Z"
   },
   {
    "duration": 37,
    "start_time": "2025-04-20T14:09:13.907Z"
   },
   {
    "duration": 13,
    "start_time": "2025-04-20T14:09:13.946Z"
   },
   {
    "duration": 12,
    "start_time": "2025-04-20T14:09:13.961Z"
   },
   {
    "duration": 14,
    "start_time": "2025-04-20T14:09:13.975Z"
   },
   {
    "duration": 62,
    "start_time": "2025-04-20T14:09:13.991Z"
   },
   {
    "duration": 17,
    "start_time": "2025-04-20T14:09:14.054Z"
   },
   {
    "duration": 16,
    "start_time": "2025-04-20T14:09:14.073Z"
   },
   {
    "duration": 10,
    "start_time": "2025-04-20T14:09:14.091Z"
   },
   {
    "duration": 33,
    "start_time": "2025-04-20T14:09:14.102Z"
   },
   {
    "duration": 15,
    "start_time": "2025-04-20T14:09:14.137Z"
   },
   {
    "duration": 35,
    "start_time": "2025-04-20T14:09:14.153Z"
   },
   {
    "duration": 24,
    "start_time": "2025-04-20T14:09:14.190Z"
   },
   {
    "duration": 44,
    "start_time": "2025-04-20T14:09:14.219Z"
   },
   {
    "duration": 51,
    "start_time": "2025-04-20T14:09:14.265Z"
   },
   {
    "duration": 1619,
    "start_time": "2025-04-20T14:09:14.318Z"
   },
   {
    "duration": 12,
    "start_time": "2025-04-20T14:09:15.939Z"
   },
   {
    "duration": 156,
    "start_time": "2025-04-20T14:09:15.953Z"
   },
   {
    "duration": 6,
    "start_time": "2025-04-20T14:09:16.112Z"
   },
   {
    "duration": 23,
    "start_time": "2025-04-20T14:09:16.121Z"
   },
   {
    "duration": 10,
    "start_time": "2025-04-20T14:09:16.146Z"
   },
   {
    "duration": 10,
    "start_time": "2025-04-20T14:09:16.158Z"
   },
   {
    "duration": 38,
    "start_time": "2025-04-20T14:09:16.170Z"
   },
   {
    "duration": 14,
    "start_time": "2025-04-20T14:09:16.211Z"
   },
   {
    "duration": 97,
    "start_time": "2025-04-20T14:09:16.227Z"
   },
   {
    "duration": 35,
    "start_time": "2025-04-20T14:09:16.326Z"
   },
   {
    "duration": 12,
    "start_time": "2025-04-20T14:09:16.363Z"
   },
   {
    "duration": 52,
    "start_time": "2025-04-20T14:09:16.377Z"
   },
   {
    "duration": 10,
    "start_time": "2025-04-20T14:09:16.431Z"
   },
   {
    "duration": 30,
    "start_time": "2025-04-20T14:09:16.443Z"
   },
   {
    "duration": 12,
    "start_time": "2025-04-20T14:09:16.475Z"
   },
   {
    "duration": 62,
    "start_time": "2025-04-20T14:09:16.488Z"
   },
   {
    "duration": 35,
    "start_time": "2025-04-20T14:09:16.551Z"
   },
   {
    "duration": 5,
    "start_time": "2025-04-20T14:09:16.588Z"
   },
   {
    "duration": 21,
    "start_time": "2025-04-20T14:09:16.595Z"
   },
   {
    "duration": 15,
    "start_time": "2025-04-20T14:09:16.617Z"
   }
  ],
  "colab": {
   "provenance": [],
   "toc_visible": true
  },
  "kernelspec": {
   "display_name": "Python 3 (ipykernel)",
   "language": "python",
   "name": "python3"
  },
  "language_info": {
   "codemirror_mode": {
    "name": "ipython",
    "version": 3
   },
   "file_extension": ".py",
   "mimetype": "text/x-python",
   "name": "python",
   "nbconvert_exporter": "python",
   "pygments_lexer": "ipython3",
   "version": "3.13.3"
  },
  "toc": {
   "base_numbering": 1,
   "nav_menu": {},
   "number_sections": true,
   "sideBar": true,
   "skip_h1_title": true,
   "title_cell": "Table of Contents",
   "title_sidebar": "Contents",
   "toc_cell": false,
   "toc_position": {
    "height": "calc(100% - 180px)",
    "left": "10px",
    "top": "150px",
    "width": "281.195px"
   },
   "toc_section_display": true,
   "toc_window_display": true
  }
 },
 "nbformat": 4,
 "nbformat_minor": 5
}
