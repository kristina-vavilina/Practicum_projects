{
 "cells": [
  {
   "cell_type": "markdown",
   "metadata": {
    "id": "4mJbK1knrJgz"
   },
   "source": [
    "# Проект: Исследование стартапов"
   ]
  },
  {
   "cell_type": "markdown",
   "metadata": {
    "id": "P6j0r3worJg0"
   },
   "source": [
    "## Введение"
   ]
  },
  {
   "cell_type": "markdown",
   "metadata": {
    "id": "8lQtbsIUyFG6"
   },
   "source": [
    "Цель исследования — изучить, какие факторы влияют на привлечение инвестиций стартапами и их дальнейшую успешность.\n",
    "\n",
    "Описание этапов:\n",
    "- Предварительная обработка данных: изучение структуры, типов данных и обработка пропусков.\n",
    "- Анализ инвестиционных раундов и стратегий привлечения капитала.\n",
    "- Оценка влияния финансирования на вероятность поглощения стартапа.\n",
    "- Выявление ключевых характеристик успешных стартапов и фондов.\n",
    "- Итоговый отчет с выводами и рекомендациями.\n",
    "\n"
   ]
  },
  {
   "cell_type": "markdown",
   "metadata": {
    "id": "xqr6uttCrJg0"
   },
   "source": [
    "\n",
    "## Шаг 1. Знакомство с данными: загрузка и первичная предобработка\n",
    "\n",
    "Названия файлов:\n",
    "* acquisition.csv\n",
    "* company_and_rounds.csv\n",
    "* degrees.csv\n",
    "* education.csv\n",
    "* fund.csv\n",
    "* investment.csv\n",
    "* people.csv\n",
    "\n",
    "Они находятся в папке datasets, если вы выполняете работу на платформе. В случае, если вы делаете работу локально, доступ к файлам в папке можно получить по адресу `https://code.s3.yandex.net/datasets/` + имя файла.\n",
    "\n",
    "### 1.1. Вывод общей информации, исправление названия столбцов"
   ]
  },
  {
   "cell_type": "code",
   "execution_count": 1,
   "metadata": {
    "id": "4u9np9gSnyqT"
   },
   "outputs": [],
   "source": [
    "import pandas as pd\n",
    "import matplotlib.pyplot as plt"
   ]
  },
  {
   "cell_type": "code",
   "execution_count": 2,
   "metadata": {},
   "outputs": [],
   "source": [
    "# Загрузка данных\n",
    "acquisition = pd.read_csv('https://code.s3.yandex.net/datasets/acquisition.csv')\n",
    "company_and_rounds = pd.read_csv('https://code.s3.yandex.net/datasets/company_and_rounds.csv')\n",
    "degrees = pd.read_csv('https://code.s3.yandex.net/datasets/degrees.csv')\n",
    "education = pd.read_csv('https://code.s3.yandex.net/datasets/education.csv')\n",
    "people = pd.read_csv('https://code.s3.yandex.net/datasets/people.csv')\n",
    "investment = pd.read_csv('https://code.s3.yandex.net/datasets/investment.csv')\n",
    "fund = pd.read_csv('https://code.s3.yandex.net/datasets/fund.csv')"
   ]
  },
  {
   "cell_type": "code",
   "execution_count": 3,
   "metadata": {
    "id": "W_W4jRazrJg0",
    "scrolled": true
   },
   "outputs": [
    {
     "name": "stdout",
     "output_type": "stream",
     "text": [
      "<class 'pandas.core.frame.DataFrame'>\n",
      "RangeIndex: 9407 entries, 0 to 9406\n",
      "Data columns (total 6 columns):\n",
      " #   Column                Non-Null Count  Dtype \n",
      "---  ------                --------------  ----- \n",
      " 0   id                    9407 non-null   int64 \n",
      " 1   acquiring_company_id  9407 non-null   int64 \n",
      " 2   acquired_company_id   9407 non-null   int64 \n",
      " 3   term_code             1831 non-null   object\n",
      " 4   price_amount          9407 non-null   int64 \n",
      " 5   acquired_at           9378 non-null   object\n",
      "dtypes: int64(4), object(2)\n",
      "memory usage: 441.1+ KB\n"
     ]
    },
    {
     "data": {
      "text/html": [
       "<div>\n",
       "<style scoped>\n",
       "    .dataframe tbody tr th:only-of-type {\n",
       "        vertical-align: middle;\n",
       "    }\n",
       "\n",
       "    .dataframe tbody tr th {\n",
       "        vertical-align: top;\n",
       "    }\n",
       "\n",
       "    .dataframe thead th {\n",
       "        text-align: right;\n",
       "    }\n",
       "</style>\n",
       "<table border=\"1\" class=\"dataframe\">\n",
       "  <thead>\n",
       "    <tr style=\"text-align: right;\">\n",
       "      <th></th>\n",
       "      <th>id</th>\n",
       "      <th>acquiring_company_id</th>\n",
       "      <th>acquired_company_id</th>\n",
       "      <th>term_code</th>\n",
       "      <th>price_amount</th>\n",
       "      <th>acquired_at</th>\n",
       "    </tr>\n",
       "  </thead>\n",
       "  <tbody>\n",
       "    <tr>\n",
       "      <th>0</th>\n",
       "      <td>1</td>\n",
       "      <td>11</td>\n",
       "      <td>10</td>\n",
       "      <td>NaN</td>\n",
       "      <td>20000000</td>\n",
       "      <td>2007-05-30</td>\n",
       "    </tr>\n",
       "    <tr>\n",
       "      <th>1</th>\n",
       "      <td>7</td>\n",
       "      <td>59</td>\n",
       "      <td>72</td>\n",
       "      <td>cash</td>\n",
       "      <td>60000000</td>\n",
       "      <td>2007-07-01</td>\n",
       "    </tr>\n",
       "    <tr>\n",
       "      <th>2</th>\n",
       "      <td>8</td>\n",
       "      <td>24</td>\n",
       "      <td>132</td>\n",
       "      <td>cash</td>\n",
       "      <td>280000000</td>\n",
       "      <td>2007-05-01</td>\n",
       "    </tr>\n",
       "    <tr>\n",
       "      <th>3</th>\n",
       "      <td>9</td>\n",
       "      <td>59</td>\n",
       "      <td>155</td>\n",
       "      <td>cash</td>\n",
       "      <td>100000000</td>\n",
       "      <td>2007-06-01</td>\n",
       "    </tr>\n",
       "    <tr>\n",
       "      <th>4</th>\n",
       "      <td>10</td>\n",
       "      <td>212</td>\n",
       "      <td>215</td>\n",
       "      <td>cash</td>\n",
       "      <td>25000000</td>\n",
       "      <td>2007-07-01</td>\n",
       "    </tr>\n",
       "  </tbody>\n",
       "</table>\n",
       "</div>"
      ],
      "text/plain": [
       "   id  acquiring_company_id  acquired_company_id term_code  price_amount  \\\n",
       "0   1                    11                   10       NaN      20000000   \n",
       "1   7                    59                   72      cash      60000000   \n",
       "2   8                    24                  132      cash     280000000   \n",
       "3   9                    59                  155      cash     100000000   \n",
       "4  10                   212                  215      cash      25000000   \n",
       "\n",
       "  acquired_at  \n",
       "0  2007-05-30  \n",
       "1  2007-07-01  \n",
       "2  2007-05-01  \n",
       "3  2007-06-01  \n",
       "4  2007-07-01  "
      ]
     },
     "execution_count": 3,
     "metadata": {},
     "output_type": "execute_result"
    }
   ],
   "source": [
    "acquisition.info()\n",
    "acquisition.head()"
   ]
  },
  {
   "cell_type": "code",
   "execution_count": 4,
   "metadata": {
    "scrolled": true
   },
   "outputs": [
    {
     "name": "stdout",
     "output_type": "stream",
     "text": [
      "<class 'pandas.core.frame.DataFrame'>\n",
      "RangeIndex: 217774 entries, 0 to 217773\n",
      "Data columns (total 22 columns):\n",
      " #   Column                 Non-Null Count   Dtype  \n",
      "---  ------                 --------------   -----  \n",
      " 0   company  ID            217472 non-null  float64\n",
      " 1   name                   217471 non-null  object \n",
      " 2   category  code         143886 non-null  object \n",
      " 3   status                 217472 non-null  object \n",
      " 4   founded  at            109956 non-null  object \n",
      " 5   closed  at             3449 non-null    object \n",
      " 6   domain                 147159 non-null  object \n",
      " 7   network  username      95534 non-null   object \n",
      " 8   country  code          108607 non-null  object \n",
      " 9   investment  rounds     217472 non-null  float64\n",
      " 10  funding  rounds        217472 non-null  float64\n",
      " 11  funding  total         217472 non-null  float64\n",
      " 12  milestones             217472 non-null  float64\n",
      " 13  funding  round  id     52928 non-null   float64\n",
      " 14  company  id            52928 non-null   float64\n",
      " 15  funded  at             52680 non-null   object \n",
      " 16  funding  round  type   52928 non-null   object \n",
      " 17  raised  amount         52928 non-null   float64\n",
      " 18  pre  money  valuation  52928 non-null   float64\n",
      " 19  participants           52928 non-null   float64\n",
      " 20  is  first  round       52928 non-null   float64\n",
      " 21  is  last  round        52928 non-null   float64\n",
      "dtypes: float64(12), object(10)\n",
      "memory usage: 36.6+ MB\n"
     ]
    },
    {
     "data": {
      "text/html": [
       "<div>\n",
       "<style scoped>\n",
       "    .dataframe tbody tr th:only-of-type {\n",
       "        vertical-align: middle;\n",
       "    }\n",
       "\n",
       "    .dataframe tbody tr th {\n",
       "        vertical-align: top;\n",
       "    }\n",
       "\n",
       "    .dataframe thead th {\n",
       "        text-align: right;\n",
       "    }\n",
       "</style>\n",
       "<table border=\"1\" class=\"dataframe\">\n",
       "  <thead>\n",
       "    <tr style=\"text-align: right;\">\n",
       "      <th></th>\n",
       "      <th>company  ID</th>\n",
       "      <th>name</th>\n",
       "      <th>category  code</th>\n",
       "      <th>status</th>\n",
       "      <th>founded  at</th>\n",
       "      <th>closed  at</th>\n",
       "      <th>domain</th>\n",
       "      <th>network  username</th>\n",
       "      <th>country  code</th>\n",
       "      <th>investment  rounds</th>\n",
       "      <th>...</th>\n",
       "      <th>milestones</th>\n",
       "      <th>funding  round  id</th>\n",
       "      <th>company  id</th>\n",
       "      <th>funded  at</th>\n",
       "      <th>funding  round  type</th>\n",
       "      <th>raised  amount</th>\n",
       "      <th>pre  money  valuation</th>\n",
       "      <th>participants</th>\n",
       "      <th>is  first  round</th>\n",
       "      <th>is  last  round</th>\n",
       "    </tr>\n",
       "  </thead>\n",
       "  <tbody>\n",
       "    <tr>\n",
       "      <th>0</th>\n",
       "      <td>1.0</td>\n",
       "      <td>Wetpaint</td>\n",
       "      <td>web</td>\n",
       "      <td>operating</td>\n",
       "      <td>2005-10-17</td>\n",
       "      <td>NaN</td>\n",
       "      <td>wetpaint-inc.com</td>\n",
       "      <td>BachelrWetpaint</td>\n",
       "      <td>USA</td>\n",
       "      <td>0.0</td>\n",
       "      <td>...</td>\n",
       "      <td>5.0</td>\n",
       "      <td>888.0</td>\n",
       "      <td>1.0</td>\n",
       "      <td>2005-10-01</td>\n",
       "      <td>series-a</td>\n",
       "      <td>5250000.0</td>\n",
       "      <td>0.0</td>\n",
       "      <td>2.0</td>\n",
       "      <td>0.0</td>\n",
       "      <td>1.0</td>\n",
       "    </tr>\n",
       "    <tr>\n",
       "      <th>1</th>\n",
       "      <td>1.0</td>\n",
       "      <td>Wetpaint</td>\n",
       "      <td>web</td>\n",
       "      <td>operating</td>\n",
       "      <td>2005-10-17</td>\n",
       "      <td>NaN</td>\n",
       "      <td>wetpaint-inc.com</td>\n",
       "      <td>BachelrWetpaint</td>\n",
       "      <td>USA</td>\n",
       "      <td>0.0</td>\n",
       "      <td>...</td>\n",
       "      <td>5.0</td>\n",
       "      <td>889.0</td>\n",
       "      <td>1.0</td>\n",
       "      <td>2007-01-01</td>\n",
       "      <td>series-b</td>\n",
       "      <td>9500000.0</td>\n",
       "      <td>0.0</td>\n",
       "      <td>3.0</td>\n",
       "      <td>0.0</td>\n",
       "      <td>0.0</td>\n",
       "    </tr>\n",
       "    <tr>\n",
       "      <th>2</th>\n",
       "      <td>1.0</td>\n",
       "      <td>Wetpaint</td>\n",
       "      <td>web</td>\n",
       "      <td>operating</td>\n",
       "      <td>2005-10-17</td>\n",
       "      <td>NaN</td>\n",
       "      <td>wetpaint-inc.com</td>\n",
       "      <td>BachelrWetpaint</td>\n",
       "      <td>USA</td>\n",
       "      <td>0.0</td>\n",
       "      <td>...</td>\n",
       "      <td>5.0</td>\n",
       "      <td>2312.0</td>\n",
       "      <td>1.0</td>\n",
       "      <td>2008-05-19</td>\n",
       "      <td>series-c+</td>\n",
       "      <td>25000000.0</td>\n",
       "      <td>0.0</td>\n",
       "      <td>4.0</td>\n",
       "      <td>1.0</td>\n",
       "      <td>0.0</td>\n",
       "    </tr>\n",
       "    <tr>\n",
       "      <th>3</th>\n",
       "      <td>10.0</td>\n",
       "      <td>Flektor</td>\n",
       "      <td>games_video</td>\n",
       "      <td>acquired</td>\n",
       "      <td>NaN</td>\n",
       "      <td>NaN</td>\n",
       "      <td>flektor.com</td>\n",
       "      <td>NaN</td>\n",
       "      <td>USA</td>\n",
       "      <td>0.0</td>\n",
       "      <td>...</td>\n",
       "      <td>0.0</td>\n",
       "      <td>NaN</td>\n",
       "      <td>NaN</td>\n",
       "      <td>NaN</td>\n",
       "      <td>NaN</td>\n",
       "      <td>NaN</td>\n",
       "      <td>NaN</td>\n",
       "      <td>NaN</td>\n",
       "      <td>NaN</td>\n",
       "      <td>NaN</td>\n",
       "    </tr>\n",
       "    <tr>\n",
       "      <th>4</th>\n",
       "      <td>100.0</td>\n",
       "      <td>There</td>\n",
       "      <td>games_video</td>\n",
       "      <td>acquired</td>\n",
       "      <td>NaN</td>\n",
       "      <td>NaN</td>\n",
       "      <td>there.com</td>\n",
       "      <td>NaN</td>\n",
       "      <td>USA</td>\n",
       "      <td>0.0</td>\n",
       "      <td>...</td>\n",
       "      <td>4.0</td>\n",
       "      <td>NaN</td>\n",
       "      <td>NaN</td>\n",
       "      <td>NaN</td>\n",
       "      <td>NaN</td>\n",
       "      <td>NaN</td>\n",
       "      <td>NaN</td>\n",
       "      <td>NaN</td>\n",
       "      <td>NaN</td>\n",
       "      <td>NaN</td>\n",
       "    </tr>\n",
       "    <tr>\n",
       "      <th>5</th>\n",
       "      <td>10000.0</td>\n",
       "      <td>MYWEBBO</td>\n",
       "      <td>network_hosting</td>\n",
       "      <td>operating</td>\n",
       "      <td>2008-07-26</td>\n",
       "      <td>NaN</td>\n",
       "      <td>mywebbo.com</td>\n",
       "      <td>NaN</td>\n",
       "      <td>NaN</td>\n",
       "      <td>0.0</td>\n",
       "      <td>...</td>\n",
       "      <td>0.0</td>\n",
       "      <td>NaN</td>\n",
       "      <td>NaN</td>\n",
       "      <td>NaN</td>\n",
       "      <td>NaN</td>\n",
       "      <td>NaN</td>\n",
       "      <td>NaN</td>\n",
       "      <td>NaN</td>\n",
       "      <td>NaN</td>\n",
       "      <td>NaN</td>\n",
       "    </tr>\n",
       "    <tr>\n",
       "      <th>6</th>\n",
       "      <td>10001.0</td>\n",
       "      <td>THE Movie Streamer</td>\n",
       "      <td>games_video</td>\n",
       "      <td>operating</td>\n",
       "      <td>2008-07-26</td>\n",
       "      <td>NaN</td>\n",
       "      <td>themoviestreamer.com</td>\n",
       "      <td>NaN</td>\n",
       "      <td>NaN</td>\n",
       "      <td>0.0</td>\n",
       "      <td>...</td>\n",
       "      <td>0.0</td>\n",
       "      <td>NaN</td>\n",
       "      <td>NaN</td>\n",
       "      <td>NaN</td>\n",
       "      <td>NaN</td>\n",
       "      <td>NaN</td>\n",
       "      <td>NaN</td>\n",
       "      <td>NaN</td>\n",
       "      <td>NaN</td>\n",
       "      <td>NaN</td>\n",
       "    </tr>\n",
       "    <tr>\n",
       "      <th>7</th>\n",
       "      <td>10002.0</td>\n",
       "      <td>Synergie Media</td>\n",
       "      <td>advertising</td>\n",
       "      <td>operating</td>\n",
       "      <td>2007-06-27</td>\n",
       "      <td>NaN</td>\n",
       "      <td>synergie-media.com</td>\n",
       "      <td>NaN</td>\n",
       "      <td>MAR</td>\n",
       "      <td>0.0</td>\n",
       "      <td>...</td>\n",
       "      <td>0.0</td>\n",
       "      <td>NaN</td>\n",
       "      <td>NaN</td>\n",
       "      <td>NaN</td>\n",
       "      <td>NaN</td>\n",
       "      <td>NaN</td>\n",
       "      <td>NaN</td>\n",
       "      <td>NaN</td>\n",
       "      <td>NaN</td>\n",
       "      <td>NaN</td>\n",
       "    </tr>\n",
       "    <tr>\n",
       "      <th>8</th>\n",
       "      <td>10003.0</td>\n",
       "      <td>Green Basti Ecosystems</td>\n",
       "      <td>cleantech</td>\n",
       "      <td>operating</td>\n",
       "      <td>2008-08-20</td>\n",
       "      <td>NaN</td>\n",
       "      <td>NaN</td>\n",
       "      <td>NaN</td>\n",
       "      <td>IND</td>\n",
       "      <td>0.0</td>\n",
       "      <td>...</td>\n",
       "      <td>0.0</td>\n",
       "      <td>NaN</td>\n",
       "      <td>NaN</td>\n",
       "      <td>NaN</td>\n",
       "      <td>NaN</td>\n",
       "      <td>NaN</td>\n",
       "      <td>NaN</td>\n",
       "      <td>NaN</td>\n",
       "      <td>NaN</td>\n",
       "      <td>NaN</td>\n",
       "    </tr>\n",
       "    <tr>\n",
       "      <th>9</th>\n",
       "      <td>100042.0</td>\n",
       "      <td>HostNine</td>\n",
       "      <td>NaN</td>\n",
       "      <td>operating</td>\n",
       "      <td>NaN</td>\n",
       "      <td>NaN</td>\n",
       "      <td>hostnine.com</td>\n",
       "      <td>Hostnine</td>\n",
       "      <td>NaN</td>\n",
       "      <td>0.0</td>\n",
       "      <td>...</td>\n",
       "      <td>1.0</td>\n",
       "      <td>NaN</td>\n",
       "      <td>NaN</td>\n",
       "      <td>NaN</td>\n",
       "      <td>NaN</td>\n",
       "      <td>NaN</td>\n",
       "      <td>NaN</td>\n",
       "      <td>NaN</td>\n",
       "      <td>NaN</td>\n",
       "      <td>NaN</td>\n",
       "    </tr>\n",
       "    <tr>\n",
       "      <th>10</th>\n",
       "      <td>10005.0</td>\n",
       "      <td>Thomas Publishing</td>\n",
       "      <td>advertising</td>\n",
       "      <td>operating</td>\n",
       "      <td>NaN</td>\n",
       "      <td>NaN</td>\n",
       "      <td>thomaspublishing.com</td>\n",
       "      <td>NaN</td>\n",
       "      <td>USA</td>\n",
       "      <td>0.0</td>\n",
       "      <td>...</td>\n",
       "      <td>1.0</td>\n",
       "      <td>NaN</td>\n",
       "      <td>NaN</td>\n",
       "      <td>NaN</td>\n",
       "      <td>NaN</td>\n",
       "      <td>NaN</td>\n",
       "      <td>NaN</td>\n",
       "      <td>NaN</td>\n",
       "      <td>NaN</td>\n",
       "      <td>NaN</td>\n",
       "    </tr>\n",
       "    <tr>\n",
       "      <th>11</th>\n",
       "      <td>100062.0</td>\n",
       "      <td>Vetter Idea Management System</td>\n",
       "      <td>enterprise</td>\n",
       "      <td>operating</td>\n",
       "      <td>2011-08-01</td>\n",
       "      <td>NaN</td>\n",
       "      <td>getvetter.com</td>\n",
       "      <td>getvetter</td>\n",
       "      <td>NaN</td>\n",
       "      <td>0.0</td>\n",
       "      <td>...</td>\n",
       "      <td>1.0</td>\n",
       "      <td>NaN</td>\n",
       "      <td>NaN</td>\n",
       "      <td>NaN</td>\n",
       "      <td>NaN</td>\n",
       "      <td>NaN</td>\n",
       "      <td>NaN</td>\n",
       "      <td>NaN</td>\n",
       "      <td>NaN</td>\n",
       "      <td>NaN</td>\n",
       "    </tr>\n",
       "    <tr>\n",
       "      <th>12</th>\n",
       "      <td>100068.0</td>\n",
       "      <td>ChatRandom</td>\n",
       "      <td>games_video</td>\n",
       "      <td>operating</td>\n",
       "      <td>2011-02-01</td>\n",
       "      <td>NaN</td>\n",
       "      <td>chatrandom.com</td>\n",
       "      <td>chatrandom</td>\n",
       "      <td>NaN</td>\n",
       "      <td>0.0</td>\n",
       "      <td>...</td>\n",
       "      <td>1.0</td>\n",
       "      <td>NaN</td>\n",
       "      <td>NaN</td>\n",
       "      <td>NaN</td>\n",
       "      <td>NaN</td>\n",
       "      <td>NaN</td>\n",
       "      <td>NaN</td>\n",
       "      <td>NaN</td>\n",
       "      <td>NaN</td>\n",
       "      <td>NaN</td>\n",
       "    </tr>\n",
       "    <tr>\n",
       "      <th>13</th>\n",
       "      <td>10008.0</td>\n",
       "      <td>ScapadasAmorosas</td>\n",
       "      <td>other</td>\n",
       "      <td>operating</td>\n",
       "      <td>2007-03-01</td>\n",
       "      <td>NaN</td>\n",
       "      <td>scapadasamorosas.com</td>\n",
       "      <td>NaN</td>\n",
       "      <td>NaN</td>\n",
       "      <td>0.0</td>\n",
       "      <td>...</td>\n",
       "      <td>0.0</td>\n",
       "      <td>NaN</td>\n",
       "      <td>NaN</td>\n",
       "      <td>NaN</td>\n",
       "      <td>NaN</td>\n",
       "      <td>NaN</td>\n",
       "      <td>NaN</td>\n",
       "      <td>NaN</td>\n",
       "      <td>NaN</td>\n",
       "      <td>NaN</td>\n",
       "    </tr>\n",
       "    <tr>\n",
       "      <th>14</th>\n",
       "      <td>10009.0</td>\n",
       "      <td>dimension5 labs</td>\n",
       "      <td>advertising</td>\n",
       "      <td>operating</td>\n",
       "      <td>2008-08-01</td>\n",
       "      <td>NaN</td>\n",
       "      <td>d5labs.com</td>\n",
       "      <td>NaN</td>\n",
       "      <td>USA</td>\n",
       "      <td>0.0</td>\n",
       "      <td>...</td>\n",
       "      <td>1.0</td>\n",
       "      <td>NaN</td>\n",
       "      <td>NaN</td>\n",
       "      <td>NaN</td>\n",
       "      <td>NaN</td>\n",
       "      <td>NaN</td>\n",
       "      <td>NaN</td>\n",
       "      <td>NaN</td>\n",
       "      <td>NaN</td>\n",
       "      <td>NaN</td>\n",
       "    </tr>\n",
       "    <tr>\n",
       "      <th>15</th>\n",
       "      <td>1001.0</td>\n",
       "      <td>FriendFeed</td>\n",
       "      <td>web</td>\n",
       "      <td>acquired</td>\n",
       "      <td>2007-10-01</td>\n",
       "      <td>NaN</td>\n",
       "      <td>friendfeed.com</td>\n",
       "      <td>friendfeed</td>\n",
       "      <td>USA</td>\n",
       "      <td>0.0</td>\n",
       "      <td>...</td>\n",
       "      <td>3.0</td>\n",
       "      <td>1644.0</td>\n",
       "      <td>1001.0</td>\n",
       "      <td>2008-02-26</td>\n",
       "      <td>series-a</td>\n",
       "      <td>5000000.0</td>\n",
       "      <td>0.0</td>\n",
       "      <td>3.0</td>\n",
       "      <td>1.0</td>\n",
       "      <td>1.0</td>\n",
       "    </tr>\n",
       "    <tr>\n",
       "      <th>16</th>\n",
       "      <td>10010.0</td>\n",
       "      <td>Whooligan</td>\n",
       "      <td>games_video</td>\n",
       "      <td>operating</td>\n",
       "      <td>2007-12-01</td>\n",
       "      <td>NaN</td>\n",
       "      <td>whooligan.com</td>\n",
       "      <td>NaN</td>\n",
       "      <td>NaN</td>\n",
       "      <td>0.0</td>\n",
       "      <td>...</td>\n",
       "      <td>0.0</td>\n",
       "      <td>NaN</td>\n",
       "      <td>NaN</td>\n",
       "      <td>NaN</td>\n",
       "      <td>NaN</td>\n",
       "      <td>NaN</td>\n",
       "      <td>NaN</td>\n",
       "      <td>NaN</td>\n",
       "      <td>NaN</td>\n",
       "      <td>NaN</td>\n",
       "    </tr>\n",
       "    <tr>\n",
       "      <th>17</th>\n",
       "      <td>10011.0</td>\n",
       "      <td>PoetryVisualized.com</td>\n",
       "      <td>games_video</td>\n",
       "      <td>operating</td>\n",
       "      <td>2008-01-01</td>\n",
       "      <td>NaN</td>\n",
       "      <td>poetryvisualized.com</td>\n",
       "      <td>NaN</td>\n",
       "      <td>USA</td>\n",
       "      <td>0.0</td>\n",
       "      <td>...</td>\n",
       "      <td>1.0</td>\n",
       "      <td>NaN</td>\n",
       "      <td>NaN</td>\n",
       "      <td>NaN</td>\n",
       "      <td>NaN</td>\n",
       "      <td>NaN</td>\n",
       "      <td>NaN</td>\n",
       "      <td>NaN</td>\n",
       "      <td>NaN</td>\n",
       "      <td>NaN</td>\n",
       "    </tr>\n",
       "    <tr>\n",
       "      <th>18</th>\n",
       "      <td>10012.0</td>\n",
       "      <td>moviestring.com</td>\n",
       "      <td>games_video</td>\n",
       "      <td>closed</td>\n",
       "      <td>2008-08-22</td>\n",
       "      <td>2010-01-01</td>\n",
       "      <td>moviestring.com</td>\n",
       "      <td>NaN</td>\n",
       "      <td>NaN</td>\n",
       "      <td>0.0</td>\n",
       "      <td>...</td>\n",
       "      <td>0.0</td>\n",
       "      <td>NaN</td>\n",
       "      <td>NaN</td>\n",
       "      <td>NaN</td>\n",
       "      <td>NaN</td>\n",
       "      <td>NaN</td>\n",
       "      <td>NaN</td>\n",
       "      <td>NaN</td>\n",
       "      <td>NaN</td>\n",
       "      <td>NaN</td>\n",
       "    </tr>\n",
       "    <tr>\n",
       "      <th>19</th>\n",
       "      <td>10013.0</td>\n",
       "      <td>The Adory</td>\n",
       "      <td>consulting</td>\n",
       "      <td>operating</td>\n",
       "      <td>2008-01-01</td>\n",
       "      <td>NaN</td>\n",
       "      <td>theadory.com</td>\n",
       "      <td>the_adory</td>\n",
       "      <td>NaN</td>\n",
       "      <td>0.0</td>\n",
       "      <td>...</td>\n",
       "      <td>0.0</td>\n",
       "      <td>NaN</td>\n",
       "      <td>NaN</td>\n",
       "      <td>NaN</td>\n",
       "      <td>NaN</td>\n",
       "      <td>NaN</td>\n",
       "      <td>NaN</td>\n",
       "      <td>NaN</td>\n",
       "      <td>NaN</td>\n",
       "      <td>NaN</td>\n",
       "    </tr>\n",
       "  </tbody>\n",
       "</table>\n",
       "<p>20 rows × 22 columns</p>\n",
       "</div>"
      ],
      "text/plain": [
       "    company  ID                           name   category  code     status  \\\n",
       "0           1.0                       Wetpaint              web  operating   \n",
       "1           1.0                       Wetpaint              web  operating   \n",
       "2           1.0                       Wetpaint              web  operating   \n",
       "3          10.0                        Flektor      games_video   acquired   \n",
       "4         100.0                          There      games_video   acquired   \n",
       "5       10000.0                        MYWEBBO  network_hosting  operating   \n",
       "6       10001.0             THE Movie Streamer      games_video  operating   \n",
       "7       10002.0                 Synergie Media      advertising  operating   \n",
       "8       10003.0         Green Basti Ecosystems        cleantech  operating   \n",
       "9      100042.0                       HostNine              NaN  operating   \n",
       "10      10005.0              Thomas Publishing      advertising  operating   \n",
       "11     100062.0  Vetter Idea Management System       enterprise  operating   \n",
       "12     100068.0                     ChatRandom      games_video  operating   \n",
       "13      10008.0               ScapadasAmorosas            other  operating   \n",
       "14      10009.0                dimension5 labs      advertising  operating   \n",
       "15       1001.0                     FriendFeed              web   acquired   \n",
       "16      10010.0                      Whooligan      games_video  operating   \n",
       "17      10011.0           PoetryVisualized.com      games_video  operating   \n",
       "18      10012.0                moviestring.com      games_video     closed   \n",
       "19      10013.0                      The Adory       consulting  operating   \n",
       "\n",
       "   founded  at  closed  at                domain network  username  \\\n",
       "0   2005-10-17         NaN      wetpaint-inc.com   BachelrWetpaint   \n",
       "1   2005-10-17         NaN      wetpaint-inc.com   BachelrWetpaint   \n",
       "2   2005-10-17         NaN      wetpaint-inc.com   BachelrWetpaint   \n",
       "3          NaN         NaN           flektor.com               NaN   \n",
       "4          NaN         NaN             there.com               NaN   \n",
       "5   2008-07-26         NaN           mywebbo.com               NaN   \n",
       "6   2008-07-26         NaN  themoviestreamer.com               NaN   \n",
       "7   2007-06-27         NaN    synergie-media.com               NaN   \n",
       "8   2008-08-20         NaN                   NaN               NaN   \n",
       "9          NaN         NaN          hostnine.com          Hostnine   \n",
       "10         NaN         NaN  thomaspublishing.com               NaN   \n",
       "11  2011-08-01         NaN         getvetter.com         getvetter   \n",
       "12  2011-02-01         NaN        chatrandom.com        chatrandom   \n",
       "13  2007-03-01         NaN  scapadasamorosas.com               NaN   \n",
       "14  2008-08-01         NaN            d5labs.com               NaN   \n",
       "15  2007-10-01         NaN        friendfeed.com        friendfeed   \n",
       "16  2007-12-01         NaN         whooligan.com               NaN   \n",
       "17  2008-01-01         NaN  poetryvisualized.com               NaN   \n",
       "18  2008-08-22  2010-01-01       moviestring.com               NaN   \n",
       "19  2008-01-01         NaN          theadory.com         the_adory   \n",
       "\n",
       "   country  code  investment  rounds  ...  milestones  funding  round  id  \\\n",
       "0            USA                 0.0  ...         5.0               888.0   \n",
       "1            USA                 0.0  ...         5.0               889.0   \n",
       "2            USA                 0.0  ...         5.0              2312.0   \n",
       "3            USA                 0.0  ...         0.0                 NaN   \n",
       "4            USA                 0.0  ...         4.0                 NaN   \n",
       "5            NaN                 0.0  ...         0.0                 NaN   \n",
       "6            NaN                 0.0  ...         0.0                 NaN   \n",
       "7            MAR                 0.0  ...         0.0                 NaN   \n",
       "8            IND                 0.0  ...         0.0                 NaN   \n",
       "9            NaN                 0.0  ...         1.0                 NaN   \n",
       "10           USA                 0.0  ...         1.0                 NaN   \n",
       "11           NaN                 0.0  ...         1.0                 NaN   \n",
       "12           NaN                 0.0  ...         1.0                 NaN   \n",
       "13           NaN                 0.0  ...         0.0                 NaN   \n",
       "14           USA                 0.0  ...         1.0                 NaN   \n",
       "15           USA                 0.0  ...         3.0              1644.0   \n",
       "16           NaN                 0.0  ...         0.0                 NaN   \n",
       "17           USA                 0.0  ...         1.0                 NaN   \n",
       "18           NaN                 0.0  ...         0.0                 NaN   \n",
       "19           NaN                 0.0  ...         0.0                 NaN   \n",
       "\n",
       "    company  id  funded  at  funding  round  type raised  amount  \\\n",
       "0           1.0  2005-10-01              series-a      5250000.0   \n",
       "1           1.0  2007-01-01              series-b      9500000.0   \n",
       "2           1.0  2008-05-19             series-c+     25000000.0   \n",
       "3           NaN         NaN                   NaN            NaN   \n",
       "4           NaN         NaN                   NaN            NaN   \n",
       "5           NaN         NaN                   NaN            NaN   \n",
       "6           NaN         NaN                   NaN            NaN   \n",
       "7           NaN         NaN                   NaN            NaN   \n",
       "8           NaN         NaN                   NaN            NaN   \n",
       "9           NaN         NaN                   NaN            NaN   \n",
       "10          NaN         NaN                   NaN            NaN   \n",
       "11          NaN         NaN                   NaN            NaN   \n",
       "12          NaN         NaN                   NaN            NaN   \n",
       "13          NaN         NaN                   NaN            NaN   \n",
       "14          NaN         NaN                   NaN            NaN   \n",
       "15       1001.0  2008-02-26              series-a      5000000.0   \n",
       "16          NaN         NaN                   NaN            NaN   \n",
       "17          NaN         NaN                   NaN            NaN   \n",
       "18          NaN         NaN                   NaN            NaN   \n",
       "19          NaN         NaN                   NaN            NaN   \n",
       "\n",
       "   pre  money  valuation  participants  is  first  round  is  last  round  \n",
       "0                    0.0           2.0               0.0              1.0  \n",
       "1                    0.0           3.0               0.0              0.0  \n",
       "2                    0.0           4.0               1.0              0.0  \n",
       "3                    NaN           NaN               NaN              NaN  \n",
       "4                    NaN           NaN               NaN              NaN  \n",
       "5                    NaN           NaN               NaN              NaN  \n",
       "6                    NaN           NaN               NaN              NaN  \n",
       "7                    NaN           NaN               NaN              NaN  \n",
       "8                    NaN           NaN               NaN              NaN  \n",
       "9                    NaN           NaN               NaN              NaN  \n",
       "10                   NaN           NaN               NaN              NaN  \n",
       "11                   NaN           NaN               NaN              NaN  \n",
       "12                   NaN           NaN               NaN              NaN  \n",
       "13                   NaN           NaN               NaN              NaN  \n",
       "14                   NaN           NaN               NaN              NaN  \n",
       "15                   0.0           3.0               1.0              1.0  \n",
       "16                   NaN           NaN               NaN              NaN  \n",
       "17                   NaN           NaN               NaN              NaN  \n",
       "18                   NaN           NaN               NaN              NaN  \n",
       "19                   NaN           NaN               NaN              NaN  \n",
       "\n",
       "[20 rows x 22 columns]"
      ]
     },
     "execution_count": 4,
     "metadata": {},
     "output_type": "execute_result"
    }
   ],
   "source": [
    "company_and_rounds.info()\n",
    "company_and_rounds.head(20)"
   ]
  },
  {
   "cell_type": "code",
   "execution_count": 5,
   "metadata": {
    "scrolled": true
   },
   "outputs": [
    {
     "name": "stdout",
     "output_type": "stream",
     "text": [
      "<class 'pandas.core.frame.DataFrame'>\n",
      "RangeIndex: 109610 entries, 0 to 109609\n",
      "Data columns (total 4 columns):\n",
      " #   Column       Non-Null Count   Dtype \n",
      "---  ------       --------------   ----- \n",
      " 0   id           109610 non-null  int64 \n",
      " 1   object_id    109610 non-null  object\n",
      " 2   degree_type  98389 non-null   object\n",
      " 3   subject      81298 non-null   object\n",
      "dtypes: int64(1), object(3)\n",
      "memory usage: 3.3+ MB\n"
     ]
    },
    {
     "data": {
      "text/html": [
       "<div>\n",
       "<style scoped>\n",
       "    .dataframe tbody tr th:only-of-type {\n",
       "        vertical-align: middle;\n",
       "    }\n",
       "\n",
       "    .dataframe tbody tr th {\n",
       "        vertical-align: top;\n",
       "    }\n",
       "\n",
       "    .dataframe thead th {\n",
       "        text-align: right;\n",
       "    }\n",
       "</style>\n",
       "<table border=\"1\" class=\"dataframe\">\n",
       "  <thead>\n",
       "    <tr style=\"text-align: right;\">\n",
       "      <th></th>\n",
       "      <th>id</th>\n",
       "      <th>object_id</th>\n",
       "      <th>degree_type</th>\n",
       "      <th>subject</th>\n",
       "    </tr>\n",
       "  </thead>\n",
       "  <tbody>\n",
       "    <tr>\n",
       "      <th>0</th>\n",
       "      <td>1</td>\n",
       "      <td>p:6117</td>\n",
       "      <td>MBA</td>\n",
       "      <td>NaN</td>\n",
       "    </tr>\n",
       "    <tr>\n",
       "      <th>1</th>\n",
       "      <td>2</td>\n",
       "      <td>p:6136</td>\n",
       "      <td>BA</td>\n",
       "      <td>English, French</td>\n",
       "    </tr>\n",
       "    <tr>\n",
       "      <th>2</th>\n",
       "      <td>3</td>\n",
       "      <td>p:6136</td>\n",
       "      <td>MS</td>\n",
       "      <td>Mass Communication</td>\n",
       "    </tr>\n",
       "    <tr>\n",
       "      <th>3</th>\n",
       "      <td>4</td>\n",
       "      <td>p:6005</td>\n",
       "      <td>MS</td>\n",
       "      <td>Internet Technology</td>\n",
       "    </tr>\n",
       "    <tr>\n",
       "      <th>4</th>\n",
       "      <td>5</td>\n",
       "      <td>p:5832</td>\n",
       "      <td>BCS</td>\n",
       "      <td>Computer Science, Psychology</td>\n",
       "    </tr>\n",
       "  </tbody>\n",
       "</table>\n",
       "</div>"
      ],
      "text/plain": [
       "   id object_id degree_type                       subject\n",
       "0   1    p:6117         MBA                           NaN\n",
       "1   2    p:6136          BA               English, French\n",
       "2   3    p:6136          MS            Mass Communication\n",
       "3   4    p:6005          MS           Internet Technology\n",
       "4   5    p:5832         BCS  Computer Science, Psychology"
      ]
     },
     "execution_count": 5,
     "metadata": {},
     "output_type": "execute_result"
    }
   ],
   "source": [
    "degrees.info()\n",
    "degrees.head()"
   ]
  },
  {
   "cell_type": "code",
   "execution_count": 6,
   "metadata": {},
   "outputs": [
    {
     "name": "stdout",
     "output_type": "stream",
     "text": [
      "<class 'pandas.core.frame.DataFrame'>\n",
      "RangeIndex: 109610 entries, 0 to 109609\n",
      "Data columns (total 4 columns):\n",
      " #   Column        Non-Null Count   Dtype \n",
      "---  ------        --------------   ----- \n",
      " 0   id            109610 non-null  int64 \n",
      " 1   person_id     109610 non-null  int64 \n",
      " 2   instituition  109555 non-null  object\n",
      " 3   graduated_at  58054 non-null   object\n",
      "dtypes: int64(2), object(2)\n",
      "memory usage: 3.3+ MB\n"
     ]
    },
    {
     "data": {
      "text/html": [
       "<div>\n",
       "<style scoped>\n",
       "    .dataframe tbody tr th:only-of-type {\n",
       "        vertical-align: middle;\n",
       "    }\n",
       "\n",
       "    .dataframe tbody tr th {\n",
       "        vertical-align: top;\n",
       "    }\n",
       "\n",
       "    .dataframe thead th {\n",
       "        text-align: right;\n",
       "    }\n",
       "</style>\n",
       "<table border=\"1\" class=\"dataframe\">\n",
       "  <thead>\n",
       "    <tr style=\"text-align: right;\">\n",
       "      <th></th>\n",
       "      <th>id</th>\n",
       "      <th>person_id</th>\n",
       "      <th>instituition</th>\n",
       "      <th>graduated_at</th>\n",
       "    </tr>\n",
       "  </thead>\n",
       "  <tbody>\n",
       "    <tr>\n",
       "      <th>0</th>\n",
       "      <td>1</td>\n",
       "      <td>6117</td>\n",
       "      <td>NaN</td>\n",
       "      <td>NaN</td>\n",
       "    </tr>\n",
       "    <tr>\n",
       "      <th>1</th>\n",
       "      <td>2</td>\n",
       "      <td>6136</td>\n",
       "      <td>Washington University, St. Louis</td>\n",
       "      <td>1990-01-01</td>\n",
       "    </tr>\n",
       "    <tr>\n",
       "      <th>2</th>\n",
       "      <td>3</td>\n",
       "      <td>6136</td>\n",
       "      <td>Boston University</td>\n",
       "      <td>1992-01-01</td>\n",
       "    </tr>\n",
       "    <tr>\n",
       "      <th>3</th>\n",
       "      <td>4</td>\n",
       "      <td>6005</td>\n",
       "      <td>University of Greenwich</td>\n",
       "      <td>2006-01-01</td>\n",
       "    </tr>\n",
       "    <tr>\n",
       "      <th>4</th>\n",
       "      <td>5</td>\n",
       "      <td>5832</td>\n",
       "      <td>Rice University</td>\n",
       "      <td>NaN</td>\n",
       "    </tr>\n",
       "  </tbody>\n",
       "</table>\n",
       "</div>"
      ],
      "text/plain": [
       "   id  person_id                      instituition graduated_at\n",
       "0   1       6117                               NaN          NaN\n",
       "1   2       6136  Washington University, St. Louis   1990-01-01\n",
       "2   3       6136                 Boston University   1992-01-01\n",
       "3   4       6005           University of Greenwich   2006-01-01\n",
       "4   5       5832                   Rice University          NaN"
      ]
     },
     "execution_count": 6,
     "metadata": {},
     "output_type": "execute_result"
    }
   ],
   "source": [
    "education.info()\n",
    "education.head()"
   ]
  },
  {
   "cell_type": "code",
   "execution_count": 7,
   "metadata": {},
   "outputs": [
    {
     "name": "stdout",
     "output_type": "stream",
     "text": [
      "<class 'pandas.core.frame.DataFrame'>\n",
      "RangeIndex: 226709 entries, 0 to 226708\n",
      "Data columns (total 5 columns):\n",
      " #   Column            Non-Null Count   Dtype  \n",
      "---  ------            --------------   -----  \n",
      " 0   id                226709 non-null  int64  \n",
      " 1   first_name        226700 non-null  object \n",
      " 2   last_name         226705 non-null  object \n",
      " 3   company_id        34615 non-null   float64\n",
      " 4   network_username  38867 non-null   object \n",
      "dtypes: float64(1), int64(1), object(3)\n",
      "memory usage: 8.6+ MB\n"
     ]
    },
    {
     "data": {
      "text/html": [
       "<div>\n",
       "<style scoped>\n",
       "    .dataframe tbody tr th:only-of-type {\n",
       "        vertical-align: middle;\n",
       "    }\n",
       "\n",
       "    .dataframe tbody tr th {\n",
       "        vertical-align: top;\n",
       "    }\n",
       "\n",
       "    .dataframe thead th {\n",
       "        text-align: right;\n",
       "    }\n",
       "</style>\n",
       "<table border=\"1\" class=\"dataframe\">\n",
       "  <thead>\n",
       "    <tr style=\"text-align: right;\">\n",
       "      <th></th>\n",
       "      <th>id</th>\n",
       "      <th>first_name</th>\n",
       "      <th>last_name</th>\n",
       "      <th>company_id</th>\n",
       "      <th>network_username</th>\n",
       "    </tr>\n",
       "  </thead>\n",
       "  <tbody>\n",
       "    <tr>\n",
       "      <th>0</th>\n",
       "      <td>10</td>\n",
       "      <td>Mark</td>\n",
       "      <td>Zuckerberg</td>\n",
       "      <td>5.0</td>\n",
       "      <td>NaN</td>\n",
       "    </tr>\n",
       "    <tr>\n",
       "      <th>1</th>\n",
       "      <td>100</td>\n",
       "      <td>Peter</td>\n",
       "      <td>Lester</td>\n",
       "      <td>27.0</td>\n",
       "      <td>NaN</td>\n",
       "    </tr>\n",
       "    <tr>\n",
       "      <th>2</th>\n",
       "      <td>1000</td>\n",
       "      <td>Dr. Steven</td>\n",
       "      <td>E. Saunders</td>\n",
       "      <td>292.0</td>\n",
       "      <td>NaN</td>\n",
       "    </tr>\n",
       "    <tr>\n",
       "      <th>3</th>\n",
       "      <td>10000</td>\n",
       "      <td>Neil</td>\n",
       "      <td>Capel</td>\n",
       "      <td>2526.0</td>\n",
       "      <td>NaN</td>\n",
       "    </tr>\n",
       "    <tr>\n",
       "      <th>4</th>\n",
       "      <td>100000</td>\n",
       "      <td>Sue</td>\n",
       "      <td>Pilsch</td>\n",
       "      <td>NaN</td>\n",
       "      <td>NaN</td>\n",
       "    </tr>\n",
       "    <tr>\n",
       "      <th>5</th>\n",
       "      <td>100002</td>\n",
       "      <td>Keith</td>\n",
       "      <td>Kurzendoerfer</td>\n",
       "      <td>NaN</td>\n",
       "      <td>NaN</td>\n",
       "    </tr>\n",
       "    <tr>\n",
       "      <th>6</th>\n",
       "      <td>100006</td>\n",
       "      <td>Courtney</td>\n",
       "      <td>Homer</td>\n",
       "      <td>81558.0</td>\n",
       "      <td>jobsbostontech</td>\n",
       "    </tr>\n",
       "    <tr>\n",
       "      <th>7</th>\n",
       "      <td>100009</td>\n",
       "      <td>Eddy</td>\n",
       "      <td>Badrina</td>\n",
       "      <td>NaN</td>\n",
       "      <td>NaN</td>\n",
       "    </tr>\n",
       "    <tr>\n",
       "      <th>8</th>\n",
       "      <td>100010</td>\n",
       "      <td>Michael</td>\n",
       "      <td>Dadashyan</td>\n",
       "      <td>NaN</td>\n",
       "      <td>fbroulette</td>\n",
       "    </tr>\n",
       "    <tr>\n",
       "      <th>9</th>\n",
       "      <td>100011</td>\n",
       "      <td>Jeff</td>\n",
       "      <td>Grell</td>\n",
       "      <td>NaN</td>\n",
       "      <td>NaN</td>\n",
       "    </tr>\n",
       "  </tbody>\n",
       "</table>\n",
       "</div>"
      ],
      "text/plain": [
       "       id  first_name      last_name  company_id network_username\n",
       "0      10        Mark     Zuckerberg         5.0              NaN\n",
       "1     100       Peter         Lester        27.0              NaN\n",
       "2    1000  Dr. Steven    E. Saunders       292.0              NaN\n",
       "3   10000        Neil          Capel      2526.0              NaN\n",
       "4  100000         Sue         Pilsch         NaN              NaN\n",
       "5  100002       Keith  Kurzendoerfer         NaN              NaN\n",
       "6  100006    Courtney          Homer     81558.0   jobsbostontech\n",
       "7  100009        Eddy        Badrina         NaN              NaN\n",
       "8  100010     Michael      Dadashyan         NaN       fbroulette\n",
       "9  100011        Jeff          Grell         NaN              NaN"
      ]
     },
     "execution_count": 7,
     "metadata": {},
     "output_type": "execute_result"
    }
   ],
   "source": [
    "people.info()\n",
    "people.head(10)"
   ]
  },
  {
   "cell_type": "code",
   "execution_count": 8,
   "metadata": {},
   "outputs": [
    {
     "name": "stdout",
     "output_type": "stream",
     "text": [
      "<class 'pandas.core.frame.DataFrame'>\n",
      "RangeIndex: 61403 entries, 0 to 61402\n",
      "Data columns (total 4 columns):\n",
      " #   Column            Non-Null Count  Dtype\n",
      "---  ------            --------------  -----\n",
      " 0   id                61403 non-null  int64\n",
      " 1   funding_round_id  61403 non-null  int64\n",
      " 2   company_id        61403 non-null  int64\n",
      " 3   fund_id           61403 non-null  int64\n",
      "dtypes: int64(4)\n",
      "memory usage: 1.9 MB\n"
     ]
    },
    {
     "data": {
      "text/html": [
       "<div>\n",
       "<style scoped>\n",
       "    .dataframe tbody tr th:only-of-type {\n",
       "        vertical-align: middle;\n",
       "    }\n",
       "\n",
       "    .dataframe tbody tr th {\n",
       "        vertical-align: top;\n",
       "    }\n",
       "\n",
       "    .dataframe thead th {\n",
       "        text-align: right;\n",
       "    }\n",
       "</style>\n",
       "<table border=\"1\" class=\"dataframe\">\n",
       "  <thead>\n",
       "    <tr style=\"text-align: right;\">\n",
       "      <th></th>\n",
       "      <th>id</th>\n",
       "      <th>funding_round_id</th>\n",
       "      <th>company_id</th>\n",
       "      <th>fund_id</th>\n",
       "    </tr>\n",
       "  </thead>\n",
       "  <tbody>\n",
       "    <tr>\n",
       "      <th>0</th>\n",
       "      <td>1</td>\n",
       "      <td>1</td>\n",
       "      <td>4</td>\n",
       "      <td>1</td>\n",
       "    </tr>\n",
       "    <tr>\n",
       "      <th>1</th>\n",
       "      <td>2</td>\n",
       "      <td>1</td>\n",
       "      <td>4</td>\n",
       "      <td>2</td>\n",
       "    </tr>\n",
       "    <tr>\n",
       "      <th>2</th>\n",
       "      <td>3</td>\n",
       "      <td>3</td>\n",
       "      <td>5</td>\n",
       "      <td>4</td>\n",
       "    </tr>\n",
       "    <tr>\n",
       "      <th>3</th>\n",
       "      <td>4</td>\n",
       "      <td>4</td>\n",
       "      <td>5</td>\n",
       "      <td>1</td>\n",
       "    </tr>\n",
       "    <tr>\n",
       "      <th>4</th>\n",
       "      <td>5</td>\n",
       "      <td>4</td>\n",
       "      <td>5</td>\n",
       "      <td>5</td>\n",
       "    </tr>\n",
       "  </tbody>\n",
       "</table>\n",
       "</div>"
      ],
      "text/plain": [
       "   id  funding_round_id  company_id  fund_id\n",
       "0   1                 1           4        1\n",
       "1   2                 1           4        2\n",
       "2   3                 3           5        4\n",
       "3   4                 4           5        1\n",
       "4   5                 4           5        5"
      ]
     },
     "execution_count": 8,
     "metadata": {},
     "output_type": "execute_result"
    }
   ],
   "source": [
    "investment.info()\n",
    "investment.head()"
   ]
  },
  {
   "cell_type": "code",
   "execution_count": 9,
   "metadata": {},
   "outputs": [
    {
     "name": "stdout",
     "output_type": "stream",
     "text": [
      "<class 'pandas.core.frame.DataFrame'>\n",
      "RangeIndex: 11652 entries, 0 to 11651\n",
      "Data columns (total 9 columns):\n",
      " #   Column              Non-Null Count  Dtype \n",
      "---  ------              --------------  ----- \n",
      " 0   id                  11652 non-null  int64 \n",
      " 1   name                11649 non-null  object\n",
      " 2   founded_at          4605 non-null   object\n",
      " 3   domain              7362 non-null   object\n",
      " 4   network_username    2149 non-null   object\n",
      " 5   country_code        7053 non-null   object\n",
      " 6   investment_rounds   11652 non-null  int64 \n",
      " 7   invested_companies  11652 non-null  int64 \n",
      " 8   milestones          11652 non-null  int64 \n",
      "dtypes: int64(4), object(5)\n",
      "memory usage: 819.4+ KB\n"
     ]
    },
    {
     "data": {
      "text/html": [
       "<div>\n",
       "<style scoped>\n",
       "    .dataframe tbody tr th:only-of-type {\n",
       "        vertical-align: middle;\n",
       "    }\n",
       "\n",
       "    .dataframe tbody tr th {\n",
       "        vertical-align: top;\n",
       "    }\n",
       "\n",
       "    .dataframe thead th {\n",
       "        text-align: right;\n",
       "    }\n",
       "</style>\n",
       "<table border=\"1\" class=\"dataframe\">\n",
       "  <thead>\n",
       "    <tr style=\"text-align: right;\">\n",
       "      <th></th>\n",
       "      <th>id</th>\n",
       "      <th>name</th>\n",
       "      <th>founded_at</th>\n",
       "      <th>domain</th>\n",
       "      <th>network_username</th>\n",
       "      <th>country_code</th>\n",
       "      <th>investment_rounds</th>\n",
       "      <th>invested_companies</th>\n",
       "      <th>milestones</th>\n",
       "    </tr>\n",
       "  </thead>\n",
       "  <tbody>\n",
       "    <tr>\n",
       "      <th>0</th>\n",
       "      <td>13131</td>\n",
       "      <td>NaN</td>\n",
       "      <td>NaN</td>\n",
       "      <td>NaN</td>\n",
       "      <td>NaN</td>\n",
       "      <td>NaN</td>\n",
       "      <td>0</td>\n",
       "      <td>0</td>\n",
       "      <td>0</td>\n",
       "    </tr>\n",
       "    <tr>\n",
       "      <th>1</th>\n",
       "      <td>1</td>\n",
       "      <td>Greylock Partners</td>\n",
       "      <td>1965-01-01</td>\n",
       "      <td>greylock.com</td>\n",
       "      <td>greylockvc</td>\n",
       "      <td>USA</td>\n",
       "      <td>307</td>\n",
       "      <td>196</td>\n",
       "      <td>0</td>\n",
       "    </tr>\n",
       "    <tr>\n",
       "      <th>2</th>\n",
       "      <td>10</td>\n",
       "      <td>Mission Ventures</td>\n",
       "      <td>1996-01-01</td>\n",
       "      <td>missionventures.com</td>\n",
       "      <td>NaN</td>\n",
       "      <td>USA</td>\n",
       "      <td>58</td>\n",
       "      <td>33</td>\n",
       "      <td>0</td>\n",
       "    </tr>\n",
       "    <tr>\n",
       "      <th>3</th>\n",
       "      <td>100</td>\n",
       "      <td>Kapor Enterprises, Inc.</td>\n",
       "      <td>NaN</td>\n",
       "      <td>kei.com</td>\n",
       "      <td>NaN</td>\n",
       "      <td>USA</td>\n",
       "      <td>2</td>\n",
       "      <td>1</td>\n",
       "      <td>0</td>\n",
       "    </tr>\n",
       "    <tr>\n",
       "      <th>4</th>\n",
       "      <td>1000</td>\n",
       "      <td>Speed Ventures</td>\n",
       "      <td>NaN</td>\n",
       "      <td>NaN</td>\n",
       "      <td>NaN</td>\n",
       "      <td>NaN</td>\n",
       "      <td>0</td>\n",
       "      <td>0</td>\n",
       "      <td>1</td>\n",
       "    </tr>\n",
       "  </tbody>\n",
       "</table>\n",
       "</div>"
      ],
      "text/plain": [
       "      id                     name  founded_at               domain  \\\n",
       "0  13131                      NaN         NaN                  NaN   \n",
       "1      1        Greylock Partners  1965-01-01         greylock.com   \n",
       "2     10         Mission Ventures  1996-01-01  missionventures.com   \n",
       "3    100  Kapor Enterprises, Inc.         NaN              kei.com   \n",
       "4   1000           Speed Ventures         NaN                  NaN   \n",
       "\n",
       "  network_username country_code  investment_rounds  invested_companies  \\\n",
       "0              NaN          NaN                  0                   0   \n",
       "1       greylockvc          USA                307                 196   \n",
       "2              NaN          USA                 58                  33   \n",
       "3              NaN          USA                  2                   1   \n",
       "4              NaN          NaN                  0                   0   \n",
       "\n",
       "   milestones  \n",
       "0           0  \n",
       "1           0  \n",
       "2           0  \n",
       "3           0  \n",
       "4           1  "
      ]
     },
     "execution_count": 9,
     "metadata": {},
     "output_type": "execute_result"
    }
   ],
   "source": [
    "fund.info()\n",
    "fund.head()"
   ]
  },
  {
   "cell_type": "markdown",
   "metadata": {},
   "source": [
    "\n",
    "* Проверьте названия столбцов."
   ]
  },
  {
   "cell_type": "code",
   "execution_count": 10,
   "metadata": {
    "scrolled": true
   },
   "outputs": [
    {
     "data": {
      "text/plain": [
       "Index(['company  ID', 'name', 'category  code', 'status', 'founded  at',\n",
       "       'closed  at', 'domain', 'network  username', 'country  code',\n",
       "       'investment  rounds', 'funding  rounds', 'funding  total', 'milestones',\n",
       "       'funding  round  id', 'company  id', 'funded  at',\n",
       "       'funding  round  type', 'raised  amount', 'pre  money  valuation',\n",
       "       'participants', 'is  first  round', 'is  last  round'],\n",
       "      dtype='object')"
      ]
     },
     "execution_count": 10,
     "metadata": {},
     "output_type": "execute_result"
    }
   ],
   "source": [
    "company_and_rounds.columns"
   ]
  },
  {
   "cell_type": "code",
   "execution_count": 11,
   "metadata": {},
   "outputs": [],
   "source": [
    "def col_to_snake_case(df):\n",
    "    df.columns = df.columns.str.strip().str.replace(r\"\\s+\", \"_\", regex=True)\n",
    "    return df\n"
   ]
  },
  {
   "cell_type": "code",
   "execution_count": 12,
   "metadata": {},
   "outputs": [
    {
     "data": {
      "text/plain": [
       "Index(['company_ID', 'name', 'category_code', 'status', 'founded_at',\n",
       "       'closed_at', 'domain', 'network_username', 'country_code',\n",
       "       'investment_rounds', 'funding_rounds', 'funding_total', 'milestones',\n",
       "       'funding_round_id', 'company_id', 'funded_at', 'funding_round_type',\n",
       "       'raised_amount', 'pre_money_valuation', 'participants',\n",
       "       'is_first_round', 'is_last_round'],\n",
       "      dtype='object')"
      ]
     },
     "execution_count": 12,
     "metadata": {},
     "output_type": "execute_result"
    }
   ],
   "source": [
    "company_and_rounds = col_to_snake_case(company_and_rounds)\n",
    "company_and_rounds.columns"
   ]
  },
  {
   "cell_type": "code",
   "execution_count": 13,
   "metadata": {
    "scrolled": true
   },
   "outputs": [
    {
     "data": {
      "text/html": [
       "<div>\n",
       "<style scoped>\n",
       "    .dataframe tbody tr th:only-of-type {\n",
       "        vertical-align: middle;\n",
       "    }\n",
       "\n",
       "    .dataframe tbody tr th {\n",
       "        vertical-align: top;\n",
       "    }\n",
       "\n",
       "    .dataframe thead th {\n",
       "        text-align: right;\n",
       "    }\n",
       "</style>\n",
       "<table border=\"1\" class=\"dataframe\">\n",
       "  <thead>\n",
       "    <tr style=\"text-align: right;\">\n",
       "      <th></th>\n",
       "      <th>company_ID</th>\n",
       "      <th>company_id</th>\n",
       "    </tr>\n",
       "  </thead>\n",
       "  <tbody>\n",
       "    <tr>\n",
       "      <th>0</th>\n",
       "      <td>1.0</td>\n",
       "      <td>1.0</td>\n",
       "    </tr>\n",
       "    <tr>\n",
       "      <th>1</th>\n",
       "      <td>1.0</td>\n",
       "      <td>1.0</td>\n",
       "    </tr>\n",
       "    <tr>\n",
       "      <th>2</th>\n",
       "      <td>1.0</td>\n",
       "      <td>1.0</td>\n",
       "    </tr>\n",
       "    <tr>\n",
       "      <th>3</th>\n",
       "      <td>10.0</td>\n",
       "      <td>NaN</td>\n",
       "    </tr>\n",
       "    <tr>\n",
       "      <th>4</th>\n",
       "      <td>100.0</td>\n",
       "      <td>NaN</td>\n",
       "    </tr>\n",
       "    <tr>\n",
       "      <th>5</th>\n",
       "      <td>10000.0</td>\n",
       "      <td>NaN</td>\n",
       "    </tr>\n",
       "    <tr>\n",
       "      <th>6</th>\n",
       "      <td>10001.0</td>\n",
       "      <td>NaN</td>\n",
       "    </tr>\n",
       "    <tr>\n",
       "      <th>7</th>\n",
       "      <td>10002.0</td>\n",
       "      <td>NaN</td>\n",
       "    </tr>\n",
       "    <tr>\n",
       "      <th>8</th>\n",
       "      <td>10003.0</td>\n",
       "      <td>NaN</td>\n",
       "    </tr>\n",
       "    <tr>\n",
       "      <th>9</th>\n",
       "      <td>100042.0</td>\n",
       "      <td>NaN</td>\n",
       "    </tr>\n",
       "    <tr>\n",
       "      <th>10</th>\n",
       "      <td>10005.0</td>\n",
       "      <td>NaN</td>\n",
       "    </tr>\n",
       "    <tr>\n",
       "      <th>11</th>\n",
       "      <td>100062.0</td>\n",
       "      <td>NaN</td>\n",
       "    </tr>\n",
       "    <tr>\n",
       "      <th>12</th>\n",
       "      <td>100068.0</td>\n",
       "      <td>NaN</td>\n",
       "    </tr>\n",
       "    <tr>\n",
       "      <th>13</th>\n",
       "      <td>10008.0</td>\n",
       "      <td>NaN</td>\n",
       "    </tr>\n",
       "    <tr>\n",
       "      <th>14</th>\n",
       "      <td>10009.0</td>\n",
       "      <td>NaN</td>\n",
       "    </tr>\n",
       "    <tr>\n",
       "      <th>15</th>\n",
       "      <td>1001.0</td>\n",
       "      <td>1001.0</td>\n",
       "    </tr>\n",
       "    <tr>\n",
       "      <th>16</th>\n",
       "      <td>10010.0</td>\n",
       "      <td>NaN</td>\n",
       "    </tr>\n",
       "    <tr>\n",
       "      <th>17</th>\n",
       "      <td>10011.0</td>\n",
       "      <td>NaN</td>\n",
       "    </tr>\n",
       "    <tr>\n",
       "      <th>18</th>\n",
       "      <td>10012.0</td>\n",
       "      <td>NaN</td>\n",
       "    </tr>\n",
       "    <tr>\n",
       "      <th>19</th>\n",
       "      <td>10013.0</td>\n",
       "      <td>NaN</td>\n",
       "    </tr>\n",
       "  </tbody>\n",
       "</table>\n",
       "</div>"
      ],
      "text/plain": [
       "    company_ID  company_id\n",
       "0          1.0         1.0\n",
       "1          1.0         1.0\n",
       "2          1.0         1.0\n",
       "3         10.0         NaN\n",
       "4        100.0         NaN\n",
       "5      10000.0         NaN\n",
       "6      10001.0         NaN\n",
       "7      10002.0         NaN\n",
       "8      10003.0         NaN\n",
       "9     100042.0         NaN\n",
       "10     10005.0         NaN\n",
       "11    100062.0         NaN\n",
       "12    100068.0         NaN\n",
       "13     10008.0         NaN\n",
       "14     10009.0         NaN\n",
       "15      1001.0      1001.0\n",
       "16     10010.0         NaN\n",
       "17     10011.0         NaN\n",
       "18     10012.0         NaN\n",
       "19     10013.0         NaN"
      ]
     },
     "execution_count": 13,
     "metadata": {},
     "output_type": "execute_result"
    }
   ],
   "source": [
    "# Выведем только два столбца: company_id и name из объединенного датафрейма\n",
    "company_and_rounds[['company_ID','company_id']].head(20)"
   ]
  },
  {
   "cell_type": "markdown",
   "metadata": {},
   "source": [
    "Заметна анамалия в данных. В таблице company_and_rounds есть два стольбца 'company ID' и 'company id'. Эта анамалия требует анализа, для выявления причины ее появления. Данные либо дублируются, либо отсутствуют в одном из столбцов"
   ]
  },
  {
   "cell_type": "markdown",
   "metadata": {
    "id": "mg2gEwh0rJg0"
   },
   "source": [
    "### 1.2. Смена типов и анализ пропусков\n",
    "\n",
    "* Обработайте типы данных в столбцах, которые хранят значения даты и времени, если это необходимо."
   ]
  },
  {
   "cell_type": "code",
   "execution_count": 14,
   "metadata": {
    "id": "FsL0A8RBrJg1"
   },
   "outputs": [
    {
     "name": "stdout",
     "output_type": "stream",
     "text": [
      "<class 'pandas.core.frame.DataFrame'>\n",
      "RangeIndex: 9407 entries, 0 to 9406\n",
      "Data columns (total 6 columns):\n",
      " #   Column                Non-Null Count  Dtype         \n",
      "---  ------                --------------  -----         \n",
      " 0   id                    9407 non-null   int64         \n",
      " 1   acquiring_company_id  9407 non-null   int64         \n",
      " 2   acquired_company_id   9407 non-null   int64         \n",
      " 3   term_code             1831 non-null   object        \n",
      " 4   price_amount          9407 non-null   int64         \n",
      " 5   acquired_at           9378 non-null   datetime64[ns]\n",
      "dtypes: datetime64[ns](1), int64(4), object(1)\n",
      "memory usage: 441.1+ KB\n",
      "<class 'pandas.core.frame.DataFrame'>\n",
      "RangeIndex: 217774 entries, 0 to 217773\n",
      "Data columns (total 22 columns):\n",
      " #   Column               Non-Null Count   Dtype         \n",
      "---  ------               --------------   -----         \n",
      " 0   company_ID           217472 non-null  float64       \n",
      " 1   name                 217471 non-null  object        \n",
      " 2   category_code        143886 non-null  object        \n",
      " 3   status               217472 non-null  object        \n",
      " 4   founded_at           109956 non-null  datetime64[ns]\n",
      " 5   closed_at            3449 non-null    datetime64[ns]\n",
      " 6   domain               147159 non-null  object        \n",
      " 7   network_username     95534 non-null   object        \n",
      " 8   country_code         108607 non-null  object        \n",
      " 9   investment_rounds    217472 non-null  float64       \n",
      " 10  funding_rounds       217472 non-null  float64       \n",
      " 11  funding_total        217472 non-null  float64       \n",
      " 12  milestones           217472 non-null  float64       \n",
      " 13  funding_round_id     52928 non-null   float64       \n",
      " 14  company_id           52928 non-null   float64       \n",
      " 15  funded_at            52680 non-null   datetime64[ns]\n",
      " 16  funding_round_type   52928 non-null   object        \n",
      " 17  raised_amount        52928 non-null   float64       \n",
      " 18  pre_money_valuation  52928 non-null   float64       \n",
      " 19  participants         52928 non-null   float64       \n",
      " 20  is_first_round       52928 non-null   float64       \n",
      " 21  is_last_round        52928 non-null   float64       \n",
      "dtypes: datetime64[ns](3), float64(12), object(7)\n",
      "memory usage: 36.6+ MB\n",
      "<class 'pandas.core.frame.DataFrame'>\n",
      "RangeIndex: 109610 entries, 0 to 109609\n",
      "Data columns (total 4 columns):\n",
      " #   Column        Non-Null Count   Dtype         \n",
      "---  ------        --------------   -----         \n",
      " 0   id            109610 non-null  int64         \n",
      " 1   person_id     109610 non-null  int64         \n",
      " 2   instituition  109555 non-null  object        \n",
      " 3   graduated_at  58054 non-null   datetime64[ns]\n",
      "dtypes: datetime64[ns](1), int64(2), object(1)\n",
      "memory usage: 3.3+ MB\n",
      "<class 'pandas.core.frame.DataFrame'>\n",
      "RangeIndex: 11652 entries, 0 to 11651\n",
      "Data columns (total 9 columns):\n",
      " #   Column              Non-Null Count  Dtype         \n",
      "---  ------              --------------  -----         \n",
      " 0   id                  11652 non-null  int64         \n",
      " 1   name                11649 non-null  object        \n",
      " 2   founded_at          4605 non-null   datetime64[ns]\n",
      " 3   domain              7362 non-null   object        \n",
      " 4   network_username    2149 non-null   object        \n",
      " 5   country_code        7053 non-null   object        \n",
      " 6   investment_rounds   11652 non-null  int64         \n",
      " 7   invested_companies  11652 non-null  int64         \n",
      " 8   milestones          11652 non-null  int64         \n",
      "dtypes: datetime64[ns](1), int64(4), object(4)\n",
      "memory usage: 819.4+ KB\n"
     ]
    }
   ],
   "source": [
    "acquisition['acquired_at'] = pd.to_datetime(acquisition['acquired_at'])\n",
    "\n",
    "company_and_rounds['founded_at'] = pd.to_datetime(company_and_rounds['founded_at'])\n",
    "company_and_rounds['closed_at'] = pd.to_datetime(company_and_rounds['closed_at'])\n",
    "company_and_rounds['funded_at'] = pd.to_datetime(company_and_rounds['funded_at'])\n",
    "\n",
    "education['graduated_at'] = pd.to_datetime(education['graduated_at']) \n",
    "\n",
    "fund['founded_at'] = pd.to_datetime(fund['founded_at']) \n",
    "\n",
    "acquisition.info()\n",
    "company_and_rounds.info()\n",
    "education.info()\n",
    "fund.info()"
   ]
  },
  {
   "cell_type": "markdown",
   "metadata": {},
   "source": [
    "\n",
    "* Оцените полноту данных — сделайте предварительный вывод, достаточно ли данных для решения задач проекта."
   ]
  },
  {
   "cell_type": "code",
   "execution_count": 15,
   "metadata": {},
   "outputs": [
    {
     "data": {
      "text/plain": [
       "id                       0.000000\n",
       "acquiring_company_id     0.000000\n",
       "acquired_company_id      0.000000\n",
       "term_code               80.535771\n",
       "price_amount             0.000000\n",
       "acquired_at              0.308281\n",
       "dtype: float64"
      ]
     },
     "execution_count": 15,
     "metadata": {},
     "output_type": "execute_result"
    }
   ],
   "source": [
    "acquisition.isna().sum() / acquisition.shape[0] * 100"
   ]
  },
  {
   "cell_type": "code",
   "execution_count": 16,
   "metadata": {},
   "outputs": [
    {
     "data": {
      "text/plain": [
       "company_ID              0.138676\n",
       "name                    0.139135\n",
       "category_code          33.928752\n",
       "status                  0.138676\n",
       "founded_at             49.509124\n",
       "closed_at              98.416248\n",
       "domain                 32.425818\n",
       "network_username       56.131586\n",
       "country_code           50.128574\n",
       "investment_rounds       0.138676\n",
       "funding_rounds          0.138676\n",
       "funding_total           0.138676\n",
       "milestones              0.138676\n",
       "funding_round_id       75.695905\n",
       "company_id             75.695905\n",
       "funded_at              75.809784\n",
       "funding_round_type     75.695905\n",
       "raised_amount          75.695905\n",
       "pre_money_valuation    75.695905\n",
       "participants           75.695905\n",
       "is_first_round         75.695905\n",
       "is_last_round          75.695905\n",
       "dtype: float64"
      ]
     },
     "execution_count": 16,
     "metadata": {},
     "output_type": "execute_result"
    }
   ],
   "source": [
    "company_and_rounds.isna().sum() / company_and_rounds.shape[0] * 100"
   ]
  },
  {
   "cell_type": "code",
   "execution_count": 17,
   "metadata": {},
   "outputs": [
    {
     "data": {
      "text/plain": [
       "id               0.000000\n",
       "person_id        0.000000\n",
       "instituition     0.050178\n",
       "graduated_at    47.035854\n",
       "dtype: float64"
      ]
     },
     "execution_count": 17,
     "metadata": {},
     "output_type": "execute_result"
    }
   ],
   "source": [
    "education.isna().sum() / education.shape[0] * 100"
   ]
  },
  {
   "cell_type": "code",
   "execution_count": 18,
   "metadata": {},
   "outputs": [
    {
     "data": {
      "text/plain": [
       "id                   0.000000\n",
       "first_name           0.003970\n",
       "last_name            0.001764\n",
       "company_id          84.731528\n",
       "network_username    82.855996\n",
       "dtype: float64"
      ]
     },
     "execution_count": 18,
     "metadata": {},
     "output_type": "execute_result"
    }
   ],
   "source": [
    "people.isna().sum() / people.shape[0] * 100"
   ]
  },
  {
   "cell_type": "code",
   "execution_count": 19,
   "metadata": {},
   "outputs": [
    {
     "data": {
      "text/plain": [
       "id              0.000000\n",
       "object_id       0.000000\n",
       "degree_type    10.237205\n",
       "subject        25.829760\n",
       "dtype: float64"
      ]
     },
     "execution_count": 19,
     "metadata": {},
     "output_type": "execute_result"
    }
   ],
   "source": [
    "degrees.isna().sum() / degrees.shape[0] * 100"
   ]
  },
  {
   "cell_type": "code",
   "execution_count": 20,
   "metadata": {},
   "outputs": [
    {
     "data": {
      "text/plain": [
       "id                     0.000000\n",
       "name                   0.025747\n",
       "founded_at            60.478888\n",
       "domain                36.817714\n",
       "network_username      81.556814\n",
       "country_code          39.469619\n",
       "investment_rounds      0.000000\n",
       "invested_companies     0.000000\n",
       "milestones             0.000000\n",
       "dtype: float64"
      ]
     },
     "execution_count": 20,
     "metadata": {},
     "output_type": "execute_result"
    }
   ],
   "source": [
    "fund.isna().sum() / fund.shape[0] * 100"
   ]
  },
  {
   "cell_type": "code",
   "execution_count": 21,
   "metadata": {},
   "outputs": [
    {
     "data": {
      "text/plain": [
       "id                  0.0\n",
       "funding_round_id    0.0\n",
       "company_id          0.0\n",
       "fund_id             0.0\n",
       "dtype: float64"
      ]
     },
     "execution_count": 21,
     "metadata": {},
     "output_type": "execute_result"
    }
   ],
   "source": [
    "investment.isna().sum() / investment.shape[0] * 100"
   ]
  },
  {
   "cell_type": "markdown",
   "metadata": {
    "id": "5Sg2O8zNnzKc"
   },
   "source": [
    "Выполненные исправления:\n",
    "- Убраны пробелы и приведены к нижнему регистру.\n",
    "- Заменены пробелы на подчеркивания (_), но в company_and_rounds они превратились в двойные подчеркивания, исправлено.\n",
    "\n",
    "Даты преобразованы в datetime в таблицах:\n",
    "- acquisition[\"acquired_at\"]\n",
    "- education[\"graduated_at\"]\n",
    "- fund[\"founded_at\"]\n",
    " - В company_and_rounds колонки с датами (founded_at, closed_at, funded_at)"
   ]
  },
  {
   "cell_type": "markdown",
   "metadata": {},
   "source": [
    "Вывод:\n",
    "- Данных достаточно для решения задач, но анализ будет ограничен высокой долей пропусков в company_and_rounds и education.\n",
    "\n",
    "- Рекомендуется удаление или заполнение пропусков в ключевых переменных (founded_at, funded_at, raised_amount) для повышения качества выводов"
   ]
  },
  {
   "cell_type": "markdown",
   "metadata": {
    "id": "u60cHsn6rJg1"
   },
   "source": [
    "## Шаг 2. Предобработка данных, предварительное исследование"
   ]
  },
  {
   "cell_type": "markdown",
   "metadata": {
    "id": "g2bHIIjcrJg1"
   },
   "source": [
    "\n",
    "### 2.1. Раунды финансирования по годам\n",
    "\n",
    "Задание необходимо выполнить без объединения и дополнительной предобработки на основе датасета `company_and_rounds.csv`.\n",
    "\n",
    "* Составьте сводную таблицу по годам, в которой на основании столбца `raised_amount` для каждого года указан:\n",
    "\n",
    "  * типичный размер средств, выделяемый в рамках одного раунда;\n",
    "  * общее количество раундов финансирования за этот год.\n",
    "\n",
    "* Оставьте в таблице информацию только для тех лет, для которых есть информация о более чем 50 раундах финансирования.\n",
    "\n",
    "* На основе получившейся таблицы постройте график, который будет отражать динамику типичного размера средств, которые стартапы получали в рамках одного раунда финансирования.\n",
    "\n",
    "На основе полученных данных ответьте на вопросы:\n",
    "\n",
    "* В каком году типичный размер собранных в рамках одного раунда средств был максимален?\n",
    "\n",
    "* Какая тенденция по количеству раундов и выделяемых в рамках каждого раунда средств наблюдалась в 2013 году?"
   ]
  },
  {
   "cell_type": "code",
   "execution_count": 22,
   "metadata": {},
   "outputs": [],
   "source": [
    "company_and_rounds['funded_year'] = company_and_rounds['funded_at'].dt.year \n",
    "pivot_year = pd.pivot_table(\n",
    "   company_and_rounds,\n",
    "    index=['funded_year'],\n",
    "    values=['raised_amount', 'funded_at'],\n",
    "    aggfunc={'raised_amount': 'median', 'funded_at': 'count'})\n",
    "\n",
    "pivot_year = pivot_year[pivot_year['funded_at'] > 50]"
   ]
  },
  {
   "cell_type": "code",
   "execution_count": 23,
   "metadata": {},
   "outputs": [
    {
     "data": {
      "image/png": "[encoded data removed]",
      "text/plain": [
       "<Figure size 720x360 with 1 Axes>"
      ]
     },
     "metadata": {
      "needs_background": "light"
     },
     "output_type": "display_data"
    }
   ],
   "source": [
    "plt.figure(figsize=(10, 5))\n",
    "\n",
    "plt.plot(pivot_year.index, pivot_year[\"raised_amount\"])\n",
    "\n",
    "plt.xlabel(\"Год\")\n",
    "plt.ylabel(\"Типичный размер средств (медиана)\")\n",
    "plt.title(\"Динамика типичного размера средств в рамках одного раунда финансирования\")\n",
    "plt.grid(True)"
   ]
  },
  {
   "cell_type": "markdown",
   "metadata": {
    "id": "ovyDibxNrJg1"
   },
   "source": [
    "Выводы по анализу раундов финансирования\n",
    "\n",
    "- Максимальный типичный размер средств в одном раунде был зафиксирован в 2005 году.\n",
    "\n",
    "Тенденция в 2013 году:\n",
    "\n",
    "- Медианный размер средств в одном раунде финансирования составил 1 200 000 долларов.\n",
    "- Количество раундов было 11072, что говорит о высокой инвестиционной активности.\n",
    "- Видно падение размера инвестиций по сравнению с предыдущими годами, но при этом большое количество раундов, что может указывать на увеличение количества стартапов, но снижение размера финансирования."
   ]
  },
  {
   "cell_type": "markdown",
   "metadata": {
    "id": "45if1en1rJg2"
   },
   "source": [
    "\n",
    "### 2.2. Люди и их образование\n",
    "\n",
    "Заказчик хочет понять, зависит ли полнота сведений о сотрудниках (например, об их образовании) от размера компаний.\n",
    "\n",
    "* Оцените, насколько информация об образовании сотрудников полна. Используя датасеты `people.csv` и `education.csv`, разделите все компании на несколько групп по количеству сотрудников и оцените среднюю долю сотрудников без информации об образовании в каждой из групп. Обоснуйте выбранные границы групп.\n",
    "\n",
    "* Оцените, возможно ли для выполнения задания присоединить к этим таблицам ещё и таблицу `degrees.csv`."
   ]
  },
  {
   "cell_type": "code",
   "execution_count": 24,
   "metadata": {
    "id": "psPO7C4MrJg2"
   },
   "outputs": [
    {
     "data": {
      "text/plain": [
       "id_x                 0.000000\n",
       "first_name           0.003362\n",
       "last_name            0.001494\n",
       "company_id          83.268583\n",
       "network_username    81.032447\n",
       "id_y                59.260947\n",
       "person_id           59.260947\n",
       "instituition        59.281119\n",
       "graduated_at        78.448901\n",
       "has_education        0.000000\n",
       "dtype: float64"
      ]
     },
     "execution_count": 24,
     "metadata": {},
     "output_type": "execute_result"
    }
   ],
   "source": [
    "people_with_education = people.merge(education, left_on=\"id\", right_on=\"person_id\", how=\"left\")\n",
    "\n",
    "# Создание признака наличия информации об образовании\n",
    "people_with_education[\"has_education\"] = people_with_education[\"instituition\"].notna()\n",
    "\n",
    "people_with_education.isna().sum()/ len(people_with_education) * 100"
   ]
  },
  {
   "cell_type": "code",
   "execution_count": 25,
   "metadata": {
    "id": "xdQ6H5ZSn1ZM",
    "scrolled": true
   },
   "outputs": [],
   "source": [
    "company_sizes = people_with_education.groupby('company_id')['id_x'].count().reset_index().rename(columns={\"id_x\": \"employee_count\"})"
   ]
  },
  {
   "cell_type": "code",
   "execution_count": 26,
   "metadata": {
    "scrolled": true
   },
   "outputs": [
    {
     "data": {
      "text/html": [
       "<div>\n",
       "<style scoped>\n",
       "    .dataframe tbody tr th:only-of-type {\n",
       "        vertical-align: middle;\n",
       "    }\n",
       "\n",
       "    .dataframe tbody tr th {\n",
       "        vertical-align: top;\n",
       "    }\n",
       "\n",
       "    .dataframe thead th {\n",
       "        text-align: right;\n",
       "    }\n",
       "</style>\n",
       "<table border=\"1\" class=\"dataframe\">\n",
       "  <thead>\n",
       "    <tr style=\"text-align: right;\">\n",
       "      <th></th>\n",
       "      <th>company_id</th>\n",
       "      <th>employee_count</th>\n",
       "    </tr>\n",
       "  </thead>\n",
       "  <tbody>\n",
       "    <tr>\n",
       "      <th>count</th>\n",
       "      <td>22922.000000</td>\n",
       "      <td>22922.000000</td>\n",
       "    </tr>\n",
       "    <tr>\n",
       "      <th>mean</th>\n",
       "      <td>102688.472646</td>\n",
       "      <td>1.953974</td>\n",
       "    </tr>\n",
       "    <tr>\n",
       "      <th>std</th>\n",
       "      <td>84842.926930</td>\n",
       "      <td>4.087373</td>\n",
       "    </tr>\n",
       "    <tr>\n",
       "      <th>min</th>\n",
       "      <td>1.000000</td>\n",
       "      <td>1.000000</td>\n",
       "    </tr>\n",
       "    <tr>\n",
       "      <th>25%</th>\n",
       "      <td>28844.500000</td>\n",
       "      <td>1.000000</td>\n",
       "    </tr>\n",
       "    <tr>\n",
       "      <th>50%</th>\n",
       "      <td>70878.500000</td>\n",
       "      <td>1.000000</td>\n",
       "    </tr>\n",
       "    <tr>\n",
       "      <th>75%</th>\n",
       "      <td>174083.500000</td>\n",
       "      <td>2.000000</td>\n",
       "    </tr>\n",
       "    <tr>\n",
       "      <th>max</th>\n",
       "      <td>286091.000000</td>\n",
       "      <td>376.000000</td>\n",
       "    </tr>\n",
       "  </tbody>\n",
       "</table>\n",
       "</div>"
      ],
      "text/plain": [
       "          company_id  employee_count\n",
       "count   22922.000000    22922.000000\n",
       "mean   102688.472646        1.953974\n",
       "std     84842.926930        4.087373\n",
       "min         1.000000        1.000000\n",
       "25%     28844.500000        1.000000\n",
       "50%     70878.500000        1.000000\n",
       "75%    174083.500000        2.000000\n",
       "max    286091.000000      376.000000"
      ]
     },
     "execution_count": 26,
     "metadata": {},
     "output_type": "execute_result"
    }
   ],
   "source": [
    "company_sizes.describe()"
   ]
  },
  {
   "cell_type": "code",
   "execution_count": 27,
   "metadata": {},
   "outputs": [],
   "source": [
    "# Подсчет доли сотрудников без данных об образовании в каждой компании\n",
    "company_education_stats = (\n",
    "    people_with_education.groupby(\"company_id\")[\"has_education\"]\n",
    "    .mean()\n",
    "    .reset_index()\n",
    "    .rename(columns={\"has_education\": \"no_education_ratio\"})\n",
    ")"
   ]
  },
  {
   "cell_type": "code",
   "execution_count": 28,
   "metadata": {},
   "outputs": [],
   "source": [
    "company_analysis = company_sizes.merge(company_education_stats, on=\"company_id\", how=\"left\")"
   ]
  },
  {
   "cell_type": "code",
   "execution_count": 29,
   "metadata": {},
   "outputs": [
    {
     "data": {
      "text/html": [
       "<div>\n",
       "<style scoped>\n",
       "    .dataframe tbody tr th:only-of-type {\n",
       "        vertical-align: middle;\n",
       "    }\n",
       "\n",
       "    .dataframe tbody tr th {\n",
       "        vertical-align: top;\n",
       "    }\n",
       "\n",
       "    .dataframe thead th {\n",
       "        text-align: right;\n",
       "    }\n",
       "</style>\n",
       "<table border=\"1\" class=\"dataframe\">\n",
       "  <thead>\n",
       "    <tr style=\"text-align: right;\">\n",
       "      <th></th>\n",
       "      <th>company_id</th>\n",
       "      <th>employee_count</th>\n",
       "      <th>no_education_ratio</th>\n",
       "      <th>employee_group</th>\n",
       "    </tr>\n",
       "  </thead>\n",
       "  <tbody>\n",
       "    <tr>\n",
       "      <th>0</th>\n",
       "      <td>1.0</td>\n",
       "      <td>3</td>\n",
       "      <td>0.666667</td>\n",
       "      <td>Малые (2-10)</td>\n",
       "    </tr>\n",
       "    <tr>\n",
       "      <th>1</th>\n",
       "      <td>2.0</td>\n",
       "      <td>1</td>\n",
       "      <td>1.000000</td>\n",
       "      <td>Микро (1 сотрудник)</td>\n",
       "    </tr>\n",
       "    <tr>\n",
       "      <th>2</th>\n",
       "      <td>3.0</td>\n",
       "      <td>5</td>\n",
       "      <td>0.800000</td>\n",
       "      <td>Малые (2-10)</td>\n",
       "    </tr>\n",
       "    <tr>\n",
       "      <th>3</th>\n",
       "      <td>4.0</td>\n",
       "      <td>18</td>\n",
       "      <td>0.944444</td>\n",
       "      <td>Средние (11-50)</td>\n",
       "    </tr>\n",
       "    <tr>\n",
       "      <th>4</th>\n",
       "      <td>5.0</td>\n",
       "      <td>84</td>\n",
       "      <td>0.809524</td>\n",
       "      <td>Крупные (51+)</td>\n",
       "    </tr>\n",
       "    <tr>\n",
       "      <th>...</th>\n",
       "      <td>...</td>\n",
       "      <td>...</td>\n",
       "      <td>...</td>\n",
       "      <td>...</td>\n",
       "    </tr>\n",
       "    <tr>\n",
       "      <th>22917</th>\n",
       "      <td>285897.0</td>\n",
       "      <td>2</td>\n",
       "      <td>1.000000</td>\n",
       "      <td>Малые (2-10)</td>\n",
       "    </tr>\n",
       "    <tr>\n",
       "      <th>22918</th>\n",
       "      <td>285953.0</td>\n",
       "      <td>1</td>\n",
       "      <td>0.000000</td>\n",
       "      <td>Микро (1 сотрудник)</td>\n",
       "    </tr>\n",
       "    <tr>\n",
       "      <th>22919</th>\n",
       "      <td>285972.0</td>\n",
       "      <td>2</td>\n",
       "      <td>0.500000</td>\n",
       "      <td>Малые (2-10)</td>\n",
       "    </tr>\n",
       "    <tr>\n",
       "      <th>22920</th>\n",
       "      <td>285996.0</td>\n",
       "      <td>1</td>\n",
       "      <td>1.000000</td>\n",
       "      <td>Микро (1 сотрудник)</td>\n",
       "    </tr>\n",
       "    <tr>\n",
       "      <th>22921</th>\n",
       "      <td>286091.0</td>\n",
       "      <td>7</td>\n",
       "      <td>0.714286</td>\n",
       "      <td>Малые (2-10)</td>\n",
       "    </tr>\n",
       "  </tbody>\n",
       "</table>\n",
       "<p>22922 rows × 4 columns</p>\n",
       "</div>"
      ],
      "text/plain": [
       "       company_id  employee_count  no_education_ratio       employee_group\n",
       "0             1.0               3            0.666667         Малые (2-10)\n",
       "1             2.0               1            1.000000  Микро (1 сотрудник)\n",
       "2             3.0               5            0.800000         Малые (2-10)\n",
       "3             4.0              18            0.944444      Средние (11-50)\n",
       "4             5.0              84            0.809524        Крупные (51+)\n",
       "...           ...             ...                 ...                  ...\n",
       "22917    285897.0               2            1.000000         Малые (2-10)\n",
       "22918    285953.0               1            0.000000  Микро (1 сотрудник)\n",
       "22919    285972.0               2            0.500000         Малые (2-10)\n",
       "22920    285996.0               1            1.000000  Микро (1 сотрудник)\n",
       "22921    286091.0               7            0.714286         Малые (2-10)\n",
       "\n",
       "[22922 rows x 4 columns]"
      ]
     },
     "execution_count": 29,
     "metadata": {},
     "output_type": "execute_result"
    }
   ],
   "source": [
    "company_analysis['employee_group'] = pd.cut(company_analysis['employee_count'], bins=[0, 1, 10, 50, 100], labels=[\"Микро (1 сотрудник)\", \"Малые (2-10)\", \"Средние (11-50)\", \"Крупные (51+)\"])\n",
    "company_analysis"
   ]
  },
  {
   "cell_type": "code",
   "execution_count": 30,
   "metadata": {},
   "outputs": [
    {
     "name": "stderr",
     "output_type": "stream",
     "text": [
      "/tmp/ipykernel_77/3054207360.py:2: FutureWarning: The default of observed=False is deprecated and will be changed to True in a future version of pandas. Pass observed=False to retain current behavior or observed=True to adopt the future default and silence this warning.\n",
      "  education_by_size = company_analysis.groupby(\"employee_group\")[\"no_education_ratio\"].mean().reset_index()\n"
     ]
    },
    {
     "data": {
      "text/html": [
       "<div>\n",
       "<style scoped>\n",
       "    .dataframe tbody tr th:only-of-type {\n",
       "        vertical-align: middle;\n",
       "    }\n",
       "\n",
       "    .dataframe tbody tr th {\n",
       "        vertical-align: top;\n",
       "    }\n",
       "\n",
       "    .dataframe thead th {\n",
       "        text-align: right;\n",
       "    }\n",
       "</style>\n",
       "<table border=\"1\" class=\"dataframe\">\n",
       "  <thead>\n",
       "    <tr style=\"text-align: right;\">\n",
       "      <th></th>\n",
       "      <th>employee_group</th>\n",
       "      <th>no_education_ratio</th>\n",
       "    </tr>\n",
       "  </thead>\n",
       "  <tbody>\n",
       "    <tr>\n",
       "      <th>0</th>\n",
       "      <td>Микро (1 сотрудник)</td>\n",
       "      <td>0.407138</td>\n",
       "    </tr>\n",
       "    <tr>\n",
       "      <th>1</th>\n",
       "      <td>Малые (2-10)</td>\n",
       "      <td>0.758444</td>\n",
       "    </tr>\n",
       "    <tr>\n",
       "      <th>2</th>\n",
       "      <td>Средние (11-50)</td>\n",
       "      <td>0.702030</td>\n",
       "    </tr>\n",
       "    <tr>\n",
       "      <th>3</th>\n",
       "      <td>Крупные (51+)</td>\n",
       "      <td>0.813168</td>\n",
       "    </tr>\n",
       "  </tbody>\n",
       "</table>\n",
       "</div>"
      ],
      "text/plain": [
       "        employee_group  no_education_ratio\n",
       "0  Микро (1 сотрудник)            0.407138\n",
       "1         Малые (2-10)            0.758444\n",
       "2      Средние (11-50)            0.702030\n",
       "3        Крупные (51+)            0.813168"
      ]
     },
     "execution_count": 30,
     "metadata": {},
     "output_type": "execute_result"
    }
   ],
   "source": [
    "# Группировка по размеру компании и расчет средней доли сотрудников без образования\n",
    "education_by_size = company_analysis.groupby(\"employee_group\")[\"no_education_ratio\"].mean().reset_index()\n",
    "education_by_size"
   ]
  },
  {
   "cell_type": "markdown",
   "metadata": {},
   "source": [
    "**Выбранные границы групп**\n",
    "\n",
    "- В компаниях работает от 1 до 376 сотрудников\n",
    "\n",
    "- Медиана 1, половина компаний имеет только 1 сотрудника\n",
    "\n",
    "- 75% процентиль 2 сотрудника \n",
    "\n",
    "Можно предположить, что большая часть компаний скорей всего индивидуальные предприниматели или Микро компании.\n",
    "\n",
    "Определение групп по количеству сотрудников:\n",
    "\n",
    "- Микро-компании (1 сотрудник) – составляют более 50% всех компаний.\n",
    "- Малые компании (2–10 сотрудников) – включает компании с выше среднего числа сотрудников.\n",
    "- Средние компании (11–50 сотрудников) – заметно реже встречаются.\n",
    "- Крупные компании (51+ сотрудников) – редкие случаи, но могут показать другую динамику.\n"
   ]
  },
  {
   "cell_type": "markdown",
   "metadata": {},
   "source": [
    "**Вывод**\n",
    "\n",
    "Чем больше компания, тем выше доля сотрудников без данных об образовании\n",
    "\n",
    "- В микро-компаниях (1 сотрудник) информация отсутствует в 40,7% случаев.\n",
    "- В малых компаниях (2–10 сотрудников) доля сотрудников без информации об образовании составляет 75,8%.\n",
    "- В средних компаниях (11–50 сотрудников) этот показатель немного снижается до 70,2%.\n",
    "- В крупных компаниях (51+ сотрудников) отсутствует информация у 81,3% сотрудников.\n"
   ]
  },
  {
   "cell_type": "markdown",
   "metadata": {},
   "source": [
    "**Оцените, возможно ли для выполнения задания присоединить к этим таблицам ещё и таблицу degrees.csv?**\n",
    "\n",
    "Возможно, для этого нужно преобразовать столбец `object_id` (идентификатор сотрудника) из таблицы degrees.csv. \n",
    "А именно удалить \"p:\", после можно объеденить по столбцу `person_id` из таблицы education.csv"
   ]
  },
  {
   "cell_type": "markdown",
   "metadata": {},
   "source": [
    "### 2.3. Объединять или не объединять — вот в чём вопрос\n",
    "\n",
    "Некоторые названия столбцов встречаются в датасетах чаще других. И, например, в результате предварительной проверки датасетов было выяснено, что столбец `company_id` подходит для объединения данных, так как большая часть значений встречается в разных датасетах не один, а несколько раз. Этот столбец может быть использован для объединения данных.\n",
    "\n",
    "* Установите, подходит ли для объединения данных столбец `network_username`, который встречается в нескольких датасетах. Нам необходимо понимать, дублируется ли для разных датасетов информация в столбцах с таким названием, и если да — то насколько часто.\n",
    "\n",
    "* Оцените, можно ли использовать столбцы с именем `network_username` для объединения данных."
   ]
  },
  {
   "cell_type": "markdown",
   "metadata": {},
   "source": [
    "Столбец `network_username` есть в  двух датасетах: people и fund"
   ]
  },
  {
   "cell_type": "code",
   "execution_count": 31,
   "metadata": {
    "id": "Cf5IjfOQrJg1"
   },
   "outputs": [
    {
     "data": {
      "text/plain": [
       "38421"
      ]
     },
     "execution_count": 31,
     "metadata": {},
     "output_type": "execute_result"
    }
   ],
   "source": [
    "num_unique_people = people['network_username'].nunique() \n",
    "num_unique_people"
   ]
  },
  {
   "cell_type": "code",
   "execution_count": 32,
   "metadata": {},
   "outputs": [
    {
     "data": {
      "text/plain": [
       "np.int64(446)"
      ]
     },
     "execution_count": 32,
     "metadata": {},
     "output_type": "execute_result"
    }
   ],
   "source": [
    "people['network_username'].count() - people['network_username'].nunique() "
   ]
  },
  {
   "cell_type": "code",
   "execution_count": 33,
   "metadata": {
    "id": "CilOkz-inz37",
    "scrolled": true
   },
   "outputs": [
    {
     "data": {
      "text/plain": [
       "2098"
      ]
     },
     "execution_count": 33,
     "metadata": {},
     "output_type": "execute_result"
    }
   ],
   "source": [
    "num_unique_fund = fund['network_username'].nunique()\n",
    "num_unique_fund"
   ]
  },
  {
   "cell_type": "code",
   "execution_count": 34,
   "metadata": {
    "scrolled": true
   },
   "outputs": [
    {
     "data": {
      "text/plain": [
       "np.int64(51)"
      ]
     },
     "execution_count": 34,
     "metadata": {},
     "output_type": "execute_result"
    }
   ],
   "source": [
    "fund['network_username'].count() - fund['network_username'].nunique()"
   ]
  },
  {
   "cell_type": "code",
   "execution_count": 35,
   "metadata": {},
   "outputs": [],
   "source": [
    "# Выбираем только столбцы network_username из датасетов, где он присутствует\n",
    "people_usernames = people[['network_username']].dropna()\n",
    "fund_usernames = fund[['network_username']].dropna()\n",
    "\n",
    "# Определяем пересечения значений\n",
    "common_usernames = set(people_usernames['network_username']) & set(fund_usernames['network_username'])\n",
    "\n",
    "# Подсчет количества пересечений\n",
    "num_common = len(common_usernames)\n",
    "\n",
    "# Рассчет доли пересечений\n",
    "people_intersection_rate = round(num_common / num_unique_people *100, 2)\n",
    "fund_intersection_rate = round(num_common / num_unique_fund *100, 2)\n"
   ]
  },
  {
   "cell_type": "code",
   "execution_count": 36,
   "metadata": {},
   "outputs": [
    {
     "data": {
      "text/plain": [
       "79"
      ]
     },
     "execution_count": 36,
     "metadata": {},
     "output_type": "execute_result"
    }
   ],
   "source": [
    "len(common_usernames)"
   ]
  },
  {
   "cell_type": "code",
   "execution_count": 37,
   "metadata": {},
   "outputs": [
    {
     "data": {
      "text/plain": [
       "0.21"
      ]
     },
     "execution_count": 37,
     "metadata": {},
     "output_type": "execute_result"
    }
   ],
   "source": [
    "people_intersection_rate"
   ]
  },
  {
   "cell_type": "code",
   "execution_count": 38,
   "metadata": {},
   "outputs": [
    {
     "data": {
      "text/plain": [
       "3.77"
      ]
     },
     "execution_count": 38,
     "metadata": {},
     "output_type": "execute_result"
    }
   ],
   "source": [
    "fund_intersection_rate"
   ]
  },
  {
   "cell_type": "markdown",
   "metadata": {},
   "source": [
    "**Вывод по анализу пересечений network_username**\n",
    "\n",
    "Общее количество уникальных network_username:\n",
    "- В people.csv – 38 421 уникальных значений.\n",
    "- В fund.csv – 2 098 уникальных значений.\n",
    "\n",
    "Число пересечений (общие network_username в обоих датасетах):\n",
    "- Всего 79 совпадающих значений между people.csv и fund.csv.\n",
    "\n",
    "Процент пересечений:\n",
    "- В people.csv пересечения составляют всего 0,2% (очень мало).\n",
    "- В fund.csv пересечения составляют 3,8% (немного больше, но тоже небольшая доля).\n",
    "\n",
    "**Можно ли использовать network_username для объединения данных?**\n",
    "\n",
    "Нет, network_username плохо подходит для объединения, потому что:\n",
    "- Мало пересечений между people.csv и fund.csv (всего 79 случаев).\n",
    "- Различные значения в датасетах – network_username используется в каждом файле отдельно и не соединяет их напрямую.\n"
   ]
  },
  {
   "cell_type": "markdown",
   "metadata": {
    "id": "EHcODomVrJg1"
   },
   "source": [
    "\n",
    "### 2.4. Проблемный датасет и причина возникновения пропусков\n",
    "\n",
    "Во время собственного анализа данных у заказчика больше всего вопросов возникло к датасету `company_and_rounds.csv`. В нём много пропусков как раз в информации о раундах, которая заказчику важна. Хотя информация об общем объёме финансирования по раундам присутствует в других датасетах, заказчик считает данные `company_and_rounds.csv` о размере средств наиболее верными.\n",
    "\n",
    "* Любым удобным способом приведите данные в вид, который позволяет проводить анализ в разрезе отдельных компаний. Можно изменять форму данных, порядок их хранения. Обратите внимание на структуру датасета, порядок и названия столбцов, проанализируйте значения.\n",
    "\n",
    "По гипотезе заказчика данные по компаниям из этой таблицы раньше хранились иначе, более удобным для исследования образом.\n",
    "\n",
    "* Максимальным образом сохраняя данные, сохранив их связность и исключив возможные возникающие при этом ошибки, подготовьте данные так, чтобы удобно было отобрать компании по параметрам и рассчитать показатели из расчёта на одну компанию."
   ]
  },
  {
   "cell_type": "code",
   "execution_count": 39,
   "metadata": {
    "id": "tJ6Sl6MKrJg1"
   },
   "outputs": [],
   "source": [
    "# Создание датасета с информацией о компаниях\n",
    "companies_df = company_and_rounds[[\"company_id\", \"name\", \"category_code\", \"status\", \"founded_at\", \n",
    "                        \"closed_at\", \"domain\", \"network_username\", \"country_code\", \n",
    "                        \"investment_rounds\", \"funding_rounds\", \"funding_total\", \"milestones\"]].drop_duplicates()"
   ]
  },
  {
   "cell_type": "code",
   "execution_count": 40,
   "metadata": {},
   "outputs": [
    {
     "data": {
      "text/plain": [
       "196750"
      ]
     },
     "execution_count": 40,
     "metadata": {},
     "output_type": "execute_result"
    }
   ],
   "source": [
    "companies_df.shape[0]"
   ]
  },
  {
   "cell_type": "code",
   "execution_count": 41,
   "metadata": {
    "id": "SFfUmzron0Tc"
   },
   "outputs": [],
   "source": [
    "# Создание датасета с информацией о раундах финансирования\n",
    "rounds_df = company_and_rounds[[\"funding_round_id\", \"company_id\", \"funded_at\", \"funding_round_type\", \n",
    "                     \"raised_amount\", \"pre_money_valuation\", \"participants\", \"is_first_round\", \n",
    "                     \"is_last_round\"]].dropna()"
   ]
  },
  {
   "cell_type": "code",
   "execution_count": 42,
   "metadata": {},
   "outputs": [
    {
     "data": {
      "text/plain": [
       "52680"
      ]
     },
     "execution_count": 42,
     "metadata": {},
     "output_type": "execute_result"
    }
   ],
   "source": [
    "rounds_df.shape[0]"
   ]
  },
  {
   "cell_type": "code",
   "execution_count": 43,
   "metadata": {},
   "outputs": [
    {
     "data": {
      "text/plain": [
       "(31939, np.int64(31939))"
      ]
     },
     "execution_count": 43,
     "metadata": {},
     "output_type": "execute_result"
    }
   ],
   "source": [
    "companies_df['company_id'].nunique(), companies_df['company_id'].count()"
   ]
  },
  {
   "cell_type": "code",
   "execution_count": 44,
   "metadata": {},
   "outputs": [
    {
     "name": "stdout",
     "output_type": "stream",
     "text": [
      "<class 'pandas.core.frame.DataFrame'>\n",
      "Index: 196750 entries, 0 to 217773\n",
      "Data columns (total 13 columns):\n",
      " #   Column             Non-Null Count   Dtype         \n",
      "---  ------             --------------   -----         \n",
      " 0   company_id         31939 non-null   float64       \n",
      " 1   name               196517 non-null  object        \n",
      " 2   category_code      123179 non-null  object        \n",
      " 3   status             196518 non-null  object        \n",
      " 4   founded_at         91223 non-null   datetime64[ns]\n",
      " 5   closed_at          2620 non-null    datetime64[ns]\n",
      " 6   domain             126537 non-null  object        \n",
      " 7   network_username   80587 non-null   object        \n",
      " 8   country_code       87988 non-null   object        \n",
      " 9   investment_rounds  196518 non-null  float64       \n",
      " 10  funding_rounds     196518 non-null  float64       \n",
      " 11  funding_total      196518 non-null  float64       \n",
      " 12  milestones         196518 non-null  float64       \n",
      "dtypes: datetime64[ns](2), float64(5), object(6)\n",
      "memory usage: 21.0+ MB\n"
     ]
    },
    {
     "data": {
      "text/html": [
       "<div>\n",
       "<style scoped>\n",
       "    .dataframe tbody tr th:only-of-type {\n",
       "        vertical-align: middle;\n",
       "    }\n",
       "\n",
       "    .dataframe tbody tr th {\n",
       "        vertical-align: top;\n",
       "    }\n",
       "\n",
       "    .dataframe thead th {\n",
       "        text-align: right;\n",
       "    }\n",
       "</style>\n",
       "<table border=\"1\" class=\"dataframe\">\n",
       "  <thead>\n",
       "    <tr style=\"text-align: right;\">\n",
       "      <th></th>\n",
       "      <th>company_id</th>\n",
       "      <th>name</th>\n",
       "      <th>category_code</th>\n",
       "      <th>status</th>\n",
       "      <th>founded_at</th>\n",
       "      <th>closed_at</th>\n",
       "      <th>domain</th>\n",
       "      <th>network_username</th>\n",
       "      <th>country_code</th>\n",
       "      <th>investment_rounds</th>\n",
       "      <th>funding_rounds</th>\n",
       "      <th>funding_total</th>\n",
       "      <th>milestones</th>\n",
       "    </tr>\n",
       "  </thead>\n",
       "  <tbody>\n",
       "    <tr>\n",
       "      <th>0</th>\n",
       "      <td>1.0</td>\n",
       "      <td>Wetpaint</td>\n",
       "      <td>web</td>\n",
       "      <td>operating</td>\n",
       "      <td>2005-10-17</td>\n",
       "      <td>NaT</td>\n",
       "      <td>wetpaint-inc.com</td>\n",
       "      <td>BachelrWetpaint</td>\n",
       "      <td>USA</td>\n",
       "      <td>0.0</td>\n",
       "      <td>3.0</td>\n",
       "      <td>39750000.0</td>\n",
       "      <td>5.0</td>\n",
       "    </tr>\n",
       "    <tr>\n",
       "      <th>3</th>\n",
       "      <td>NaN</td>\n",
       "      <td>Flektor</td>\n",
       "      <td>games_video</td>\n",
       "      <td>acquired</td>\n",
       "      <td>NaT</td>\n",
       "      <td>NaT</td>\n",
       "      <td>flektor.com</td>\n",
       "      <td>NaN</td>\n",
       "      <td>USA</td>\n",
       "      <td>0.0</td>\n",
       "      <td>0.0</td>\n",
       "      <td>0.0</td>\n",
       "      <td>0.0</td>\n",
       "    </tr>\n",
       "    <tr>\n",
       "      <th>4</th>\n",
       "      <td>NaN</td>\n",
       "      <td>There</td>\n",
       "      <td>games_video</td>\n",
       "      <td>acquired</td>\n",
       "      <td>NaT</td>\n",
       "      <td>NaT</td>\n",
       "      <td>there.com</td>\n",
       "      <td>NaN</td>\n",
       "      <td>USA</td>\n",
       "      <td>0.0</td>\n",
       "      <td>0.0</td>\n",
       "      <td>0.0</td>\n",
       "      <td>4.0</td>\n",
       "    </tr>\n",
       "    <tr>\n",
       "      <th>5</th>\n",
       "      <td>NaN</td>\n",
       "      <td>MYWEBBO</td>\n",
       "      <td>network_hosting</td>\n",
       "      <td>operating</td>\n",
       "      <td>2008-07-26</td>\n",
       "      <td>NaT</td>\n",
       "      <td>mywebbo.com</td>\n",
       "      <td>NaN</td>\n",
       "      <td>NaN</td>\n",
       "      <td>0.0</td>\n",
       "      <td>0.0</td>\n",
       "      <td>0.0</td>\n",
       "      <td>0.0</td>\n",
       "    </tr>\n",
       "    <tr>\n",
       "      <th>6</th>\n",
       "      <td>NaN</td>\n",
       "      <td>THE Movie Streamer</td>\n",
       "      <td>games_video</td>\n",
       "      <td>operating</td>\n",
       "      <td>2008-07-26</td>\n",
       "      <td>NaT</td>\n",
       "      <td>themoviestreamer.com</td>\n",
       "      <td>NaN</td>\n",
       "      <td>NaN</td>\n",
       "      <td>0.0</td>\n",
       "      <td>0.0</td>\n",
       "      <td>0.0</td>\n",
       "      <td>0.0</td>\n",
       "    </tr>\n",
       "    <tr>\n",
       "      <th>7</th>\n",
       "      <td>NaN</td>\n",
       "      <td>Synergie Media</td>\n",
       "      <td>advertising</td>\n",
       "      <td>operating</td>\n",
       "      <td>2007-06-27</td>\n",
       "      <td>NaT</td>\n",
       "      <td>synergie-media.com</td>\n",
       "      <td>NaN</td>\n",
       "      <td>MAR</td>\n",
       "      <td>0.0</td>\n",
       "      <td>0.0</td>\n",
       "      <td>0.0</td>\n",
       "      <td>0.0</td>\n",
       "    </tr>\n",
       "    <tr>\n",
       "      <th>8</th>\n",
       "      <td>NaN</td>\n",
       "      <td>Green Basti Ecosystems</td>\n",
       "      <td>cleantech</td>\n",
       "      <td>operating</td>\n",
       "      <td>2008-08-20</td>\n",
       "      <td>NaT</td>\n",
       "      <td>NaN</td>\n",
       "      <td>NaN</td>\n",
       "      <td>IND</td>\n",
       "      <td>0.0</td>\n",
       "      <td>0.0</td>\n",
       "      <td>0.0</td>\n",
       "      <td>0.0</td>\n",
       "    </tr>\n",
       "    <tr>\n",
       "      <th>9</th>\n",
       "      <td>NaN</td>\n",
       "      <td>HostNine</td>\n",
       "      <td>NaN</td>\n",
       "      <td>operating</td>\n",
       "      <td>NaT</td>\n",
       "      <td>NaT</td>\n",
       "      <td>hostnine.com</td>\n",
       "      <td>Hostnine</td>\n",
       "      <td>NaN</td>\n",
       "      <td>0.0</td>\n",
       "      <td>0.0</td>\n",
       "      <td>0.0</td>\n",
       "      <td>1.0</td>\n",
       "    </tr>\n",
       "    <tr>\n",
       "      <th>10</th>\n",
       "      <td>NaN</td>\n",
       "      <td>Thomas Publishing</td>\n",
       "      <td>advertising</td>\n",
       "      <td>operating</td>\n",
       "      <td>NaT</td>\n",
       "      <td>NaT</td>\n",
       "      <td>thomaspublishing.com</td>\n",
       "      <td>NaN</td>\n",
       "      <td>USA</td>\n",
       "      <td>0.0</td>\n",
       "      <td>0.0</td>\n",
       "      <td>0.0</td>\n",
       "      <td>1.0</td>\n",
       "    </tr>\n",
       "    <tr>\n",
       "      <th>11</th>\n",
       "      <td>NaN</td>\n",
       "      <td>Vetter Idea Management System</td>\n",
       "      <td>enterprise</td>\n",
       "      <td>operating</td>\n",
       "      <td>2011-08-01</td>\n",
       "      <td>NaT</td>\n",
       "      <td>getvetter.com</td>\n",
       "      <td>getvetter</td>\n",
       "      <td>NaN</td>\n",
       "      <td>0.0</td>\n",
       "      <td>0.0</td>\n",
       "      <td>0.0</td>\n",
       "      <td>1.0</td>\n",
       "    </tr>\n",
       "    <tr>\n",
       "      <th>12</th>\n",
       "      <td>NaN</td>\n",
       "      <td>ChatRandom</td>\n",
       "      <td>games_video</td>\n",
       "      <td>operating</td>\n",
       "      <td>2011-02-01</td>\n",
       "      <td>NaT</td>\n",
       "      <td>chatrandom.com</td>\n",
       "      <td>chatrandom</td>\n",
       "      <td>NaN</td>\n",
       "      <td>0.0</td>\n",
       "      <td>0.0</td>\n",
       "      <td>0.0</td>\n",
       "      <td>1.0</td>\n",
       "    </tr>\n",
       "    <tr>\n",
       "      <th>13</th>\n",
       "      <td>NaN</td>\n",
       "      <td>ScapadasAmorosas</td>\n",
       "      <td>other</td>\n",
       "      <td>operating</td>\n",
       "      <td>2007-03-01</td>\n",
       "      <td>NaT</td>\n",
       "      <td>scapadasamorosas.com</td>\n",
       "      <td>NaN</td>\n",
       "      <td>NaN</td>\n",
       "      <td>0.0</td>\n",
       "      <td>0.0</td>\n",
       "      <td>0.0</td>\n",
       "      <td>0.0</td>\n",
       "    </tr>\n",
       "    <tr>\n",
       "      <th>14</th>\n",
       "      <td>NaN</td>\n",
       "      <td>dimension5 labs</td>\n",
       "      <td>advertising</td>\n",
       "      <td>operating</td>\n",
       "      <td>2008-08-01</td>\n",
       "      <td>NaT</td>\n",
       "      <td>d5labs.com</td>\n",
       "      <td>NaN</td>\n",
       "      <td>USA</td>\n",
       "      <td>0.0</td>\n",
       "      <td>0.0</td>\n",
       "      <td>0.0</td>\n",
       "      <td>1.0</td>\n",
       "    </tr>\n",
       "    <tr>\n",
       "      <th>15</th>\n",
       "      <td>1001.0</td>\n",
       "      <td>FriendFeed</td>\n",
       "      <td>web</td>\n",
       "      <td>acquired</td>\n",
       "      <td>2007-10-01</td>\n",
       "      <td>NaT</td>\n",
       "      <td>friendfeed.com</td>\n",
       "      <td>friendfeed</td>\n",
       "      <td>USA</td>\n",
       "      <td>0.0</td>\n",
       "      <td>1.0</td>\n",
       "      <td>5000000.0</td>\n",
       "      <td>3.0</td>\n",
       "    </tr>\n",
       "    <tr>\n",
       "      <th>16</th>\n",
       "      <td>NaN</td>\n",
       "      <td>Whooligan</td>\n",
       "      <td>games_video</td>\n",
       "      <td>operating</td>\n",
       "      <td>2007-12-01</td>\n",
       "      <td>NaT</td>\n",
       "      <td>whooligan.com</td>\n",
       "      <td>NaN</td>\n",
       "      <td>NaN</td>\n",
       "      <td>0.0</td>\n",
       "      <td>0.0</td>\n",
       "      <td>0.0</td>\n",
       "      <td>0.0</td>\n",
       "    </tr>\n",
       "    <tr>\n",
       "      <th>17</th>\n",
       "      <td>NaN</td>\n",
       "      <td>PoetryVisualized.com</td>\n",
       "      <td>games_video</td>\n",
       "      <td>operating</td>\n",
       "      <td>2008-01-01</td>\n",
       "      <td>NaT</td>\n",
       "      <td>poetryvisualized.com</td>\n",
       "      <td>NaN</td>\n",
       "      <td>USA</td>\n",
       "      <td>0.0</td>\n",
       "      <td>0.0</td>\n",
       "      <td>0.0</td>\n",
       "      <td>1.0</td>\n",
       "    </tr>\n",
       "    <tr>\n",
       "      <th>18</th>\n",
       "      <td>NaN</td>\n",
       "      <td>moviestring.com</td>\n",
       "      <td>games_video</td>\n",
       "      <td>closed</td>\n",
       "      <td>2008-08-22</td>\n",
       "      <td>2010-01-01</td>\n",
       "      <td>moviestring.com</td>\n",
       "      <td>NaN</td>\n",
       "      <td>NaN</td>\n",
       "      <td>0.0</td>\n",
       "      <td>0.0</td>\n",
       "      <td>0.0</td>\n",
       "      <td>0.0</td>\n",
       "    </tr>\n",
       "    <tr>\n",
       "      <th>19</th>\n",
       "      <td>NaN</td>\n",
       "      <td>The Adory</td>\n",
       "      <td>consulting</td>\n",
       "      <td>operating</td>\n",
       "      <td>2008-01-01</td>\n",
       "      <td>NaT</td>\n",
       "      <td>theadory.com</td>\n",
       "      <td>the_adory</td>\n",
       "      <td>NaN</td>\n",
       "      <td>0.0</td>\n",
       "      <td>0.0</td>\n",
       "      <td>0.0</td>\n",
       "      <td>0.0</td>\n",
       "    </tr>\n",
       "    <tr>\n",
       "      <th>20</th>\n",
       "      <td>10014.0</td>\n",
       "      <td>Mobclix</td>\n",
       "      <td>mobile</td>\n",
       "      <td>acquired</td>\n",
       "      <td>2008-03-01</td>\n",
       "      <td>NaT</td>\n",
       "      <td>mobclix.com</td>\n",
       "      <td>mobclix</td>\n",
       "      <td>USA</td>\n",
       "      <td>0.0</td>\n",
       "      <td>1.0</td>\n",
       "      <td>0.0</td>\n",
       "      <td>4.0</td>\n",
       "    </tr>\n",
       "    <tr>\n",
       "      <th>21</th>\n",
       "      <td>10015.0</td>\n",
       "      <td>Fitbit</td>\n",
       "      <td>health</td>\n",
       "      <td>operating</td>\n",
       "      <td>2007-10-01</td>\n",
       "      <td>NaT</td>\n",
       "      <td>fitbit.com</td>\n",
       "      <td>fitbit</td>\n",
       "      <td>USA</td>\n",
       "      <td>0.0</td>\n",
       "      <td>5.0</td>\n",
       "      <td>68069200.0</td>\n",
       "      <td>0.0</td>\n",
       "    </tr>\n",
       "  </tbody>\n",
       "</table>\n",
       "</div>"
      ],
      "text/plain": [
       "    company_id                           name    category_code     status  \\\n",
       "0          1.0                       Wetpaint              web  operating   \n",
       "3          NaN                        Flektor      games_video   acquired   \n",
       "4          NaN                          There      games_video   acquired   \n",
       "5          NaN                        MYWEBBO  network_hosting  operating   \n",
       "6          NaN             THE Movie Streamer      games_video  operating   \n",
       "7          NaN                 Synergie Media      advertising  operating   \n",
       "8          NaN         Green Basti Ecosystems        cleantech  operating   \n",
       "9          NaN                       HostNine              NaN  operating   \n",
       "10         NaN              Thomas Publishing      advertising  operating   \n",
       "11         NaN  Vetter Idea Management System       enterprise  operating   \n",
       "12         NaN                     ChatRandom      games_video  operating   \n",
       "13         NaN               ScapadasAmorosas            other  operating   \n",
       "14         NaN                dimension5 labs      advertising  operating   \n",
       "15      1001.0                     FriendFeed              web   acquired   \n",
       "16         NaN                      Whooligan      games_video  operating   \n",
       "17         NaN           PoetryVisualized.com      games_video  operating   \n",
       "18         NaN                moviestring.com      games_video     closed   \n",
       "19         NaN                      The Adory       consulting  operating   \n",
       "20     10014.0                        Mobclix           mobile   acquired   \n",
       "21     10015.0                         Fitbit           health  operating   \n",
       "\n",
       "   founded_at  closed_at                domain network_username country_code  \\\n",
       "0  2005-10-17        NaT      wetpaint-inc.com  BachelrWetpaint          USA   \n",
       "3         NaT        NaT           flektor.com              NaN          USA   \n",
       "4         NaT        NaT             there.com              NaN          USA   \n",
       "5  2008-07-26        NaT           mywebbo.com              NaN          NaN   \n",
       "6  2008-07-26        NaT  themoviestreamer.com              NaN          NaN   \n",
       "7  2007-06-27        NaT    synergie-media.com              NaN          MAR   \n",
       "8  2008-08-20        NaT                   NaN              NaN          IND   \n",
       "9         NaT        NaT          hostnine.com         Hostnine          NaN   \n",
       "10        NaT        NaT  thomaspublishing.com              NaN          USA   \n",
       "11 2011-08-01        NaT         getvetter.com        getvetter          NaN   \n",
       "12 2011-02-01        NaT        chatrandom.com       chatrandom          NaN   \n",
       "13 2007-03-01        NaT  scapadasamorosas.com              NaN          NaN   \n",
       "14 2008-08-01        NaT            d5labs.com              NaN          USA   \n",
       "15 2007-10-01        NaT        friendfeed.com       friendfeed          USA   \n",
       "16 2007-12-01        NaT         whooligan.com              NaN          NaN   \n",
       "17 2008-01-01        NaT  poetryvisualized.com              NaN          USA   \n",
       "18 2008-08-22 2010-01-01       moviestring.com              NaN          NaN   \n",
       "19 2008-01-01        NaT          theadory.com        the_adory          NaN   \n",
       "20 2008-03-01        NaT           mobclix.com          mobclix          USA   \n",
       "21 2007-10-01        NaT            fitbit.com           fitbit          USA   \n",
       "\n",
       "    investment_rounds  funding_rounds  funding_total  milestones  \n",
       "0                 0.0             3.0     39750000.0         5.0  \n",
       "3                 0.0             0.0            0.0         0.0  \n",
       "4                 0.0             0.0            0.0         4.0  \n",
       "5                 0.0             0.0            0.0         0.0  \n",
       "6                 0.0             0.0            0.0         0.0  \n",
       "7                 0.0             0.0            0.0         0.0  \n",
       "8                 0.0             0.0            0.0         0.0  \n",
       "9                 0.0             0.0            0.0         1.0  \n",
       "10                0.0             0.0            0.0         1.0  \n",
       "11                0.0             0.0            0.0         1.0  \n",
       "12                0.0             0.0            0.0         1.0  \n",
       "13                0.0             0.0            0.0         0.0  \n",
       "14                0.0             0.0            0.0         1.0  \n",
       "15                0.0             1.0      5000000.0         3.0  \n",
       "16                0.0             0.0            0.0         0.0  \n",
       "17                0.0             0.0            0.0         1.0  \n",
       "18                0.0             0.0            0.0         0.0  \n",
       "19                0.0             0.0            0.0         0.0  \n",
       "20                0.0             1.0            0.0         4.0  \n",
       "21                0.0             5.0     68069200.0         0.0  "
      ]
     },
     "execution_count": 44,
     "metadata": {},
     "output_type": "execute_result"
    }
   ],
   "source": [
    "companies_df.info()\n",
    "companies_df.head(20)"
   ]
  },
  {
   "cell_type": "code",
   "execution_count": 45,
   "metadata": {},
   "outputs": [
    {
     "data": {
      "text/plain": [
       "(31735, np.int64(52680))"
      ]
     },
     "execution_count": 45,
     "metadata": {},
     "output_type": "execute_result"
    }
   ],
   "source": [
    "rounds_df['company_id'].nunique(), rounds_df['company_id'].count()"
   ]
  },
  {
   "cell_type": "code",
   "execution_count": 46,
   "metadata": {
    "scrolled": true
   },
   "outputs": [
    {
     "name": "stdout",
     "output_type": "stream",
     "text": [
      "<class 'pandas.core.frame.DataFrame'>\n",
      "Index: 52680 entries, 0 to 217773\n",
      "Data columns (total 9 columns):\n",
      " #   Column               Non-Null Count  Dtype         \n",
      "---  ------               --------------  -----         \n",
      " 0   funding_round_id     52680 non-null  float64       \n",
      " 1   company_id           52680 non-null  float64       \n",
      " 2   funded_at            52680 non-null  datetime64[ns]\n",
      " 3   funding_round_type   52680 non-null  object        \n",
      " 4   raised_amount        52680 non-null  float64       \n",
      " 5   pre_money_valuation  52680 non-null  float64       \n",
      " 6   participants         52680 non-null  float64       \n",
      " 7   is_first_round       52680 non-null  float64       \n",
      " 8   is_last_round        52680 non-null  float64       \n",
      "dtypes: datetime64[ns](1), float64(7), object(1)\n",
      "memory usage: 4.0+ MB\n"
     ]
    },
    {
     "data": {
      "text/html": [
       "<div>\n",
       "<style scoped>\n",
       "    .dataframe tbody tr th:only-of-type {\n",
       "        vertical-align: middle;\n",
       "    }\n",
       "\n",
       "    .dataframe tbody tr th {\n",
       "        vertical-align: top;\n",
       "    }\n",
       "\n",
       "    .dataframe thead th {\n",
       "        text-align: right;\n",
       "    }\n",
       "</style>\n",
       "<table border=\"1\" class=\"dataframe\">\n",
       "  <thead>\n",
       "    <tr style=\"text-align: right;\">\n",
       "      <th></th>\n",
       "      <th>funding_round_id</th>\n",
       "      <th>company_id</th>\n",
       "      <th>funded_at</th>\n",
       "      <th>funding_round_type</th>\n",
       "      <th>raised_amount</th>\n",
       "      <th>pre_money_valuation</th>\n",
       "      <th>participants</th>\n",
       "      <th>is_first_round</th>\n",
       "      <th>is_last_round</th>\n",
       "    </tr>\n",
       "  </thead>\n",
       "  <tbody>\n",
       "    <tr>\n",
       "      <th>0</th>\n",
       "      <td>888.0</td>\n",
       "      <td>1.0</td>\n",
       "      <td>2005-10-01</td>\n",
       "      <td>series-a</td>\n",
       "      <td>5250000.0</td>\n",
       "      <td>0.0</td>\n",
       "      <td>2.0</td>\n",
       "      <td>0.0</td>\n",
       "      <td>1.0</td>\n",
       "    </tr>\n",
       "    <tr>\n",
       "      <th>1</th>\n",
       "      <td>889.0</td>\n",
       "      <td>1.0</td>\n",
       "      <td>2007-01-01</td>\n",
       "      <td>series-b</td>\n",
       "      <td>9500000.0</td>\n",
       "      <td>0.0</td>\n",
       "      <td>3.0</td>\n",
       "      <td>0.0</td>\n",
       "      <td>0.0</td>\n",
       "    </tr>\n",
       "    <tr>\n",
       "      <th>2</th>\n",
       "      <td>2312.0</td>\n",
       "      <td>1.0</td>\n",
       "      <td>2008-05-19</td>\n",
       "      <td>series-c+</td>\n",
       "      <td>25000000.0</td>\n",
       "      <td>0.0</td>\n",
       "      <td>4.0</td>\n",
       "      <td>1.0</td>\n",
       "      <td>0.0</td>\n",
       "    </tr>\n",
       "    <tr>\n",
       "      <th>15</th>\n",
       "      <td>1644.0</td>\n",
       "      <td>1001.0</td>\n",
       "      <td>2008-02-26</td>\n",
       "      <td>series-a</td>\n",
       "      <td>5000000.0</td>\n",
       "      <td>0.0</td>\n",
       "      <td>3.0</td>\n",
       "      <td>1.0</td>\n",
       "      <td>1.0</td>\n",
       "    </tr>\n",
       "    <tr>\n",
       "      <th>20</th>\n",
       "      <td>6682.0</td>\n",
       "      <td>10014.0</td>\n",
       "      <td>2008-09-01</td>\n",
       "      <td>angel</td>\n",
       "      <td>0.0</td>\n",
       "      <td>0.0</td>\n",
       "      <td>1.0</td>\n",
       "      <td>1.0</td>\n",
       "      <td>1.0</td>\n",
       "    </tr>\n",
       "    <tr>\n",
       "      <th>21</th>\n",
       "      <td>3619.0</td>\n",
       "      <td>10015.0</td>\n",
       "      <td>2008-10-10</td>\n",
       "      <td>series-a</td>\n",
       "      <td>2000000.0</td>\n",
       "      <td>0.0</td>\n",
       "      <td>2.0</td>\n",
       "      <td>0.0</td>\n",
       "      <td>1.0</td>\n",
       "    </tr>\n",
       "    <tr>\n",
       "      <th>22</th>\n",
       "      <td>18213.0</td>\n",
       "      <td>10015.0</td>\n",
       "      <td>2010-09-10</td>\n",
       "      <td>series-b</td>\n",
       "      <td>9000000.0</td>\n",
       "      <td>0.0</td>\n",
       "      <td>4.0</td>\n",
       "      <td>0.0</td>\n",
       "      <td>0.0</td>\n",
       "    </tr>\n",
       "    <tr>\n",
       "      <th>23</th>\n",
       "      <td>27747.0</td>\n",
       "      <td>10015.0</td>\n",
       "      <td>2012-01-24</td>\n",
       "      <td>series-c+</td>\n",
       "      <td>12000000.0</td>\n",
       "      <td>0.0</td>\n",
       "      <td>4.0</td>\n",
       "      <td>0.0</td>\n",
       "      <td>0.0</td>\n",
       "    </tr>\n",
       "    <tr>\n",
       "      <th>24</th>\n",
       "      <td>45409.0</td>\n",
       "      <td>10015.0</td>\n",
       "      <td>2013-08-13</td>\n",
       "      <td>series-c+</td>\n",
       "      <td>43000000.0</td>\n",
       "      <td>0.0</td>\n",
       "      <td>5.0</td>\n",
       "      <td>1.0</td>\n",
       "      <td>0.0</td>\n",
       "    </tr>\n",
       "    <tr>\n",
       "      <th>25</th>\n",
       "      <td>54006.0</td>\n",
       "      <td>10015.0</td>\n",
       "      <td>2012-01-01</td>\n",
       "      <td>venture</td>\n",
       "      <td>2069200.0</td>\n",
       "      <td>0.0</td>\n",
       "      <td>4.0</td>\n",
       "      <td>0.0</td>\n",
       "      <td>0.0</td>\n",
       "    </tr>\n",
       "    <tr>\n",
       "      <th>26</th>\n",
       "      <td>25184.0</td>\n",
       "      <td>100155.0</td>\n",
       "      <td>2011-09-06</td>\n",
       "      <td>series-b</td>\n",
       "      <td>6500000.0</td>\n",
       "      <td>0.0</td>\n",
       "      <td>3.0</td>\n",
       "      <td>0.0</td>\n",
       "      <td>0.0</td>\n",
       "    </tr>\n",
       "    <tr>\n",
       "      <th>27</th>\n",
       "      <td>27815.0</td>\n",
       "      <td>100155.0</td>\n",
       "      <td>2012-01-26</td>\n",
       "      <td>series-b</td>\n",
       "      <td>3250000.0</td>\n",
       "      <td>0.0</td>\n",
       "      <td>2.0</td>\n",
       "      <td>1.0</td>\n",
       "      <td>0.0</td>\n",
       "    </tr>\n",
       "    <tr>\n",
       "      <th>28</th>\n",
       "      <td>55817.0</td>\n",
       "      <td>100155.0</td>\n",
       "      <td>2011-03-08</td>\n",
       "      <td>other</td>\n",
       "      <td>375293.0</td>\n",
       "      <td>0.0</td>\n",
       "      <td>0.0</td>\n",
       "      <td>0.0</td>\n",
       "      <td>1.0</td>\n",
       "    </tr>\n",
       "    <tr>\n",
       "      <th>32</th>\n",
       "      <td>3257.0</td>\n",
       "      <td>10018.0</td>\n",
       "      <td>2008-08-25</td>\n",
       "      <td>series-b</td>\n",
       "      <td>8000000.0</td>\n",
       "      <td>0.0</td>\n",
       "      <td>3.0</td>\n",
       "      <td>0.0</td>\n",
       "      <td>1.0</td>\n",
       "    </tr>\n",
       "    <tr>\n",
       "      <th>33</th>\n",
       "      <td>22965.0</td>\n",
       "      <td>10018.0</td>\n",
       "      <td>2011-05-12</td>\n",
       "      <td>series-c+</td>\n",
       "      <td>10000000.0</td>\n",
       "      <td>0.0</td>\n",
       "      <td>4.0</td>\n",
       "      <td>0.0</td>\n",
       "      <td>0.0</td>\n",
       "    </tr>\n",
       "    <tr>\n",
       "      <th>34</th>\n",
       "      <td>36591.0</td>\n",
       "      <td>10018.0</td>\n",
       "      <td>2013-03-28</td>\n",
       "      <td>series-c+</td>\n",
       "      <td>15000000.0</td>\n",
       "      <td>0.0</td>\n",
       "      <td>6.0</td>\n",
       "      <td>1.0</td>\n",
       "      <td>0.0</td>\n",
       "    </tr>\n",
       "    <tr>\n",
       "      <th>36</th>\n",
       "      <td>25185.0</td>\n",
       "      <td>100189.0</td>\n",
       "      <td>2003-11-01</td>\n",
       "      <td>angel</td>\n",
       "      <td>250000.0</td>\n",
       "      <td>0.0</td>\n",
       "      <td>2.0</td>\n",
       "      <td>1.0</td>\n",
       "      <td>1.0</td>\n",
       "    </tr>\n",
       "    <tr>\n",
       "      <th>42</th>\n",
       "      <td>25187.0</td>\n",
       "      <td>100228.0</td>\n",
       "      <td>2011-04-16</td>\n",
       "      <td>angel</td>\n",
       "      <td>100000.0</td>\n",
       "      <td>0.0</td>\n",
       "      <td>0.0</td>\n",
       "      <td>1.0</td>\n",
       "      <td>1.0</td>\n",
       "    </tr>\n",
       "    <tr>\n",
       "      <th>46</th>\n",
       "      <td>25190.0</td>\n",
       "      <td>100238.0</td>\n",
       "      <td>2011-09-06</td>\n",
       "      <td>venture</td>\n",
       "      <td>3300000.0</td>\n",
       "      <td>0.0</td>\n",
       "      <td>0.0</td>\n",
       "      <td>0.0</td>\n",
       "      <td>1.0</td>\n",
       "    </tr>\n",
       "    <tr>\n",
       "      <th>47</th>\n",
       "      <td>31209.0</td>\n",
       "      <td>100238.0</td>\n",
       "      <td>2012-07-10</td>\n",
       "      <td>venture</td>\n",
       "      <td>8000000.0</td>\n",
       "      <td>0.0</td>\n",
       "      <td>1.0</td>\n",
       "      <td>1.0</td>\n",
       "      <td>0.0</td>\n",
       "    </tr>\n",
       "  </tbody>\n",
       "</table>\n",
       "</div>"
      ],
      "text/plain": [
       "    funding_round_id  company_id  funded_at funding_round_type  raised_amount  \\\n",
       "0              888.0         1.0 2005-10-01           series-a      5250000.0   \n",
       "1              889.0         1.0 2007-01-01           series-b      9500000.0   \n",
       "2             2312.0         1.0 2008-05-19          series-c+     25000000.0   \n",
       "15            1644.0      1001.0 2008-02-26           series-a      5000000.0   \n",
       "20            6682.0     10014.0 2008-09-01              angel            0.0   \n",
       "21            3619.0     10015.0 2008-10-10           series-a      2000000.0   \n",
       "22           18213.0     10015.0 2010-09-10           series-b      9000000.0   \n",
       "23           27747.0     10015.0 2012-01-24          series-c+     12000000.0   \n",
       "24           45409.0     10015.0 2013-08-13          series-c+     43000000.0   \n",
       "25           54006.0     10015.0 2012-01-01            venture      2069200.0   \n",
       "26           25184.0    100155.0 2011-09-06           series-b      6500000.0   \n",
       "27           27815.0    100155.0 2012-01-26           series-b      3250000.0   \n",
       "28           55817.0    100155.0 2011-03-08              other       375293.0   \n",
       "32            3257.0     10018.0 2008-08-25           series-b      8000000.0   \n",
       "33           22965.0     10018.0 2011-05-12          series-c+     10000000.0   \n",
       "34           36591.0     10018.0 2013-03-28          series-c+     15000000.0   \n",
       "36           25185.0    100189.0 2003-11-01              angel       250000.0   \n",
       "42           25187.0    100228.0 2011-04-16              angel       100000.0   \n",
       "46           25190.0    100238.0 2011-09-06            venture      3300000.0   \n",
       "47           31209.0    100238.0 2012-07-10            venture      8000000.0   \n",
       "\n",
       "    pre_money_valuation  participants  is_first_round  is_last_round  \n",
       "0                   0.0           2.0             0.0            1.0  \n",
       "1                   0.0           3.0             0.0            0.0  \n",
       "2                   0.0           4.0             1.0            0.0  \n",
       "15                  0.0           3.0             1.0            1.0  \n",
       "20                  0.0           1.0             1.0            1.0  \n",
       "21                  0.0           2.0             0.0            1.0  \n",
       "22                  0.0           4.0             0.0            0.0  \n",
       "23                  0.0           4.0             0.0            0.0  \n",
       "24                  0.0           5.0             1.0            0.0  \n",
       "25                  0.0           4.0             0.0            0.0  \n",
       "26                  0.0           3.0             0.0            0.0  \n",
       "27                  0.0           2.0             1.0            0.0  \n",
       "28                  0.0           0.0             0.0            1.0  \n",
       "32                  0.0           3.0             0.0            1.0  \n",
       "33                  0.0           4.0             0.0            0.0  \n",
       "34                  0.0           6.0             1.0            0.0  \n",
       "36                  0.0           2.0             1.0            1.0  \n",
       "42                  0.0           0.0             1.0            1.0  \n",
       "46                  0.0           0.0             0.0            1.0  \n",
       "47                  0.0           1.0             1.0            0.0  "
      ]
     },
     "execution_count": 46,
     "metadata": {},
     "output_type": "execute_result"
    }
   ],
   "source": [
    "rounds_df.info()\n",
    "rounds_df.head(20)"
   ]
  },
  {
   "cell_type": "code",
   "execution_count": 47,
   "metadata": {},
   "outputs": [],
   "source": [
    "merged_df = rounds_df.merge(companies_df, on=\"company_id\", how=\"inner\")\n"
   ]
  },
  {
   "cell_type": "code",
   "execution_count": 48,
   "metadata": {},
   "outputs": [
    {
     "data": {
      "text/plain": [
       "52680"
      ]
     },
     "execution_count": 48,
     "metadata": {},
     "output_type": "execute_result"
    }
   ],
   "source": [
    "merged_df.shape[0]"
   ]
  },
  {
   "cell_type": "code",
   "execution_count": 49,
   "metadata": {
    "scrolled": true
   },
   "outputs": [
    {
     "data": {
      "text/html": [
       "<div>\n",
       "<style scoped>\n",
       "    .dataframe tbody tr th:only-of-type {\n",
       "        vertical-align: middle;\n",
       "    }\n",
       "\n",
       "    .dataframe tbody tr th {\n",
       "        vertical-align: top;\n",
       "    }\n",
       "\n",
       "    .dataframe thead th {\n",
       "        text-align: right;\n",
       "    }\n",
       "</style>\n",
       "<table border=\"1\" class=\"dataframe\">\n",
       "  <thead>\n",
       "    <tr style=\"text-align: right;\">\n",
       "      <th></th>\n",
       "      <th>funding_round_id</th>\n",
       "      <th>company_id</th>\n",
       "      <th>funded_at</th>\n",
       "      <th>funding_round_type</th>\n",
       "      <th>raised_amount</th>\n",
       "      <th>pre_money_valuation</th>\n",
       "      <th>participants</th>\n",
       "      <th>is_first_round</th>\n",
       "      <th>is_last_round</th>\n",
       "      <th>name</th>\n",
       "      <th>...</th>\n",
       "      <th>status</th>\n",
       "      <th>founded_at</th>\n",
       "      <th>closed_at</th>\n",
       "      <th>domain</th>\n",
       "      <th>network_username</th>\n",
       "      <th>country_code</th>\n",
       "      <th>investment_rounds</th>\n",
       "      <th>funding_rounds</th>\n",
       "      <th>funding_total</th>\n",
       "      <th>milestones</th>\n",
       "    </tr>\n",
       "  </thead>\n",
       "  <tbody>\n",
       "    <tr>\n",
       "      <th>0</th>\n",
       "      <td>888.0</td>\n",
       "      <td>1.0</td>\n",
       "      <td>2005-10-01</td>\n",
       "      <td>series-a</td>\n",
       "      <td>5250000.0</td>\n",
       "      <td>0.0</td>\n",
       "      <td>2.0</td>\n",
       "      <td>0.0</td>\n",
       "      <td>1.0</td>\n",
       "      <td>Wetpaint</td>\n",
       "      <td>...</td>\n",
       "      <td>operating</td>\n",
       "      <td>2005-10-17</td>\n",
       "      <td>NaT</td>\n",
       "      <td>wetpaint-inc.com</td>\n",
       "      <td>BachelrWetpaint</td>\n",
       "      <td>USA</td>\n",
       "      <td>0.0</td>\n",
       "      <td>3.0</td>\n",
       "      <td>39750000.0</td>\n",
       "      <td>5.0</td>\n",
       "    </tr>\n",
       "    <tr>\n",
       "      <th>1</th>\n",
       "      <td>889.0</td>\n",
       "      <td>1.0</td>\n",
       "      <td>2007-01-01</td>\n",
       "      <td>series-b</td>\n",
       "      <td>9500000.0</td>\n",
       "      <td>0.0</td>\n",
       "      <td>3.0</td>\n",
       "      <td>0.0</td>\n",
       "      <td>0.0</td>\n",
       "      <td>Wetpaint</td>\n",
       "      <td>...</td>\n",
       "      <td>operating</td>\n",
       "      <td>2005-10-17</td>\n",
       "      <td>NaT</td>\n",
       "      <td>wetpaint-inc.com</td>\n",
       "      <td>BachelrWetpaint</td>\n",
       "      <td>USA</td>\n",
       "      <td>0.0</td>\n",
       "      <td>3.0</td>\n",
       "      <td>39750000.0</td>\n",
       "      <td>5.0</td>\n",
       "    </tr>\n",
       "    <tr>\n",
       "      <th>2</th>\n",
       "      <td>2312.0</td>\n",
       "      <td>1.0</td>\n",
       "      <td>2008-05-19</td>\n",
       "      <td>series-c+</td>\n",
       "      <td>25000000.0</td>\n",
       "      <td>0.0</td>\n",
       "      <td>4.0</td>\n",
       "      <td>1.0</td>\n",
       "      <td>0.0</td>\n",
       "      <td>Wetpaint</td>\n",
       "      <td>...</td>\n",
       "      <td>operating</td>\n",
       "      <td>2005-10-17</td>\n",
       "      <td>NaT</td>\n",
       "      <td>wetpaint-inc.com</td>\n",
       "      <td>BachelrWetpaint</td>\n",
       "      <td>USA</td>\n",
       "      <td>0.0</td>\n",
       "      <td>3.0</td>\n",
       "      <td>39750000.0</td>\n",
       "      <td>5.0</td>\n",
       "    </tr>\n",
       "    <tr>\n",
       "      <th>3</th>\n",
       "      <td>1644.0</td>\n",
       "      <td>1001.0</td>\n",
       "      <td>2008-02-26</td>\n",
       "      <td>series-a</td>\n",
       "      <td>5000000.0</td>\n",
       "      <td>0.0</td>\n",
       "      <td>3.0</td>\n",
       "      <td>1.0</td>\n",
       "      <td>1.0</td>\n",
       "      <td>FriendFeed</td>\n",
       "      <td>...</td>\n",
       "      <td>acquired</td>\n",
       "      <td>2007-10-01</td>\n",
       "      <td>NaT</td>\n",
       "      <td>friendfeed.com</td>\n",
       "      <td>friendfeed</td>\n",
       "      <td>USA</td>\n",
       "      <td>0.0</td>\n",
       "      <td>1.0</td>\n",
       "      <td>5000000.0</td>\n",
       "      <td>3.0</td>\n",
       "    </tr>\n",
       "    <tr>\n",
       "      <th>4</th>\n",
       "      <td>6682.0</td>\n",
       "      <td>10014.0</td>\n",
       "      <td>2008-09-01</td>\n",
       "      <td>angel</td>\n",
       "      <td>0.0</td>\n",
       "      <td>0.0</td>\n",
       "      <td>1.0</td>\n",
       "      <td>1.0</td>\n",
       "      <td>1.0</td>\n",
       "      <td>Mobclix</td>\n",
       "      <td>...</td>\n",
       "      <td>acquired</td>\n",
       "      <td>2008-03-01</td>\n",
       "      <td>NaT</td>\n",
       "      <td>mobclix.com</td>\n",
       "      <td>mobclix</td>\n",
       "      <td>USA</td>\n",
       "      <td>0.0</td>\n",
       "      <td>1.0</td>\n",
       "      <td>0.0</td>\n",
       "      <td>4.0</td>\n",
       "    </tr>\n",
       "  </tbody>\n",
       "</table>\n",
       "<p>5 rows × 21 columns</p>\n",
       "</div>"
      ],
      "text/plain": [
       "   funding_round_id  company_id  funded_at funding_round_type  raised_amount  \\\n",
       "0             888.0         1.0 2005-10-01           series-a      5250000.0   \n",
       "1             889.0         1.0 2007-01-01           series-b      9500000.0   \n",
       "2            2312.0         1.0 2008-05-19          series-c+     25000000.0   \n",
       "3            1644.0      1001.0 2008-02-26           series-a      5000000.0   \n",
       "4            6682.0     10014.0 2008-09-01              angel            0.0   \n",
       "\n",
       "   pre_money_valuation  participants  is_first_round  is_last_round  \\\n",
       "0                  0.0           2.0             0.0            1.0   \n",
       "1                  0.0           3.0             0.0            0.0   \n",
       "2                  0.0           4.0             1.0            0.0   \n",
       "3                  0.0           3.0             1.0            1.0   \n",
       "4                  0.0           1.0             1.0            1.0   \n",
       "\n",
       "         name  ...     status founded_at closed_at            domain  \\\n",
       "0    Wetpaint  ...  operating 2005-10-17       NaT  wetpaint-inc.com   \n",
       "1    Wetpaint  ...  operating 2005-10-17       NaT  wetpaint-inc.com   \n",
       "2    Wetpaint  ...  operating 2005-10-17       NaT  wetpaint-inc.com   \n",
       "3  FriendFeed  ...   acquired 2007-10-01       NaT    friendfeed.com   \n",
       "4     Mobclix  ...   acquired 2008-03-01       NaT       mobclix.com   \n",
       "\n",
       "  network_username country_code investment_rounds  funding_rounds  \\\n",
       "0  BachelrWetpaint          USA               0.0             3.0   \n",
       "1  BachelrWetpaint          USA               0.0             3.0   \n",
       "2  BachelrWetpaint          USA               0.0             3.0   \n",
       "3       friendfeed          USA               0.0             1.0   \n",
       "4          mobclix          USA               0.0             1.0   \n",
       "\n",
       "   funding_total  milestones  \n",
       "0     39750000.0         5.0  \n",
       "1     39750000.0         5.0  \n",
       "2     39750000.0         5.0  \n",
       "3      5000000.0         3.0  \n",
       "4            0.0         4.0  \n",
       "\n",
       "[5 rows x 21 columns]"
      ]
     },
     "execution_count": 49,
     "metadata": {},
     "output_type": "execute_result"
    }
   ],
   "source": [
    "merged_df.head()"
   ]
  },
  {
   "cell_type": "markdown",
   "metadata": {
    "id": "bmVYhphNrJg2"
   },
   "source": [
    "\n",
    "## Шаг 3. Исследовательский анализ объединённых таблиц\n",
    "\n",
    "<big>Приступите к шагу 3 после проверки ревьюера.</big>"
   ]
  },
  {
   "cell_type": "markdown",
   "metadata": {
    "id": "3Di6tCT3rJg2"
   },
   "source": [
    "\n",
    "### 3.1. Объединение данных\n",
    "\n",
    "Объедините данные для ответа на вопросы заказчика, которые касаются интересующих его компаний.\n",
    "\n",
    "В качестве основы для объединённой таблицы возьмите данные из обработанного датасета `company_and_rounds.csv` — выберите только те компании, у которых указаны значения `funding_rounds` или `investment_rounds` больше нуля, и те, у которых в колонке `status` указано `acquired`.\n",
    "\n",
    "Далее работайте только с этими данными."
   ]
  },
  {
   "cell_type": "code",
   "execution_count": 50,
   "metadata": {
    "id": "vJZ4mO2Un1yt"
   },
   "outputs": [
    {
     "data": {
      "text/plain": [
       "array(['operating', 'acquired', 'closed', 'ipo', nan], dtype=object)"
      ]
     },
     "execution_count": 50,
     "metadata": {},
     "output_type": "execute_result"
    }
   ],
   "source": [
    "merged_df[\"status\"].unique()"
   ]
  },
  {
   "cell_type": "code",
   "execution_count": 51,
   "metadata": {
    "id": "mGYqoHS7rJg2"
   },
   "outputs": [],
   "source": [
    "new_df = merged_df[\n",
    "    ((merged_df[\"investment_rounds\"] > 0) |\n",
    "    (merged_df[\"funding_rounds\"] > 0)) |\n",
    "    (merged_df[\"status\"] == \"acquired\")\n",
    "]"
   ]
  },
  {
   "cell_type": "code",
   "execution_count": 52,
   "metadata": {},
   "outputs": [
    {
     "data": {
      "text/plain": [
       "52382"
      ]
     },
     "execution_count": 52,
     "metadata": {},
     "output_type": "execute_result"
    }
   ],
   "source": [
    "len(new_df)"
   ]
  },
  {
   "cell_type": "markdown",
   "metadata": {
    "id": "DFHINkV3rJg2"
   },
   "source": [
    "\n",
    "### 3.2. Анализ выбросов\n",
    "\n",
    "Заказчика интересует обычный для рассматриваемого периода размер средств, который предоставлялся компаниям.\n",
    "\n",
    "* По предобработанному столбцу `funding_total` графическим способом оцените, какой размер общего финансирования для одной компании будет типичным, а какой — выбивающимся.\n",
    "\n",
    "* В процессе расчёта значений обратите внимание, например, на показатели, возвращаемые методом `.describe()`, — объясните их. Применимы ли к таким данным обычные способы нахождения типичных значений?"
   ]
  },
  {
   "cell_type": "code",
   "execution_count": 53,
   "metadata": {
    "id": "8jm75fKXrJg2"
   },
   "outputs": [
    {
     "data": {
      "text/plain": [
       "count    5.238200e+04\n",
       "mean     2.486910e+07\n",
       "std      9.731058e+07\n",
       "min      0.000000e+00\n",
       "25%      6.283962e+05\n",
       "50%      4.600000e+06\n",
       "75%      2.070000e+07\n",
       "max      5.700000e+09\n",
       "Name: funding_total, dtype: float64"
      ]
     },
     "execution_count": 53,
     "metadata": {},
     "output_type": "execute_result"
    }
   ],
   "source": [
    "new_df[\"funding_total\"].describe()"
   ]
  },
  {
   "cell_type": "code",
   "execution_count": 54,
   "metadata": {
    "id": "dIWqyEomn2MU"
   },
   "outputs": [
    {
     "data": {
      "image/png": "[encoded data removed]",
      "text/plain": [
       "<Figure size 720x432 with 1 Axes>"
      ]
     },
     "metadata": {
      "needs_background": "light"
     },
     "output_type": "display_data"
    }
   ],
   "source": [
    "# Построим гистограмму для оценки распределения общего финансирования\n",
    "plt.figure(figsize=(10, 6))\n",
    "plt.hist(new_df['funding_total'], bins=50, color='skyblue', edgecolor='black', log=True)\n",
    "plt.xscale('log')  # Логарифмическая шкала по оси X\n",
    "plt.xlabel('Общее финансирование (логарифмическая шкала)')\n",
    "plt.ylabel('Количество компаний')\n",
    "plt.title('Распределение общего финансирования (логарифмическая шкала)')\n",
    "plt.grid(axis='y')"
   ]
  },
  {
   "cell_type": "code",
   "execution_count": 55,
   "metadata": {
    "scrolled": true
   },
   "outputs": [
    {
     "data": {
      "text/plain": [
       "Text(0.5, 0, 'USD')"
      ]
     },
     "execution_count": 55,
     "metadata": {},
     "output_type": "execute_result"
    },
    {
     "data": {
      "image/png": "[encoded data removed]",
      "text/plain": [
       "<Figure size 720x144 with 1 Axes>"
      ]
     },
     "metadata": {
      "needs_background": "light"
     },
     "output_type": "display_data"
    }
   ],
   "source": [
    "boxplot = new_df.boxplot(column='funding_total',\n",
    "                     vert=False, \n",
    "                     figsize=(10, 2))\n",
    "\n",
    "# Добавляем заголовок и метку оси X\n",
    "boxplot.set_title('Распределение общего финансирования')\n",
    "boxplot.set_xlabel('USD')"
   ]
  },
  {
   "cell_type": "markdown",
   "metadata": {},
   "source": [
    "**Для таких данных медиана — лучший показатель типичного значения, чем среднее.**\n",
    "\n",
    "Медиана (50%): $12,000,000 — половина компаний получила меньше этой суммы. Это более надёжный показатель «типичного» значения, чем среднее.\n",
    "\n",
    "**Распределение данных с сильным правым «хвостом» указывает на наличие немногих, но очень крупных компаний с экстремальным финансированием.**\n",
    "\n",
    "Максимальное значение (max): $5,700,000,000 — явный выброс, сильно превышающий другие значения."
   ]
  },
  {
   "cell_type": "markdown",
   "metadata": {
    "id": "JqkRAQrIrJg2"
   },
   "source": [
    "\n",
    "### 3.3. Куплены забесплатно?\n",
    "\n",
    "* Исследуйте компании, которые были проданы за ноль или за один доллар, и при этом известно, что у них был ненулевой общий объём финансирования.\n",
    "\n",
    "* Рассчитайте аналитически верхнюю и нижнюю границу выбросов для столбца `funding_total` и укажите, каким процентилям границы соответствуют. Учитывая озвученные выше предпосылки и собственные соображения, сделайте выводы о корректности планируемой заказчиком замены нижней и верхней границы выбросов на значения, рассчитанные по процентилям."
   ]
  },
  {
   "cell_type": "code",
   "execution_count": 56,
   "metadata": {
    "id": "wJHXCBwwrJg2"
   },
   "outputs": [],
   "source": [
    "new_acquisition = new_df.merge(acquisition, left_on='company_id', right_on='acquired_company_id', how='left')"
   ]
  },
  {
   "cell_type": "code",
   "execution_count": 57,
   "metadata": {
    "scrolled": true
   },
   "outputs": [
    {
     "data": {
      "text/plain": [
       "52475"
      ]
     },
     "execution_count": 57,
     "metadata": {},
     "output_type": "execute_result"
    }
   ],
   "source": [
    "len(new_acquisition)"
   ]
  },
  {
   "cell_type": "code",
   "execution_count": 58,
   "metadata": {
    "id": "-kA4CO27n2ql"
   },
   "outputs": [
    {
     "data": {
      "text/html": [
       "<div>\n",
       "<style scoped>\n",
       "    .dataframe tbody tr th:only-of-type {\n",
       "        vertical-align: middle;\n",
       "    }\n",
       "\n",
       "    .dataframe tbody tr th {\n",
       "        vertical-align: top;\n",
       "    }\n",
       "\n",
       "    .dataframe thead th {\n",
       "        text-align: right;\n",
       "    }\n",
       "</style>\n",
       "<table border=\"1\" class=\"dataframe\">\n",
       "  <thead>\n",
       "    <tr style=\"text-align: right;\">\n",
       "      <th></th>\n",
       "      <th>funding_round_id</th>\n",
       "      <th>company_id</th>\n",
       "      <th>funded_at</th>\n",
       "      <th>funding_round_type</th>\n",
       "      <th>raised_amount</th>\n",
       "      <th>pre_money_valuation</th>\n",
       "      <th>participants</th>\n",
       "      <th>is_first_round</th>\n",
       "      <th>is_last_round</th>\n",
       "      <th>name</th>\n",
       "      <th>...</th>\n",
       "      <th>investment_rounds</th>\n",
       "      <th>funding_rounds</th>\n",
       "      <th>funding_total</th>\n",
       "      <th>milestones</th>\n",
       "      <th>id</th>\n",
       "      <th>acquiring_company_id</th>\n",
       "      <th>acquired_company_id</th>\n",
       "      <th>term_code</th>\n",
       "      <th>price_amount</th>\n",
       "      <th>acquired_at</th>\n",
       "    </tr>\n",
       "  </thead>\n",
       "  <tbody>\n",
       "    <tr>\n",
       "      <th>0</th>\n",
       "      <td>888.0</td>\n",
       "      <td>1.0</td>\n",
       "      <td>2005-10-01</td>\n",
       "      <td>series-a</td>\n",
       "      <td>5250000.0</td>\n",
       "      <td>0.0</td>\n",
       "      <td>2.0</td>\n",
       "      <td>0.0</td>\n",
       "      <td>1.0</td>\n",
       "      <td>Wetpaint</td>\n",
       "      <td>...</td>\n",
       "      <td>0.0</td>\n",
       "      <td>3.0</td>\n",
       "      <td>39750000.0</td>\n",
       "      <td>5.0</td>\n",
       "      <td>NaN</td>\n",
       "      <td>NaN</td>\n",
       "      <td>NaN</td>\n",
       "      <td>NaN</td>\n",
       "      <td>NaN</td>\n",
       "      <td>NaT</td>\n",
       "    </tr>\n",
       "    <tr>\n",
       "      <th>1</th>\n",
       "      <td>889.0</td>\n",
       "      <td>1.0</td>\n",
       "      <td>2007-01-01</td>\n",
       "      <td>series-b</td>\n",
       "      <td>9500000.0</td>\n",
       "      <td>0.0</td>\n",
       "      <td>3.0</td>\n",
       "      <td>0.0</td>\n",
       "      <td>0.0</td>\n",
       "      <td>Wetpaint</td>\n",
       "      <td>...</td>\n",
       "      <td>0.0</td>\n",
       "      <td>3.0</td>\n",
       "      <td>39750000.0</td>\n",
       "      <td>5.0</td>\n",
       "      <td>NaN</td>\n",
       "      <td>NaN</td>\n",
       "      <td>NaN</td>\n",
       "      <td>NaN</td>\n",
       "      <td>NaN</td>\n",
       "      <td>NaT</td>\n",
       "    </tr>\n",
       "    <tr>\n",
       "      <th>2</th>\n",
       "      <td>2312.0</td>\n",
       "      <td>1.0</td>\n",
       "      <td>2008-05-19</td>\n",
       "      <td>series-c+</td>\n",
       "      <td>25000000.0</td>\n",
       "      <td>0.0</td>\n",
       "      <td>4.0</td>\n",
       "      <td>1.0</td>\n",
       "      <td>0.0</td>\n",
       "      <td>Wetpaint</td>\n",
       "      <td>...</td>\n",
       "      <td>0.0</td>\n",
       "      <td>3.0</td>\n",
       "      <td>39750000.0</td>\n",
       "      <td>5.0</td>\n",
       "      <td>NaN</td>\n",
       "      <td>NaN</td>\n",
       "      <td>NaN</td>\n",
       "      <td>NaN</td>\n",
       "      <td>NaN</td>\n",
       "      <td>NaT</td>\n",
       "    </tr>\n",
       "    <tr>\n",
       "      <th>3</th>\n",
       "      <td>1644.0</td>\n",
       "      <td>1001.0</td>\n",
       "      <td>2008-02-26</td>\n",
       "      <td>series-a</td>\n",
       "      <td>5000000.0</td>\n",
       "      <td>0.0</td>\n",
       "      <td>3.0</td>\n",
       "      <td>1.0</td>\n",
       "      <td>1.0</td>\n",
       "      <td>FriendFeed</td>\n",
       "      <td>...</td>\n",
       "      <td>0.0</td>\n",
       "      <td>1.0</td>\n",
       "      <td>5000000.0</td>\n",
       "      <td>3.0</td>\n",
       "      <td>1901.0</td>\n",
       "      <td>5.0</td>\n",
       "      <td>1001.0</td>\n",
       "      <td>cash_and_stock</td>\n",
       "      <td>47500000.0</td>\n",
       "      <td>2009-08-10</td>\n",
       "    </tr>\n",
       "    <tr>\n",
       "      <th>4</th>\n",
       "      <td>6682.0</td>\n",
       "      <td>10014.0</td>\n",
       "      <td>2008-09-01</td>\n",
       "      <td>angel</td>\n",
       "      <td>0.0</td>\n",
       "      <td>0.0</td>\n",
       "      <td>1.0</td>\n",
       "      <td>1.0</td>\n",
       "      <td>1.0</td>\n",
       "      <td>Mobclix</td>\n",
       "      <td>...</td>\n",
       "      <td>0.0</td>\n",
       "      <td>1.0</td>\n",
       "      <td>0.0</td>\n",
       "      <td>4.0</td>\n",
       "      <td>3878.0</td>\n",
       "      <td>23054.0</td>\n",
       "      <td>10014.0</td>\n",
       "      <td>NaN</td>\n",
       "      <td>0.0</td>\n",
       "      <td>2010-09-30</td>\n",
       "    </tr>\n",
       "  </tbody>\n",
       "</table>\n",
       "<p>5 rows × 27 columns</p>\n",
       "</div>"
      ],
      "text/plain": [
       "   funding_round_id  company_id  funded_at funding_round_type  raised_amount  \\\n",
       "0             888.0         1.0 2005-10-01           series-a      5250000.0   \n",
       "1             889.0         1.0 2007-01-01           series-b      9500000.0   \n",
       "2            2312.0         1.0 2008-05-19          series-c+     25000000.0   \n",
       "3            1644.0      1001.0 2008-02-26           series-a      5000000.0   \n",
       "4            6682.0     10014.0 2008-09-01              angel            0.0   \n",
       "\n",
       "   pre_money_valuation  participants  is_first_round  is_last_round  \\\n",
       "0                  0.0           2.0             0.0            1.0   \n",
       "1                  0.0           3.0             0.0            0.0   \n",
       "2                  0.0           4.0             1.0            0.0   \n",
       "3                  0.0           3.0             1.0            1.0   \n",
       "4                  0.0           1.0             1.0            1.0   \n",
       "\n",
       "         name  ... investment_rounds funding_rounds funding_total milestones  \\\n",
       "0    Wetpaint  ...               0.0            3.0    39750000.0        5.0   \n",
       "1    Wetpaint  ...               0.0            3.0    39750000.0        5.0   \n",
       "2    Wetpaint  ...               0.0            3.0    39750000.0        5.0   \n",
       "3  FriendFeed  ...               0.0            1.0     5000000.0        3.0   \n",
       "4     Mobclix  ...               0.0            1.0           0.0        4.0   \n",
       "\n",
       "       id acquiring_company_id acquired_company_id       term_code  \\\n",
       "0     NaN                  NaN                 NaN             NaN   \n",
       "1     NaN                  NaN                 NaN             NaN   \n",
       "2     NaN                  NaN                 NaN             NaN   \n",
       "3  1901.0                  5.0              1001.0  cash_and_stock   \n",
       "4  3878.0              23054.0             10014.0             NaN   \n",
       "\n",
       "   price_amount  acquired_at  \n",
       "0           NaN          NaT  \n",
       "1           NaN          NaT  \n",
       "2           NaN          NaT  \n",
       "3    47500000.0   2009-08-10  \n",
       "4           0.0   2010-09-30  \n",
       "\n",
       "[5 rows x 27 columns]"
      ]
     },
     "execution_count": 58,
     "metadata": {},
     "output_type": "execute_result"
    }
   ],
   "source": [
    "new_acquisition.head()"
   ]
  },
  {
   "cell_type": "code",
   "execution_count": 59,
   "metadata": {},
   "outputs": [],
   "source": [
    "filter_acquisition = new_acquisition[((new_acquisition['price_amount'] == 0) | (new_acquisition['price_amount'] == 1)) & (new_acquisition['funding_total'] != 0)]"
   ]
  },
  {
   "cell_type": "code",
   "execution_count": 60,
   "metadata": {},
   "outputs": [
    {
     "data": {
      "text/html": [
       "<div>\n",
       "<style scoped>\n",
       "    .dataframe tbody tr th:only-of-type {\n",
       "        vertical-align: middle;\n",
       "    }\n",
       "\n",
       "    .dataframe tbody tr th {\n",
       "        vertical-align: top;\n",
       "    }\n",
       "\n",
       "    .dataframe thead th {\n",
       "        text-align: right;\n",
       "    }\n",
       "</style>\n",
       "<table border=\"1\" class=\"dataframe\">\n",
       "  <thead>\n",
       "    <tr style=\"text-align: right;\">\n",
       "      <th></th>\n",
       "      <th>funding_round_id</th>\n",
       "      <th>company_id</th>\n",
       "      <th>funded_at</th>\n",
       "      <th>funding_round_type</th>\n",
       "      <th>raised_amount</th>\n",
       "      <th>pre_money_valuation</th>\n",
       "      <th>participants</th>\n",
       "      <th>is_first_round</th>\n",
       "      <th>is_last_round</th>\n",
       "      <th>name</th>\n",
       "      <th>...</th>\n",
       "      <th>investment_rounds</th>\n",
       "      <th>funding_rounds</th>\n",
       "      <th>funding_total</th>\n",
       "      <th>milestones</th>\n",
       "      <th>id</th>\n",
       "      <th>acquiring_company_id</th>\n",
       "      <th>acquired_company_id</th>\n",
       "      <th>term_code</th>\n",
       "      <th>price_amount</th>\n",
       "      <th>acquired_at</th>\n",
       "    </tr>\n",
       "  </thead>\n",
       "  <tbody>\n",
       "    <tr>\n",
       "      <th>30</th>\n",
       "      <td>3268.0</td>\n",
       "      <td>10054.0</td>\n",
       "      <td>2008-08-26</td>\n",
       "      <td>series-c+</td>\n",
       "      <td>26000000.0</td>\n",
       "      <td>0.0</td>\n",
       "      <td>6.0</td>\n",
       "      <td>0.0</td>\n",
       "      <td>0.0</td>\n",
       "      <td>Jumptap</td>\n",
       "      <td>...</td>\n",
       "      <td>0.0</td>\n",
       "      <td>7.0</td>\n",
       "      <td>121500000.0</td>\n",
       "      <td>3.0</td>\n",
       "      <td>9288.0</td>\n",
       "      <td>23283.0</td>\n",
       "      <td>10054.0</td>\n",
       "      <td>cash_and_stock</td>\n",
       "      <td>0.0</td>\n",
       "      <td>2013-08-13</td>\n",
       "    </tr>\n",
       "    <tr>\n",
       "      <th>31</th>\n",
       "      <td>3269.0</td>\n",
       "      <td>10054.0</td>\n",
       "      <td>2005-03-01</td>\n",
       "      <td>series-a</td>\n",
       "      <td>4000000.0</td>\n",
       "      <td>0.0</td>\n",
       "      <td>2.0</td>\n",
       "      <td>0.0</td>\n",
       "      <td>1.0</td>\n",
       "      <td>Jumptap</td>\n",
       "      <td>...</td>\n",
       "      <td>0.0</td>\n",
       "      <td>7.0</td>\n",
       "      <td>121500000.0</td>\n",
       "      <td>3.0</td>\n",
       "      <td>9288.0</td>\n",
       "      <td>23283.0</td>\n",
       "      <td>10054.0</td>\n",
       "      <td>cash_and_stock</td>\n",
       "      <td>0.0</td>\n",
       "      <td>2013-08-13</td>\n",
       "    </tr>\n",
       "    <tr>\n",
       "      <th>32</th>\n",
       "      <td>3270.0</td>\n",
       "      <td>10054.0</td>\n",
       "      <td>2005-12-06</td>\n",
       "      <td>series-b</td>\n",
       "      <td>17000000.0</td>\n",
       "      <td>0.0</td>\n",
       "      <td>3.0</td>\n",
       "      <td>0.0</td>\n",
       "      <td>0.0</td>\n",
       "      <td>Jumptap</td>\n",
       "      <td>...</td>\n",
       "      <td>0.0</td>\n",
       "      <td>7.0</td>\n",
       "      <td>121500000.0</td>\n",
       "      <td>3.0</td>\n",
       "      <td>9288.0</td>\n",
       "      <td>23283.0</td>\n",
       "      <td>10054.0</td>\n",
       "      <td>cash_and_stock</td>\n",
       "      <td>0.0</td>\n",
       "      <td>2013-08-13</td>\n",
       "    </tr>\n",
       "    <tr>\n",
       "      <th>33</th>\n",
       "      <td>3271.0</td>\n",
       "      <td>10054.0</td>\n",
       "      <td>2006-10-04</td>\n",
       "      <td>series-c+</td>\n",
       "      <td>22000000.0</td>\n",
       "      <td>0.0</td>\n",
       "      <td>4.0</td>\n",
       "      <td>0.0</td>\n",
       "      <td>0.0</td>\n",
       "      <td>Jumptap</td>\n",
       "      <td>...</td>\n",
       "      <td>0.0</td>\n",
       "      <td>7.0</td>\n",
       "      <td>121500000.0</td>\n",
       "      <td>3.0</td>\n",
       "      <td>9288.0</td>\n",
       "      <td>23283.0</td>\n",
       "      <td>10054.0</td>\n",
       "      <td>cash_and_stock</td>\n",
       "      <td>0.0</td>\n",
       "      <td>2013-08-13</td>\n",
       "    </tr>\n",
       "    <tr>\n",
       "      <th>34</th>\n",
       "      <td>22253.0</td>\n",
       "      <td>10054.0</td>\n",
       "      <td>2011-04-01</td>\n",
       "      <td>venture</td>\n",
       "      <td>20000000.0</td>\n",
       "      <td>0.0</td>\n",
       "      <td>6.0</td>\n",
       "      <td>0.0</td>\n",
       "      <td>0.0</td>\n",
       "      <td>Jumptap</td>\n",
       "      <td>...</td>\n",
       "      <td>0.0</td>\n",
       "      <td>7.0</td>\n",
       "      <td>121500000.0</td>\n",
       "      <td>3.0</td>\n",
       "      <td>9288.0</td>\n",
       "      <td>23283.0</td>\n",
       "      <td>10054.0</td>\n",
       "      <td>cash_and_stock</td>\n",
       "      <td>0.0</td>\n",
       "      <td>2013-08-13</td>\n",
       "    </tr>\n",
       "  </tbody>\n",
       "</table>\n",
       "<p>5 rows × 27 columns</p>\n",
       "</div>"
      ],
      "text/plain": [
       "    funding_round_id  company_id  funded_at funding_round_type  raised_amount  \\\n",
       "30            3268.0     10054.0 2008-08-26          series-c+     26000000.0   \n",
       "31            3269.0     10054.0 2005-03-01           series-a      4000000.0   \n",
       "32            3270.0     10054.0 2005-12-06           series-b     17000000.0   \n",
       "33            3271.0     10054.0 2006-10-04          series-c+     22000000.0   \n",
       "34           22253.0     10054.0 2011-04-01            venture     20000000.0   \n",
       "\n",
       "    pre_money_valuation  participants  is_first_round  is_last_round     name  \\\n",
       "30                  0.0           6.0             0.0            0.0  Jumptap   \n",
       "31                  0.0           2.0             0.0            1.0  Jumptap   \n",
       "32                  0.0           3.0             0.0            0.0  Jumptap   \n",
       "33                  0.0           4.0             0.0            0.0  Jumptap   \n",
       "34                  0.0           6.0             0.0            0.0  Jumptap   \n",
       "\n",
       "    ... investment_rounds funding_rounds funding_total milestones      id  \\\n",
       "30  ...               0.0            7.0   121500000.0        3.0  9288.0   \n",
       "31  ...               0.0            7.0   121500000.0        3.0  9288.0   \n",
       "32  ...               0.0            7.0   121500000.0        3.0  9288.0   \n",
       "33  ...               0.0            7.0   121500000.0        3.0  9288.0   \n",
       "34  ...               0.0            7.0   121500000.0        3.0  9288.0   \n",
       "\n",
       "   acquiring_company_id acquired_company_id       term_code  price_amount  \\\n",
       "30              23283.0             10054.0  cash_and_stock           0.0   \n",
       "31              23283.0             10054.0  cash_and_stock           0.0   \n",
       "32              23283.0             10054.0  cash_and_stock           0.0   \n",
       "33              23283.0             10054.0  cash_and_stock           0.0   \n",
       "34              23283.0             10054.0  cash_and_stock           0.0   \n",
       "\n",
       "    acquired_at  \n",
       "30   2013-08-13  \n",
       "31   2013-08-13  \n",
       "32   2013-08-13  \n",
       "33   2013-08-13  \n",
       "34   2013-08-13  \n",
       "\n",
       "[5 rows x 27 columns]"
      ]
     },
     "execution_count": 60,
     "metadata": {},
     "output_type": "execute_result"
    }
   ],
   "source": [
    "filter_acquisition.head()"
   ]
  },
  {
   "cell_type": "code",
   "execution_count": 61,
   "metadata": {
    "scrolled": true
   },
   "outputs": [
    {
     "data": {
      "text/plain": [
       "(np.float64(3000000.0), np.float64(25089300.0), np.float64(22089300.0))"
      ]
     },
     "execution_count": 61,
     "metadata": {},
     "output_type": "execute_result"
    }
   ],
   "source": [
    "# Расчет границ выбросов для funding_total\n",
    "Q1 = filter_acquisition['funding_total'].quantile(0.25)\n",
    "Q3 = filter_acquisition['funding_total'].quantile(0.75)\n",
    "IQR = Q3 - Q1\n",
    "Q1, Q3, IQR"
   ]
  },
  {
   "cell_type": "code",
   "execution_count": 62,
   "metadata": {},
   "outputs": [
    {
     "data": {
      "text/plain": [
       "(np.float64(-30133950.0), np.float64(58223250.0))"
      ]
     },
     "execution_count": 62,
     "metadata": {},
     "output_type": "execute_result"
    }
   ],
   "source": [
    "# Верхняя и нижняя границы выбросов\n",
    "lower_bound = Q1 - 1.5 * IQR\n",
    "upper_bound = Q3 + 1.5 * IQR\n",
    "\n",
    "lower_bound,upper_bound"
   ]
  },
  {
   "cell_type": "code",
   "execution_count": 63,
   "metadata": {
    "scrolled": true
   },
   "outputs": [
    {
     "data": {
      "text/plain": [
       "np.float64(7.1779744346116034)"
      ]
     },
     "execution_count": 63,
     "metadata": {},
     "output_type": "execute_result"
    }
   ],
   "source": [
    "upper_percentile = (filter_acquisition['funding_total'] > upper_bound).mean() * 100\n",
    "\n",
    "upper_percentile"
   ]
  },
  {
   "cell_type": "code",
   "execution_count": 64,
   "metadata": {},
   "outputs": [
    {
     "data": {
      "text/plain": [
       "np.float64(235024000.0)"
      ]
     },
     "execution_count": 64,
     "metadata": {},
     "output_type": "execute_result"
    }
   ],
   "source": [
    "x = filter_acquisition['funding_total'].quantile(0.99)\n",
    "x"
   ]
  },
  {
   "cell_type": "code",
   "execution_count": 65,
   "metadata": {},
   "outputs": [
    {
     "data": {
      "text/plain": [
       "np.float64(0.950508030154048)"
      ]
     },
     "execution_count": 65,
     "metadata": {},
     "output_type": "execute_result"
    }
   ],
   "source": [
    "y = (filter_acquisition['funding_total'] > x).mean() * 100\n",
    "y"
   ]
  },
  {
   "cell_type": "code",
   "execution_count": 66,
   "metadata": {},
   "outputs": [],
   "source": [
    "lower_percentile = 0.0\n",
    "upper_percentile = 0.99"
   ]
  },
  {
   "cell_type": "markdown",
   "metadata": {},
   "source": [
    "**Нижняя граница:**\n",
    "- Значение: $0 (так как фактическое значение отрицательное, что невозможно для финансирования).\n",
    "- Процентиль: 0% — все значения выше этой границы, выбросов нет.\n",
    "\n",
    "**Верхняя граница:**\n",
    "\n",
    "При расчете верхней границы выбросов,  доля выбросов составила 7.2% инвестиций, чтобы учесть естественные колебания в данных и не удалять значимые случаи крупных инвестиций, рекомендуется установить границу:\n",
    "- Значение: $235024000.0\n",
    "- Процентиль: 0.99 % — значения выше этой границы, доля выбросов составила меньше 1 процента (0.95%)."
   ]
  },
  {
   "cell_type": "markdown",
   "metadata": {
    "id": "mEiWpROjrJg2"
   },
   "source": [
    "\n",
    "### 3.4. Цены стартапов по категориям\n",
    "\n",
    "Категории стартапов с наибольшими ценами и значительным разбросом цен могут быть наиболее привлекательными для крупных инвесторов, которые готовы к высоким рискам ради потенциально больших доходов. Среди категорий стартапов выделите категории стартапов, характеризующиеся:\n",
    "\n",
    "* наибольшими ценами;\n",
    "* и наибольшим разбросом цен за стартап.\n",
    "\n",
    "Объясните, почему решили составить топ именно из такого числа категорий и почему рассчитывали именно так."
   ]
  },
  {
   "cell_type": "code",
   "execution_count": 67,
   "metadata": {
    "id": "jQ09dYUWrJg2",
    "scrolled": true
   },
   "outputs": [
    {
     "data": {
      "text/plain": [
       "array(['web', 'mobile', 'health', 'cleantech', 'analytics', 'education',\n",
       "       'medical', 'manufacturing', 'biotech', 'games_video', 'enterprise',\n",
       "       'ecommerce', 'software', 'advertising', 'news', 'government',\n",
       "       'other', 'security', 'finance', 'hardware', 'network_hosting',\n",
       "       'photo_video', 'travel', 'search', 'public_relations', 'social',\n",
       "       'transportation', nan, 'hospitality', 'sports', 'nonprofit',\n",
       "       'fashion', 'messaging', 'music', 'consulting', 'semiconductor',\n",
       "       'design', 'legal', 'real_estate', 'automotive', 'nanotech', 'pets',\n",
       "       'local'], dtype=object)"
      ]
     },
     "execution_count": 67,
     "metadata": {},
     "output_type": "execute_result"
    }
   ],
   "source": [
    "new_acquisition[\"category_code\"].unique()"
   ]
  },
  {
   "cell_type": "code",
   "execution_count": 68,
   "metadata": {
    "scrolled": true
   },
   "outputs": [
    {
     "data": {
      "text/plain": [
       "count    4.934000e+03\n",
       "mean     9.427101e+07\n",
       "std      3.930548e+08\n",
       "min      0.000000e+00\n",
       "25%      0.000000e+00\n",
       "50%      0.000000e+00\n",
       "75%      3.100000e+07\n",
       "max      8.500000e+09\n",
       "Name: price_amount, dtype: float64"
      ]
     },
     "execution_count": 68,
     "metadata": {},
     "output_type": "execute_result"
    }
   ],
   "source": [
    "new_acquisition['price_amount'].describe()"
   ]
  },
  {
   "cell_type": "code",
   "execution_count": 69,
   "metadata": {},
   "outputs": [],
   "source": [
    "new_acquisition = new_acquisition[new_acquisition['price_amount'] > 0]"
   ]
  },
  {
   "cell_type": "code",
   "execution_count": 70,
   "metadata": {
    "id": "MFONscXPn29F"
   },
   "outputs": [
    {
     "data": {
      "text/html": [
       "<div>\n",
       "<style scoped>\n",
       "    .dataframe tbody tr th:only-of-type {\n",
       "        vertical-align: middle;\n",
       "    }\n",
       "\n",
       "    .dataframe tbody tr th {\n",
       "        vertical-align: top;\n",
       "    }\n",
       "\n",
       "    .dataframe thead tr th {\n",
       "        text-align: left;\n",
       "    }\n",
       "</style>\n",
       "<table border=\"1\" class=\"dataframe\">\n",
       "  <thead>\n",
       "    <tr>\n",
       "      <th></th>\n",
       "      <th>category_code</th>\n",
       "      <th colspan=\"4\" halign=\"left\">price_amount</th>\n",
       "    </tr>\n",
       "    <tr>\n",
       "      <th></th>\n",
       "      <th></th>\n",
       "      <th>count</th>\n",
       "      <th>mean</th>\n",
       "      <th>median</th>\n",
       "      <th>std</th>\n",
       "    </tr>\n",
       "  </thead>\n",
       "  <tbody>\n",
       "    <tr>\n",
       "      <th>0</th>\n",
       "      <td>advertising</td>\n",
       "      <td>110</td>\n",
       "      <td>1.721082e+08</td>\n",
       "      <td>8.000000e+07</td>\n",
       "      <td>2.456230e+08</td>\n",
       "    </tr>\n",
       "    <tr>\n",
       "      <th>1</th>\n",
       "      <td>analytics</td>\n",
       "      <td>14</td>\n",
       "      <td>1.837143e+08</td>\n",
       "      <td>2.000000e+08</td>\n",
       "      <td>7.325554e+07</td>\n",
       "    </tr>\n",
       "    <tr>\n",
       "      <th>2</th>\n",
       "      <td>automotive</td>\n",
       "      <td>1</td>\n",
       "      <td>4.300000e+07</td>\n",
       "      <td>4.300000e+07</td>\n",
       "      <td>NaN</td>\n",
       "    </tr>\n",
       "    <tr>\n",
       "      <th>3</th>\n",
       "      <td>biotech</td>\n",
       "      <td>181</td>\n",
       "      <td>3.638342e+08</td>\n",
       "      <td>2.850000e+08</td>\n",
       "      <td>3.495542e+08</td>\n",
       "    </tr>\n",
       "    <tr>\n",
       "      <th>4</th>\n",
       "      <td>cleantech</td>\n",
       "      <td>48</td>\n",
       "      <td>2.137281e+08</td>\n",
       "      <td>1.200000e+08</td>\n",
       "      <td>2.519679e+08</td>\n",
       "    </tr>\n",
       "    <tr>\n",
       "      <th>5</th>\n",
       "      <td>consulting</td>\n",
       "      <td>13</td>\n",
       "      <td>2.153077e+08</td>\n",
       "      <td>2.950000e+08</td>\n",
       "      <td>9.446109e+07</td>\n",
       "    </tr>\n",
       "    <tr>\n",
       "      <th>6</th>\n",
       "      <td>ecommerce</td>\n",
       "      <td>28</td>\n",
       "      <td>2.284268e+08</td>\n",
       "      <td>2.325000e+08</td>\n",
       "      <td>2.137950e+08</td>\n",
       "    </tr>\n",
       "    <tr>\n",
       "      <th>7</th>\n",
       "      <td>education</td>\n",
       "      <td>1</td>\n",
       "      <td>1.000000e+07</td>\n",
       "      <td>1.000000e+07</td>\n",
       "      <td>NaN</td>\n",
       "    </tr>\n",
       "    <tr>\n",
       "      <th>8</th>\n",
       "      <td>enterprise</td>\n",
       "      <td>125</td>\n",
       "      <td>3.242138e+08</td>\n",
       "      <td>1.670000e+08</td>\n",
       "      <td>3.720423e+08</td>\n",
       "    </tr>\n",
       "    <tr>\n",
       "      <th>9</th>\n",
       "      <td>fashion</td>\n",
       "      <td>2</td>\n",
       "      <td>2.700000e+08</td>\n",
       "      <td>2.700000e+08</td>\n",
       "      <td>0.000000e+00</td>\n",
       "    </tr>\n",
       "    <tr>\n",
       "      <th>10</th>\n",
       "      <td>finance</td>\n",
       "      <td>20</td>\n",
       "      <td>4.675200e+08</td>\n",
       "      <td>1.700000e+08</td>\n",
       "      <td>6.139132e+08</td>\n",
       "    </tr>\n",
       "    <tr>\n",
       "      <th>11</th>\n",
       "      <td>games_video</td>\n",
       "      <td>90</td>\n",
       "      <td>2.565263e+08</td>\n",
       "      <td>1.170000e+08</td>\n",
       "      <td>5.901822e+08</td>\n",
       "    </tr>\n",
       "    <tr>\n",
       "      <th>12</th>\n",
       "      <td>hardware</td>\n",
       "      <td>47</td>\n",
       "      <td>2.229723e+08</td>\n",
       "      <td>9.600000e+07</td>\n",
       "      <td>2.918775e+08</td>\n",
       "    </tr>\n",
       "    <tr>\n",
       "      <th>13</th>\n",
       "      <td>health</td>\n",
       "      <td>9</td>\n",
       "      <td>1.655556e+08</td>\n",
       "      <td>1.500000e+08</td>\n",
       "      <td>9.408920e+07</td>\n",
       "    </tr>\n",
       "    <tr>\n",
       "      <th>14</th>\n",
       "      <td>hospitality</td>\n",
       "      <td>2</td>\n",
       "      <td>1.000000e+07</td>\n",
       "      <td>1.000000e+07</td>\n",
       "      <td>0.000000e+00</td>\n",
       "    </tr>\n",
       "    <tr>\n",
       "      <th>15</th>\n",
       "      <td>manufacturing</td>\n",
       "      <td>4</td>\n",
       "      <td>6.325000e+07</td>\n",
       "      <td>4.350000e+07</td>\n",
       "      <td>6.437585e+07</td>\n",
       "    </tr>\n",
       "    <tr>\n",
       "      <th>16</th>\n",
       "      <td>medical</td>\n",
       "      <td>6</td>\n",
       "      <td>1.677500e+08</td>\n",
       "      <td>1.650000e+08</td>\n",
       "      <td>1.543029e+08</td>\n",
       "    </tr>\n",
       "    <tr>\n",
       "      <th>17</th>\n",
       "      <td>messaging</td>\n",
       "      <td>10</td>\n",
       "      <td>1.179000e+08</td>\n",
       "      <td>1.355000e+08</td>\n",
       "      <td>6.241341e+07</td>\n",
       "    </tr>\n",
       "    <tr>\n",
       "      <th>18</th>\n",
       "      <td>mobile</td>\n",
       "      <td>160</td>\n",
       "      <td>1.662668e+08</td>\n",
       "      <td>7.200000e+07</td>\n",
       "      <td>2.091223e+08</td>\n",
       "    </tr>\n",
       "    <tr>\n",
       "      <th>19</th>\n",
       "      <td>music</td>\n",
       "      <td>7</td>\n",
       "      <td>4.140857e+07</td>\n",
       "      <td>1.000000e+06</td>\n",
       "      <td>1.052188e+08</td>\n",
       "    </tr>\n",
       "    <tr>\n",
       "      <th>20</th>\n",
       "      <td>network_hosting</td>\n",
       "      <td>79</td>\n",
       "      <td>4.288403e+08</td>\n",
       "      <td>1.000000e+08</td>\n",
       "      <td>7.444130e+08</td>\n",
       "    </tr>\n",
       "    <tr>\n",
       "      <th>21</th>\n",
       "      <td>news</td>\n",
       "      <td>20</td>\n",
       "      <td>1.288750e+08</td>\n",
       "      <td>9.000000e+07</td>\n",
       "      <td>1.231334e+08</td>\n",
       "    </tr>\n",
       "    <tr>\n",
       "      <th>22</th>\n",
       "      <td>other</td>\n",
       "      <td>16</td>\n",
       "      <td>9.968750e+07</td>\n",
       "      <td>3.600000e+07</td>\n",
       "      <td>1.172756e+08</td>\n",
       "    </tr>\n",
       "    <tr>\n",
       "      <th>23</th>\n",
       "      <td>photo_video</td>\n",
       "      <td>15</td>\n",
       "      <td>2.393940e+08</td>\n",
       "      <td>5.000000e+07</td>\n",
       "      <td>3.991601e+08</td>\n",
       "    </tr>\n",
       "    <tr>\n",
       "      <th>24</th>\n",
       "      <td>public_relations</td>\n",
       "      <td>47</td>\n",
       "      <td>2.036596e+08</td>\n",
       "      <td>3.200000e+07</td>\n",
       "      <td>4.669282e+08</td>\n",
       "    </tr>\n",
       "    <tr>\n",
       "      <th>25</th>\n",
       "      <td>real_estate</td>\n",
       "      <td>5</td>\n",
       "      <td>2.520000e+07</td>\n",
       "      <td>4.000000e+07</td>\n",
       "      <td>2.026573e+07</td>\n",
       "    </tr>\n",
       "    <tr>\n",
       "      <th>26</th>\n",
       "      <td>search</td>\n",
       "      <td>19</td>\n",
       "      <td>1.137000e+08</td>\n",
       "      <td>1.000000e+08</td>\n",
       "      <td>1.208719e+08</td>\n",
       "    </tr>\n",
       "    <tr>\n",
       "      <th>27</th>\n",
       "      <td>security</td>\n",
       "      <td>39</td>\n",
       "      <td>1.888679e+08</td>\n",
       "      <td>1.500000e+08</td>\n",
       "      <td>1.889326e+08</td>\n",
       "    </tr>\n",
       "    <tr>\n",
       "      <th>28</th>\n",
       "      <td>semiconductor</td>\n",
       "      <td>60</td>\n",
       "      <td>3.597017e+08</td>\n",
       "      <td>1.230000e+08</td>\n",
       "      <td>8.955819e+08</td>\n",
       "    </tr>\n",
       "    <tr>\n",
       "      <th>29</th>\n",
       "      <td>social</td>\n",
       "      <td>12</td>\n",
       "      <td>9.700000e+07</td>\n",
       "      <td>1.080000e+08</td>\n",
       "      <td>5.883529e+07</td>\n",
       "    </tr>\n",
       "    <tr>\n",
       "      <th>30</th>\n",
       "      <td>software</td>\n",
       "      <td>235</td>\n",
       "      <td>4.627085e+08</td>\n",
       "      <td>7.400000e+07</td>\n",
       "      <td>1.341435e+09</td>\n",
       "    </tr>\n",
       "    <tr>\n",
       "      <th>31</th>\n",
       "      <td>transportation</td>\n",
       "      <td>3</td>\n",
       "      <td>1.100000e+09</td>\n",
       "      <td>1.100000e+09</td>\n",
       "      <td>0.000000e+00</td>\n",
       "    </tr>\n",
       "    <tr>\n",
       "      <th>32</th>\n",
       "      <td>travel</td>\n",
       "      <td>5</td>\n",
       "      <td>7.400000e+07</td>\n",
       "      <td>1.200000e+08</td>\n",
       "      <td>6.298809e+07</td>\n",
       "    </tr>\n",
       "    <tr>\n",
       "      <th>33</th>\n",
       "      <td>web</td>\n",
       "      <td>180</td>\n",
       "      <td>2.234561e+08</td>\n",
       "      <td>7.470000e+07</td>\n",
       "      <td>3.712279e+08</td>\n",
       "    </tr>\n",
       "  </tbody>\n",
       "</table>\n",
       "</div>"
      ],
      "text/plain": [
       "       category_code price_amount                                          \n",
       "                            count          mean        median           std\n",
       "0        advertising          110  1.721082e+08  8.000000e+07  2.456230e+08\n",
       "1          analytics           14  1.837143e+08  2.000000e+08  7.325554e+07\n",
       "2         automotive            1  4.300000e+07  4.300000e+07           NaN\n",
       "3            biotech          181  3.638342e+08  2.850000e+08  3.495542e+08\n",
       "4          cleantech           48  2.137281e+08  1.200000e+08  2.519679e+08\n",
       "5         consulting           13  2.153077e+08  2.950000e+08  9.446109e+07\n",
       "6          ecommerce           28  2.284268e+08  2.325000e+08  2.137950e+08\n",
       "7          education            1  1.000000e+07  1.000000e+07           NaN\n",
       "8         enterprise          125  3.242138e+08  1.670000e+08  3.720423e+08\n",
       "9            fashion            2  2.700000e+08  2.700000e+08  0.000000e+00\n",
       "10           finance           20  4.675200e+08  1.700000e+08  6.139132e+08\n",
       "11       games_video           90  2.565263e+08  1.170000e+08  5.901822e+08\n",
       "12          hardware           47  2.229723e+08  9.600000e+07  2.918775e+08\n",
       "13            health            9  1.655556e+08  1.500000e+08  9.408920e+07\n",
       "14       hospitality            2  1.000000e+07  1.000000e+07  0.000000e+00\n",
       "15     manufacturing            4  6.325000e+07  4.350000e+07  6.437585e+07\n",
       "16           medical            6  1.677500e+08  1.650000e+08  1.543029e+08\n",
       "17         messaging           10  1.179000e+08  1.355000e+08  6.241341e+07\n",
       "18            mobile          160  1.662668e+08  7.200000e+07  2.091223e+08\n",
       "19             music            7  4.140857e+07  1.000000e+06  1.052188e+08\n",
       "20   network_hosting           79  4.288403e+08  1.000000e+08  7.444130e+08\n",
       "21              news           20  1.288750e+08  9.000000e+07  1.231334e+08\n",
       "22             other           16  9.968750e+07  3.600000e+07  1.172756e+08\n",
       "23       photo_video           15  2.393940e+08  5.000000e+07  3.991601e+08\n",
       "24  public_relations           47  2.036596e+08  3.200000e+07  4.669282e+08\n",
       "25       real_estate            5  2.520000e+07  4.000000e+07  2.026573e+07\n",
       "26            search           19  1.137000e+08  1.000000e+08  1.208719e+08\n",
       "27          security           39  1.888679e+08  1.500000e+08  1.889326e+08\n",
       "28     semiconductor           60  3.597017e+08  1.230000e+08  8.955819e+08\n",
       "29            social           12  9.700000e+07  1.080000e+08  5.883529e+07\n",
       "30          software          235  4.627085e+08  7.400000e+07  1.341435e+09\n",
       "31    transportation            3  1.100000e+09  1.100000e+09  0.000000e+00\n",
       "32            travel            5  7.400000e+07  1.200000e+08  6.298809e+07\n",
       "33               web          180  2.234561e+08  7.470000e+07  3.712279e+08"
      ]
     },
     "execution_count": 70,
     "metadata": {},
     "output_type": "execute_result"
    }
   ],
   "source": [
    "category_stats = new_acquisition.groupby('category_code').agg({\n",
    "    'price_amount': ['count','mean', 'median','std']\n",
    "}).reset_index()\n",
    "\n",
    "category_stats "
   ]
  },
  {
   "cell_type": "code",
   "execution_count": 71,
   "metadata": {
    "scrolled": true
   },
   "outputs": [
    {
     "data": {
      "text/html": [
       "<div>\n",
       "<style scoped>\n",
       "    .dataframe tbody tr th:only-of-type {\n",
       "        vertical-align: middle;\n",
       "    }\n",
       "\n",
       "    .dataframe tbody tr th {\n",
       "        vertical-align: top;\n",
       "    }\n",
       "\n",
       "    .dataframe thead th {\n",
       "        text-align: right;\n",
       "    }\n",
       "</style>\n",
       "<table border=\"1\" class=\"dataframe\">\n",
       "  <thead>\n",
       "    <tr style=\"text-align: right;\">\n",
       "      <th></th>\n",
       "      <th>category</th>\n",
       "      <th>count_pr</th>\n",
       "      <th>average_price</th>\n",
       "      <th>median_price</th>\n",
       "      <th>price_std_dev</th>\n",
       "    </tr>\n",
       "  </thead>\n",
       "  <tbody>\n",
       "    <tr>\n",
       "      <th>0</th>\n",
       "      <td>advertising</td>\n",
       "      <td>110</td>\n",
       "      <td>1.721082e+08</td>\n",
       "      <td>80000000.0</td>\n",
       "      <td>2.456230e+08</td>\n",
       "    </tr>\n",
       "    <tr>\n",
       "      <th>1</th>\n",
       "      <td>analytics</td>\n",
       "      <td>14</td>\n",
       "      <td>1.837143e+08</td>\n",
       "      <td>200000000.0</td>\n",
       "      <td>7.325554e+07</td>\n",
       "    </tr>\n",
       "    <tr>\n",
       "      <th>2</th>\n",
       "      <td>automotive</td>\n",
       "      <td>1</td>\n",
       "      <td>4.300000e+07</td>\n",
       "      <td>43000000.0</td>\n",
       "      <td>NaN</td>\n",
       "    </tr>\n",
       "    <tr>\n",
       "      <th>3</th>\n",
       "      <td>biotech</td>\n",
       "      <td>181</td>\n",
       "      <td>3.638342e+08</td>\n",
       "      <td>285000000.0</td>\n",
       "      <td>3.495542e+08</td>\n",
       "    </tr>\n",
       "    <tr>\n",
       "      <th>4</th>\n",
       "      <td>cleantech</td>\n",
       "      <td>48</td>\n",
       "      <td>2.137281e+08</td>\n",
       "      <td>120000000.0</td>\n",
       "      <td>2.519679e+08</td>\n",
       "    </tr>\n",
       "  </tbody>\n",
       "</table>\n",
       "</div>"
      ],
      "text/plain": [
       "      category  count_pr  average_price  median_price  price_std_dev\n",
       "0  advertising       110   1.721082e+08    80000000.0   2.456230e+08\n",
       "1    analytics        14   1.837143e+08   200000000.0   7.325554e+07\n",
       "2   automotive         1   4.300000e+07    43000000.0            NaN\n",
       "3      biotech       181   3.638342e+08   285000000.0   3.495542e+08\n",
       "4    cleantech        48   2.137281e+08   120000000.0   2.519679e+08"
      ]
     },
     "execution_count": 71,
     "metadata": {},
     "output_type": "execute_result"
    }
   ],
   "source": [
    "category_stats.columns = ['category', 'count_pr', 'average_price', 'median_price','price_std_dev']\n",
    "category_stats.head()"
   ]
  },
  {
   "cell_type": "code",
   "execution_count": 72,
   "metadata": {},
   "outputs": [
    {
     "data": {
      "text/plain": [
       "Index(['category', 'count_pr', 'average_price', 'median_price',\n",
       "       'price_std_dev'],\n",
       "      dtype='object')"
      ]
     },
     "execution_count": 72,
     "metadata": {},
     "output_type": "execute_result"
    }
   ],
   "source": [
    "category_stats.columns"
   ]
  },
  {
   "cell_type": "code",
   "execution_count": 73,
   "metadata": {},
   "outputs": [],
   "source": [
    "category_stats = category_stats.dropna(subset=['average_price', 'median_price','price_std_dev'])"
   ]
  },
  {
   "cell_type": "code",
   "execution_count": 74,
   "metadata": {},
   "outputs": [
    {
     "data": {
      "text/html": [
       "<div>\n",
       "<style scoped>\n",
       "    .dataframe tbody tr th:only-of-type {\n",
       "        vertical-align: middle;\n",
       "    }\n",
       "\n",
       "    .dataframe tbody tr th {\n",
       "        vertical-align: top;\n",
       "    }\n",
       "\n",
       "    .dataframe thead th {\n",
       "        text-align: right;\n",
       "    }\n",
       "</style>\n",
       "<table border=\"1\" class=\"dataframe\">\n",
       "  <thead>\n",
       "    <tr style=\"text-align: right;\">\n",
       "      <th></th>\n",
       "      <th>category</th>\n",
       "      <th>count_pr</th>\n",
       "      <th>average_price</th>\n",
       "      <th>median_price</th>\n",
       "      <th>price_std_dev</th>\n",
       "    </tr>\n",
       "  </thead>\n",
       "  <tbody>\n",
       "    <tr>\n",
       "      <th>0</th>\n",
       "      <td>advertising</td>\n",
       "      <td>110</td>\n",
       "      <td>1.721082e+08</td>\n",
       "      <td>80000000.0</td>\n",
       "      <td>2.456230e+08</td>\n",
       "    </tr>\n",
       "    <tr>\n",
       "      <th>1</th>\n",
       "      <td>analytics</td>\n",
       "      <td>14</td>\n",
       "      <td>1.837143e+08</td>\n",
       "      <td>200000000.0</td>\n",
       "      <td>7.325554e+07</td>\n",
       "    </tr>\n",
       "    <tr>\n",
       "      <th>3</th>\n",
       "      <td>biotech</td>\n",
       "      <td>181</td>\n",
       "      <td>3.638342e+08</td>\n",
       "      <td>285000000.0</td>\n",
       "      <td>3.495542e+08</td>\n",
       "    </tr>\n",
       "    <tr>\n",
       "      <th>4</th>\n",
       "      <td>cleantech</td>\n",
       "      <td>48</td>\n",
       "      <td>2.137281e+08</td>\n",
       "      <td>120000000.0</td>\n",
       "      <td>2.519679e+08</td>\n",
       "    </tr>\n",
       "    <tr>\n",
       "      <th>5</th>\n",
       "      <td>consulting</td>\n",
       "      <td>13</td>\n",
       "      <td>2.153077e+08</td>\n",
       "      <td>295000000.0</td>\n",
       "      <td>9.446109e+07</td>\n",
       "    </tr>\n",
       "    <tr>\n",
       "      <th>6</th>\n",
       "      <td>ecommerce</td>\n",
       "      <td>28</td>\n",
       "      <td>2.284268e+08</td>\n",
       "      <td>232500000.0</td>\n",
       "      <td>2.137950e+08</td>\n",
       "    </tr>\n",
       "    <tr>\n",
       "      <th>8</th>\n",
       "      <td>enterprise</td>\n",
       "      <td>125</td>\n",
       "      <td>3.242138e+08</td>\n",
       "      <td>167000000.0</td>\n",
       "      <td>3.720423e+08</td>\n",
       "    </tr>\n",
       "    <tr>\n",
       "      <th>10</th>\n",
       "      <td>finance</td>\n",
       "      <td>20</td>\n",
       "      <td>4.675200e+08</td>\n",
       "      <td>170000000.0</td>\n",
       "      <td>6.139132e+08</td>\n",
       "    </tr>\n",
       "    <tr>\n",
       "      <th>11</th>\n",
       "      <td>games_video</td>\n",
       "      <td>90</td>\n",
       "      <td>2.565263e+08</td>\n",
       "      <td>117000000.0</td>\n",
       "      <td>5.901822e+08</td>\n",
       "    </tr>\n",
       "    <tr>\n",
       "      <th>12</th>\n",
       "      <td>hardware</td>\n",
       "      <td>47</td>\n",
       "      <td>2.229723e+08</td>\n",
       "      <td>96000000.0</td>\n",
       "      <td>2.918775e+08</td>\n",
       "    </tr>\n",
       "    <tr>\n",
       "      <th>17</th>\n",
       "      <td>messaging</td>\n",
       "      <td>10</td>\n",
       "      <td>1.179000e+08</td>\n",
       "      <td>135500000.0</td>\n",
       "      <td>6.241341e+07</td>\n",
       "    </tr>\n",
       "    <tr>\n",
       "      <th>18</th>\n",
       "      <td>mobile</td>\n",
       "      <td>160</td>\n",
       "      <td>1.662668e+08</td>\n",
       "      <td>72000000.0</td>\n",
       "      <td>2.091223e+08</td>\n",
       "    </tr>\n",
       "    <tr>\n",
       "      <th>20</th>\n",
       "      <td>network_hosting</td>\n",
       "      <td>79</td>\n",
       "      <td>4.288403e+08</td>\n",
       "      <td>100000000.0</td>\n",
       "      <td>7.444130e+08</td>\n",
       "    </tr>\n",
       "    <tr>\n",
       "      <th>21</th>\n",
       "      <td>news</td>\n",
       "      <td>20</td>\n",
       "      <td>1.288750e+08</td>\n",
       "      <td>90000000.0</td>\n",
       "      <td>1.231334e+08</td>\n",
       "    </tr>\n",
       "    <tr>\n",
       "      <th>22</th>\n",
       "      <td>other</td>\n",
       "      <td>16</td>\n",
       "      <td>9.968750e+07</td>\n",
       "      <td>36000000.0</td>\n",
       "      <td>1.172756e+08</td>\n",
       "    </tr>\n",
       "    <tr>\n",
       "      <th>23</th>\n",
       "      <td>photo_video</td>\n",
       "      <td>15</td>\n",
       "      <td>2.393940e+08</td>\n",
       "      <td>50000000.0</td>\n",
       "      <td>3.991601e+08</td>\n",
       "    </tr>\n",
       "    <tr>\n",
       "      <th>24</th>\n",
       "      <td>public_relations</td>\n",
       "      <td>47</td>\n",
       "      <td>2.036596e+08</td>\n",
       "      <td>32000000.0</td>\n",
       "      <td>4.669282e+08</td>\n",
       "    </tr>\n",
       "    <tr>\n",
       "      <th>26</th>\n",
       "      <td>search</td>\n",
       "      <td>19</td>\n",
       "      <td>1.137000e+08</td>\n",
       "      <td>100000000.0</td>\n",
       "      <td>1.208719e+08</td>\n",
       "    </tr>\n",
       "    <tr>\n",
       "      <th>27</th>\n",
       "      <td>security</td>\n",
       "      <td>39</td>\n",
       "      <td>1.888679e+08</td>\n",
       "      <td>150000000.0</td>\n",
       "      <td>1.889326e+08</td>\n",
       "    </tr>\n",
       "    <tr>\n",
       "      <th>28</th>\n",
       "      <td>semiconductor</td>\n",
       "      <td>60</td>\n",
       "      <td>3.597017e+08</td>\n",
       "      <td>123000000.0</td>\n",
       "      <td>8.955819e+08</td>\n",
       "    </tr>\n",
       "    <tr>\n",
       "      <th>29</th>\n",
       "      <td>social</td>\n",
       "      <td>12</td>\n",
       "      <td>9.700000e+07</td>\n",
       "      <td>108000000.0</td>\n",
       "      <td>5.883529e+07</td>\n",
       "    </tr>\n",
       "    <tr>\n",
       "      <th>30</th>\n",
       "      <td>software</td>\n",
       "      <td>235</td>\n",
       "      <td>4.627085e+08</td>\n",
       "      <td>74000000.0</td>\n",
       "      <td>1.341435e+09</td>\n",
       "    </tr>\n",
       "    <tr>\n",
       "      <th>33</th>\n",
       "      <td>web</td>\n",
       "      <td>180</td>\n",
       "      <td>2.234561e+08</td>\n",
       "      <td>74700000.0</td>\n",
       "      <td>3.712279e+08</td>\n",
       "    </tr>\n",
       "  </tbody>\n",
       "</table>\n",
       "</div>"
      ],
      "text/plain": [
       "            category  count_pr  average_price  median_price  price_std_dev\n",
       "0        advertising       110   1.721082e+08    80000000.0   2.456230e+08\n",
       "1          analytics        14   1.837143e+08   200000000.0   7.325554e+07\n",
       "3            biotech       181   3.638342e+08   285000000.0   3.495542e+08\n",
       "4          cleantech        48   2.137281e+08   120000000.0   2.519679e+08\n",
       "5         consulting        13   2.153077e+08   295000000.0   9.446109e+07\n",
       "6          ecommerce        28   2.284268e+08   232500000.0   2.137950e+08\n",
       "8         enterprise       125   3.242138e+08   167000000.0   3.720423e+08\n",
       "10           finance        20   4.675200e+08   170000000.0   6.139132e+08\n",
       "11       games_video        90   2.565263e+08   117000000.0   5.901822e+08\n",
       "12          hardware        47   2.229723e+08    96000000.0   2.918775e+08\n",
       "17         messaging        10   1.179000e+08   135500000.0   6.241341e+07\n",
       "18            mobile       160   1.662668e+08    72000000.0   2.091223e+08\n",
       "20   network_hosting        79   4.288403e+08   100000000.0   7.444130e+08\n",
       "21              news        20   1.288750e+08    90000000.0   1.231334e+08\n",
       "22             other        16   9.968750e+07    36000000.0   1.172756e+08\n",
       "23       photo_video        15   2.393940e+08    50000000.0   3.991601e+08\n",
       "24  public_relations        47   2.036596e+08    32000000.0   4.669282e+08\n",
       "26            search        19   1.137000e+08   100000000.0   1.208719e+08\n",
       "27          security        39   1.888679e+08   150000000.0   1.889326e+08\n",
       "28     semiconductor        60   3.597017e+08   123000000.0   8.955819e+08\n",
       "29            social        12   9.700000e+07   108000000.0   5.883529e+07\n",
       "30          software       235   4.627085e+08    74000000.0   1.341435e+09\n",
       "33               web       180   2.234561e+08    74700000.0   3.712279e+08"
      ]
     },
     "execution_count": 74,
     "metadata": {},
     "output_type": "execute_result"
    }
   ],
   "source": [
    "category_stats = category_stats[category_stats['count_pr'] > 9]\n",
    "category_stats"
   ]
  },
  {
   "cell_type": "code",
   "execution_count": 75,
   "metadata": {},
   "outputs": [
    {
     "data": {
      "text/html": [
       "<div>\n",
       "<style scoped>\n",
       "    .dataframe tbody tr th:only-of-type {\n",
       "        vertical-align: middle;\n",
       "    }\n",
       "\n",
       "    .dataframe tbody tr th {\n",
       "        vertical-align: top;\n",
       "    }\n",
       "\n",
       "    .dataframe thead th {\n",
       "        text-align: right;\n",
       "    }\n",
       "</style>\n",
       "<table border=\"1\" class=\"dataframe\">\n",
       "  <thead>\n",
       "    <tr style=\"text-align: right;\">\n",
       "      <th></th>\n",
       "      <th>category</th>\n",
       "      <th>count_pr</th>\n",
       "      <th>average_price</th>\n",
       "      <th>median_price</th>\n",
       "      <th>price_std_dev</th>\n",
       "    </tr>\n",
       "  </thead>\n",
       "  <tbody>\n",
       "    <tr>\n",
       "      <th>10</th>\n",
       "      <td>finance</td>\n",
       "      <td>20</td>\n",
       "      <td>4.675200e+08</td>\n",
       "      <td>170000000.0</td>\n",
       "      <td>6.139132e+08</td>\n",
       "    </tr>\n",
       "    <tr>\n",
       "      <th>30</th>\n",
       "      <td>software</td>\n",
       "      <td>235</td>\n",
       "      <td>4.627085e+08</td>\n",
       "      <td>74000000.0</td>\n",
       "      <td>1.341435e+09</td>\n",
       "    </tr>\n",
       "    <tr>\n",
       "      <th>20</th>\n",
       "      <td>network_hosting</td>\n",
       "      <td>79</td>\n",
       "      <td>4.288403e+08</td>\n",
       "      <td>100000000.0</td>\n",
       "      <td>7.444130e+08</td>\n",
       "    </tr>\n",
       "    <tr>\n",
       "      <th>3</th>\n",
       "      <td>biotech</td>\n",
       "      <td>181</td>\n",
       "      <td>3.638342e+08</td>\n",
       "      <td>285000000.0</td>\n",
       "      <td>3.495542e+08</td>\n",
       "    </tr>\n",
       "    <tr>\n",
       "      <th>28</th>\n",
       "      <td>semiconductor</td>\n",
       "      <td>60</td>\n",
       "      <td>3.597017e+08</td>\n",
       "      <td>123000000.0</td>\n",
       "      <td>8.955819e+08</td>\n",
       "    </tr>\n",
       "  </tbody>\n",
       "</table>\n",
       "</div>"
      ],
      "text/plain": [
       "           category  count_pr  average_price  median_price  price_std_dev\n",
       "10          finance        20   4.675200e+08   170000000.0   6.139132e+08\n",
       "30         software       235   4.627085e+08    74000000.0   1.341435e+09\n",
       "20  network_hosting        79   4.288403e+08   100000000.0   7.444130e+08\n",
       "3           biotech       181   3.638342e+08   285000000.0   3.495542e+08\n",
       "28    semiconductor        60   3.597017e+08   123000000.0   8.955819e+08"
      ]
     },
     "execution_count": 75,
     "metadata": {},
     "output_type": "execute_result"
    }
   ],
   "source": [
    "# Топ-5 категорий с наибольшими средними ценами\n",
    "top_average_price = category_stats.sort_values(by='average_price', ascending=False)\n",
    "top_average_price.head(5)"
   ]
  },
  {
   "cell_type": "code",
   "execution_count": 76,
   "metadata": {},
   "outputs": [
    {
     "data": {
      "text/html": [
       "<div>\n",
       "<style scoped>\n",
       "    .dataframe tbody tr th:only-of-type {\n",
       "        vertical-align: middle;\n",
       "    }\n",
       "\n",
       "    .dataframe tbody tr th {\n",
       "        vertical-align: top;\n",
       "    }\n",
       "\n",
       "    .dataframe thead th {\n",
       "        text-align: right;\n",
       "    }\n",
       "</style>\n",
       "<table border=\"1\" class=\"dataframe\">\n",
       "  <thead>\n",
       "    <tr style=\"text-align: right;\">\n",
       "      <th></th>\n",
       "      <th>category</th>\n",
       "      <th>count_pr</th>\n",
       "      <th>average_price</th>\n",
       "      <th>median_price</th>\n",
       "      <th>price_std_dev</th>\n",
       "    </tr>\n",
       "  </thead>\n",
       "  <tbody>\n",
       "    <tr>\n",
       "      <th>5</th>\n",
       "      <td>consulting</td>\n",
       "      <td>13</td>\n",
       "      <td>2.153077e+08</td>\n",
       "      <td>295000000.0</td>\n",
       "      <td>9.446109e+07</td>\n",
       "    </tr>\n",
       "    <tr>\n",
       "      <th>3</th>\n",
       "      <td>biotech</td>\n",
       "      <td>181</td>\n",
       "      <td>3.638342e+08</td>\n",
       "      <td>285000000.0</td>\n",
       "      <td>3.495542e+08</td>\n",
       "    </tr>\n",
       "    <tr>\n",
       "      <th>6</th>\n",
       "      <td>ecommerce</td>\n",
       "      <td>28</td>\n",
       "      <td>2.284268e+08</td>\n",
       "      <td>232500000.0</td>\n",
       "      <td>2.137950e+08</td>\n",
       "    </tr>\n",
       "    <tr>\n",
       "      <th>1</th>\n",
       "      <td>analytics</td>\n",
       "      <td>14</td>\n",
       "      <td>1.837143e+08</td>\n",
       "      <td>200000000.0</td>\n",
       "      <td>7.325554e+07</td>\n",
       "    </tr>\n",
       "    <tr>\n",
       "      <th>10</th>\n",
       "      <td>finance</td>\n",
       "      <td>20</td>\n",
       "      <td>4.675200e+08</td>\n",
       "      <td>170000000.0</td>\n",
       "      <td>6.139132e+08</td>\n",
       "    </tr>\n",
       "  </tbody>\n",
       "</table>\n",
       "</div>"
      ],
      "text/plain": [
       "      category  count_pr  average_price  median_price  price_std_dev\n",
       "5   consulting        13   2.153077e+08   295000000.0   9.446109e+07\n",
       "3      biotech       181   3.638342e+08   285000000.0   3.495542e+08\n",
       "6    ecommerce        28   2.284268e+08   232500000.0   2.137950e+08\n",
       "1    analytics        14   1.837143e+08   200000000.0   7.325554e+07\n",
       "10     finance        20   4.675200e+08   170000000.0   6.139132e+08"
      ]
     },
     "execution_count": 76,
     "metadata": {},
     "output_type": "execute_result"
    }
   ],
   "source": [
    "# Топ-5 категорий с наибольшими медианами цен\n",
    "top_average_price = category_stats.sort_values(by='median_price', ascending=False)\n",
    "top_average_price.head(5)"
   ]
  },
  {
   "cell_type": "code",
   "execution_count": 77,
   "metadata": {},
   "outputs": [
    {
     "data": {
      "text/html": [
       "<div>\n",
       "<style scoped>\n",
       "    .dataframe tbody tr th:only-of-type {\n",
       "        vertical-align: middle;\n",
       "    }\n",
       "\n",
       "    .dataframe tbody tr th {\n",
       "        vertical-align: top;\n",
       "    }\n",
       "\n",
       "    .dataframe thead th {\n",
       "        text-align: right;\n",
       "    }\n",
       "</style>\n",
       "<table border=\"1\" class=\"dataframe\">\n",
       "  <thead>\n",
       "    <tr style=\"text-align: right;\">\n",
       "      <th></th>\n",
       "      <th>category</th>\n",
       "      <th>count_pr</th>\n",
       "      <th>average_price</th>\n",
       "      <th>median_price</th>\n",
       "      <th>price_std_dev</th>\n",
       "    </tr>\n",
       "  </thead>\n",
       "  <tbody>\n",
       "    <tr>\n",
       "      <th>30</th>\n",
       "      <td>software</td>\n",
       "      <td>235</td>\n",
       "      <td>4.627085e+08</td>\n",
       "      <td>74000000.0</td>\n",
       "      <td>1.341435e+09</td>\n",
       "    </tr>\n",
       "    <tr>\n",
       "      <th>28</th>\n",
       "      <td>semiconductor</td>\n",
       "      <td>60</td>\n",
       "      <td>3.597017e+08</td>\n",
       "      <td>123000000.0</td>\n",
       "      <td>8.955819e+08</td>\n",
       "    </tr>\n",
       "    <tr>\n",
       "      <th>20</th>\n",
       "      <td>network_hosting</td>\n",
       "      <td>79</td>\n",
       "      <td>4.288403e+08</td>\n",
       "      <td>100000000.0</td>\n",
       "      <td>7.444130e+08</td>\n",
       "    </tr>\n",
       "    <tr>\n",
       "      <th>10</th>\n",
       "      <td>finance</td>\n",
       "      <td>20</td>\n",
       "      <td>4.675200e+08</td>\n",
       "      <td>170000000.0</td>\n",
       "      <td>6.139132e+08</td>\n",
       "    </tr>\n",
       "    <tr>\n",
       "      <th>11</th>\n",
       "      <td>games_video</td>\n",
       "      <td>90</td>\n",
       "      <td>2.565263e+08</td>\n",
       "      <td>117000000.0</td>\n",
       "      <td>5.901822e+08</td>\n",
       "    </tr>\n",
       "  </tbody>\n",
       "</table>\n",
       "</div>"
      ],
      "text/plain": [
       "           category  count_pr  average_price  median_price  price_std_dev\n",
       "30         software       235   4.627085e+08    74000000.0   1.341435e+09\n",
       "28    semiconductor        60   3.597017e+08   123000000.0   8.955819e+08\n",
       "20  network_hosting        79   4.288403e+08   100000000.0   7.444130e+08\n",
       "10          finance        20   4.675200e+08   170000000.0   6.139132e+08\n",
       "11      games_video        90   2.565263e+08   117000000.0   5.901822e+08"
      ]
     },
     "execution_count": 77,
     "metadata": {},
     "output_type": "execute_result"
    }
   ],
   "source": [
    "# Топ-5 категорий с наибольшим разбросом цен (стандартное отклонение)\n",
    "top_price_std_dev = category_stats.sort_values(by='price_std_dev', ascending=False).head(5)\n",
    "top_price_std_dev"
   ]
  },
  {
   "cell_type": "markdown",
   "metadata": {},
   "source": [
    "**Мы выделили топ-5 категорий, так как это позволяет:**\n",
    "- Сосредоточиться на наиболее значимых данных без излишней детализации.\n",
    "- Охватить ключевые категории, которые привлекают крупных инвесторов.\n",
    "- Топ-5 — это стандартный подход, который помогает выявить основные тренды.\n",
    "\n",
    "**Почему выбрали именно эти метрики:**\n",
    "\n",
    "Средняя цена (mean): показывает общую привлекательность категории с точки зрения стоимости стартапов.\n",
    "\n",
    "Стандартное отклонение (std): показывает разброс цен, что важно для инвесторов, готовых к риску ради высокой прибыли.\n",
    "\n",
    "**Топ по средним ценам:**\n",
    "\n",
    "Категории вроде finance, software, и network_hosting — привлекательны для инвесторов, ищущих стабильные, крупные сделки.\n",
    "\n",
    "**Топ по разбросу цен:**\n",
    "\n",
    "Категории software, semiconductor и network_hosting показывают высокий риск, но могут предложить огромную прибыль в случае успеха."
   ]
  },
  {
   "cell_type": "markdown",
   "metadata": {
    "id": "ADOfyVY_rJg3"
   },
   "source": [
    "\n",
    "### 3.5. Сколько раундов продержится стартап перед покупкой\n",
    "\n",
    "* Необходимо проанализировать столбец `funding_rounds`. Исследуйте значения столбца. Заказчика интересует типичное значение количества раундов для каждого возможного статуса стартапа.\n",
    "\n",
    "* Постройте график, который отображает, сколько в среднем раундов финансирования проходило для стартапов из каждой группы. Сделайте выводы."
   ]
  },
  {
   "cell_type": "code",
   "execution_count": 78,
   "metadata": {
    "scrolled": true
   },
   "outputs": [
    {
     "data": {
      "text/plain": [
       "array([ 3.,  1.,  5.,  2.,  7.,  4.,  6.,  8., 10.,  9., 13., 11., 15.,\n",
       "       14., 12., nan])"
      ]
     },
     "execution_count": 78,
     "metadata": {},
     "output_type": "execute_result"
    }
   ],
   "source": [
    "merged_df['funding_rounds'].unique()"
   ]
  },
  {
   "cell_type": "code",
   "execution_count": 79,
   "metadata": {},
   "outputs": [],
   "source": [
    "merged_df = merged_df.dropna(subset=['funding_rounds'])"
   ]
  },
  {
   "cell_type": "code",
   "execution_count": 80,
   "metadata": {},
   "outputs": [
    {
     "data": {
      "text/plain": [
       "array([ 3.,  1.,  5.,  2.,  7.,  4.,  6.,  8., 10.,  9., 13., 11., 15.,\n",
       "       14., 12.])"
      ]
     },
     "execution_count": 80,
     "metadata": {},
     "output_type": "execute_result"
    }
   ],
   "source": [
    "merged_df['funding_rounds'].unique()"
   ]
  },
  {
   "cell_type": "code",
   "execution_count": 81,
   "metadata": {},
   "outputs": [
    {
     "data": {
      "text/html": [
       "<div>\n",
       "<style scoped>\n",
       "    .dataframe tbody tr th:only-of-type {\n",
       "        vertical-align: middle;\n",
       "    }\n",
       "\n",
       "    .dataframe tbody tr th {\n",
       "        vertical-align: top;\n",
       "    }\n",
       "\n",
       "    .dataframe thead th {\n",
       "        text-align: right;\n",
       "    }\n",
       "</style>\n",
       "<table border=\"1\" class=\"dataframe\">\n",
       "  <thead>\n",
       "    <tr style=\"text-align: right;\">\n",
       "      <th></th>\n",
       "      <th>count</th>\n",
       "      <th>mean</th>\n",
       "      <th>median</th>\n",
       "      <th>std</th>\n",
       "      <th>min</th>\n",
       "      <th>max</th>\n",
       "    </tr>\n",
       "    <tr>\n",
       "      <th>status</th>\n",
       "      <th></th>\n",
       "      <th></th>\n",
       "      <th></th>\n",
       "      <th></th>\n",
       "      <th></th>\n",
       "      <th></th>\n",
       "    </tr>\n",
       "  </thead>\n",
       "  <tbody>\n",
       "    <tr>\n",
       "      <th>acquired</th>\n",
       "      <td>4898</td>\n",
       "      <td>2.762148</td>\n",
       "      <td>2.0</td>\n",
       "      <td>1.787341</td>\n",
       "      <td>1.0</td>\n",
       "      <td>12.0</td>\n",
       "    </tr>\n",
       "    <tr>\n",
       "      <th>closed</th>\n",
       "      <td>2816</td>\n",
       "      <td>1.902699</td>\n",
       "      <td>1.0</td>\n",
       "      <td>1.350921</td>\n",
       "      <td>1.0</td>\n",
       "      <td>8.0</td>\n",
       "    </tr>\n",
       "    <tr>\n",
       "      <th>ipo</th>\n",
       "      <td>1237</td>\n",
       "      <td>4.474535</td>\n",
       "      <td>4.0</td>\n",
       "      <td>3.174847</td>\n",
       "      <td>1.0</td>\n",
       "      <td>13.0</td>\n",
       "    </tr>\n",
       "    <tr>\n",
       "      <th>operating</th>\n",
       "      <td>43431</td>\n",
       "      <td>2.495798</td>\n",
       "      <td>2.0</td>\n",
       "      <td>1.869400</td>\n",
       "      <td>1.0</td>\n",
       "      <td>15.0</td>\n",
       "    </tr>\n",
       "  </tbody>\n",
       "</table>\n",
       "</div>"
      ],
      "text/plain": [
       "           count      mean  median       std  min   max\n",
       "status                                                 \n",
       "acquired    4898  2.762148     2.0  1.787341  1.0  12.0\n",
       "closed      2816  1.902699     1.0  1.350921  1.0   8.0\n",
       "ipo         1237  4.474535     4.0  3.174847  1.0  13.0\n",
       "operating  43431  2.495798     2.0  1.869400  1.0  15.0"
      ]
     },
     "execution_count": 81,
     "metadata": {},
     "output_type": "execute_result"
    }
   ],
   "source": [
    "funding_rounds_stats = merged_df.groupby('status')['funding_rounds'].agg(['count', 'mean', 'median', 'std', 'min', 'max']).dropna()\n",
    "funding_rounds_stats"
   ]
  },
  {
   "cell_type": "code",
   "execution_count": 82,
   "metadata": {
    "id": "hgXMPC4WrJg3",
    "scrolled": true
   },
   "outputs": [
    {
     "data": {
      "text/plain": [
       "status\n",
       "acquired     2.0\n",
       "closed       1.0\n",
       "ipo          4.0\n",
       "operating    2.0\n",
       "Name: funding_rounds, dtype: float64"
      ]
     },
     "execution_count": 82,
     "metadata": {},
     "output_type": "execute_result"
    }
   ],
   "source": [
    "median_funding_rounds = merged_df.groupby('status')['funding_rounds'].median().dropna()\n",
    "median_funding_rounds"
   ]
  },
  {
   "cell_type": "code",
   "execution_count": 83,
   "metadata": {},
   "outputs": [
    {
     "data": {
      "text/plain": [
       "status\n",
       "ipo          4.474535\n",
       "acquired     2.762148\n",
       "operating    2.495798\n",
       "closed       1.902699\n",
       "Name: funding_rounds, dtype: float64"
      ]
     },
     "execution_count": 83,
     "metadata": {},
     "output_type": "execute_result"
    }
   ],
   "source": [
    "average_funding_rounds = merged_df.groupby('status')['funding_rounds'].mean().dropna().sort_values(ascending=False)\n",
    "average_funding_rounds"
   ]
  },
  {
   "cell_type": "code",
   "execution_count": 84,
   "metadata": {},
   "outputs": [
    {
     "data": {
      "image/png": "[encoded data removed]",
      "text/plain": [
       "<Figure size 720x432 with 1 Axes>"
      ]
     },
     "metadata": {
      "needs_background": "light"
     },
     "output_type": "display_data"
    }
   ],
   "source": [
    "plt.figure(figsize=(10, 6))\n",
    "average_funding_rounds.plot(kind='bar')\n",
    "plt.title('Среднее количество раундов финансирования для каждого статуса стартапа')\n",
    "plt.xlabel('Статус стартапа')\n",
    "plt.ylabel('Среднее количество раундов финансирования')\n",
    "plt.xticks(rotation=45)\n",
    "plt.grid(axis='y')"
   ]
  },
  {
   "cell_type": "markdown",
   "metadata": {},
   "source": [
    "**1. Acquired (Приобретённые стартапы)**\n",
    "- Большинство стартапов проходят около 2 раундов финансирования. Небольшое стандартное отклонение указывает на то, что данные достаточно стабильны. Такие стартапы обычно быстро демонстрируют потенциал для роста.\n",
    "\n",
    "**2. Closed (Закрывшиеся стартапы)**\n",
    "- Большинство стартапов проходят всего 1 раунд финансирования\n",
    "\n",
    "**3. IPO (Стартапы, вышедшие на IPO)**\n",
    "- Большинство стартапов проходят около 4 раунда финансирования. Высокое стандартное отклонение показывает, что существуют как компании с небольшим количеством раундов, так и те, которые проходят через множество раундов.\n",
    "\n",
    "**4. Operating (Действующие стартапы)**\n",
    "- Для действующих стартапов типичное количество раундов финансирования — около 2. Однако имеются стартапов с большим количеством раундов (до 15)."
   ]
  },
  {
   "cell_type": "markdown",
   "metadata": {},
   "source": [
    "**Общие выводы:**\n",
    "\n",
    "- Типичное (медианное) количество раундов финансирования для большинства стартапов — от 1 до 4, в зависимости от их статуса.\n",
    "- Стартапы, которые выходят на IPO, проходят больше раундов (медиана = 4), чем те, которые были приобретены (медиана = 2) или закрылись (медиана = 1).\n",
    "- Закрывшиеся стартапы чаще всего не могут привлечь больше одного раунда инвестиций.\n",
    "- Для действующих стартапов характерно умеренное количество раундов (2), что указывает на активное, но не чрезмерное финансирование.\n",
    "\n",
    "**Основные наблюдения:**\n",
    "\n",
    "- Стартапы, которые остаются успешными (IPO или приобретение), обычно проходят больше раундов финансирования.\n",
    "- Закрывшиеся компании чаще всего не могут привлечь финансирование на более поздних этапах.\n",
    "- Действующие компании находятся в активной фазе развития и привлекают инвестиции для дальнейшего роста."
   ]
  },
  {
   "cell_type": "markdown",
   "metadata": {
    "id": "VAFEZ2HBrJg3"
   },
   "source": [
    "\n",
    "## Шаг 4. Итоговый вывод и рекомендации\n"
   ]
  },
  {
   "cell_type": "markdown",
   "metadata": {},
   "source": [
    "#### Этап 1: Знакомство с данными и первичная обработка\n",
    "Вывод:\n",
    "- Предварительная обработка выявила высокую долю пропусков в некоторых датасетах (например, в данных об образовании), но данных было достаточно для проведения анализа. Были определены ключевые параметры для последующего исследования.\n",
    "\n",
    "#### Этап 2: Исследовательский анализ данных\n",
    "2.1. Анализ инвестиционных раундов по годам\n",
    "Динамика финансирования:\n",
    "- Анализ показал, что максимальный медианный размер инвестиций в один раунд был зафиксирован в 2005 году.\n",
    "Тенденции:\n",
    "- В 2013 году наблюдалась высокая инвестиционная активность: несмотря на снижение медианного размера инвестиций, количество раундов значительно увеличилось. Это может свидетельствовать о росте числа стартапов и усилении конкуренции за инвестиции.\n",
    "\n",
    "2.2. Связь между размером компании и полнотой данных об образовании сотрудников\n",
    "Группировка компаний:\n",
    "- Компании были разделены на группы по размеру: микро-, малые, средние и крупные компании.\n",
    "Вывод:\n",
    "Чем больше компания, тем меньше данных о её сотрудниках. В микро-компаниях информация об образовании доступна чаще, что может быть связано с меньшим количеством сотрудников и упрощённым документооборотом.\n",
    "\n",
    "2.3. Проверка связи по столбцу network_username\n",
    "Результаты:\n",
    "- Было установлено, что столбец network_username имеет крайне низкую долю пересечений между разными датасетами (менее 1%), что делает его неэффективным для объединения данных.\n",
    "Вывод:\n",
    "- Для объединения данных целесообразно использовать более универсальные ключи, такие как company_id или person_id.\n",
    "\n",
    "#### Этап 3: Углубленный анализ объединённых данных\n",
    "3.1. Объединение данных о компаниях и инвестициях\n",
    "- Для анализа были объединены данные о стартапах, раундах финансирования и сделках по их приобретению.\n",
    "Фокус на стартапах со статусом acquired:\n",
    "- Выделены компании с активными инвестиционными раундами и успешным результатом в виде приобретения.\n",
    "\n",
    "3.2. Анализ выбросов в данных о финансировании\n",
    "Распределение финансирования:\n",
    "- Обнаружено наличие выбросов с экстремально большими суммами инвестиций, что характерно для технологических стартапов с высоким потенциалом роста.\n",
    "- Для идентификации выбросов использовался межквартильный размах (IQR), что позволило установить границы для типичных значений.\n",
    "\n",
    "3.3. Анализ компаний, проданных за символическую стоимость\n",
    "- Обнаружены компании, которые были проданы за ноль или один доллар при наличии значительного объема привлечённого финансирования. \n",
    "\n",
    "3.4. Категории стартапов с наибольшими инвестициями\n",
    "Лидеры по инвестициям:\n",
    "\n",
    "- Категории finance, software, и network_hosting показали наибольший средний размер инвестиций.\n",
    "Разброс инвестиций:\n",
    "- Категории, такие как software, semiconductor и network_hosting, продемонстрировали высокий разброс сумм инвестиций, что свидетельствует о высокой волатильности рынка в этих отраслях.\n",
    "\n",
    "3.5. Количество раундов финансирования до покупки стартапа\n",
    "Ключевые результаты:\n",
    "- Стартапы, вышедшие на IPO: в среднем проходят 4 раунда финансирования.\n",
    "- Приобретённые стартапы: в среднем проходят 2 раунда.\n",
    "- Закрывшиеся стартапы: обычно ограничиваются 1 раундом, что может говорить о нехватке доверия со стороны инвесторов.\n",
    "- Действующие стартапы: демонстрируют умеренный рост с 2 раундами в среднем.\n",
    "\n",
    "**Основные выводы и взаимосвязь результатов**\n",
    "\n",
    "Инвестиции и успех стартапа:\n",
    "- Чем больше раундов финансирования проходит стартап, тем выше вероятность его успешного выхода на IPO или приобретения. Это подтверждается как анализом инвестиционных данных, так и изучением категорий стартапов с наибольшим количеством инвестиций.\n",
    "\n",
    "Закрывшиеся компании:\n",
    "- Низкое количество раундов и отсутствие дальнейшего финансирования часто указывают на неудачную бизнес-модель или проблемы с продуктом.\n",
    "\n",
    "Секторные различия:\n",
    "- Отрасли с высоким уровнем инноваций, такие как биотехнологии и финансы, привлекают больше инвестиций и демонстрируют больший разброс в оценке компаний.\n",
    "\n",
    "Выбросы:\n",
    "- Обнаруженные выбросы в данных подтверждают наличие стартапов-«единорогов», которые получают экстремально большие суммы финансирования.\n",
    "\n",
    "**Рекомендации:**\n",
    "\n",
    "- Расширить набор метрик для сотрудников анализа (карьерный опыт, навыки)\n",
    "- Сформировать эталонные наборы данных для сравнения итогов.\n",
    "- Провести дополнительный анализ макроэкономических факторов, влияющих на динамику рынка.\n",
    "- Расширить набор метрик для оценки успеха (выручка, прибыль)..\n",
    "- Рассмотрение особых случаев (сделки за $1).\n",
    "\n",
    "\n",
    "**Заключение**\n",
    "Проект предоставил глубокое понимание факторов, влияющих на успешность стартапов. Результаты анализа подтверждают ключевые гипотезы о важности количества раундов финансирования и роли отраслевой специфики. Полученные данные можно использовать для разработки стратегий привлечения инвестиций и оценки перспектив стартапов на рынке."
   ]
  }
 ],
 "metadata": {
  "ExecuteTimeLog": [
   {
    "duration": 51,
    "start_time": "2025-02-05T09:43:29.299Z"
   },
   {
    "duration": 525,
    "start_time": "2025-02-05T09:43:45.034Z"
   },
   {
    "duration": 102,
    "start_time": "2025-02-05T09:43:47.877Z"
   },
   {
    "duration": 15,
    "start_time": "2025-02-05T09:43:53.144Z"
   },
   {
    "duration": 54,
    "start_time": "2025-02-05T09:44:00.100Z"
   },
   {
    "duration": 9,
    "start_time": "2025-02-05T09:44:03.062Z"
   },
   {
    "duration": 8,
    "start_time": "2025-02-05T09:44:22.992Z"
   },
   {
    "duration": 2053,
    "start_time": "2025-02-05T09:45:53.277Z"
   },
   {
    "duration": 9,
    "start_time": "2025-02-05T09:45:55.484Z"
   },
   {
    "duration": 12,
    "start_time": "2025-02-05T09:46:31.886Z"
   },
   {
    "duration": 11,
    "start_time": "2025-02-05T09:47:23.268Z"
   },
   {
    "duration": 1882,
    "start_time": "2025-02-05T09:47:33.379Z"
   },
   {
    "duration": 11,
    "start_time": "2025-02-05T09:47:35.263Z"
   },
   {
    "duration": 11,
    "start_time": "2025-02-05T09:47:46.211Z"
   },
   {
    "duration": 24,
    "start_time": "2025-02-05T09:47:58.402Z"
   },
   {
    "duration": 103,
    "start_time": "2025-02-05T09:48:17.673Z"
   },
   {
    "duration": 98,
    "start_time": "2025-02-05T09:48:56.421Z"
   },
   {
    "duration": 137,
    "start_time": "2025-02-05T09:49:14.667Z"
   },
   {
    "duration": 98,
    "start_time": "2025-02-05T09:49:31.139Z"
   },
   {
    "duration": 117,
    "start_time": "2025-02-05T09:49:40.163Z"
   },
   {
    "duration": 19,
    "start_time": "2025-02-05T09:50:13.422Z"
   },
   {
    "duration": 18,
    "start_time": "2025-02-05T09:50:29.193Z"
   },
   {
    "duration": 31,
    "start_time": "2025-02-05T09:52:28.857Z"
   },
   {
    "duration": 25,
    "start_time": "2025-02-05T09:52:31.558Z"
   },
   {
    "duration": 49,
    "start_time": "2025-02-05T09:52:33.738Z"
   },
   {
    "duration": 16,
    "start_time": "2025-02-05T09:52:36.004Z"
   },
   {
    "duration": 21,
    "start_time": "2025-02-05T09:52:38.018Z"
   },
   {
    "duration": 135,
    "start_time": "2025-02-05T09:56:45.494Z"
   },
   {
    "duration": 7,
    "start_time": "2025-02-05T10:01:57.931Z"
   },
   {
    "duration": 5,
    "start_time": "2025-02-05T10:02:11.958Z"
   },
   {
    "duration": 7,
    "start_time": "2025-02-05T10:06:08.045Z"
   },
   {
    "duration": 3,
    "start_time": "2025-02-05T10:06:09.458Z"
   },
   {
    "duration": 444,
    "start_time": "2025-02-05T10:06:10.077Z"
   },
   {
    "duration": 444,
    "start_time": "2025-02-05T10:06:23.430Z"
   },
   {
    "duration": 414,
    "start_time": "2025-02-05T10:06:29.652Z"
   },
   {
    "duration": 4,
    "start_time": "2025-02-05T10:06:35.249Z"
   },
   {
    "duration": 4,
    "start_time": "2025-02-05T10:06:46.898Z"
   },
   {
    "duration": 442,
    "start_time": "2025-02-05T10:06:47.571Z"
   },
   {
    "duration": 3,
    "start_time": "2025-02-05T10:07:48.482Z"
   },
   {
    "duration": 6,
    "start_time": "2025-02-05T10:07:50.079Z"
   },
   {
    "duration": 49,
    "start_time": "2025-02-05T10:08:23.510Z"
   },
   {
    "duration": 2323,
    "start_time": "2025-02-05T10:08:31.266Z"
   },
   {
    "duration": 8,
    "start_time": "2025-02-05T10:08:39.310Z"
   },
   {
    "duration": 5,
    "start_time": "2025-02-05T10:08:40.849Z"
   },
   {
    "duration": 6,
    "start_time": "2025-02-05T10:08:41.868Z"
   },
   {
    "duration": 2628,
    "start_time": "2025-02-05T10:11:21.816Z"
   },
   {
    "duration": 10,
    "start_time": "2025-02-05T10:11:25.383Z"
   },
   {
    "duration": 3,
    "start_time": "2025-02-05T10:11:49.141Z"
   },
   {
    "duration": 5,
    "start_time": "2025-02-05T10:11:51.180Z"
   },
   {
    "duration": 3,
    "start_time": "2025-02-05T10:11:58.772Z"
   },
   {
    "duration": 5,
    "start_time": "2025-02-05T10:11:59.598Z"
   },
   {
    "duration": 3,
    "start_time": "2025-02-05T10:13:34.803Z"
   },
   {
    "duration": 5,
    "start_time": "2025-02-05T10:13:36.258Z"
   },
   {
    "duration": 3,
    "start_time": "2025-02-05T10:13:41.600Z"
   },
   {
    "duration": 5,
    "start_time": "2025-02-05T10:13:42.337Z"
   },
   {
    "duration": 73,
    "start_time": "2025-02-05T10:46:42.340Z"
   },
   {
    "duration": 10,
    "start_time": "2025-02-05T10:46:59.288Z"
   },
   {
    "duration": 15,
    "start_time": "2025-02-05T10:48:08.351Z"
   },
   {
    "duration": 16,
    "start_time": "2025-02-05T10:48:46.477Z"
   },
   {
    "duration": 8,
    "start_time": "2025-02-05T10:58:45.919Z"
   },
   {
    "duration": 22,
    "start_time": "2025-02-05T10:59:04.315Z"
   },
   {
    "duration": 62,
    "start_time": "2025-02-05T10:59:11.817Z"
   },
   {
    "duration": 12,
    "start_time": "2025-02-05T11:00:18.967Z"
   },
   {
    "duration": 12,
    "start_time": "2025-02-05T11:00:21.706Z"
   },
   {
    "duration": 1614,
    "start_time": "2025-02-05T11:00:53.158Z"
   },
   {
    "duration": 1309,
    "start_time": "2025-02-05T11:01:05.000Z"
   },
   {
    "duration": 1573,
    "start_time": "2025-02-05T11:03:23.850Z"
   },
   {
    "duration": 1550,
    "start_time": "2025-02-05T11:05:01.765Z"
   },
   {
    "duration": 3,
    "start_time": "2025-02-05T11:07:00.995Z"
   },
   {
    "duration": 5,
    "start_time": "2025-02-05T11:07:01.574Z"
   },
   {
    "duration": 4,
    "start_time": "2025-02-05T11:07:50.140Z"
   },
   {
    "duration": 6,
    "start_time": "2025-02-05T11:07:50.890Z"
   },
   {
    "duration": 255,
    "start_time": "2025-02-05T11:07:54.275Z"
   },
   {
    "duration": 23,
    "start_time": "2025-02-05T11:08:55.572Z"
   },
   {
    "duration": 29,
    "start_time": "2025-02-05T11:09:08.274Z"
   },
   {
    "duration": 37,
    "start_time": "2025-02-05T11:09:18.028Z"
   },
   {
    "duration": 111,
    "start_time": "2025-02-05T11:10:07.962Z"
   },
   {
    "duration": 84,
    "start_time": "2025-02-05T11:13:17.582Z"
   },
   {
    "duration": 8,
    "start_time": "2025-02-05T11:24:29.967Z"
   },
   {
    "duration": 114,
    "start_time": "2025-02-05T11:25:15.304Z"
   },
   {
    "duration": 9,
    "start_time": "2025-02-05T11:25:22.123Z"
   },
   {
    "duration": 8,
    "start_time": "2025-02-05T11:25:36.148Z"
   },
   {
    "duration": 77,
    "start_time": "2025-02-05T11:26:07.162Z"
   },
   {
    "duration": 7,
    "start_time": "2025-02-05T11:26:15.588Z"
   },
   {
    "duration": 77,
    "start_time": "2025-02-05T11:26:18.791Z"
   },
   {
    "duration": 81,
    "start_time": "2025-02-05T11:28:11.399Z"
   },
   {
    "duration": 14,
    "start_time": "2025-02-05T11:28:11.902Z"
   },
   {
    "duration": 40,
    "start_time": "2025-02-05T11:28:12.422Z"
   },
   {
    "duration": 23,
    "start_time": "2025-02-05T11:28:12.808Z"
   },
   {
    "duration": 10,
    "start_time": "2025-02-05T11:28:13.297Z"
   },
   {
    "duration": 8,
    "start_time": "2025-02-05T11:28:14.577Z"
   },
   {
    "duration": 1595,
    "start_time": "2025-02-05T11:49:42.471Z"
   },
   {
    "duration": 12,
    "start_time": "2025-02-05T11:51:45.441Z"
   },
   {
    "duration": 75,
    "start_time": "2025-02-05T11:55:55.951Z"
   },
   {
    "duration": 19,
    "start_time": "2025-02-05T11:56:33.354Z"
   },
   {
    "duration": 19,
    "start_time": "2025-02-05T11:56:42.471Z"
   },
   {
    "duration": 21,
    "start_time": "2025-02-05T11:56:54.209Z"
   },
   {
    "duration": 29,
    "start_time": "2025-02-05T11:57:11.315Z"
   },
   {
    "duration": 19,
    "start_time": "2025-02-05T11:57:48.019Z"
   },
   {
    "duration": 29,
    "start_time": "2025-02-05T11:57:54.942Z"
   },
   {
    "duration": 28,
    "start_time": "2025-02-05T11:59:12.657Z"
   },
   {
    "duration": 28,
    "start_time": "2025-02-05T12:01:48.762Z"
   },
   {
    "duration": 30,
    "start_time": "2025-02-05T12:04:53.179Z"
   },
   {
    "duration": 2824,
    "start_time": "2025-02-05T12:05:14.423Z"
   },
   {
    "duration": 1721,
    "start_time": "2025-02-05T12:05:20.046Z"
   },
   {
    "duration": 4,
    "start_time": "2025-02-05T12:10:22.442Z"
   },
   {
    "duration": 4,
    "start_time": "2025-02-05T12:12:07.276Z"
   },
   {
    "duration": 76,
    "start_time": "2025-02-05T12:12:27.705Z"
   },
   {
    "duration": 1380,
    "start_time": "2025-02-05T12:13:01.748Z"
   },
   {
    "duration": 3,
    "start_time": "2025-02-05T12:14:01.581Z"
   },
   {
    "duration": 8,
    "start_time": "2025-02-05T12:14:02.806Z"
   },
   {
    "duration": 4,
    "start_time": "2025-02-05T12:14:13.281Z"
   },
   {
    "duration": 3,
    "start_time": "2025-02-05T12:14:23.538Z"
   },
   {
    "duration": 5,
    "start_time": "2025-02-05T12:14:25.384Z"
   },
   {
    "duration": 13,
    "start_time": "2025-02-05T12:14:38.428Z"
   },
   {
    "duration": 10,
    "start_time": "2025-02-05T12:14:41.147Z"
   },
   {
    "duration": 7,
    "start_time": "2025-02-05T12:14:49.118Z"
   },
   {
    "duration": 3,
    "start_time": "2025-02-05T12:14:57.732Z"
   },
   {
    "duration": 5,
    "start_time": "2025-02-05T12:14:58.895Z"
   },
   {
    "duration": 11,
    "start_time": "2025-02-05T12:15:03.350Z"
   },
   {
    "duration": 11,
    "start_time": "2025-02-05T12:15:06.677Z"
   },
   {
    "duration": 113,
    "start_time": "2025-02-05T12:15:27.228Z"
   },
   {
    "duration": 9,
    "start_time": "2025-02-05T12:15:41.130Z"
   },
   {
    "duration": 20,
    "start_time": "2025-02-05T12:15:45.998Z"
   },
   {
    "duration": 2708,
    "start_time": "2025-02-05T12:16:38.815Z"
   },
   {
    "duration": 23,
    "start_time": "2025-02-05T12:16:41.525Z"
   },
   {
    "duration": 152,
    "start_time": "2025-02-05T12:16:41.550Z"
   },
   {
    "duration": 32,
    "start_time": "2025-02-05T12:16:41.704Z"
   },
   {
    "duration": 26,
    "start_time": "2025-02-05T12:16:41.738Z"
   },
   {
    "duration": 69,
    "start_time": "2025-02-05T12:16:41.766Z"
   },
   {
    "duration": 13,
    "start_time": "2025-02-05T12:16:41.838Z"
   },
   {
    "duration": 21,
    "start_time": "2025-02-05T12:16:41.853Z"
   },
   {
    "duration": 30,
    "start_time": "2025-02-05T12:16:41.876Z"
   },
   {
    "duration": 4,
    "start_time": "2025-02-05T12:16:41.908Z"
   },
   {
    "duration": 6,
    "start_time": "2025-02-05T12:16:41.914Z"
   },
   {
    "duration": 9,
    "start_time": "2025-02-05T12:16:41.921Z"
   },
   {
    "duration": 1668,
    "start_time": "2025-02-05T12:16:41.932Z"
   },
   {
    "duration": 0,
    "start_time": "2025-02-05T12:16:43.602Z"
   },
   {
    "duration": 0,
    "start_time": "2025-02-05T12:16:43.603Z"
   },
   {
    "duration": 0,
    "start_time": "2025-02-05T12:16:43.604Z"
   },
   {
    "duration": 0,
    "start_time": "2025-02-05T12:16:43.605Z"
   },
   {
    "duration": 0,
    "start_time": "2025-02-05T12:16:43.606Z"
   },
   {
    "duration": 0,
    "start_time": "2025-02-05T12:16:43.608Z"
   },
   {
    "duration": 0,
    "start_time": "2025-02-05T12:16:43.608Z"
   },
   {
    "duration": 0,
    "start_time": "2025-02-05T12:16:43.610Z"
   },
   {
    "duration": 0,
    "start_time": "2025-02-05T12:16:43.611Z"
   },
   {
    "duration": 2908,
    "start_time": "2025-02-05T12:17:35.772Z"
   },
   {
    "duration": 27,
    "start_time": "2025-02-05T12:17:38.684Z"
   },
   {
    "duration": 169,
    "start_time": "2025-02-05T12:17:38.714Z"
   },
   {
    "duration": 42,
    "start_time": "2025-02-05T12:17:38.886Z"
   },
   {
    "duration": 122,
    "start_time": "2025-02-05T12:17:38.930Z"
   },
   {
    "duration": 46,
    "start_time": "2025-02-05T12:17:39.054Z"
   },
   {
    "duration": 23,
    "start_time": "2025-02-05T12:17:39.109Z"
   },
   {
    "duration": 20,
    "start_time": "2025-02-05T12:17:39.134Z"
   },
   {
    "duration": 5,
    "start_time": "2025-02-05T12:17:39.155Z"
   },
   {
    "duration": 6,
    "start_time": "2025-02-05T12:17:39.162Z"
   },
   {
    "duration": 5,
    "start_time": "2025-02-05T12:17:39.170Z"
   },
   {
    "duration": 318,
    "start_time": "2025-02-05T12:17:39.177Z"
   },
   {
    "duration": 18,
    "start_time": "2025-02-05T12:17:39.496Z"
   },
   {
    "duration": 89,
    "start_time": "2025-02-05T12:17:39.516Z"
   },
   {
    "duration": 18,
    "start_time": "2025-02-05T12:17:39.608Z"
   },
   {
    "duration": 37,
    "start_time": "2025-02-05T12:17:39.627Z"
   },
   {
    "duration": 59,
    "start_time": "2025-02-05T12:17:39.666Z"
   },
   {
    "duration": 12,
    "start_time": "2025-02-05T12:17:39.726Z"
   },
   {
    "duration": 9,
    "start_time": "2025-02-05T12:17:39.740Z"
   },
   {
    "duration": 82,
    "start_time": "2025-02-05T12:17:39.750Z"
   },
   {
    "duration": 232,
    "start_time": "2025-02-05T12:17:39.834Z"
   },
   {
    "duration": 36,
    "start_time": "2025-02-05T12:18:23.634Z"
   },
   {
    "duration": 1367,
    "start_time": "2025-02-05T12:21:21.143Z"
   },
   {
    "duration": 94,
    "start_time": "2025-02-05T12:21:55.610Z"
   },
   {
    "duration": 1396,
    "start_time": "2025-02-05T12:22:05.246Z"
   },
   {
    "duration": 38,
    "start_time": "2025-02-05T12:22:30.782Z"
   },
   {
    "duration": 42,
    "start_time": "2025-02-05T12:22:34.899Z"
   },
   {
    "duration": 1367,
    "start_time": "2025-02-05T12:23:13.158Z"
   },
   {
    "duration": 27,
    "start_time": "2025-02-05T12:23:28.569Z"
   },
   {
    "duration": 33,
    "start_time": "2025-02-05T12:23:34.567Z"
   },
   {
    "duration": 29,
    "start_time": "2025-02-05T12:23:36.768Z"
   },
   {
    "duration": 1294,
    "start_time": "2025-02-05T12:23:40.057Z"
   },
   {
    "duration": 200,
    "start_time": "2025-02-05T12:24:02.566Z"
   },
   {
    "duration": 10,
    "start_time": "2025-02-05T12:24:31.970Z"
   },
   {
    "duration": 34,
    "start_time": "2025-02-05T12:24:49.151Z"
   },
   {
    "duration": 266,
    "start_time": "2025-02-05T12:24:52.083Z"
   },
   {
    "duration": 212,
    "start_time": "2025-02-05T12:28:28.287Z"
   },
   {
    "duration": 77,
    "start_time": "2025-02-05T12:30:00.256Z"
   },
   {
    "duration": 33,
    "start_time": "2025-02-05T12:30:16.135Z"
   },
   {
    "duration": 40,
    "start_time": "2025-02-05T12:30:36.107Z"
   },
   {
    "duration": 27,
    "start_time": "2025-02-05T12:31:27.250Z"
   },
   {
    "duration": 34,
    "start_time": "2025-02-05T12:31:30.441Z"
   },
   {
    "duration": 11,
    "start_time": "2025-02-05T12:31:32.561Z"
   },
   {
    "duration": 30,
    "start_time": "2025-02-05T12:32:10.964Z"
   },
   {
    "duration": 8,
    "start_time": "2025-02-05T12:33:30.910Z"
   },
   {
    "duration": 29,
    "start_time": "2025-02-05T12:33:33.710Z"
   },
   {
    "duration": 158,
    "start_time": "2025-02-05T12:33:35.197Z"
   },
   {
    "duration": 35,
    "start_time": "2025-02-05T12:34:00.718Z"
   },
   {
    "duration": 185,
    "start_time": "2025-02-05T12:35:12.940Z"
   },
   {
    "duration": 54,
    "start_time": "2025-02-05T13:51:00.877Z"
   },
   {
    "duration": 8,
    "start_time": "2025-02-05T13:52:30.636Z"
   },
   {
    "duration": 8,
    "start_time": "2025-02-05T13:52:40.592Z"
   },
   {
    "duration": 88,
    "start_time": "2025-02-05T13:52:45.230Z"
   },
   {
    "duration": 153,
    "start_time": "2025-02-05T13:53:13.686Z"
   },
   {
    "duration": 151,
    "start_time": "2025-02-05T13:57:26.971Z"
   },
   {
    "duration": 142,
    "start_time": "2025-02-05T13:57:32.093Z"
   },
   {
    "duration": 7,
    "start_time": "2025-02-05T13:59:18.298Z"
   },
   {
    "duration": 15,
    "start_time": "2025-02-05T13:59:28.077Z"
   },
   {
    "duration": 16,
    "start_time": "2025-02-05T13:59:33.550Z"
   },
   {
    "duration": 20,
    "start_time": "2025-02-05T14:00:23.572Z"
   },
   {
    "duration": 7,
    "start_time": "2025-02-05T14:03:49.357Z"
   },
   {
    "duration": 14,
    "start_time": "2025-02-05T14:03:53.568Z"
   },
   {
    "duration": 18,
    "start_time": "2025-02-05T14:03:54.904Z"
   },
   {
    "duration": 14,
    "start_time": "2025-02-05T14:08:40.293Z"
   },
   {
    "duration": 16,
    "start_time": "2025-02-05T14:08:41.224Z"
   },
   {
    "duration": 13,
    "start_time": "2025-02-05T14:08:52.241Z"
   },
   {
    "duration": 6,
    "start_time": "2025-02-05T14:12:40.223Z"
   },
   {
    "duration": 17,
    "start_time": "2025-02-05T14:12:48.112Z"
   },
   {
    "duration": 104,
    "start_time": "2025-02-05T14:14:23.784Z"
   },
   {
    "duration": 159,
    "start_time": "2025-02-05T14:25:19.618Z"
   },
   {
    "duration": 14,
    "start_time": "2025-02-05T14:27:50.247Z"
   },
   {
    "duration": 17,
    "start_time": "2025-02-05T14:28:07.355Z"
   },
   {
    "duration": 74,
    "start_time": "2025-02-05T14:29:55.201Z"
   },
   {
    "duration": 14,
    "start_time": "2025-02-05T14:30:02.814Z"
   },
   {
    "duration": 83,
    "start_time": "2025-02-05T14:30:22.729Z"
   },
   {
    "duration": 18,
    "start_time": "2025-02-05T14:30:27.832Z"
   },
   {
    "duration": 18,
    "start_time": "2025-02-05T14:30:35.614Z"
   },
   {
    "duration": 19,
    "start_time": "2025-02-05T14:30:59.398Z"
   },
   {
    "duration": 15,
    "start_time": "2025-02-05T14:31:09.636Z"
   },
   {
    "duration": 75,
    "start_time": "2025-02-05T14:31:28.550Z"
   },
   {
    "duration": 22,
    "start_time": "2025-02-05T14:32:25.410Z"
   },
   {
    "duration": 26,
    "start_time": "2025-02-05T14:33:22.202Z"
   },
   {
    "duration": 17,
    "start_time": "2025-02-05T14:34:32.478Z"
   },
   {
    "duration": 6,
    "start_time": "2025-02-05T14:34:57.539Z"
   },
   {
    "duration": 10,
    "start_time": "2025-02-05T14:35:18.224Z"
   },
   {
    "duration": 7,
    "start_time": "2025-02-05T14:35:42.096Z"
   },
   {
    "duration": 16,
    "start_time": "2025-02-05T14:36:05.292Z"
   },
   {
    "duration": 17,
    "start_time": "2025-02-05T14:36:31.918Z"
   },
   {
    "duration": 20,
    "start_time": "2025-02-05T15:08:12.223Z"
   },
   {
    "duration": 21,
    "start_time": "2025-02-05T15:08:27.961Z"
   },
   {
    "duration": 7,
    "start_time": "2025-02-05T15:08:34.998Z"
   },
   {
    "duration": 21,
    "start_time": "2025-02-05T15:08:37.312Z"
   },
   {
    "duration": 29,
    "start_time": "2025-02-05T15:09:50.416Z"
   },
   {
    "duration": 6,
    "start_time": "2025-02-05T15:10:19.113Z"
   },
   {
    "duration": 30,
    "start_time": "2025-02-05T15:41:49.416Z"
   },
   {
    "duration": 20,
    "start_time": "2025-02-05T15:41:58.294Z"
   },
   {
    "duration": 6,
    "start_time": "2025-02-05T15:41:59.663Z"
   },
   {
    "duration": 26,
    "start_time": "2025-02-05T15:42:02.746Z"
   },
   {
    "duration": 4,
    "start_time": "2025-02-05T15:42:09.927Z"
   },
   {
    "duration": 4,
    "start_time": "2025-02-05T15:42:14.777Z"
   },
   {
    "duration": 26,
    "start_time": "2025-02-05T15:42:53.412Z"
   },
   {
    "duration": 4,
    "start_time": "2025-02-05T15:42:54.381Z"
   },
   {
    "duration": 25,
    "start_time": "2025-02-05T15:43:11.932Z"
   },
   {
    "duration": 4,
    "start_time": "2025-02-05T15:43:12.514Z"
   },
   {
    "duration": 4,
    "start_time": "2025-02-05T15:43:13.015Z"
   },
   {
    "duration": 27,
    "start_time": "2025-02-05T15:43:41.939Z"
   },
   {
    "duration": 4,
    "start_time": "2025-02-05T15:43:43.441Z"
   },
   {
    "duration": 27,
    "start_time": "2025-02-05T15:43:54.865Z"
   },
   {
    "duration": 5,
    "start_time": "2025-02-05T15:43:55.429Z"
   },
   {
    "duration": 4,
    "start_time": "2025-02-05T15:43:56.320Z"
   },
   {
    "duration": 4,
    "start_time": "2025-02-05T15:45:03.221Z"
   },
   {
    "duration": 3,
    "start_time": "2025-02-05T15:45:15.726Z"
   },
   {
    "duration": 4,
    "start_time": "2025-02-05T15:45:22.070Z"
   },
   {
    "duration": 51,
    "start_time": "2025-02-05T18:41:40.240Z"
   },
   {
    "duration": 2703,
    "start_time": "2025-02-05T18:41:56.079Z"
   },
   {
    "duration": 22,
    "start_time": "2025-02-05T18:41:58.784Z"
   },
   {
    "duration": 140,
    "start_time": "2025-02-05T18:41:58.808Z"
   },
   {
    "duration": 30,
    "start_time": "2025-02-05T18:41:58.957Z"
   },
   {
    "duration": 26,
    "start_time": "2025-02-05T18:41:58.989Z"
   },
   {
    "duration": 67,
    "start_time": "2025-02-05T18:41:59.016Z"
   },
   {
    "duration": 13,
    "start_time": "2025-02-05T18:41:59.085Z"
   },
   {
    "duration": 18,
    "start_time": "2025-02-05T18:41:59.100Z"
   },
   {
    "duration": 4,
    "start_time": "2025-02-05T18:41:59.120Z"
   },
   {
    "duration": 3,
    "start_time": "2025-02-05T18:41:59.158Z"
   },
   {
    "duration": 5,
    "start_time": "2025-02-05T18:41:59.163Z"
   },
   {
    "duration": 278,
    "start_time": "2025-02-05T18:41:59.170Z"
   },
   {
    "duration": 13,
    "start_time": "2025-02-05T18:41:59.450Z"
   },
   {
    "duration": 70,
    "start_time": "2025-02-05T18:41:59.466Z"
   },
   {
    "duration": 25,
    "start_time": "2025-02-05T18:41:59.538Z"
   },
   {
    "duration": 35,
    "start_time": "2025-02-05T18:41:59.565Z"
   },
   {
    "duration": 20,
    "start_time": "2025-02-05T18:41:59.602Z"
   },
   {
    "duration": 37,
    "start_time": "2025-02-05T18:41:59.623Z"
   },
   {
    "duration": 6,
    "start_time": "2025-02-05T18:41:59.662Z"
   },
   {
    "duration": 44,
    "start_time": "2025-02-05T18:41:59.670Z"
   },
   {
    "duration": 181,
    "start_time": "2025-02-05T18:41:59.715Z"
   },
   {
    "duration": 160,
    "start_time": "2025-02-05T18:41:59.898Z"
   },
   {
    "duration": 14,
    "start_time": "2025-02-05T18:42:00.059Z"
   },
   {
    "duration": 32,
    "start_time": "2025-02-05T18:42:00.074Z"
   },
   {
    "duration": 24,
    "start_time": "2025-02-05T18:42:00.108Z"
   },
   {
    "duration": 19,
    "start_time": "2025-02-05T18:42:00.133Z"
   },
   {
    "duration": 16,
    "start_time": "2025-02-05T18:42:00.154Z"
   },
   {
    "duration": 11,
    "start_time": "2025-02-05T18:42:00.172Z"
   },
   {
    "duration": 18,
    "start_time": "2025-02-05T18:42:00.185Z"
   },
   {
    "duration": 37,
    "start_time": "2025-02-05T18:42:00.205Z"
   },
   {
    "duration": 19,
    "start_time": "2025-02-05T18:42:00.243Z"
   },
   {
    "duration": 17,
    "start_time": "2025-02-05T18:42:00.264Z"
   },
   {
    "duration": 38,
    "start_time": "2025-02-05T18:42:00.283Z"
   },
   {
    "duration": 3,
    "start_time": "2025-02-05T18:42:00.323Z"
   },
   {
    "duration": 3,
    "start_time": "2025-02-05T18:42:00.328Z"
   },
   {
    "duration": 8,
    "start_time": "2025-02-05T18:42:00.332Z"
   },
   {
    "duration": 325,
    "start_time": "2025-02-05T18:42:00.342Z"
   },
   {
    "duration": 79,
    "start_time": "2025-02-05T18:42:00.669Z"
   },
   {
    "duration": 17,
    "start_time": "2025-02-05T18:42:08.833Z"
   },
   {
    "duration": 19,
    "start_time": "2025-02-05T18:42:35.888Z"
   },
   {
    "duration": 26,
    "start_time": "2025-02-05T18:42:43.528Z"
   },
   {
    "duration": 22,
    "start_time": "2025-02-05T18:50:06.630Z"
   },
   {
    "duration": 8,
    "start_time": "2025-02-05T18:50:53.174Z"
   },
   {
    "duration": 9,
    "start_time": "2025-02-05T18:51:12.152Z"
   },
   {
    "duration": 9,
    "start_time": "2025-02-05T18:51:29.532Z"
   },
   {
    "duration": 9,
    "start_time": "2025-02-05T18:52:16.767Z"
   },
   {
    "duration": 7,
    "start_time": "2025-02-05T18:52:44.067Z"
   },
   {
    "duration": 21,
    "start_time": "2025-02-05T18:53:32.808Z"
   },
   {
    "duration": 1166,
    "start_time": "2025-02-05T18:54:10.762Z"
   },
   {
    "duration": 6,
    "start_time": "2025-02-05T18:54:28.121Z"
   },
   {
    "duration": 34,
    "start_time": "2025-02-05T18:55:14.249Z"
   },
   {
    "duration": 21,
    "start_time": "2025-02-05T18:55:40.804Z"
   },
   {
    "duration": 5,
    "start_time": "2025-02-05T18:57:49.503Z"
   },
   {
    "duration": 3,
    "start_time": "2025-02-05T18:58:09.238Z"
   },
   {
    "duration": 161,
    "start_time": "2025-02-05T18:58:55.010Z"
   },
   {
    "duration": 15,
    "start_time": "2025-02-05T18:59:57.740Z"
   },
   {
    "duration": 16,
    "start_time": "2025-02-05T19:00:22.346Z"
   },
   {
    "duration": 81,
    "start_time": "2025-02-05T19:01:40.912Z"
   },
   {
    "duration": 24,
    "start_time": "2025-02-05T19:02:08.535Z"
   },
   {
    "duration": 254,
    "start_time": "2025-02-05T19:06:28.828Z"
   },
   {
    "duration": 4,
    "start_time": "2025-02-05T19:06:29.268Z"
   },
   {
    "duration": 3,
    "start_time": "2025-02-05T19:06:30.589Z"
   },
   {
    "duration": 8,
    "start_time": "2025-02-05T19:06:37.632Z"
   },
   {
    "duration": 4,
    "start_time": "2025-02-05T19:06:40.262Z"
   },
   {
    "duration": 9,
    "start_time": "2025-02-05T19:06:42.216Z"
   },
   {
    "duration": 94,
    "start_time": "2025-02-05T19:06:45.120Z"
   },
   {
    "duration": 9,
    "start_time": "2025-02-05T19:06:48.912Z"
   },
   {
    "duration": 9,
    "start_time": "2025-02-05T19:06:54.933Z"
   },
   {
    "duration": 31,
    "start_time": "2025-02-05T19:07:16.275Z"
   },
   {
    "duration": 7,
    "start_time": "2025-02-05T19:07:24.534Z"
   },
   {
    "duration": 4,
    "start_time": "2025-02-05T19:07:24.991Z"
   },
   {
    "duration": 9,
    "start_time": "2025-02-05T19:07:25.616Z"
   },
   {
    "duration": 73,
    "start_time": "2025-02-05T19:07:26.379Z"
   },
   {
    "duration": 10,
    "start_time": "2025-02-05T19:07:29.612Z"
   },
   {
    "duration": 32,
    "start_time": "2025-02-05T19:07:32.105Z"
   },
   {
    "duration": 51,
    "start_time": "2025-02-05T19:07:51.048Z"
   },
   {
    "duration": 26,
    "start_time": "2025-02-05T19:09:18.581Z"
   },
   {
    "duration": 4,
    "start_time": "2025-02-05T19:09:20.713Z"
   },
   {
    "duration": 72,
    "start_time": "2025-02-05T19:09:23.883Z"
   },
   {
    "duration": 7,
    "start_time": "2025-02-05T19:09:27.605Z"
   },
   {
    "duration": 43,
    "start_time": "2025-02-05T19:09:30.221Z"
   },
   {
    "duration": 24,
    "start_time": "2025-02-05T19:09:40.069Z"
   },
   {
    "duration": 75,
    "start_time": "2025-02-05T19:13:17.459Z"
   },
   {
    "duration": 78,
    "start_time": "2025-02-05T19:13:23.844Z"
   },
   {
    "duration": 32,
    "start_time": "2025-02-05T19:13:35.810Z"
   },
   {
    "duration": 92,
    "start_time": "2025-02-05T19:17:49.826Z"
   },
   {
    "duration": 4,
    "start_time": "2025-02-05T19:18:09.046Z"
   },
   {
    "duration": 31,
    "start_time": "2025-02-05T19:18:37.044Z"
   },
   {
    "duration": 61,
    "start_time": "2025-02-05T19:19:56.072Z"
   },
   {
    "duration": 3,
    "start_time": "2025-02-05T19:20:02.394Z"
   },
   {
    "duration": 37,
    "start_time": "2025-02-05T19:20:16.473Z"
   },
   {
    "duration": 89,
    "start_time": "2025-02-05T19:20:35.229Z"
   },
   {
    "duration": 4,
    "start_time": "2025-02-05T19:20:35.791Z"
   },
   {
    "duration": 28,
    "start_time": "2025-02-05T19:20:36.432Z"
   },
   {
    "duration": 3112,
    "start_time": "2025-02-06T15:17:27.793Z"
   },
   {
    "duration": 20,
    "start_time": "2025-02-06T15:17:30.908Z"
   },
   {
    "duration": 147,
    "start_time": "2025-02-06T15:17:30.930Z"
   },
   {
    "duration": 34,
    "start_time": "2025-02-06T15:17:31.078Z"
   },
   {
    "duration": 36,
    "start_time": "2025-02-06T15:17:31.114Z"
   },
   {
    "duration": 64,
    "start_time": "2025-02-06T15:17:31.152Z"
   },
   {
    "duration": 12,
    "start_time": "2025-02-06T15:17:31.218Z"
   },
   {
    "duration": 29,
    "start_time": "2025-02-06T15:17:31.231Z"
   },
   {
    "duration": 3,
    "start_time": "2025-02-06T15:17:31.262Z"
   },
   {
    "duration": 7,
    "start_time": "2025-02-06T15:17:31.267Z"
   },
   {
    "duration": 14,
    "start_time": "2025-02-06T15:17:31.275Z"
   },
   {
    "duration": 264,
    "start_time": "2025-02-06T15:17:31.291Z"
   },
   {
    "duration": 7,
    "start_time": "2025-02-06T15:17:31.557Z"
   },
   {
    "duration": 88,
    "start_time": "2025-02-06T15:17:31.567Z"
   },
   {
    "duration": 11,
    "start_time": "2025-02-06T15:17:31.657Z"
   },
   {
    "duration": 53,
    "start_time": "2025-02-06T15:17:31.670Z"
   },
   {
    "duration": 20,
    "start_time": "2025-02-06T15:17:31.724Z"
   },
   {
    "duration": 8,
    "start_time": "2025-02-06T15:17:31.746Z"
   },
   {
    "duration": 10,
    "start_time": "2025-02-06T15:17:31.756Z"
   },
   {
    "duration": 69,
    "start_time": "2025-02-06T15:17:31.768Z"
   },
   {
    "duration": 160,
    "start_time": "2025-02-06T15:17:31.839Z"
   },
   {
    "duration": 165,
    "start_time": "2025-02-06T15:17:32.001Z"
   },
   {
    "duration": 17,
    "start_time": "2025-02-06T15:17:32.167Z"
   },
   {
    "duration": 27,
    "start_time": "2025-02-06T15:17:32.185Z"
   },
   {
    "duration": 13,
    "start_time": "2025-02-06T15:17:32.214Z"
   },
   {
    "duration": 22,
    "start_time": "2025-02-06T15:17:32.228Z"
   },
   {
    "duration": 22,
    "start_time": "2025-02-06T15:17:32.252Z"
   },
   {
    "duration": 33,
    "start_time": "2025-02-06T15:17:32.276Z"
   },
   {
    "duration": 28,
    "start_time": "2025-02-06T15:17:32.311Z"
   },
   {
    "duration": 30,
    "start_time": "2025-02-06T15:17:32.341Z"
   },
   {
    "duration": 4,
    "start_time": "2025-02-06T15:17:32.373Z"
   },
   {
    "duration": 31,
    "start_time": "2025-02-06T15:17:32.379Z"
   },
   {
    "duration": 42,
    "start_time": "2025-02-06T15:17:32.412Z"
   },
   {
    "duration": 4,
    "start_time": "2025-02-06T15:17:32.456Z"
   },
   {
    "duration": 5,
    "start_time": "2025-02-06T15:17:32.461Z"
   },
   {
    "duration": 6,
    "start_time": "2025-02-06T15:17:32.467Z"
   },
   {
    "duration": 299,
    "start_time": "2025-02-06T15:17:32.474Z"
   },
   {
    "duration": 4,
    "start_time": "2025-02-06T15:17:32.774Z"
   },
   {
    "duration": 74,
    "start_time": "2025-02-06T15:17:32.780Z"
   },
   {
    "duration": 4,
    "start_time": "2025-02-06T15:17:32.856Z"
   },
   {
    "duration": 19,
    "start_time": "2025-02-06T15:17:32.864Z"
   },
   {
    "duration": 100,
    "start_time": "2025-02-06T15:17:32.886Z"
   },
   {
    "duration": 9,
    "start_time": "2025-02-06T15:17:32.988Z"
   },
   {
    "duration": 33,
    "start_time": "2025-02-06T15:17:33.010Z"
   },
   {
    "duration": 100,
    "start_time": "2025-02-06T15:17:33.044Z"
   },
   {
    "duration": 3,
    "start_time": "2025-02-06T15:17:33.146Z"
   },
   {
    "duration": 35,
    "start_time": "2025-02-06T15:17:33.151Z"
   },
   {
    "duration": 58,
    "start_time": "2025-02-07T11:21:48.157Z"
   },
   {
    "duration": 5,
    "start_time": "2025-02-07T11:22:02.876Z"
   },
   {
    "duration": 7,
    "start_time": "2025-02-07T11:23:15.830Z"
   },
   {
    "duration": 5,
    "start_time": "2025-02-07T11:23:18.085Z"
   },
   {
    "duration": 765,
    "start_time": "2025-02-07T11:23:29.878Z"
   },
   {
    "duration": 35,
    "start_time": "2025-02-07T11:23:32.975Z"
   },
   {
    "duration": 7,
    "start_time": "2025-02-07T11:23:34.631Z"
   },
   {
    "duration": 595,
    "start_time": "2025-02-07T11:23:41.370Z"
   },
   {
    "duration": 1855,
    "start_time": "2025-02-07T11:23:41.967Z"
   },
   {
    "duration": 20,
    "start_time": "2025-02-07T11:23:43.823Z"
   },
   {
    "duration": 128,
    "start_time": "2025-02-07T11:23:43.844Z"
   },
   {
    "duration": 28,
    "start_time": "2025-02-07T11:23:43.974Z"
   },
   {
    "duration": 23,
    "start_time": "2025-02-07T11:23:44.003Z"
   },
   {
    "duration": 61,
    "start_time": "2025-02-07T11:23:44.028Z"
   },
   {
    "duration": 13,
    "start_time": "2025-02-07T11:23:44.090Z"
   },
   {
    "duration": 44,
    "start_time": "2025-02-07T11:23:44.105Z"
   },
   {
    "duration": 9,
    "start_time": "2025-02-07T11:23:44.150Z"
   },
   {
    "duration": 10,
    "start_time": "2025-02-07T11:23:44.160Z"
   },
   {
    "duration": 23,
    "start_time": "2025-02-07T11:23:44.171Z"
   },
   {
    "duration": 21,
    "start_time": "2025-02-07T11:23:44.195Z"
   },
   {
    "duration": 267,
    "start_time": "2025-02-07T11:23:44.219Z"
   },
   {
    "duration": 8,
    "start_time": "2025-02-07T11:23:44.487Z"
   },
   {
    "duration": 183,
    "start_time": "2025-02-07T11:23:44.497Z"
   },
   {
    "duration": 12,
    "start_time": "2025-02-07T11:23:44.681Z"
   },
   {
    "duration": 63,
    "start_time": "2025-02-07T11:23:44.694Z"
   },
   {
    "duration": 19,
    "start_time": "2025-02-07T11:23:44.759Z"
   },
   {
    "duration": 8,
    "start_time": "2025-02-07T11:23:44.780Z"
   },
   {
    "duration": 10,
    "start_time": "2025-02-07T11:23:44.789Z"
   },
   {
    "duration": 62,
    "start_time": "2025-02-07T11:23:44.800Z"
   },
   {
    "duration": 157,
    "start_time": "2025-02-07T11:23:44.863Z"
   },
   {
    "duration": 150,
    "start_time": "2025-02-07T11:23:45.022Z"
   },
   {
    "duration": 13,
    "start_time": "2025-02-07T11:23:45.173Z"
   },
   {
    "duration": 52,
    "start_time": "2025-02-07T11:23:45.188Z"
   },
   {
    "duration": 32,
    "start_time": "2025-02-07T11:23:45.241Z"
   },
   {
    "duration": 17,
    "start_time": "2025-02-07T11:23:45.274Z"
   },
   {
    "duration": 16,
    "start_time": "2025-02-07T11:23:45.292Z"
   },
   {
    "duration": 13,
    "start_time": "2025-02-07T11:23:45.310Z"
   },
   {
    "duration": 93,
    "start_time": "2025-02-07T11:23:45.324Z"
   },
   {
    "duration": 72,
    "start_time": "2025-02-07T11:23:45.418Z"
   },
   {
    "duration": 5,
    "start_time": "2025-02-07T11:23:45.492Z"
   },
   {
    "duration": 61,
    "start_time": "2025-02-07T11:23:45.498Z"
   },
   {
    "duration": 33,
    "start_time": "2025-02-07T11:23:45.561Z"
   },
   {
    "duration": 4,
    "start_time": "2025-02-07T11:23:45.595Z"
   },
   {
    "duration": 6,
    "start_time": "2025-02-07T11:23:45.600Z"
   },
   {
    "duration": 17,
    "start_time": "2025-02-07T11:23:45.607Z"
   },
   {
    "duration": 345,
    "start_time": "2025-02-07T11:23:45.625Z"
   },
   {
    "duration": 4,
    "start_time": "2025-02-07T11:23:45.972Z"
   },
   {
    "duration": 28,
    "start_time": "2025-02-07T11:23:45.979Z"
   },
   {
    "duration": 3,
    "start_time": "2025-02-07T11:23:46.009Z"
   },
   {
    "duration": 34,
    "start_time": "2025-02-07T11:23:46.014Z"
   },
   {
    "duration": 76,
    "start_time": "2025-02-07T11:23:46.050Z"
   },
   {
    "duration": 21,
    "start_time": "2025-02-07T11:23:46.128Z"
   },
   {
    "duration": 32,
    "start_time": "2025-02-07T11:23:46.150Z"
   },
   {
    "duration": 113,
    "start_time": "2025-02-07T11:23:46.183Z"
   },
   {
    "duration": 4,
    "start_time": "2025-02-07T11:23:46.297Z"
   },
   {
    "duration": 43,
    "start_time": "2025-02-07T11:23:46.302Z"
   },
   {
    "duration": 10,
    "start_time": "2025-02-07T11:24:15.516Z"
   },
   {
    "duration": 11,
    "start_time": "2025-02-07T11:24:24.652Z"
   },
   {
    "duration": 10,
    "start_time": "2025-02-07T11:24:50.923Z"
   },
   {
    "duration": 13,
    "start_time": "2025-02-07T11:25:20.395Z"
   },
   {
    "duration": 14,
    "start_time": "2025-02-07T11:36:18.695Z"
   },
   {
    "duration": 16,
    "start_time": "2025-02-07T11:37:06.538Z"
   },
   {
    "duration": 20,
    "start_time": "2025-02-07T11:38:20.883Z"
   },
   {
    "duration": 23,
    "start_time": "2025-02-07T11:38:53.662Z"
   },
   {
    "duration": 28,
    "start_time": "2025-02-07T11:39:19.828Z"
   },
   {
    "duration": 16,
    "start_time": "2025-02-07T11:39:41.993Z"
   },
   {
    "duration": 26,
    "start_time": "2025-02-07T11:40:18.552Z"
   },
   {
    "duration": 19,
    "start_time": "2025-02-07T11:40:40.466Z"
   },
   {
    "duration": 25,
    "start_time": "2025-02-07T11:40:41.493Z"
   },
   {
    "duration": 18,
    "start_time": "2025-02-07T11:40:56.980Z"
   },
   {
    "duration": 25,
    "start_time": "2025-02-07T11:41:00.020Z"
   },
   {
    "duration": 18,
    "start_time": "2025-02-07T11:41:25.290Z"
   },
   {
    "duration": 23,
    "start_time": "2025-02-07T11:41:41.929Z"
   },
   {
    "duration": 20,
    "start_time": "2025-02-07T11:41:51.828Z"
   },
   {
    "duration": 17,
    "start_time": "2025-02-07T11:43:35.845Z"
   },
   {
    "duration": 6,
    "start_time": "2025-02-07T11:45:25.920Z"
   },
   {
    "duration": 8,
    "start_time": "2025-02-07T11:45:30.090Z"
   },
   {
    "duration": 184,
    "start_time": "2025-02-07T11:45:49.576Z"
   },
   {
    "duration": 197,
    "start_time": "2025-02-07T11:48:05.353Z"
   },
   {
    "duration": 301,
    "start_time": "2025-02-07T11:48:15.054Z"
   },
   {
    "duration": 1368,
    "start_time": "2025-02-07T11:48:22.045Z"
   },
   {
    "duration": 251,
    "start_time": "2025-02-07T11:48:31.938Z"
   },
   {
    "duration": 1348,
    "start_time": "2025-02-07T11:48:42.186Z"
   },
   {
    "duration": 163,
    "start_time": "2025-02-07T11:48:50.712Z"
   },
   {
    "duration": 231,
    "start_time": "2025-02-07T11:48:56.751Z"
   },
   {
    "duration": 192,
    "start_time": "2025-02-07T11:49:01.838Z"
   },
   {
    "duration": 143,
    "start_time": "2025-02-07T11:52:42.374Z"
   },
   {
    "duration": 161,
    "start_time": "2025-02-07T11:52:46.781Z"
   },
   {
    "duration": 183,
    "start_time": "2025-02-07T11:52:53.605Z"
   },
   {
    "duration": 301,
    "start_time": "2025-02-07T11:53:24.120Z"
   },
   {
    "duration": 73,
    "start_time": "2025-02-07T11:53:38.595Z"
   },
   {
    "duration": 154,
    "start_time": "2025-02-07T11:54:20.512Z"
   },
   {
    "duration": 142,
    "start_time": "2025-02-07T11:55:20.500Z"
   },
   {
    "duration": 8,
    "start_time": "2025-02-07T11:56:07.632Z"
   },
   {
    "duration": 72,
    "start_time": "2025-02-07T11:57:11.576Z"
   },
   {
    "duration": 71,
    "start_time": "2025-02-07T11:57:18.056Z"
   },
   {
    "duration": 102,
    "start_time": "2025-02-07T11:57:28.185Z"
   },
   {
    "duration": 123,
    "start_time": "2025-02-07T11:57:49.407Z"
   },
   {
    "duration": 116,
    "start_time": "2025-02-07T11:57:56.689Z"
   },
   {
    "duration": 106,
    "start_time": "2025-02-07T11:58:02.155Z"
   },
   {
    "duration": 131,
    "start_time": "2025-02-07T11:58:08.222Z"
   },
   {
    "duration": 118,
    "start_time": "2025-02-07T11:58:13.342Z"
   },
   {
    "duration": 4,
    "start_time": "2025-02-07T12:08:29.102Z"
   },
   {
    "duration": 53,
    "start_time": "2025-02-07T13:44:44.870Z"
   },
   {
    "duration": 902,
    "start_time": "2025-02-07T13:45:13.704Z"
   },
   {
    "duration": 2563,
    "start_time": "2025-02-07T13:45:14.608Z"
   },
   {
    "duration": 26,
    "start_time": "2025-02-07T13:45:17.173Z"
   },
   {
    "duration": 156,
    "start_time": "2025-02-07T13:45:17.202Z"
   },
   {
    "duration": 66,
    "start_time": "2025-02-07T13:45:17.361Z"
   },
   {
    "duration": 38,
    "start_time": "2025-02-07T13:45:17.429Z"
   },
   {
    "duration": 71,
    "start_time": "2025-02-07T13:45:17.469Z"
   },
   {
    "duration": 16,
    "start_time": "2025-02-07T13:45:17.542Z"
   },
   {
    "duration": 48,
    "start_time": "2025-02-07T13:45:17.560Z"
   },
   {
    "duration": 5,
    "start_time": "2025-02-07T13:45:17.612Z"
   },
   {
    "duration": 8,
    "start_time": "2025-02-07T13:45:17.618Z"
   },
   {
    "duration": 11,
    "start_time": "2025-02-07T13:45:17.628Z"
   },
   {
    "duration": 21,
    "start_time": "2025-02-07T13:45:17.641Z"
   },
   {
    "duration": 325,
    "start_time": "2025-02-07T13:45:17.664Z"
   },
   {
    "duration": 17,
    "start_time": "2025-02-07T13:45:17.991Z"
   },
   {
    "duration": 112,
    "start_time": "2025-02-07T13:45:18.011Z"
   },
   {
    "duration": 13,
    "start_time": "2025-02-07T13:45:18.125Z"
   },
   {
    "duration": 60,
    "start_time": "2025-02-07T13:45:18.140Z"
   },
   {
    "duration": 23,
    "start_time": "2025-02-07T13:45:18.202Z"
   },
   {
    "duration": 14,
    "start_time": "2025-02-07T13:45:18.227Z"
   },
   {
    "duration": 7,
    "start_time": "2025-02-07T13:45:18.243Z"
   },
   {
    "duration": 89,
    "start_time": "2025-02-07T13:45:18.252Z"
   },
   {
    "duration": 187,
    "start_time": "2025-02-07T13:45:18.343Z"
   },
   {
    "duration": 189,
    "start_time": "2025-02-07T13:45:18.532Z"
   },
   {
    "duration": 18,
    "start_time": "2025-02-07T13:45:18.724Z"
   },
   {
    "duration": 25,
    "start_time": "2025-02-07T13:45:18.743Z"
   },
   {
    "duration": 37,
    "start_time": "2025-02-07T13:45:18.769Z"
   },
   {
    "duration": 18,
    "start_time": "2025-02-07T13:45:18.810Z"
   },
   {
    "duration": 52,
    "start_time": "2025-02-07T13:45:18.830Z"
   },
   {
    "duration": 11,
    "start_time": "2025-02-07T13:45:18.884Z"
   },
   {
    "duration": 22,
    "start_time": "2025-02-07T13:45:18.900Z"
   },
   {
    "duration": 30,
    "start_time": "2025-02-07T13:45:18.924Z"
   },
   {
    "duration": 6,
    "start_time": "2025-02-07T13:45:18.956Z"
   },
   {
    "duration": 42,
    "start_time": "2025-02-07T13:45:18.963Z"
   },
   {
    "duration": 95,
    "start_time": "2025-02-07T13:45:19.006Z"
   },
   {
    "duration": 6,
    "start_time": "2025-02-07T13:45:19.103Z"
   },
   {
    "duration": 5,
    "start_time": "2025-02-07T13:45:19.111Z"
   },
   {
    "duration": 5,
    "start_time": "2025-02-07T13:45:19.118Z"
   },
   {
    "duration": 377,
    "start_time": "2025-02-07T13:45:19.125Z"
   },
   {
    "duration": 5,
    "start_time": "2025-02-07T13:45:19.505Z"
   },
   {
    "duration": 52,
    "start_time": "2025-02-07T13:45:19.512Z"
   },
   {
    "duration": 5,
    "start_time": "2025-02-07T13:45:19.567Z"
   },
   {
    "duration": 33,
    "start_time": "2025-02-07T13:45:19.574Z"
   },
   {
    "duration": 95,
    "start_time": "2025-02-07T13:45:19.608Z"
   },
   {
    "duration": 8,
    "start_time": "2025-02-07T13:45:19.705Z"
   },
   {
    "duration": 49,
    "start_time": "2025-02-07T13:45:19.715Z"
   },
   {
    "duration": 134,
    "start_time": "2025-02-07T13:45:19.770Z"
   },
   {
    "duration": 6,
    "start_time": "2025-02-07T13:45:19.905Z"
   },
   {
    "duration": 44,
    "start_time": "2025-02-07T13:45:19.913Z"
   },
   {
    "duration": 36,
    "start_time": "2025-02-07T13:45:19.959Z"
   },
   {
    "duration": 20,
    "start_time": "2025-02-07T13:45:19.997Z"
   },
   {
    "duration": 17,
    "start_time": "2025-02-07T13:45:20.019Z"
   },
   {
    "duration": 7,
    "start_time": "2025-02-07T13:45:20.038Z"
   },
   {
    "duration": 14,
    "start_time": "2025-02-07T13:45:20.047Z"
   },
   {
    "duration": 218,
    "start_time": "2025-02-07T13:45:20.064Z"
   },
   {
    "duration": 153,
    "start_time": "2025-02-07T13:45:20.285Z"
   },
   {
    "duration": 14,
    "start_time": "2025-02-07T13:45:20.440Z"
   },
   {
    "duration": 72,
    "start_time": "2025-02-07T13:45:20.455Z"
   },
   {
    "duration": 10,
    "start_time": "2025-02-07T13:48:10.129Z"
   },
   {
    "duration": 27,
    "start_time": "2025-02-07T13:48:10.577Z"
   },
   {
    "duration": 83,
    "start_time": "2025-02-07T13:48:11.921Z"
   },
   {
    "duration": 81,
    "start_time": "2025-02-07T13:53:18.087Z"
   },
   {
    "duration": 64,
    "start_time": "2025-02-07T13:53:28.399Z"
   },
   {
    "duration": 77,
    "start_time": "2025-02-07T13:54:11.297Z"
   },
   {
    "duration": 81,
    "start_time": "2025-02-07T13:54:15.936Z"
   },
   {
    "duration": 56,
    "start_time": "2025-02-07T13:54:40.503Z"
   },
   {
    "duration": 62,
    "start_time": "2025-02-07T13:55:24.945Z"
   },
   {
    "duration": 5,
    "start_time": "2025-02-07T13:56:53.104Z"
   },
   {
    "duration": 9,
    "start_time": "2025-02-07T13:57:29.615Z"
   },
   {
    "duration": 22,
    "start_time": "2025-02-07T13:58:01.480Z"
   },
   {
    "duration": 8,
    "start_time": "2025-02-07T13:58:54.735Z"
   },
   {
    "duration": 9,
    "start_time": "2025-02-07T14:00:42.326Z"
   },
   {
    "duration": 6,
    "start_time": "2025-02-07T14:00:47.456Z"
   },
   {
    "duration": 6,
    "start_time": "2025-02-07T14:05:37.423Z"
   },
   {
    "duration": 19,
    "start_time": "2025-02-07T14:06:09.874Z"
   },
   {
    "duration": 16,
    "start_time": "2025-02-07T14:06:33.697Z"
   },
   {
    "duration": 26,
    "start_time": "2025-02-07T14:15:30.943Z"
   },
   {
    "duration": 5,
    "start_time": "2025-02-07T14:15:44.561Z"
   },
   {
    "duration": 5,
    "start_time": "2025-02-07T14:16:04.754Z"
   },
   {
    "duration": 25,
    "start_time": "2025-02-07T14:17:10.671Z"
   },
   {
    "duration": 11,
    "start_time": "2025-02-07T14:17:18.074Z"
   },
   {
    "duration": 27,
    "start_time": "2025-02-07T14:17:30.752Z"
   },
   {
    "duration": 37,
    "start_time": "2025-02-07T14:17:56.758Z"
   },
   {
    "duration": 4,
    "start_time": "2025-02-07T14:18:03.344Z"
   },
   {
    "duration": 26,
    "start_time": "2025-02-07T14:18:06.980Z"
   },
   {
    "duration": 8,
    "start_time": "2025-02-07T14:18:18.511Z"
   },
   {
    "duration": 4,
    "start_time": "2025-02-07T14:18:19.999Z"
   },
   {
    "duration": 13,
    "start_time": "2025-02-07T14:18:59.922Z"
   },
   {
    "duration": 10,
    "start_time": "2025-02-07T14:19:00.424Z"
   },
   {
    "duration": 27,
    "start_time": "2025-02-07T14:19:00.904Z"
   },
   {
    "duration": 8,
    "start_time": "2025-02-07T14:19:02.200Z"
   },
   {
    "duration": 14,
    "start_time": "2025-02-07T14:19:03.168Z"
   },
   {
    "duration": 33,
    "start_time": "2025-02-07T14:19:49.904Z"
   },
   {
    "duration": 57,
    "start_time": "2025-02-08T09:25:31.612Z"
   },
   {
    "duration": 849,
    "start_time": "2025-02-08T09:25:41.769Z"
   },
   {
    "duration": 2644,
    "start_time": "2025-02-08T09:25:42.621Z"
   },
   {
    "duration": 36,
    "start_time": "2025-02-08T09:25:45.268Z"
   },
   {
    "duration": 144,
    "start_time": "2025-02-08T09:25:45.306Z"
   },
   {
    "duration": 43,
    "start_time": "2025-02-08T09:25:45.451Z"
   },
   {
    "duration": 24,
    "start_time": "2025-02-08T09:25:45.496Z"
   },
   {
    "duration": 75,
    "start_time": "2025-02-08T09:25:45.522Z"
   },
   {
    "duration": 14,
    "start_time": "2025-02-08T09:25:45.599Z"
   },
   {
    "duration": 20,
    "start_time": "2025-02-08T09:25:45.614Z"
   },
   {
    "duration": 10,
    "start_time": "2025-02-08T09:25:45.659Z"
   },
   {
    "duration": 4,
    "start_time": "2025-02-08T09:25:45.674Z"
   },
   {
    "duration": 6,
    "start_time": "2025-02-08T09:25:45.680Z"
   },
   {
    "duration": 12,
    "start_time": "2025-02-08T09:25:45.688Z"
   },
   {
    "duration": 289,
    "start_time": "2025-02-08T09:25:45.701Z"
   },
   {
    "duration": 8,
    "start_time": "2025-02-08T09:25:45.992Z"
   },
   {
    "duration": 94,
    "start_time": "2025-02-08T09:25:46.002Z"
   },
   {
    "duration": 13,
    "start_time": "2025-02-08T09:25:46.098Z"
   },
   {
    "duration": 61,
    "start_time": "2025-02-08T09:25:46.112Z"
   },
   {
    "duration": 21,
    "start_time": "2025-02-08T09:25:46.175Z"
   },
   {
    "duration": 9,
    "start_time": "2025-02-08T09:25:46.198Z"
   },
   {
    "duration": 18,
    "start_time": "2025-02-08T09:25:46.209Z"
   },
   {
    "duration": 56,
    "start_time": "2025-02-08T09:25:46.229Z"
   },
   {
    "duration": 168,
    "start_time": "2025-02-08T09:25:46.287Z"
   },
   {
    "duration": 175,
    "start_time": "2025-02-08T09:25:46.459Z"
   },
   {
    "duration": 30,
    "start_time": "2025-02-08T09:25:46.635Z"
   },
   {
    "duration": 28,
    "start_time": "2025-02-08T09:25:46.673Z"
   },
   {
    "duration": 27,
    "start_time": "2025-02-08T09:25:46.702Z"
   },
   {
    "duration": 29,
    "start_time": "2025-02-08T09:25:46.735Z"
   },
   {
    "duration": 21,
    "start_time": "2025-02-08T09:25:46.765Z"
   },
   {
    "duration": 9,
    "start_time": "2025-02-08T09:25:46.788Z"
   },
   {
    "duration": 19,
    "start_time": "2025-02-08T09:25:46.799Z"
   },
   {
    "duration": 57,
    "start_time": "2025-02-08T09:25:46.819Z"
   },
   {
    "duration": 5,
    "start_time": "2025-02-08T09:25:46.878Z"
   },
   {
    "duration": 8,
    "start_time": "2025-02-08T09:25:46.885Z"
   },
   {
    "duration": 28,
    "start_time": "2025-02-08T09:25:46.894Z"
   },
   {
    "duration": 4,
    "start_time": "2025-02-08T09:25:46.924Z"
   },
   {
    "duration": 40,
    "start_time": "2025-02-08T09:25:46.929Z"
   },
   {
    "duration": 6,
    "start_time": "2025-02-08T09:25:46.971Z"
   },
   {
    "duration": 341,
    "start_time": "2025-02-08T09:25:46.980Z"
   },
   {
    "duration": 4,
    "start_time": "2025-02-08T09:25:47.322Z"
   },
   {
    "duration": 39,
    "start_time": "2025-02-08T09:25:47.328Z"
   },
   {
    "duration": 6,
    "start_time": "2025-02-08T09:25:47.370Z"
   },
   {
    "duration": 14,
    "start_time": "2025-02-08T09:25:47.378Z"
   },
   {
    "duration": 91,
    "start_time": "2025-02-08T09:25:47.393Z"
   },
   {
    "duration": 7,
    "start_time": "2025-02-08T09:25:47.485Z"
   },
   {
    "duration": 29,
    "start_time": "2025-02-08T09:25:47.493Z"
   },
   {
    "duration": 123,
    "start_time": "2025-02-08T09:25:47.524Z"
   },
   {
    "duration": 11,
    "start_time": "2025-02-08T09:25:47.648Z"
   },
   {
    "duration": 34,
    "start_time": "2025-02-08T09:25:47.661Z"
   },
   {
    "duration": 9,
    "start_time": "2025-02-08T09:25:47.696Z"
   },
   {
    "duration": 234,
    "start_time": "2025-02-08T09:25:47.706Z"
   },
   {
    "duration": 38,
    "start_time": "2025-02-08T09:25:47.942Z"
   },
   {
    "duration": 4,
    "start_time": "2025-02-08T09:25:47.981Z"
   },
   {
    "duration": 8,
    "start_time": "2025-02-08T09:25:47.987Z"
   },
   {
    "duration": 195,
    "start_time": "2025-02-08T09:25:47.996Z"
   },
   {
    "duration": 134,
    "start_time": "2025-02-08T09:25:48.193Z"
   },
   {
    "duration": 10,
    "start_time": "2025-02-08T09:25:48.328Z"
   },
   {
    "duration": 25,
    "start_time": "2025-02-08T09:25:48.340Z"
   },
   {
    "duration": 38,
    "start_time": "2025-02-08T09:25:48.367Z"
   },
   {
    "duration": 7,
    "start_time": "2025-02-08T09:25:48.406Z"
   },
   {
    "duration": 79,
    "start_time": "2025-02-08T09:25:48.414Z"
   },
   {
    "duration": 14,
    "start_time": "2025-02-08T09:25:53.862Z"
   },
   {
    "duration": 27,
    "start_time": "2025-02-08T09:25:57.130Z"
   },
   {
    "duration": 7,
    "start_time": "2025-02-08T09:26:01.954Z"
   },
   {
    "duration": 9,
    "start_time": "2025-02-08T09:26:30.242Z"
   },
   {
    "duration": 166,
    "start_time": "2025-02-08T09:26:34.298Z"
   },
   {
    "duration": 9,
    "start_time": "2025-02-08T09:30:40.545Z"
   },
   {
    "duration": 238,
    "start_time": "2025-02-08T09:30:41.124Z"
   },
   {
    "duration": 115,
    "start_time": "2025-02-08T09:30:41.785Z"
   },
   {
    "duration": 24,
    "start_time": "2025-02-08T09:30:43.112Z"
   },
   {
    "duration": 6,
    "start_time": "2025-02-08T09:30:43.736Z"
   },
   {
    "duration": 60,
    "start_time": "2025-02-08T09:30:45.058Z"
   },
   {
    "duration": 11,
    "start_time": "2025-02-08T09:30:46.756Z"
   },
   {
    "duration": 213,
    "start_time": "2025-02-08T09:32:51.833Z"
   },
   {
    "duration": 213,
    "start_time": "2025-02-08T09:33:10.867Z"
   },
   {
    "duration": 17,
    "start_time": "2025-02-08T09:35:51.748Z"
   },
   {
    "duration": 29,
    "start_time": "2025-02-08T09:43:48.067Z"
   },
   {
    "duration": 1388,
    "start_time": "2025-02-08T09:44:41.919Z"
   },
   {
    "duration": 0,
    "start_time": "2025-02-08T09:44:43.309Z"
   },
   {
    "duration": 6,
    "start_time": "2025-02-08T09:45:00.200Z"
   },
   {
    "duration": 3,
    "start_time": "2025-02-08T09:45:04.566Z"
   },
   {
    "duration": 1201,
    "start_time": "2025-02-08T09:45:08.233Z"
   },
   {
    "duration": 7,
    "start_time": "2025-02-08T09:45:25.700Z"
   },
   {
    "duration": 6,
    "start_time": "2025-02-08T09:45:39.703Z"
   },
   {
    "duration": 10,
    "start_time": "2025-02-08T09:46:05.201Z"
   },
   {
    "duration": 4,
    "start_time": "2025-02-08T09:46:14.620Z"
   },
   {
    "duration": 6,
    "start_time": "2025-02-08T09:46:29.419Z"
   },
   {
    "duration": 51,
    "start_time": "2025-02-08T11:05:04.587Z"
   },
   {
    "duration": 860,
    "start_time": "2025-02-08T11:05:14.464Z"
   },
   {
    "duration": 2042,
    "start_time": "2025-02-08T11:05:15.327Z"
   },
   {
    "duration": 22,
    "start_time": "2025-02-08T11:05:17.371Z"
   },
   {
    "duration": 140,
    "start_time": "2025-02-08T11:05:17.395Z"
   },
   {
    "duration": 31,
    "start_time": "2025-02-08T11:05:17.537Z"
   },
   {
    "duration": 45,
    "start_time": "2025-02-08T11:05:17.570Z"
   },
   {
    "duration": 58,
    "start_time": "2025-02-08T11:05:17.616Z"
   },
   {
    "duration": 14,
    "start_time": "2025-02-08T11:05:17.675Z"
   },
   {
    "duration": 21,
    "start_time": "2025-02-08T11:05:17.703Z"
   },
   {
    "duration": 5,
    "start_time": "2025-02-08T11:05:17.725Z"
   },
   {
    "duration": 3,
    "start_time": "2025-02-08T11:05:17.732Z"
   },
   {
    "duration": 6,
    "start_time": "2025-02-08T11:05:17.737Z"
   },
   {
    "duration": 20,
    "start_time": "2025-02-08T11:05:17.744Z"
   },
   {
    "duration": 314,
    "start_time": "2025-02-08T11:05:17.768Z"
   },
   {
    "duration": 9,
    "start_time": "2025-02-08T11:05:18.084Z"
   },
   {
    "duration": 84,
    "start_time": "2025-02-08T11:05:18.094Z"
   },
   {
    "duration": 25,
    "start_time": "2025-02-08T11:05:18.179Z"
   },
   {
    "duration": 38,
    "start_time": "2025-02-08T11:05:18.206Z"
   },
   {
    "duration": 22,
    "start_time": "2025-02-08T11:05:18.245Z"
   },
   {
    "duration": 34,
    "start_time": "2025-02-08T11:05:18.269Z"
   },
   {
    "duration": 8,
    "start_time": "2025-02-08T11:05:18.305Z"
   },
   {
    "duration": 56,
    "start_time": "2025-02-08T11:05:18.315Z"
   },
   {
    "duration": 178,
    "start_time": "2025-02-08T11:05:18.373Z"
   },
   {
    "duration": 167,
    "start_time": "2025-02-08T11:05:18.554Z"
   },
   {
    "duration": 15,
    "start_time": "2025-02-08T11:05:18.723Z"
   },
   {
    "duration": 16,
    "start_time": "2025-02-08T11:05:18.739Z"
   },
   {
    "duration": 17,
    "start_time": "2025-02-08T11:05:18.757Z"
   },
   {
    "duration": 42,
    "start_time": "2025-02-08T11:05:18.775Z"
   },
   {
    "duration": 18,
    "start_time": "2025-02-08T11:05:18.819Z"
   },
   {
    "duration": 10,
    "start_time": "2025-02-08T11:05:18.838Z"
   },
   {
    "duration": 20,
    "start_time": "2025-02-08T11:05:18.849Z"
   },
   {
    "duration": 56,
    "start_time": "2025-02-08T11:05:18.870Z"
   },
   {
    "duration": 5,
    "start_time": "2025-02-08T11:05:18.928Z"
   },
   {
    "duration": 30,
    "start_time": "2025-02-08T11:05:18.934Z"
   },
   {
    "duration": 30,
    "start_time": "2025-02-08T11:05:18.966Z"
   },
   {
    "duration": 4,
    "start_time": "2025-02-08T11:05:19.001Z"
   },
   {
    "duration": 6,
    "start_time": "2025-02-08T11:05:19.006Z"
   },
   {
    "duration": 9,
    "start_time": "2025-02-08T11:05:19.013Z"
   },
   {
    "duration": 344,
    "start_time": "2025-02-08T11:05:19.023Z"
   },
   {
    "duration": 4,
    "start_time": "2025-02-08T11:05:19.369Z"
   },
   {
    "duration": 39,
    "start_time": "2025-02-08T11:05:19.377Z"
   },
   {
    "duration": 4,
    "start_time": "2025-02-08T11:05:19.418Z"
   },
   {
    "duration": 21,
    "start_time": "2025-02-08T11:05:19.423Z"
   },
   {
    "duration": 94,
    "start_time": "2025-02-08T11:05:19.445Z"
   },
   {
    "duration": 8,
    "start_time": "2025-02-08T11:05:19.540Z"
   },
   {
    "duration": 33,
    "start_time": "2025-02-08T11:05:19.549Z"
   },
   {
    "duration": 111,
    "start_time": "2025-02-08T11:05:19.602Z"
   },
   {
    "duration": 4,
    "start_time": "2025-02-08T11:05:19.715Z"
   },
   {
    "duration": 27,
    "start_time": "2025-02-08T11:05:19.721Z"
   },
   {
    "duration": 8,
    "start_time": "2025-02-08T11:05:19.750Z"
   },
   {
    "duration": 55,
    "start_time": "2025-02-08T11:05:19.760Z"
   },
   {
    "duration": 28,
    "start_time": "2025-02-08T11:05:19.817Z"
   },
   {
    "duration": 3,
    "start_time": "2025-02-08T11:05:19.847Z"
   },
   {
    "duration": 30,
    "start_time": "2025-02-08T11:05:19.852Z"
   },
   {
    "duration": 203,
    "start_time": "2025-02-08T11:05:19.884Z"
   },
   {
    "duration": 123,
    "start_time": "2025-02-08T11:05:20.089Z"
   },
   {
    "duration": 14,
    "start_time": "2025-02-08T11:05:20.213Z"
   },
   {
    "duration": 3,
    "start_time": "2025-02-08T11:05:20.229Z"
   },
   {
    "duration": 27,
    "start_time": "2025-02-08T11:05:20.234Z"
   },
   {
    "duration": 6,
    "start_time": "2025-02-08T11:05:20.263Z"
   },
   {
    "duration": 71,
    "start_time": "2025-02-08T11:05:20.271Z"
   },
   {
    "duration": 13,
    "start_time": "2025-02-08T11:05:20.344Z"
   },
   {
    "duration": 8,
    "start_time": "2025-02-08T11:05:20.359Z"
   },
   {
    "duration": 22,
    "start_time": "2025-02-08T11:05:20.368Z"
   },
   {
    "duration": 28,
    "start_time": "2025-02-08T11:05:30.622Z"
   },
   {
    "duration": 4,
    "start_time": "2025-02-08T11:07:12.733Z"
   },
   {
    "duration": 4,
    "start_time": "2025-02-08T11:07:36.678Z"
   },
   {
    "duration": 6,
    "start_time": "2025-02-08T11:12:17.362Z"
   },
   {
    "duration": 5,
    "start_time": "2025-02-08T11:13:24.541Z"
   },
   {
    "duration": 4,
    "start_time": "2025-02-08T11:14:24.099Z"
   },
   {
    "duration": 3,
    "start_time": "2025-02-08T11:14:41.015Z"
   },
   {
    "duration": 688,
    "start_time": "2025-02-08T11:16:58.306Z"
   },
   {
    "duration": 2224,
    "start_time": "2025-02-08T11:16:58.995Z"
   },
   {
    "duration": 21,
    "start_time": "2025-02-08T11:17:01.220Z"
   },
   {
    "duration": 143,
    "start_time": "2025-02-08T11:17:01.242Z"
   },
   {
    "duration": 38,
    "start_time": "2025-02-08T11:17:01.388Z"
   },
   {
    "duration": 37,
    "start_time": "2025-02-08T11:17:01.428Z"
   },
   {
    "duration": 66,
    "start_time": "2025-02-08T11:17:01.467Z"
   },
   {
    "duration": 13,
    "start_time": "2025-02-08T11:17:01.535Z"
   },
   {
    "duration": 21,
    "start_time": "2025-02-08T11:17:01.550Z"
   },
   {
    "duration": 53,
    "start_time": "2025-02-08T11:17:01.573Z"
   },
   {
    "duration": 19,
    "start_time": "2025-02-08T11:17:01.628Z"
   },
   {
    "duration": 44,
    "start_time": "2025-02-08T11:17:01.648Z"
   },
   {
    "duration": 11,
    "start_time": "2025-02-08T11:17:01.694Z"
   },
   {
    "duration": 284,
    "start_time": "2025-02-08T11:17:01.708Z"
   },
   {
    "duration": 9,
    "start_time": "2025-02-08T11:17:02.002Z"
   },
   {
    "duration": 115,
    "start_time": "2025-02-08T11:17:02.013Z"
   },
   {
    "duration": 14,
    "start_time": "2025-02-08T11:17:02.130Z"
   },
   {
    "duration": 79,
    "start_time": "2025-02-08T11:17:02.146Z"
   },
   {
    "duration": 22,
    "start_time": "2025-02-08T11:17:02.227Z"
   },
   {
    "duration": 102,
    "start_time": "2025-02-08T11:17:02.251Z"
   },
   {
    "duration": 37,
    "start_time": "2025-02-08T11:17:02.355Z"
   },
   {
    "duration": 94,
    "start_time": "2025-02-08T11:17:02.395Z"
   },
   {
    "duration": 150,
    "start_time": "2025-02-08T11:17:02.491Z"
   },
   {
    "duration": 163,
    "start_time": "2025-02-08T11:17:02.644Z"
   },
   {
    "duration": 15,
    "start_time": "2025-02-08T11:17:02.809Z"
   },
   {
    "duration": 42,
    "start_time": "2025-02-08T11:17:02.825Z"
   },
   {
    "duration": 37,
    "start_time": "2025-02-08T11:17:02.869Z"
   },
   {
    "duration": 18,
    "start_time": "2025-02-08T11:17:02.907Z"
   },
   {
    "duration": 31,
    "start_time": "2025-02-08T11:17:02.926Z"
   },
   {
    "duration": 10,
    "start_time": "2025-02-08T11:17:02.959Z"
   },
   {
    "duration": 50,
    "start_time": "2025-02-08T11:17:02.971Z"
   },
   {
    "duration": 29,
    "start_time": "2025-02-08T11:17:03.023Z"
   },
   {
    "duration": 6,
    "start_time": "2025-02-08T11:17:03.055Z"
   },
   {
    "duration": 60,
    "start_time": "2025-02-08T11:17:03.063Z"
   },
   {
    "duration": 48,
    "start_time": "2025-02-08T11:17:03.125Z"
   },
   {
    "duration": 5,
    "start_time": "2025-02-08T11:17:03.175Z"
   },
   {
    "duration": 26,
    "start_time": "2025-02-08T11:17:03.182Z"
   },
   {
    "duration": 33,
    "start_time": "2025-02-08T11:17:03.210Z"
   },
   {
    "duration": 363,
    "start_time": "2025-02-08T11:17:03.245Z"
   },
   {
    "duration": 5,
    "start_time": "2025-02-08T11:17:03.609Z"
   },
   {
    "duration": 72,
    "start_time": "2025-02-08T11:17:03.619Z"
   },
   {
    "duration": 4,
    "start_time": "2025-02-08T11:17:03.693Z"
   },
   {
    "duration": 40,
    "start_time": "2025-02-08T11:17:03.699Z"
   },
   {
    "duration": 93,
    "start_time": "2025-02-08T11:17:03.741Z"
   },
   {
    "duration": 7,
    "start_time": "2025-02-08T11:17:03.835Z"
   },
   {
    "duration": 37,
    "start_time": "2025-02-08T11:17:03.843Z"
   },
   {
    "duration": 123,
    "start_time": "2025-02-08T11:17:03.881Z"
   },
   {
    "duration": 4,
    "start_time": "2025-02-08T11:17:04.006Z"
   },
   {
    "duration": 34,
    "start_time": "2025-02-08T11:17:04.011Z"
   },
   {
    "duration": 7,
    "start_time": "2025-02-08T11:17:04.047Z"
   },
   {
    "duration": 43,
    "start_time": "2025-02-08T11:17:04.055Z"
   },
   {
    "duration": 25,
    "start_time": "2025-02-08T11:17:04.099Z"
   },
   {
    "duration": 13,
    "start_time": "2025-02-08T11:17:04.126Z"
   },
   {
    "duration": 12,
    "start_time": "2025-02-08T11:17:04.140Z"
   },
   {
    "duration": 206,
    "start_time": "2025-02-08T11:17:04.153Z"
   },
   {
    "duration": 152,
    "start_time": "2025-02-08T11:17:04.361Z"
   },
   {
    "duration": 13,
    "start_time": "2025-02-08T11:17:04.515Z"
   },
   {
    "duration": 21,
    "start_time": "2025-02-08T11:17:04.530Z"
   },
   {
    "duration": 29,
    "start_time": "2025-02-08T11:17:04.553Z"
   },
   {
    "duration": 9,
    "start_time": "2025-02-08T11:17:04.583Z"
   },
   {
    "duration": 37,
    "start_time": "2025-02-08T11:17:04.602Z"
   },
   {
    "duration": 16,
    "start_time": "2025-02-08T11:17:04.641Z"
   },
   {
    "duration": 120,
    "start_time": "2025-02-08T11:17:04.659Z"
   },
   {
    "duration": 7,
    "start_time": "2025-02-08T11:17:04.780Z"
   },
   {
    "duration": 7,
    "start_time": "2025-02-08T11:17:04.788Z"
   },
   {
    "duration": 20,
    "start_time": "2025-02-08T11:17:04.797Z"
   },
   {
    "duration": 88,
    "start_time": "2025-02-08T11:17:04.818Z"
   },
   {
    "duration": 3,
    "start_time": "2025-02-08T11:17:58.527Z"
   },
   {
    "duration": 7,
    "start_time": "2025-02-08T11:37:22.918Z"
   },
   {
    "duration": 6,
    "start_time": "2025-02-08T11:48:04.783Z"
   },
   {
    "duration": 40,
    "start_time": "2025-02-08T11:48:06.394Z"
   },
   {
    "duration": 7,
    "start_time": "2025-02-08T11:48:07.402Z"
   },
   {
    "duration": 7,
    "start_time": "2025-02-08T11:48:16.347Z"
   },
   {
    "duration": 3,
    "start_time": "2025-02-08T11:48:18.539Z"
   },
   {
    "duration": 4,
    "start_time": "2025-02-08T11:48:19.955Z"
   },
   {
    "duration": 4,
    "start_time": "2025-02-08T11:48:20.786Z"
   },
   {
    "duration": 4,
    "start_time": "2025-02-08T11:48:21.594Z"
   },
   {
    "duration": 8,
    "start_time": "2025-02-08T11:48:23.040Z"
   },
   {
    "duration": 18,
    "start_time": "2025-02-08T11:50:01.547Z"
   },
   {
    "duration": 18,
    "start_time": "2025-02-08T11:52:31.918Z"
   },
   {
    "duration": 14,
    "start_time": "2025-02-08T11:52:49.289Z"
   },
   {
    "duration": 79,
    "start_time": "2025-02-08T11:53:36.010Z"
   },
   {
    "duration": 3,
    "start_time": "2025-02-08T11:53:52.253Z"
   },
   {
    "duration": 9,
    "start_time": "2025-02-08T11:53:58.897Z"
   },
   {
    "duration": 10,
    "start_time": "2025-02-08T11:54:17.015Z"
   },
   {
    "duration": 5,
    "start_time": "2025-02-08T11:54:21.976Z"
   },
   {
    "duration": 3,
    "start_time": "2025-02-08T11:54:32.803Z"
   },
   {
    "duration": 4,
    "start_time": "2025-02-08T11:54:43.927Z"
   },
   {
    "duration": 9,
    "start_time": "2025-02-08T11:54:54.758Z"
   },
   {
    "duration": 9,
    "start_time": "2025-02-08T11:55:13.026Z"
   },
   {
    "duration": 9,
    "start_time": "2025-02-08T11:55:19.050Z"
   },
   {
    "duration": 4,
    "start_time": "2025-02-08T11:55:22.747Z"
   },
   {
    "duration": 23,
    "start_time": "2025-02-08T11:55:29.236Z"
   },
   {
    "duration": 9,
    "start_time": "2025-02-08T11:55:38.510Z"
   },
   {
    "duration": 15,
    "start_time": "2025-02-08T11:57:45.457Z"
   },
   {
    "duration": 27,
    "start_time": "2025-02-08T11:58:29.698Z"
   },
   {
    "duration": 58,
    "start_time": "2025-02-08T11:59:16.634Z"
   },
   {
    "duration": 5,
    "start_time": "2025-02-08T12:01:00.399Z"
   },
   {
    "duration": 50,
    "start_time": "2025-02-08T12:01:05.639Z"
   },
   {
    "duration": 25,
    "start_time": "2025-02-08T12:01:27.858Z"
   },
   {
    "duration": 9,
    "start_time": "2025-02-08T12:01:44.818Z"
   },
   {
    "duration": 5,
    "start_time": "2025-02-08T12:01:45.298Z"
   },
   {
    "duration": 10,
    "start_time": "2025-02-08T12:01:47.219Z"
   },
   {
    "duration": 10,
    "start_time": "2025-02-08T12:01:48.151Z"
   },
   {
    "duration": 12,
    "start_time": "2025-02-08T12:02:20.104Z"
   },
   {
    "duration": 7,
    "start_time": "2025-02-08T12:16:28.368Z"
   },
   {
    "duration": 4,
    "start_time": "2025-02-08T12:17:18.360Z"
   },
   {
    "duration": 4,
    "start_time": "2025-02-08T12:18:05.282Z"
   },
   {
    "duration": 5,
    "start_time": "2025-02-08T12:18:23.252Z"
   },
   {
    "duration": 5,
    "start_time": "2025-02-08T12:19:31.065Z"
   },
   {
    "duration": 9,
    "start_time": "2025-02-08T12:19:48.632Z"
   },
   {
    "duration": 16,
    "start_time": "2025-02-08T12:20:23.318Z"
   },
   {
    "duration": 11,
    "start_time": "2025-02-08T12:20:31.112Z"
   },
   {
    "duration": 156,
    "start_time": "2025-02-08T12:20:44.402Z"
   },
   {
    "duration": 26,
    "start_time": "2025-02-08T12:22:02.574Z"
   },
   {
    "duration": 5,
    "start_time": "2025-02-08T12:22:52.309Z"
   },
   {
    "duration": 10,
    "start_time": "2025-02-08T12:23:28.808Z"
   },
   {
    "duration": 9,
    "start_time": "2025-02-08T12:23:36.347Z"
   },
   {
    "duration": 13,
    "start_time": "2025-02-08T12:23:40.533Z"
   },
   {
    "duration": 46,
    "start_time": "2025-02-08T16:54:43.831Z"
   },
   {
    "duration": 756,
    "start_time": "2025-02-08T16:54:55.627Z"
   },
   {
    "duration": 2008,
    "start_time": "2025-02-08T16:54:56.385Z"
   },
   {
    "duration": 20,
    "start_time": "2025-02-08T16:54:58.395Z"
   },
   {
    "duration": 125,
    "start_time": "2025-02-08T16:54:58.417Z"
   },
   {
    "duration": 34,
    "start_time": "2025-02-08T16:54:58.543Z"
   },
   {
    "duration": 22,
    "start_time": "2025-02-08T16:54:58.579Z"
   },
   {
    "duration": 49,
    "start_time": "2025-02-08T16:54:58.603Z"
   },
   {
    "duration": 28,
    "start_time": "2025-02-08T16:54:58.653Z"
   },
   {
    "duration": 16,
    "start_time": "2025-02-08T16:54:58.683Z"
   },
   {
    "duration": 4,
    "start_time": "2025-02-08T16:54:58.702Z"
   },
   {
    "duration": 4,
    "start_time": "2025-02-08T16:54:58.707Z"
   },
   {
    "duration": 5,
    "start_time": "2025-02-08T16:54:58.712Z"
   },
   {
    "duration": 10,
    "start_time": "2025-02-08T16:54:58.718Z"
   },
   {
    "duration": 271,
    "start_time": "2025-02-08T16:54:58.730Z"
   },
   {
    "duration": 9,
    "start_time": "2025-02-08T16:54:59.003Z"
   },
   {
    "duration": 85,
    "start_time": "2025-02-08T16:54:59.013Z"
   },
   {
    "duration": 12,
    "start_time": "2025-02-08T16:54:59.100Z"
   },
   {
    "duration": 38,
    "start_time": "2025-02-08T16:54:59.113Z"
   },
   {
    "duration": 32,
    "start_time": "2025-02-08T16:54:59.153Z"
   },
   {
    "duration": 35,
    "start_time": "2025-02-08T16:54:59.186Z"
   },
   {
    "duration": 5,
    "start_time": "2025-02-08T16:54:59.223Z"
   },
   {
    "duration": 45,
    "start_time": "2025-02-08T16:54:59.229Z"
   },
   {
    "duration": 145,
    "start_time": "2025-02-08T16:54:59.276Z"
   },
   {
    "duration": 146,
    "start_time": "2025-02-08T16:54:59.423Z"
   },
   {
    "duration": 13,
    "start_time": "2025-02-08T16:54:59.574Z"
   },
   {
    "duration": 17,
    "start_time": "2025-02-08T16:54:59.588Z"
   },
   {
    "duration": 13,
    "start_time": "2025-02-08T16:54:59.606Z"
   },
   {
    "duration": 14,
    "start_time": "2025-02-08T16:54:59.623Z"
   },
   {
    "duration": 37,
    "start_time": "2025-02-08T16:54:59.638Z"
   },
   {
    "duration": 8,
    "start_time": "2025-02-08T16:54:59.677Z"
   },
   {
    "duration": 19,
    "start_time": "2025-02-08T16:54:59.686Z"
   },
   {
    "duration": 24,
    "start_time": "2025-02-08T16:54:59.706Z"
   },
   {
    "duration": 4,
    "start_time": "2025-02-08T16:54:59.732Z"
   },
   {
    "duration": 6,
    "start_time": "2025-02-08T16:54:59.737Z"
   },
   {
    "duration": 53,
    "start_time": "2025-02-08T16:54:59.744Z"
   },
   {
    "duration": 3,
    "start_time": "2025-02-08T16:54:59.798Z"
   },
   {
    "duration": 18,
    "start_time": "2025-02-08T16:54:59.803Z"
   },
   {
    "duration": 3,
    "start_time": "2025-02-08T16:54:59.823Z"
   },
   {
    "duration": 284,
    "start_time": "2025-02-08T16:54:59.827Z"
   },
   {
    "duration": 4,
    "start_time": "2025-02-08T16:55:00.112Z"
   },
   {
    "duration": 37,
    "start_time": "2025-02-08T16:55:00.118Z"
   },
   {
    "duration": 19,
    "start_time": "2025-02-08T16:55:00.157Z"
   },
   {
    "duration": 16,
    "start_time": "2025-02-08T16:55:00.178Z"
   },
   {
    "duration": 78,
    "start_time": "2025-02-08T16:55:00.196Z"
   },
   {
    "duration": 7,
    "start_time": "2025-02-08T16:55:00.275Z"
   },
   {
    "duration": 31,
    "start_time": "2025-02-08T16:55:00.284Z"
   },
   {
    "duration": 115,
    "start_time": "2025-02-08T16:55:00.317Z"
   },
   {
    "duration": 5,
    "start_time": "2025-02-08T16:55:00.433Z"
   },
   {
    "duration": 37,
    "start_time": "2025-02-08T16:55:00.440Z"
   },
   {
    "duration": 15,
    "start_time": "2025-02-08T16:55:00.479Z"
   },
   {
    "duration": 34,
    "start_time": "2025-02-08T16:55:00.496Z"
   },
   {
    "duration": 25,
    "start_time": "2025-02-08T16:55:00.531Z"
   },
   {
    "duration": 4,
    "start_time": "2025-02-08T16:55:00.557Z"
   },
   {
    "duration": 19,
    "start_time": "2025-02-08T16:55:00.562Z"
   },
   {
    "duration": 179,
    "start_time": "2025-02-08T16:55:00.582Z"
   },
   {
    "duration": 115,
    "start_time": "2025-02-08T16:55:00.763Z"
   },
   {
    "duration": 12,
    "start_time": "2025-02-08T16:55:00.879Z"
   },
   {
    "duration": 22,
    "start_time": "2025-02-08T16:55:00.893Z"
   },
   {
    "duration": 29,
    "start_time": "2025-02-08T16:55:00.917Z"
   },
   {
    "duration": 7,
    "start_time": "2025-02-08T16:55:00.947Z"
   },
   {
    "duration": 39,
    "start_time": "2025-02-08T16:55:00.955Z"
   },
   {
    "duration": 27,
    "start_time": "2025-02-08T16:55:00.996Z"
   },
   {
    "duration": 5,
    "start_time": "2025-02-08T16:55:01.025Z"
   },
   {
    "duration": 4,
    "start_time": "2025-02-08T16:55:01.032Z"
   },
   {
    "duration": 5,
    "start_time": "2025-02-08T16:55:01.037Z"
   },
   {
    "duration": 126,
    "start_time": "2025-02-08T16:55:01.043Z"
   },
   {
    "duration": 84,
    "start_time": "2025-02-08T16:55:01.171Z"
   },
   {
    "duration": 11,
    "start_time": "2025-02-08T16:55:01.256Z"
   },
   {
    "duration": 17,
    "start_time": "2025-02-08T16:55:01.269Z"
   },
   {
    "duration": 30,
    "start_time": "2025-02-08T16:55:01.289Z"
   },
   {
    "duration": 12,
    "start_time": "2025-02-08T16:55:01.321Z"
   },
   {
    "duration": 12,
    "start_time": "2025-02-08T16:55:01.335Z"
   },
   {
    "duration": 31,
    "start_time": "2025-02-08T16:55:01.349Z"
   },
   {
    "duration": 17,
    "start_time": "2025-02-08T16:55:01.381Z"
   },
   {
    "duration": 16,
    "start_time": "2025-02-08T16:55:01.399Z"
   },
   {
    "duration": 22,
    "start_time": "2025-02-08T16:55:01.417Z"
   },
   {
    "duration": 34,
    "start_time": "2025-02-08T16:55:01.440Z"
   },
   {
    "duration": 14,
    "start_time": "2025-02-08T16:55:01.475Z"
   },
   {
    "duration": 141,
    "start_time": "2025-02-08T16:55:01.491Z"
   },
   {
    "duration": 11,
    "start_time": "2025-02-08T16:55:14.560Z"
   },
   {
    "duration": 8,
    "start_time": "2025-02-08T16:57:01.142Z"
   },
   {
    "duration": 14,
    "start_time": "2025-02-08T16:57:08.188Z"
   },
   {
    "duration": 13,
    "start_time": "2025-02-08T16:57:39.549Z"
   },
   {
    "duration": 11,
    "start_time": "2025-02-08T16:58:24.793Z"
   },
   {
    "duration": 10,
    "start_time": "2025-02-08T16:58:45.809Z"
   },
   {
    "duration": 11,
    "start_time": "2025-02-08T16:59:40.490Z"
   },
   {
    "duration": 9,
    "start_time": "2025-02-08T16:59:48.874Z"
   },
   {
    "duration": 72,
    "start_time": "2025-02-08T17:02:20.185Z"
   },
   {
    "duration": 16,
    "start_time": "2025-02-08T17:02:30.609Z"
   },
   {
    "duration": 21,
    "start_time": "2025-02-08T17:02:38.815Z"
   },
   {
    "duration": 594,
    "start_time": "2025-02-08T17:18:35.402Z"
   },
   {
    "duration": 2240,
    "start_time": "2025-02-08T17:18:35.999Z"
   },
   {
    "duration": 19,
    "start_time": "2025-02-08T17:18:38.241Z"
   },
   {
    "duration": 121,
    "start_time": "2025-02-08T17:18:38.262Z"
   },
   {
    "duration": 27,
    "start_time": "2025-02-08T17:18:38.384Z"
   },
   {
    "duration": 21,
    "start_time": "2025-02-08T17:18:38.412Z"
   },
   {
    "duration": 64,
    "start_time": "2025-02-08T17:18:38.435Z"
   },
   {
    "duration": 12,
    "start_time": "2025-02-08T17:18:38.500Z"
   },
   {
    "duration": 18,
    "start_time": "2025-02-08T17:18:38.513Z"
   },
   {
    "duration": 4,
    "start_time": "2025-02-08T17:18:38.534Z"
   },
   {
    "duration": 12,
    "start_time": "2025-02-08T17:18:38.539Z"
   },
   {
    "duration": 25,
    "start_time": "2025-02-08T17:18:38.553Z"
   },
   {
    "duration": 13,
    "start_time": "2025-02-08T17:18:38.579Z"
   },
   {
    "duration": 250,
    "start_time": "2025-02-08T17:18:38.593Z"
   },
   {
    "duration": 7,
    "start_time": "2025-02-08T17:18:38.845Z"
   },
   {
    "duration": 117,
    "start_time": "2025-02-08T17:18:38.853Z"
   },
   {
    "duration": 11,
    "start_time": "2025-02-08T17:18:38.971Z"
   },
   {
    "duration": 48,
    "start_time": "2025-02-08T17:18:38.983Z"
   },
   {
    "duration": 21,
    "start_time": "2025-02-08T17:18:39.032Z"
   },
   {
    "duration": 8,
    "start_time": "2025-02-08T17:18:39.054Z"
   },
   {
    "duration": 15,
    "start_time": "2025-02-08T17:18:39.063Z"
   },
   {
    "duration": 48,
    "start_time": "2025-02-08T17:18:39.079Z"
   },
   {
    "duration": 149,
    "start_time": "2025-02-08T17:18:39.128Z"
   },
   {
    "duration": 146,
    "start_time": "2025-02-08T17:18:39.279Z"
   },
   {
    "duration": 13,
    "start_time": "2025-02-08T17:18:39.426Z"
   },
   {
    "duration": 13,
    "start_time": "2025-02-08T17:18:39.441Z"
   },
   {
    "duration": 30,
    "start_time": "2025-02-08T17:18:39.455Z"
   },
   {
    "duration": 15,
    "start_time": "2025-02-08T17:18:39.489Z"
   },
   {
    "duration": 16,
    "start_time": "2025-02-08T17:18:39.505Z"
   },
   {
    "duration": 8,
    "start_time": "2025-02-08T17:18:39.522Z"
   },
   {
    "duration": 18,
    "start_time": "2025-02-08T17:18:39.532Z"
   },
   {
    "duration": 26,
    "start_time": "2025-02-08T17:18:39.575Z"
   },
   {
    "duration": 5,
    "start_time": "2025-02-08T17:18:39.602Z"
   },
   {
    "duration": 13,
    "start_time": "2025-02-08T17:18:39.608Z"
   },
   {
    "duration": 29,
    "start_time": "2025-02-08T17:18:39.623Z"
   },
   {
    "duration": 3,
    "start_time": "2025-02-08T17:18:39.654Z"
   },
   {
    "duration": 3,
    "start_time": "2025-02-08T17:18:39.675Z"
   },
   {
    "duration": 19,
    "start_time": "2025-02-08T17:18:39.679Z"
   },
   {
    "duration": 293,
    "start_time": "2025-02-08T17:18:39.699Z"
   },
   {
    "duration": 4,
    "start_time": "2025-02-08T17:18:39.993Z"
   },
   {
    "duration": 39,
    "start_time": "2025-02-08T17:18:39.998Z"
   },
   {
    "duration": 3,
    "start_time": "2025-02-08T17:18:40.039Z"
   },
   {
    "duration": 18,
    "start_time": "2025-02-08T17:18:40.044Z"
   },
   {
    "duration": 73,
    "start_time": "2025-02-08T17:18:40.063Z"
   },
   {
    "duration": 6,
    "start_time": "2025-02-08T17:18:40.137Z"
   },
   {
    "duration": 41,
    "start_time": "2025-02-08T17:18:40.145Z"
   },
   {
    "duration": 108,
    "start_time": "2025-02-08T17:18:40.188Z"
   },
   {
    "duration": 3,
    "start_time": "2025-02-08T17:18:40.298Z"
   },
   {
    "duration": 24,
    "start_time": "2025-02-08T17:18:40.303Z"
   },
   {
    "duration": 7,
    "start_time": "2025-02-08T17:18:40.329Z"
   },
   {
    "duration": 38,
    "start_time": "2025-02-08T17:18:40.337Z"
   },
   {
    "duration": 24,
    "start_time": "2025-02-08T17:18:40.377Z"
   },
   {
    "duration": 5,
    "start_time": "2025-02-08T17:18:40.402Z"
   },
   {
    "duration": 9,
    "start_time": "2025-02-08T17:18:40.408Z"
   },
   {
    "duration": 206,
    "start_time": "2025-02-08T17:18:40.418Z"
   },
   {
    "duration": 111,
    "start_time": "2025-02-08T17:18:40.626Z"
   },
   {
    "duration": 12,
    "start_time": "2025-02-08T17:18:40.739Z"
   },
   {
    "duration": 4,
    "start_time": "2025-02-08T17:18:40.753Z"
   },
   {
    "duration": 27,
    "start_time": "2025-02-08T17:18:40.775Z"
   },
   {
    "duration": 7,
    "start_time": "2025-02-08T17:18:40.804Z"
   },
   {
    "duration": 25,
    "start_time": "2025-02-08T17:18:40.813Z"
   },
   {
    "duration": 107,
    "start_time": "2025-02-08T17:18:40.840Z"
   },
   {
    "duration": 4,
    "start_time": "2025-02-08T17:18:40.948Z"
   },
   {
    "duration": 13,
    "start_time": "2025-02-08T17:18:40.953Z"
   },
   {
    "duration": 9,
    "start_time": "2025-02-08T17:18:40.968Z"
   },
   {
    "duration": 69,
    "start_time": "2025-02-08T17:18:40.979Z"
   },
   {
    "duration": 25,
    "start_time": "2025-02-08T17:18:41.050Z"
   },
   {
    "duration": 9,
    "start_time": "2025-02-08T17:18:41.076Z"
   },
   {
    "duration": 8,
    "start_time": "2025-02-08T17:18:41.087Z"
   },
   {
    "duration": 22,
    "start_time": "2025-02-08T17:18:41.097Z"
   },
   {
    "duration": 11,
    "start_time": "2025-02-08T17:18:41.120Z"
   },
   {
    "duration": 93,
    "start_time": "2025-02-08T17:18:41.132Z"
   },
   {
    "duration": 141,
    "start_time": "2025-02-08T17:18:41.227Z"
   },
   {
    "duration": 18,
    "start_time": "2025-02-08T17:18:41.369Z"
   },
   {
    "duration": 11,
    "start_time": "2025-02-08T17:18:41.389Z"
   },
   {
    "duration": 21,
    "start_time": "2025-02-08T17:18:41.401Z"
   },
   {
    "duration": 9,
    "start_time": "2025-02-08T17:18:41.424Z"
   },
   {
    "duration": 9,
    "start_time": "2025-02-08T17:18:41.434Z"
   },
   {
    "duration": 138,
    "start_time": "2025-02-08T17:18:41.444Z"
   },
   {
    "duration": 74,
    "start_time": "2025-02-08T17:36:28.970Z"
   },
   {
    "duration": 16,
    "start_time": "2025-02-08T17:36:43.082Z"
   },
   {
    "duration": 125,
    "start_time": "2025-02-08T17:36:46.309Z"
   },
   {
    "duration": 552,
    "start_time": "2025-02-08T23:50:44.417Z"
   },
   {
    "duration": 2564,
    "start_time": "2025-02-08T23:50:44.971Z"
   },
   {
    "duration": 18,
    "start_time": "2025-02-08T23:50:47.537Z"
   },
   {
    "duration": 123,
    "start_time": "2025-02-08T23:50:47.557Z"
   },
   {
    "duration": 28,
    "start_time": "2025-02-08T23:50:47.682Z"
   },
   {
    "duration": 24,
    "start_time": "2025-02-08T23:50:47.711Z"
   },
   {
    "duration": 44,
    "start_time": "2025-02-08T23:50:47.761Z"
   },
   {
    "duration": 12,
    "start_time": "2025-02-08T23:50:47.807Z"
   },
   {
    "duration": 23,
    "start_time": "2025-02-08T23:50:47.821Z"
   },
   {
    "duration": 5,
    "start_time": "2025-02-08T23:50:47.860Z"
   },
   {
    "duration": 13,
    "start_time": "2025-02-08T23:50:47.867Z"
   },
   {
    "duration": 29,
    "start_time": "2025-02-08T23:50:47.882Z"
   },
   {
    "duration": 23,
    "start_time": "2025-02-08T23:50:47.913Z"
   },
   {
    "duration": 260,
    "start_time": "2025-02-08T23:50:47.937Z"
   },
   {
    "duration": 7,
    "start_time": "2025-02-08T23:50:48.199Z"
   },
   {
    "duration": 87,
    "start_time": "2025-02-08T23:50:48.207Z"
   },
   {
    "duration": 11,
    "start_time": "2025-02-08T23:50:48.296Z"
   },
   {
    "duration": 64,
    "start_time": "2025-02-08T23:50:48.309Z"
   },
   {
    "duration": 18,
    "start_time": "2025-02-08T23:50:48.375Z"
   },
   {
    "duration": 35,
    "start_time": "2025-02-08T23:50:48.395Z"
   },
   {
    "duration": 6,
    "start_time": "2025-02-08T23:50:48.431Z"
   },
   {
    "duration": 59,
    "start_time": "2025-02-08T23:50:48.439Z"
   },
   {
    "duration": 145,
    "start_time": "2025-02-08T23:50:48.500Z"
   },
   {
    "duration": 144,
    "start_time": "2025-02-08T23:50:48.647Z"
   },
   {
    "duration": 13,
    "start_time": "2025-02-08T23:50:48.792Z"
   },
   {
    "duration": 14,
    "start_time": "2025-02-08T23:50:48.806Z"
   },
   {
    "duration": 13,
    "start_time": "2025-02-08T23:50:48.821Z"
   },
   {
    "duration": 35,
    "start_time": "2025-02-08T23:50:48.837Z"
   },
   {
    "duration": 16,
    "start_time": "2025-02-08T23:50:48.873Z"
   },
   {
    "duration": 9,
    "start_time": "2025-02-08T23:50:48.890Z"
   },
   {
    "duration": 18,
    "start_time": "2025-02-08T23:50:48.900Z"
   },
   {
    "duration": 48,
    "start_time": "2025-02-08T23:50:48.919Z"
   },
   {
    "duration": 5,
    "start_time": "2025-02-08T23:50:48.968Z"
   },
   {
    "duration": 5,
    "start_time": "2025-02-08T23:50:48.975Z"
   },
   {
    "duration": 25,
    "start_time": "2025-02-08T23:50:48.981Z"
   },
   {
    "duration": 4,
    "start_time": "2025-02-08T23:50:49.007Z"
   },
   {
    "duration": 3,
    "start_time": "2025-02-08T23:50:49.013Z"
   },
   {
    "duration": 44,
    "start_time": "2025-02-08T23:50:49.017Z"
   },
   {
    "duration": 278,
    "start_time": "2025-02-08T23:50:49.062Z"
   },
   {
    "duration": 4,
    "start_time": "2025-02-08T23:50:49.341Z"
   },
   {
    "duration": 32,
    "start_time": "2025-02-08T23:50:49.346Z"
   },
   {
    "duration": 3,
    "start_time": "2025-02-08T23:50:49.380Z"
   },
   {
    "duration": 8,
    "start_time": "2025-02-08T23:50:49.385Z"
   },
   {
    "duration": 88,
    "start_time": "2025-02-08T23:50:49.394Z"
   },
   {
    "duration": 7,
    "start_time": "2025-02-08T23:50:49.483Z"
   },
   {
    "duration": 26,
    "start_time": "2025-02-08T23:50:49.491Z"
   },
   {
    "duration": 115,
    "start_time": "2025-02-08T23:50:49.519Z"
   },
   {
    "duration": 4,
    "start_time": "2025-02-08T23:50:49.635Z"
   },
   {
    "duration": 32,
    "start_time": "2025-02-08T23:50:49.640Z"
   },
   {
    "duration": 7,
    "start_time": "2025-02-08T23:50:49.673Z"
   },
   {
    "duration": 48,
    "start_time": "2025-02-08T23:50:49.681Z"
   },
   {
    "duration": 24,
    "start_time": "2025-02-08T23:50:49.730Z"
   },
   {
    "duration": 3,
    "start_time": "2025-02-08T23:50:49.756Z"
   },
   {
    "duration": 7,
    "start_time": "2025-02-08T23:50:49.760Z"
   },
   {
    "duration": 176,
    "start_time": "2025-02-08T23:50:49.769Z"
   },
   {
    "duration": 117,
    "start_time": "2025-02-08T23:50:49.946Z"
   },
   {
    "duration": 12,
    "start_time": "2025-02-08T23:50:50.065Z"
   },
   {
    "duration": 28,
    "start_time": "2025-02-08T23:50:50.079Z"
   },
   {
    "duration": 29,
    "start_time": "2025-02-08T23:50:50.109Z"
   },
   {
    "duration": 7,
    "start_time": "2025-02-08T23:50:50.140Z"
   },
   {
    "duration": 28,
    "start_time": "2025-02-08T23:50:50.148Z"
   },
   {
    "duration": 8,
    "start_time": "2025-02-08T23:50:50.178Z"
   },
   {
    "duration": 4,
    "start_time": "2025-02-08T23:50:50.187Z"
   },
   {
    "duration": 4,
    "start_time": "2025-02-08T23:50:50.192Z"
   },
   {
    "duration": 4,
    "start_time": "2025-02-08T23:50:50.198Z"
   },
   {
    "duration": 79,
    "start_time": "2025-02-08T23:50:50.204Z"
   },
   {
    "duration": 5,
    "start_time": "2025-02-08T23:50:50.285Z"
   },
   {
    "duration": 5,
    "start_time": "2025-02-08T23:50:50.291Z"
   },
   {
    "duration": 8,
    "start_time": "2025-02-08T23:50:50.297Z"
   },
   {
    "duration": 21,
    "start_time": "2025-02-08T23:50:50.307Z"
   },
   {
    "duration": 32,
    "start_time": "2025-02-08T23:50:50.329Z"
   },
   {
    "duration": 11,
    "start_time": "2025-02-08T23:50:50.362Z"
   },
   {
    "duration": 12,
    "start_time": "2025-02-08T23:50:50.374Z"
   },
   {
    "duration": 17,
    "start_time": "2025-02-08T23:50:50.387Z"
   },
   {
    "duration": 15,
    "start_time": "2025-02-08T23:50:50.406Z"
   },
   {
    "duration": 27,
    "start_time": "2025-02-08T23:50:50.422Z"
   },
   {
    "duration": 9,
    "start_time": "2025-02-08T23:50:50.450Z"
   },
   {
    "duration": 19,
    "start_time": "2025-02-08T23:50:50.461Z"
   },
   {
    "duration": 137,
    "start_time": "2025-02-08T23:50:50.482Z"
   },
   {
    "duration": 13,
    "start_time": "2025-02-08T23:51:26.987Z"
   },
   {
    "duration": 24,
    "start_time": "2025-02-08T23:51:29.411Z"
   },
   {
    "duration": 62,
    "start_time": "2025-02-08T23:51:35.682Z"
   },
   {
    "duration": 96,
    "start_time": "2025-02-08T23:52:05.241Z"
   },
   {
    "duration": 52,
    "start_time": "2025-02-09T03:51:03.261Z"
   },
   {
    "duration": 848,
    "start_time": "2025-02-09T03:51:09.668Z"
   },
   {
    "duration": 2511,
    "start_time": "2025-02-09T03:51:10.518Z"
   },
   {
    "duration": 24,
    "start_time": "2025-02-09T03:51:13.030Z"
   },
   {
    "duration": 149,
    "start_time": "2025-02-09T03:51:13.056Z"
   },
   {
    "duration": 40,
    "start_time": "2025-02-09T03:51:13.207Z"
   },
   {
    "duration": 27,
    "start_time": "2025-02-09T03:51:13.249Z"
   },
   {
    "duration": 77,
    "start_time": "2025-02-09T03:51:13.278Z"
   },
   {
    "duration": 14,
    "start_time": "2025-02-09T03:51:13.356Z"
   },
   {
    "duration": 20,
    "start_time": "2025-02-09T03:51:13.372Z"
   },
   {
    "duration": 5,
    "start_time": "2025-02-09T03:51:13.395Z"
   },
   {
    "duration": 3,
    "start_time": "2025-02-09T03:51:13.433Z"
   },
   {
    "duration": 6,
    "start_time": "2025-02-09T03:51:13.438Z"
   },
   {
    "duration": 14,
    "start_time": "2025-02-09T03:51:13.445Z"
   },
   {
    "duration": 309,
    "start_time": "2025-02-09T03:51:13.461Z"
   },
   {
    "duration": 9,
    "start_time": "2025-02-09T03:51:13.771Z"
   },
   {
    "duration": 89,
    "start_time": "2025-02-09T03:51:13.782Z"
   },
   {
    "duration": 13,
    "start_time": "2025-02-09T03:51:13.873Z"
   },
   {
    "duration": 55,
    "start_time": "2025-02-09T03:51:13.888Z"
   },
   {
    "duration": 23,
    "start_time": "2025-02-09T03:51:13.945Z"
   },
   {
    "duration": 11,
    "start_time": "2025-02-09T03:51:13.970Z"
   },
   {
    "duration": 7,
    "start_time": "2025-02-09T03:51:13.983Z"
   },
   {
    "duration": 81,
    "start_time": "2025-02-09T03:51:13.992Z"
   },
   {
    "duration": 168,
    "start_time": "2025-02-09T03:51:14.075Z"
   },
   {
    "duration": 172,
    "start_time": "2025-02-09T03:51:14.245Z"
   },
   {
    "duration": 24,
    "start_time": "2025-02-09T03:51:14.418Z"
   },
   {
    "duration": 15,
    "start_time": "2025-02-09T03:51:14.444Z"
   },
   {
    "duration": 15,
    "start_time": "2025-02-09T03:51:14.461Z"
   },
   {
    "duration": 18,
    "start_time": "2025-02-09T03:51:14.481Z"
   },
   {
    "duration": 48,
    "start_time": "2025-02-09T03:51:14.501Z"
   },
   {
    "duration": 11,
    "start_time": "2025-02-09T03:51:14.550Z"
   },
   {
    "duration": 21,
    "start_time": "2025-02-09T03:51:14.563Z"
   },
   {
    "duration": 53,
    "start_time": "2025-02-09T03:51:14.586Z"
   },
   {
    "duration": 5,
    "start_time": "2025-02-09T03:51:14.641Z"
   },
   {
    "duration": 6,
    "start_time": "2025-02-09T03:51:14.648Z"
   },
   {
    "duration": 35,
    "start_time": "2025-02-09T03:51:14.656Z"
   },
   {
    "duration": 79,
    "start_time": "2025-02-09T03:51:14.693Z"
   },
   {
    "duration": 23,
    "start_time": "2025-02-09T03:51:14.774Z"
   },
   {
    "duration": 4,
    "start_time": "2025-02-09T03:51:14.799Z"
   },
   {
    "duration": 341,
    "start_time": "2025-02-09T03:51:14.805Z"
   },
   {
    "duration": 5,
    "start_time": "2025-02-09T03:51:15.148Z"
   },
   {
    "duration": 44,
    "start_time": "2025-02-09T03:51:15.154Z"
   },
   {
    "duration": 7,
    "start_time": "2025-02-09T03:51:15.200Z"
   },
   {
    "duration": 10,
    "start_time": "2025-02-09T03:51:15.209Z"
   },
   {
    "duration": 109,
    "start_time": "2025-02-09T03:51:15.221Z"
   },
   {
    "duration": 7,
    "start_time": "2025-02-09T03:51:15.332Z"
   },
   {
    "duration": 32,
    "start_time": "2025-02-09T03:51:15.341Z"
   },
   {
    "duration": 133,
    "start_time": "2025-02-09T03:51:15.375Z"
   },
   {
    "duration": 4,
    "start_time": "2025-02-09T03:51:15.510Z"
   },
   {
    "duration": 42,
    "start_time": "2025-02-09T03:51:15.515Z"
   },
   {
    "duration": 9,
    "start_time": "2025-02-09T03:51:15.558Z"
   },
   {
    "duration": 29,
    "start_time": "2025-02-09T03:51:15.568Z"
   },
   {
    "duration": 15,
    "start_time": "2025-02-09T03:51:15.598Z"
   },
   {
    "duration": 232,
    "start_time": "2025-02-09T03:51:15.615Z"
   },
   {
    "duration": 174,
    "start_time": "2025-02-09T03:51:15.848Z"
   },
   {
    "duration": 62,
    "start_time": "2025-02-09T03:51:16.023Z"
   },
   {
    "duration": 5,
    "start_time": "2025-02-09T03:51:16.086Z"
   },
   {
    "duration": 42,
    "start_time": "2025-02-09T03:51:16.092Z"
   },
   {
    "duration": 29,
    "start_time": "2025-02-09T03:51:16.135Z"
   },
   {
    "duration": 29,
    "start_time": "2025-02-09T03:51:16.166Z"
   },
   {
    "duration": 7,
    "start_time": "2025-02-09T03:51:16.197Z"
   },
   {
    "duration": 4,
    "start_time": "2025-02-09T03:51:16.233Z"
   },
   {
    "duration": 7,
    "start_time": "2025-02-09T03:51:16.239Z"
   },
   {
    "duration": 5,
    "start_time": "2025-02-09T03:51:16.248Z"
   },
   {
    "duration": 92,
    "start_time": "2025-02-09T03:51:16.254Z"
   },
   {
    "duration": 6,
    "start_time": "2025-02-09T03:51:16.348Z"
   },
   {
    "duration": 8,
    "start_time": "2025-02-09T03:51:16.355Z"
   },
   {
    "duration": 9,
    "start_time": "2025-02-09T03:51:16.365Z"
   },
   {
    "duration": 25,
    "start_time": "2025-02-09T03:51:16.376Z"
   },
   {
    "duration": 34,
    "start_time": "2025-02-09T03:51:16.403Z"
   },
   {
    "duration": 10,
    "start_time": "2025-02-09T03:51:16.439Z"
   },
   {
    "duration": 16,
    "start_time": "2025-02-09T03:51:16.451Z"
   },
   {
    "duration": 10,
    "start_time": "2025-02-09T03:51:16.469Z"
   },
   {
    "duration": 5,
    "start_time": "2025-02-09T03:51:16.481Z"
   },
   {
    "duration": 46,
    "start_time": "2025-02-09T03:51:16.487Z"
   },
   {
    "duration": 13,
    "start_time": "2025-02-09T03:51:16.535Z"
   },
   {
    "duration": 12,
    "start_time": "2025-02-09T03:51:16.550Z"
   },
   {
    "duration": 172,
    "start_time": "2025-02-09T03:51:16.564Z"
   },
   {
    "duration": 4,
    "start_time": "2025-02-09T03:51:50.462Z"
   },
   {
    "duration": 90,
    "start_time": "2025-02-09T03:58:07.896Z"
   },
   {
    "duration": 79,
    "start_time": "2025-02-09T03:58:56.638Z"
   },
   {
    "duration": 707,
    "start_time": "2025-02-09T03:59:07.899Z"
   },
   {
    "duration": 76,
    "start_time": "2025-02-09T03:59:54.756Z"
   },
   {
    "duration": 31,
    "start_time": "2025-02-09T04:01:55.792Z"
   },
   {
    "duration": 24,
    "start_time": "2025-02-09T04:02:36.831Z"
   },
   {
    "duration": 10,
    "start_time": "2025-02-09T04:05:26.536Z"
   },
   {
    "duration": 1476,
    "start_time": "2025-02-09T04:07:28.881Z"
   },
   {
    "duration": 1318,
    "start_time": "2025-02-09T04:07:39.698Z"
   },
   {
    "duration": 1362,
    "start_time": "2025-02-09T04:08:47.829Z"
   },
   {
    "duration": 1220,
    "start_time": "2025-02-09T05:17:19.719Z"
   },
   {
    "duration": 770,
    "start_time": "2025-02-09T05:17:30.594Z"
   },
   {
    "duration": 2551,
    "start_time": "2025-02-09T05:17:31.367Z"
   },
   {
    "duration": 23,
    "start_time": "2025-02-09T05:17:33.920Z"
   },
   {
    "duration": 163,
    "start_time": "2025-02-09T05:17:33.946Z"
   },
   {
    "duration": 39,
    "start_time": "2025-02-09T05:17:34.111Z"
   },
   {
    "duration": 32,
    "start_time": "2025-02-09T05:17:34.152Z"
   },
   {
    "duration": 66,
    "start_time": "2025-02-09T05:17:34.186Z"
   },
   {
    "duration": 14,
    "start_time": "2025-02-09T05:17:34.253Z"
   },
   {
    "duration": 42,
    "start_time": "2025-02-09T05:17:34.269Z"
   },
   {
    "duration": 22,
    "start_time": "2025-02-09T05:17:34.314Z"
   },
   {
    "duration": 30,
    "start_time": "2025-02-09T05:17:34.338Z"
   },
   {
    "duration": 18,
    "start_time": "2025-02-09T05:17:34.369Z"
   },
   {
    "duration": 17,
    "start_time": "2025-02-09T05:17:34.389Z"
   },
   {
    "duration": 305,
    "start_time": "2025-02-09T05:17:34.408Z"
   },
   {
    "duration": 19,
    "start_time": "2025-02-09T05:17:34.714Z"
   },
   {
    "duration": 77,
    "start_time": "2025-02-09T05:17:34.735Z"
   },
   {
    "duration": 26,
    "start_time": "2025-02-09T05:17:34.813Z"
   },
   {
    "duration": 48,
    "start_time": "2025-02-09T05:17:34.841Z"
   },
   {
    "duration": 23,
    "start_time": "2025-02-09T05:17:34.891Z"
   },
   {
    "duration": 23,
    "start_time": "2025-02-09T05:17:34.916Z"
   },
   {
    "duration": 17,
    "start_time": "2025-02-09T05:17:34.941Z"
   },
   {
    "duration": 58,
    "start_time": "2025-02-09T05:17:34.960Z"
   },
   {
    "duration": 169,
    "start_time": "2025-02-09T05:17:35.020Z"
   },
   {
    "duration": 169,
    "start_time": "2025-02-09T05:17:35.191Z"
   },
   {
    "duration": 14,
    "start_time": "2025-02-09T05:17:35.362Z"
   },
   {
    "duration": 16,
    "start_time": "2025-02-09T05:17:35.378Z"
   },
   {
    "duration": 40,
    "start_time": "2025-02-09T05:17:35.395Z"
   },
   {
    "duration": 20,
    "start_time": "2025-02-09T05:17:35.439Z"
   },
   {
    "duration": 17,
    "start_time": "2025-02-09T05:17:35.461Z"
   },
   {
    "duration": 10,
    "start_time": "2025-02-09T05:17:35.479Z"
   },
   {
    "duration": 48,
    "start_time": "2025-02-09T05:17:35.491Z"
   },
   {
    "duration": 29,
    "start_time": "2025-02-09T05:17:35.541Z"
   },
   {
    "duration": 22,
    "start_time": "2025-02-09T05:17:35.572Z"
   },
   {
    "duration": 27,
    "start_time": "2025-02-09T05:17:35.596Z"
   },
   {
    "duration": 29,
    "start_time": "2025-02-09T05:17:35.625Z"
   },
   {
    "duration": 5,
    "start_time": "2025-02-09T05:17:35.656Z"
   },
   {
    "duration": 11,
    "start_time": "2025-02-09T05:17:35.662Z"
   },
   {
    "duration": 15,
    "start_time": "2025-02-09T05:17:35.674Z"
   },
   {
    "duration": 345,
    "start_time": "2025-02-09T05:17:35.692Z"
   },
   {
    "duration": 4,
    "start_time": "2025-02-09T05:17:36.039Z"
   },
   {
    "duration": 74,
    "start_time": "2025-02-09T05:17:36.044Z"
   },
   {
    "duration": 4,
    "start_time": "2025-02-09T05:17:36.120Z"
   },
   {
    "duration": 23,
    "start_time": "2025-02-09T05:17:36.125Z"
   },
   {
    "duration": 105,
    "start_time": "2025-02-09T05:17:36.149Z"
   },
   {
    "duration": 8,
    "start_time": "2025-02-09T05:17:36.255Z"
   },
   {
    "duration": 57,
    "start_time": "2025-02-09T05:17:36.265Z"
   },
   {
    "duration": 108,
    "start_time": "2025-02-09T05:17:36.325Z"
   },
   {
    "duration": 5,
    "start_time": "2025-02-09T05:17:36.435Z"
   },
   {
    "duration": 44,
    "start_time": "2025-02-09T05:17:36.442Z"
   },
   {
    "duration": 17,
    "start_time": "2025-02-09T05:17:36.488Z"
   },
   {
    "duration": 42,
    "start_time": "2025-02-09T05:17:36.507Z"
   },
   {
    "duration": 6,
    "start_time": "2025-02-09T05:17:36.552Z"
   },
   {
    "duration": 16,
    "start_time": "2025-02-09T05:17:36.560Z"
   },
   {
    "duration": 777,
    "start_time": "2025-02-09T05:17:36.578Z"
   },
   {
    "duration": 162,
    "start_time": "2025-02-09T05:17:37.357Z"
   },
   {
    "duration": 87,
    "start_time": "2025-02-09T05:17:37.521Z"
   },
   {
    "duration": 4,
    "start_time": "2025-02-09T05:17:37.610Z"
   },
   {
    "duration": 41,
    "start_time": "2025-02-09T05:17:37.616Z"
   },
   {
    "duration": 43,
    "start_time": "2025-02-09T05:17:37.659Z"
   },
   {
    "duration": 44,
    "start_time": "2025-02-09T05:17:37.705Z"
   },
   {
    "duration": 15,
    "start_time": "2025-02-09T05:17:37.751Z"
   },
   {
    "duration": 17,
    "start_time": "2025-02-09T05:17:37.767Z"
   },
   {
    "duration": 5,
    "start_time": "2025-02-09T05:17:37.786Z"
   },
   {
    "duration": 7,
    "start_time": "2025-02-09T05:17:37.793Z"
   },
   {
    "duration": 6,
    "start_time": "2025-02-09T05:17:37.801Z"
   },
   {
    "duration": 3,
    "start_time": "2025-02-09T05:17:37.832Z"
   },
   {
    "duration": 45,
    "start_time": "2025-02-09T05:17:37.837Z"
   },
   {
    "duration": 11,
    "start_time": "2025-02-09T05:17:37.884Z"
   },
   {
    "duration": 25,
    "start_time": "2025-02-09T05:17:37.897Z"
   },
   {
    "duration": 10,
    "start_time": "2025-02-09T05:17:37.923Z"
   },
   {
    "duration": 11,
    "start_time": "2025-02-09T05:17:37.935Z"
   },
   {
    "duration": 1494,
    "start_time": "2025-02-09T05:17:37.948Z"
   },
   {
    "duration": 0,
    "start_time": "2025-02-09T05:17:39.444Z"
   },
   {
    "duration": 0,
    "start_time": "2025-02-09T05:17:39.445Z"
   },
   {
    "duration": 0,
    "start_time": "2025-02-09T05:17:39.446Z"
   },
   {
    "duration": 0,
    "start_time": "2025-02-09T05:17:39.448Z"
   },
   {
    "duration": 0,
    "start_time": "2025-02-09T05:17:39.449Z"
   },
   {
    "duration": 0,
    "start_time": "2025-02-09T05:17:39.450Z"
   },
   {
    "duration": 0,
    "start_time": "2025-02-09T05:17:39.452Z"
   },
   {
    "duration": 1295,
    "start_time": "2025-02-09T05:18:29.011Z"
   },
   {
    "duration": 10,
    "start_time": "2025-02-09T05:18:34.962Z"
   },
   {
    "duration": 6,
    "start_time": "2025-02-09T05:18:35.815Z"
   },
   {
    "duration": 10,
    "start_time": "2025-02-09T05:18:46.565Z"
   },
   {
    "duration": 6,
    "start_time": "2025-02-09T05:18:47.692Z"
   },
   {
    "duration": 4,
    "start_time": "2025-02-09T05:19:19.166Z"
   },
   {
    "duration": 5,
    "start_time": "2025-02-09T05:19:21.436Z"
   },
   {
    "duration": 5,
    "start_time": "2025-02-09T05:20:40.160Z"
   },
   {
    "duration": 10,
    "start_time": "2025-02-09T05:21:47.052Z"
   },
   {
    "duration": 5,
    "start_time": "2025-02-09T05:21:50.218Z"
   },
   {
    "duration": 5,
    "start_time": "2025-02-09T05:21:53.030Z"
   },
   {
    "duration": 13,
    "start_time": "2025-02-09T05:22:03.198Z"
   },
   {
    "duration": 10,
    "start_time": "2025-02-09T05:22:12.765Z"
   },
   {
    "duration": 10,
    "start_time": "2025-02-09T05:22:15.354Z"
   },
   {
    "duration": 9,
    "start_time": "2025-02-09T05:24:12.038Z"
   },
   {
    "duration": 23,
    "start_time": "2025-02-09T05:24:18.351Z"
   },
   {
    "duration": 10,
    "start_time": "2025-02-09T05:24:26.813Z"
   },
   {
    "duration": 6,
    "start_time": "2025-02-09T05:24:28.741Z"
   },
   {
    "duration": 5,
    "start_time": "2025-02-09T05:24:30.603Z"
   },
   {
    "duration": 5,
    "start_time": "2025-02-09T05:25:10.410Z"
   },
   {
    "duration": 13,
    "start_time": "2025-02-09T05:25:11.775Z"
   },
   {
    "duration": 12,
    "start_time": "2025-02-09T05:25:13.657Z"
   },
   {
    "duration": 11,
    "start_time": "2025-02-09T05:25:14.452Z"
   },
   {
    "duration": 22,
    "start_time": "2025-02-09T05:28:29.905Z"
   },
   {
    "duration": 12,
    "start_time": "2025-02-09T05:28:31.335Z"
   },
   {
    "duration": 5,
    "start_time": "2025-02-09T05:28:31.931Z"
   },
   {
    "duration": 5,
    "start_time": "2025-02-09T05:28:32.463Z"
   },
   {
    "duration": 17,
    "start_time": "2025-02-09T05:28:32.946Z"
   },
   {
    "duration": 14,
    "start_time": "2025-02-09T05:28:33.430Z"
   },
   {
    "duration": 10,
    "start_time": "2025-02-09T05:28:33.885Z"
   },
   {
    "duration": 24,
    "start_time": "2025-02-09T05:29:46.845Z"
   },
   {
    "duration": 11,
    "start_time": "2025-02-09T05:30:13.062Z"
   },
   {
    "duration": 4,
    "start_time": "2025-02-09T05:30:18.341Z"
   },
   {
    "duration": 5,
    "start_time": "2025-02-09T05:30:34.998Z"
   },
   {
    "duration": 12,
    "start_time": "2025-02-09T05:30:40.429Z"
   },
   {
    "duration": 4,
    "start_time": "2025-02-09T05:30:46.544Z"
   },
   {
    "duration": 6,
    "start_time": "2025-02-09T05:30:47.370Z"
   },
   {
    "duration": 15,
    "start_time": "2025-02-09T05:30:48.637Z"
   },
   {
    "duration": 12,
    "start_time": "2025-02-09T05:30:49.974Z"
   },
   {
    "duration": 11,
    "start_time": "2025-02-09T05:31:25.379Z"
   },
   {
    "duration": 11,
    "start_time": "2025-02-09T05:31:35.660Z"
   },
   {
    "duration": 6,
    "start_time": "2025-02-09T05:39:36.844Z"
   },
   {
    "duration": 25,
    "start_time": "2025-02-09T05:40:42.177Z"
   },
   {
    "duration": 13,
    "start_time": "2025-02-09T05:40:42.805Z"
   },
   {
    "duration": 12,
    "start_time": "2025-02-09T05:40:43.529Z"
   },
   {
    "duration": 152,
    "start_time": "2025-02-09T05:40:48.146Z"
   },
   {
    "duration": 13,
    "start_time": "2025-02-09T05:40:54.168Z"
   },
   {
    "duration": 23,
    "start_time": "2025-02-09T05:40:55.060Z"
   },
   {
    "duration": 10,
    "start_time": "2025-02-09T05:40:56.333Z"
   },
   {
    "duration": 11,
    "start_time": "2025-02-09T05:40:57.990Z"
   },
   {
    "duration": 19,
    "start_time": "2025-02-09T05:41:55.388Z"
   },
   {
    "duration": 5,
    "start_time": "2025-02-09T05:42:02.947Z"
   },
   {
    "duration": 22,
    "start_time": "2025-02-09T05:42:05.802Z"
   },
   {
    "duration": 11,
    "start_time": "2025-02-09T05:42:07.716Z"
   },
   {
    "duration": 10,
    "start_time": "2025-02-09T05:42:15.847Z"
   },
   {
    "duration": 149,
    "start_time": "2025-02-09T05:42:17.123Z"
   },
   {
    "duration": 65,
    "start_time": "2025-02-09T05:42:27.900Z"
   },
   {
    "duration": 77,
    "start_time": "2025-02-09T05:42:34.974Z"
   },
   {
    "duration": 72,
    "start_time": "2025-02-09T05:42:45.971Z"
   },
   {
    "duration": 144,
    "start_time": "2025-02-09T05:42:49.620Z"
   },
   {
    "duration": 68,
    "start_time": "2025-02-09T05:42:52.417Z"
   },
   {
    "duration": 71,
    "start_time": "2025-02-09T05:42:59.029Z"
   },
   {
    "duration": 176,
    "start_time": "2025-02-09T05:43:23.660Z"
   },
   {
    "duration": 75,
    "start_time": "2025-02-09T05:43:52.768Z"
   },
   {
    "duration": 76,
    "start_time": "2025-02-09T05:44:11.141Z"
   },
   {
    "duration": 3954,
    "start_time": "2025-02-09T11:56:09.552Z"
   },
   {
    "duration": 2158,
    "start_time": "2025-02-09T11:56:13.508Z"
   },
   {
    "duration": 21,
    "start_time": "2025-02-09T11:56:15.667Z"
   },
   {
    "duration": 135,
    "start_time": "2025-02-09T11:56:15.690Z"
   },
   {
    "duration": 26,
    "start_time": "2025-02-09T11:56:15.827Z"
   },
   {
    "duration": 20,
    "start_time": "2025-02-09T11:56:15.855Z"
   },
   {
    "duration": 63,
    "start_time": "2025-02-09T11:56:15.877Z"
   },
   {
    "duration": 11,
    "start_time": "2025-02-09T11:56:15.942Z"
   },
   {
    "duration": 17,
    "start_time": "2025-02-09T11:56:15.954Z"
   },
   {
    "duration": 29,
    "start_time": "2025-02-09T11:56:15.974Z"
   },
   {
    "duration": 4,
    "start_time": "2025-02-09T11:56:16.005Z"
   },
   {
    "duration": 5,
    "start_time": "2025-02-09T11:56:16.012Z"
   },
   {
    "duration": 17,
    "start_time": "2025-02-09T11:56:16.019Z"
   },
   {
    "duration": 209,
    "start_time": "2025-02-09T11:56:16.038Z"
   },
   {
    "duration": 7,
    "start_time": "2025-02-09T11:56:16.249Z"
   },
   {
    "duration": 114,
    "start_time": "2025-02-09T11:56:16.257Z"
   },
   {
    "duration": 11,
    "start_time": "2025-02-09T11:56:16.373Z"
   },
   {
    "duration": 45,
    "start_time": "2025-02-09T11:56:16.386Z"
   },
   {
    "duration": 21,
    "start_time": "2025-02-09T11:56:16.433Z"
   },
   {
    "duration": 16,
    "start_time": "2025-02-09T11:56:16.456Z"
   },
   {
    "duration": 6,
    "start_time": "2025-02-09T11:56:16.473Z"
   },
   {
    "duration": 39,
    "start_time": "2025-02-09T11:56:16.480Z"
   },
   {
    "duration": 193,
    "start_time": "2025-02-09T11:56:16.521Z"
   },
   {
    "duration": 140,
    "start_time": "2025-02-09T11:56:16.716Z"
   },
   {
    "duration": 11,
    "start_time": "2025-02-09T11:56:16.858Z"
   },
   {
    "duration": 13,
    "start_time": "2025-02-09T11:56:16.870Z"
   },
   {
    "duration": 30,
    "start_time": "2025-02-09T11:56:16.884Z"
   },
   {
    "duration": 5,
    "start_time": "2025-02-09T11:56:16.917Z"
   },
   {
    "duration": 11,
    "start_time": "2025-02-09T11:56:16.924Z"
   },
   {
    "duration": 23,
    "start_time": "2025-02-09T11:56:16.936Z"
   },
   {
    "duration": 23,
    "start_time": "2025-02-09T11:56:16.960Z"
   },
   {
    "duration": 32,
    "start_time": "2025-02-09T11:56:16.984Z"
   },
   {
    "duration": 5,
    "start_time": "2025-02-09T11:56:17.017Z"
   },
   {
    "duration": 8,
    "start_time": "2025-02-09T11:56:17.023Z"
   },
   {
    "duration": 23,
    "start_time": "2025-02-09T11:56:17.033Z"
   },
   {
    "duration": 3,
    "start_time": "2025-02-09T11:56:17.058Z"
   },
   {
    "duration": 4,
    "start_time": "2025-02-09T11:56:17.063Z"
   },
   {
    "duration": 3,
    "start_time": "2025-02-09T11:56:17.103Z"
   },
   {
    "duration": 343,
    "start_time": "2025-02-09T11:56:17.108Z"
   },
   {
    "duration": 4,
    "start_time": "2025-02-09T11:56:17.453Z"
   },
   {
    "duration": 56,
    "start_time": "2025-02-09T11:56:17.459Z"
   },
   {
    "duration": 4,
    "start_time": "2025-02-09T11:56:17.517Z"
   },
   {
    "duration": 9,
    "start_time": "2025-02-09T11:56:17.522Z"
   },
   {
    "duration": 175,
    "start_time": "2025-02-09T11:56:17.533Z"
   },
   {
    "duration": 6,
    "start_time": "2025-02-09T11:56:17.710Z"
   },
   {
    "duration": 85,
    "start_time": "2025-02-09T11:56:17.718Z"
   },
   {
    "duration": 110,
    "start_time": "2025-02-09T11:56:17.805Z"
   },
   {
    "duration": 4,
    "start_time": "2025-02-09T11:56:17.917Z"
   },
   {
    "duration": 24,
    "start_time": "2025-02-09T11:56:17.922Z"
   },
   {
    "duration": 8,
    "start_time": "2025-02-09T11:56:18.002Z"
   },
   {
    "duration": 21,
    "start_time": "2025-02-09T11:56:18.011Z"
   },
   {
    "duration": 4,
    "start_time": "2025-02-09T11:56:18.033Z"
   },
   {
    "duration": 11,
    "start_time": "2025-02-09T11:56:18.038Z"
   },
   {
    "duration": 1176,
    "start_time": "2025-02-09T11:56:18.103Z"
   },
   {
    "duration": 169,
    "start_time": "2025-02-09T11:56:19.281Z"
   },
   {
    "duration": 59,
    "start_time": "2025-02-09T11:56:19.451Z"
   },
   {
    "duration": 3,
    "start_time": "2025-02-09T11:56:19.512Z"
   },
   {
    "duration": 34,
    "start_time": "2025-02-09T11:56:19.516Z"
   },
   {
    "duration": 19,
    "start_time": "2025-02-09T11:56:19.552Z"
   },
   {
    "duration": 31,
    "start_time": "2025-02-09T11:56:19.572Z"
   },
   {
    "duration": 6,
    "start_time": "2025-02-09T11:56:19.605Z"
   },
   {
    "duration": 5,
    "start_time": "2025-02-09T11:56:19.613Z"
   },
   {
    "duration": 6,
    "start_time": "2025-02-09T11:56:19.619Z"
   },
   {
    "duration": 10,
    "start_time": "2025-02-09T11:56:19.627Z"
   },
   {
    "duration": 6,
    "start_time": "2025-02-09T11:56:19.639Z"
   },
   {
    "duration": 3,
    "start_time": "2025-02-09T11:56:19.646Z"
   },
   {
    "duration": 6,
    "start_time": "2025-02-09T11:56:19.651Z"
   },
   {
    "duration": 46,
    "start_time": "2025-02-09T11:56:19.659Z"
   },
   {
    "duration": 12,
    "start_time": "2025-02-09T11:56:19.707Z"
   },
   {
    "duration": 20,
    "start_time": "2025-02-09T11:56:19.721Z"
   },
   {
    "duration": 9,
    "start_time": "2025-02-09T11:56:19.742Z"
   },
   {
    "duration": 9,
    "start_time": "2025-02-09T11:56:19.753Z"
   },
   {
    "duration": 38,
    "start_time": "2025-02-09T11:56:19.764Z"
   },
   {
    "duration": 13,
    "start_time": "2025-02-09T11:56:19.804Z"
   },
   {
    "duration": 10,
    "start_time": "2025-02-09T11:56:19.819Z"
   },
   {
    "duration": 16,
    "start_time": "2025-02-09T11:56:19.830Z"
   },
   {
    "duration": 10,
    "start_time": "2025-02-09T11:56:19.848Z"
   },
   {
    "duration": 5,
    "start_time": "2025-02-09T11:56:19.859Z"
   },
   {
    "duration": 40,
    "start_time": "2025-02-09T11:56:19.866Z"
   },
   {
    "duration": 4,
    "start_time": "2025-02-09T11:56:19.908Z"
   },
   {
    "duration": 21,
    "start_time": "2025-02-09T11:56:19.914Z"
   },
   {
    "duration": 9,
    "start_time": "2025-02-09T11:56:19.940Z"
   },
   {
    "duration": 8,
    "start_time": "2025-02-09T11:56:19.951Z"
   },
   {
    "duration": 199,
    "start_time": "2025-02-09T11:56:19.961Z"
   }
  ],
  "colab": {
   "provenance": []
  },
  "kernelspec": {
   "display_name": "Python (my_venv)",
   "language": "python",
   "name": "my_venv"
  },
  "language_info": {
   "codemirror_mode": {
    "name": "ipython",
    "version": 3
   },
   "file_extension": ".py",
   "mimetype": "text/x-python",
   "name": "python",
   "nbconvert_exporter": "python",
   "pygments_lexer": "ipython3",
   "version": "3.13.3"
  },
  "toc": {
   "base_numbering": 1,
   "nav_menu": {},
   "number_sections": true,
   "sideBar": true,
   "skip_h1_title": true,
   "title_cell": "Table of Contents",
   "title_sidebar": "Contents",
   "toc_cell": false,
   "toc_position": {
    "height": "calc(100% - 180px)",
    "left": "10px",
    "top": "150px",
    "width": "165px"
   },
   "toc_section_display": true,
   "toc_window_display": true
  }
 },
 "nbformat": 4,
 "nbformat_minor": 4
}
